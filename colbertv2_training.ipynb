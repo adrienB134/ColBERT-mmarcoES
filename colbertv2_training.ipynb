{
  "nbformat": 4,
  "nbformat_minor": 0,
  "metadata": {
    "colab": {
      "provenance": [],
      "machine_shape": "hm",
      "gpuType": "A100",
      "mount_file_id": "1vnom8tE1hOO7_KYFaLfuA_Rw_f_GXRfV",
      "authorship_tag": "ABX9TyOZOJ4Mg7PilKgByVwWiMk3"
    },
    "kernelspec": {
      "name": "python3",
      "display_name": "Python 3"
    },
    "language_info": {
      "name": "python"
    },
    "accelerator": "GPU",
    "widgets": {
      "application/vnd.jupyter.widget-state+json": {
        "5402eadf4c3748ed84ea5dec477a5e6d": {
          "model_module": "@jupyter-widgets/controls",
          "model_name": "HBoxModel",
          "model_module_version": "1.5.0",
          "state": {
            "_dom_classes": [],
            "_model_module": "@jupyter-widgets/controls",
            "_model_module_version": "1.5.0",
            "_model_name": "HBoxModel",
            "_view_count": null,
            "_view_module": "@jupyter-widgets/controls",
            "_view_module_version": "1.5.0",
            "_view_name": "HBoxView",
            "box_style": "",
            "children": [
              "IPY_MODEL_3d249b57def24bda9de84cd9e0901799",
              "IPY_MODEL_61a992045a2f4aad9d8ac9998f86c7f9",
              "IPY_MODEL_1c789d2dc36d47608baaae058df339e8"
            ],
            "layout": "IPY_MODEL_b4a67474cb2e4b828d1912efa8459962"
          }
        },
        "3d249b57def24bda9de84cd9e0901799": {
          "model_module": "@jupyter-widgets/controls",
          "model_name": "HTMLModel",
          "model_module_version": "1.5.0",
          "state": {
            "_dom_classes": [],
            "_model_module": "@jupyter-widgets/controls",
            "_model_module_version": "1.5.0",
            "_model_name": "HTMLModel",
            "_view_count": null,
            "_view_module": "@jupyter-widgets/controls",
            "_view_module_version": "1.5.0",
            "_view_name": "HTMLView",
            "description": "",
            "description_tooltip": null,
            "layout": "IPY_MODEL_250b903309d34512a3f91ae3291d95a1",
            "placeholder": "​",
            "style": "IPY_MODEL_8adcb4ee4f284404ac1f9281c7467332",
            "value": "model.safetensors: 100%"
          }
        },
        "61a992045a2f4aad9d8ac9998f86c7f9": {
          "model_module": "@jupyter-widgets/controls",
          "model_name": "FloatProgressModel",
          "model_module_version": "1.5.0",
          "state": {
            "_dom_classes": [],
            "_model_module": "@jupyter-widgets/controls",
            "_model_module_version": "1.5.0",
            "_model_name": "FloatProgressModel",
            "_view_count": null,
            "_view_module": "@jupyter-widgets/controls",
            "_view_module_version": "1.5.0",
            "_view_name": "ProgressView",
            "bar_style": "success",
            "description": "",
            "description_tooltip": null,
            "layout": "IPY_MODEL_868077c55aa84bfabf7221e21f70f18e",
            "max": 439820184,
            "min": 0,
            "orientation": "horizontal",
            "style": "IPY_MODEL_aca42f74031843da96106dbe4576e581",
            "value": 439820184
          }
        },
        "1c789d2dc36d47608baaae058df339e8": {
          "model_module": "@jupyter-widgets/controls",
          "model_name": "HTMLModel",
          "model_module_version": "1.5.0",
          "state": {
            "_dom_classes": [],
            "_model_module": "@jupyter-widgets/controls",
            "_model_module_version": "1.5.0",
            "_model_name": "HTMLModel",
            "_view_count": null,
            "_view_module": "@jupyter-widgets/controls",
            "_view_module_version": "1.5.0",
            "_view_name": "HTMLView",
            "description": "",
            "description_tooltip": null,
            "layout": "IPY_MODEL_0a9b7ff93c044bdb8fb43bffa08552cc",
            "placeholder": "​",
            "style": "IPY_MODEL_790e35d302ea4379a401db0f17b0280b",
            "value": " 440M/440M [00:13&lt;00:00, 44.7MB/s]"
          }
        },
        "b4a67474cb2e4b828d1912efa8459962": {
          "model_module": "@jupyter-widgets/base",
          "model_name": "LayoutModel",
          "model_module_version": "1.2.0",
          "state": {
            "_model_module": "@jupyter-widgets/base",
            "_model_module_version": "1.2.0",
            "_model_name": "LayoutModel",
            "_view_count": null,
            "_view_module": "@jupyter-widgets/base",
            "_view_module_version": "1.2.0",
            "_view_name": "LayoutView",
            "align_content": null,
            "align_items": null,
            "align_self": null,
            "border": null,
            "bottom": null,
            "display": null,
            "flex": null,
            "flex_flow": null,
            "grid_area": null,
            "grid_auto_columns": null,
            "grid_auto_flow": null,
            "grid_auto_rows": null,
            "grid_column": null,
            "grid_gap": null,
            "grid_row": null,
            "grid_template_areas": null,
            "grid_template_columns": null,
            "grid_template_rows": null,
            "height": null,
            "justify_content": null,
            "justify_items": null,
            "left": null,
            "margin": null,
            "max_height": null,
            "max_width": null,
            "min_height": null,
            "min_width": null,
            "object_fit": null,
            "object_position": null,
            "order": null,
            "overflow": null,
            "overflow_x": null,
            "overflow_y": null,
            "padding": null,
            "right": null,
            "top": null,
            "visibility": null,
            "width": null
          }
        },
        "250b903309d34512a3f91ae3291d95a1": {
          "model_module": "@jupyter-widgets/base",
          "model_name": "LayoutModel",
          "model_module_version": "1.2.0",
          "state": {
            "_model_module": "@jupyter-widgets/base",
            "_model_module_version": "1.2.0",
            "_model_name": "LayoutModel",
            "_view_count": null,
            "_view_module": "@jupyter-widgets/base",
            "_view_module_version": "1.2.0",
            "_view_name": "LayoutView",
            "align_content": null,
            "align_items": null,
            "align_self": null,
            "border": null,
            "bottom": null,
            "display": null,
            "flex": null,
            "flex_flow": null,
            "grid_area": null,
            "grid_auto_columns": null,
            "grid_auto_flow": null,
            "grid_auto_rows": null,
            "grid_column": null,
            "grid_gap": null,
            "grid_row": null,
            "grid_template_areas": null,
            "grid_template_columns": null,
            "grid_template_rows": null,
            "height": null,
            "justify_content": null,
            "justify_items": null,
            "left": null,
            "margin": null,
            "max_height": null,
            "max_width": null,
            "min_height": null,
            "min_width": null,
            "object_fit": null,
            "object_position": null,
            "order": null,
            "overflow": null,
            "overflow_x": null,
            "overflow_y": null,
            "padding": null,
            "right": null,
            "top": null,
            "visibility": null,
            "width": null
          }
        },
        "8adcb4ee4f284404ac1f9281c7467332": {
          "model_module": "@jupyter-widgets/controls",
          "model_name": "DescriptionStyleModel",
          "model_module_version": "1.5.0",
          "state": {
            "_model_module": "@jupyter-widgets/controls",
            "_model_module_version": "1.5.0",
            "_model_name": "DescriptionStyleModel",
            "_view_count": null,
            "_view_module": "@jupyter-widgets/base",
            "_view_module_version": "1.2.0",
            "_view_name": "StyleView",
            "description_width": ""
          }
        },
        "868077c55aa84bfabf7221e21f70f18e": {
          "model_module": "@jupyter-widgets/base",
          "model_name": "LayoutModel",
          "model_module_version": "1.2.0",
          "state": {
            "_model_module": "@jupyter-widgets/base",
            "_model_module_version": "1.2.0",
            "_model_name": "LayoutModel",
            "_view_count": null,
            "_view_module": "@jupyter-widgets/base",
            "_view_module_version": "1.2.0",
            "_view_name": "LayoutView",
            "align_content": null,
            "align_items": null,
            "align_self": null,
            "border": null,
            "bottom": null,
            "display": null,
            "flex": null,
            "flex_flow": null,
            "grid_area": null,
            "grid_auto_columns": null,
            "grid_auto_flow": null,
            "grid_auto_rows": null,
            "grid_column": null,
            "grid_gap": null,
            "grid_row": null,
            "grid_template_areas": null,
            "grid_template_columns": null,
            "grid_template_rows": null,
            "height": null,
            "justify_content": null,
            "justify_items": null,
            "left": null,
            "margin": null,
            "max_height": null,
            "max_width": null,
            "min_height": null,
            "min_width": null,
            "object_fit": null,
            "object_position": null,
            "order": null,
            "overflow": null,
            "overflow_x": null,
            "overflow_y": null,
            "padding": null,
            "right": null,
            "top": null,
            "visibility": null,
            "width": null
          }
        },
        "aca42f74031843da96106dbe4576e581": {
          "model_module": "@jupyter-widgets/controls",
          "model_name": "ProgressStyleModel",
          "model_module_version": "1.5.0",
          "state": {
            "_model_module": "@jupyter-widgets/controls",
            "_model_module_version": "1.5.0",
            "_model_name": "ProgressStyleModel",
            "_view_count": null,
            "_view_module": "@jupyter-widgets/base",
            "_view_module_version": "1.2.0",
            "_view_name": "StyleView",
            "bar_color": null,
            "description_width": ""
          }
        },
        "0a9b7ff93c044bdb8fb43bffa08552cc": {
          "model_module": "@jupyter-widgets/base",
          "model_name": "LayoutModel",
          "model_module_version": "1.2.0",
          "state": {
            "_model_module": "@jupyter-widgets/base",
            "_model_module_version": "1.2.0",
            "_model_name": "LayoutModel",
            "_view_count": null,
            "_view_module": "@jupyter-widgets/base",
            "_view_module_version": "1.2.0",
            "_view_name": "LayoutView",
            "align_content": null,
            "align_items": null,
            "align_self": null,
            "border": null,
            "bottom": null,
            "display": null,
            "flex": null,
            "flex_flow": null,
            "grid_area": null,
            "grid_auto_columns": null,
            "grid_auto_flow": null,
            "grid_auto_rows": null,
            "grid_column": null,
            "grid_gap": null,
            "grid_row": null,
            "grid_template_areas": null,
            "grid_template_columns": null,
            "grid_template_rows": null,
            "height": null,
            "justify_content": null,
            "justify_items": null,
            "left": null,
            "margin": null,
            "max_height": null,
            "max_width": null,
            "min_height": null,
            "min_width": null,
            "object_fit": null,
            "object_position": null,
            "order": null,
            "overflow": null,
            "overflow_x": null,
            "overflow_y": null,
            "padding": null,
            "right": null,
            "top": null,
            "visibility": null,
            "width": null
          }
        },
        "790e35d302ea4379a401db0f17b0280b": {
          "model_module": "@jupyter-widgets/controls",
          "model_name": "DescriptionStyleModel",
          "model_module_version": "1.5.0",
          "state": {
            "_model_module": "@jupyter-widgets/controls",
            "_model_module_version": "1.5.0",
            "_model_name": "DescriptionStyleModel",
            "_view_count": null,
            "_view_module": "@jupyter-widgets/base",
            "_view_module_version": "1.2.0",
            "_view_name": "StyleView",
            "description_width": ""
          }
        },
        "3cb5a5e827be4eafa20306e87e9c9a7c": {
          "model_module": "@jupyter-widgets/controls",
          "model_name": "HBoxModel",
          "model_module_version": "1.5.0",
          "state": {
            "_dom_classes": [],
            "_model_module": "@jupyter-widgets/controls",
            "_model_module_version": "1.5.0",
            "_model_name": "HBoxModel",
            "_view_count": null,
            "_view_module": "@jupyter-widgets/controls",
            "_view_module_version": "1.5.0",
            "_view_name": "HBoxView",
            "box_style": "",
            "children": [
              "IPY_MODEL_31cab787077346d5aeb44d28c1ca2372",
              "IPY_MODEL_531448a4e44e4b998aeee4410e7b472f",
              "IPY_MODEL_a19e42fa62ce41769568cd17d46b219b"
            ],
            "layout": "IPY_MODEL_4215b75a859943db90d56ec0edd36556"
          }
        },
        "31cab787077346d5aeb44d28c1ca2372": {
          "model_module": "@jupyter-widgets/controls",
          "model_name": "HTMLModel",
          "model_module_version": "1.5.0",
          "state": {
            "_dom_classes": [],
            "_model_module": "@jupyter-widgets/controls",
            "_model_module_version": "1.5.0",
            "_model_name": "HTMLModel",
            "_view_count": null,
            "_view_module": "@jupyter-widgets/controls",
            "_view_module_version": "1.5.0",
            "_view_name": "HTMLView",
            "description": "",
            "description_tooltip": null,
            "layout": "IPY_MODEL_dd55090666f5472194d6f614d52aa2a0",
            "placeholder": "​",
            "style": "IPY_MODEL_49e1f8a53841493d9d092c90fdec58f9",
            "value": "artifact.metadata: 100%"
          }
        },
        "531448a4e44e4b998aeee4410e7b472f": {
          "model_module": "@jupyter-widgets/controls",
          "model_name": "FloatProgressModel",
          "model_module_version": "1.5.0",
          "state": {
            "_dom_classes": [],
            "_model_module": "@jupyter-widgets/controls",
            "_model_module_version": "1.5.0",
            "_model_name": "FloatProgressModel",
            "_view_count": null,
            "_view_module": "@jupyter-widgets/controls",
            "_view_module_version": "1.5.0",
            "_view_name": "ProgressView",
            "bar_style": "success",
            "description": "",
            "description_tooltip": null,
            "layout": "IPY_MODEL_c777e2b02373409f930702821e1c12e4",
            "max": 1706,
            "min": 0,
            "orientation": "horizontal",
            "style": "IPY_MODEL_655563fbbd2b4724bae7c64da54338ba",
            "value": 1706
          }
        },
        "a19e42fa62ce41769568cd17d46b219b": {
          "model_module": "@jupyter-widgets/controls",
          "model_name": "HTMLModel",
          "model_module_version": "1.5.0",
          "state": {
            "_dom_classes": [],
            "_model_module": "@jupyter-widgets/controls",
            "_model_module_version": "1.5.0",
            "_model_name": "HTMLModel",
            "_view_count": null,
            "_view_module": "@jupyter-widgets/controls",
            "_view_module_version": "1.5.0",
            "_view_name": "HTMLView",
            "description": "",
            "description_tooltip": null,
            "layout": "IPY_MODEL_e876622ca45c41de9cc62e8bd2f23f08",
            "placeholder": "​",
            "style": "IPY_MODEL_f0f799d362e14b4693e66979a4de95c0",
            "value": " 1.71k/1.71k [00:00&lt;00:00, 142kB/s]"
          }
        },
        "4215b75a859943db90d56ec0edd36556": {
          "model_module": "@jupyter-widgets/base",
          "model_name": "LayoutModel",
          "model_module_version": "1.2.0",
          "state": {
            "_model_module": "@jupyter-widgets/base",
            "_model_module_version": "1.2.0",
            "_model_name": "LayoutModel",
            "_view_count": null,
            "_view_module": "@jupyter-widgets/base",
            "_view_module_version": "1.2.0",
            "_view_name": "LayoutView",
            "align_content": null,
            "align_items": null,
            "align_self": null,
            "border": null,
            "bottom": null,
            "display": null,
            "flex": null,
            "flex_flow": null,
            "grid_area": null,
            "grid_auto_columns": null,
            "grid_auto_flow": null,
            "grid_auto_rows": null,
            "grid_column": null,
            "grid_gap": null,
            "grid_row": null,
            "grid_template_areas": null,
            "grid_template_columns": null,
            "grid_template_rows": null,
            "height": null,
            "justify_content": null,
            "justify_items": null,
            "left": null,
            "margin": null,
            "max_height": null,
            "max_width": null,
            "min_height": null,
            "min_width": null,
            "object_fit": null,
            "object_position": null,
            "order": null,
            "overflow": null,
            "overflow_x": null,
            "overflow_y": null,
            "padding": null,
            "right": null,
            "top": null,
            "visibility": null,
            "width": null
          }
        },
        "dd55090666f5472194d6f614d52aa2a0": {
          "model_module": "@jupyter-widgets/base",
          "model_name": "LayoutModel",
          "model_module_version": "1.2.0",
          "state": {
            "_model_module": "@jupyter-widgets/base",
            "_model_module_version": "1.2.0",
            "_model_name": "LayoutModel",
            "_view_count": null,
            "_view_module": "@jupyter-widgets/base",
            "_view_module_version": "1.2.0",
            "_view_name": "LayoutView",
            "align_content": null,
            "align_items": null,
            "align_self": null,
            "border": null,
            "bottom": null,
            "display": null,
            "flex": null,
            "flex_flow": null,
            "grid_area": null,
            "grid_auto_columns": null,
            "grid_auto_flow": null,
            "grid_auto_rows": null,
            "grid_column": null,
            "grid_gap": null,
            "grid_row": null,
            "grid_template_areas": null,
            "grid_template_columns": null,
            "grid_template_rows": null,
            "height": null,
            "justify_content": null,
            "justify_items": null,
            "left": null,
            "margin": null,
            "max_height": null,
            "max_width": null,
            "min_height": null,
            "min_width": null,
            "object_fit": null,
            "object_position": null,
            "order": null,
            "overflow": null,
            "overflow_x": null,
            "overflow_y": null,
            "padding": null,
            "right": null,
            "top": null,
            "visibility": null,
            "width": null
          }
        },
        "49e1f8a53841493d9d092c90fdec58f9": {
          "model_module": "@jupyter-widgets/controls",
          "model_name": "DescriptionStyleModel",
          "model_module_version": "1.5.0",
          "state": {
            "_model_module": "@jupyter-widgets/controls",
            "_model_module_version": "1.5.0",
            "_model_name": "DescriptionStyleModel",
            "_view_count": null,
            "_view_module": "@jupyter-widgets/base",
            "_view_module_version": "1.2.0",
            "_view_name": "StyleView",
            "description_width": ""
          }
        },
        "c777e2b02373409f930702821e1c12e4": {
          "model_module": "@jupyter-widgets/base",
          "model_name": "LayoutModel",
          "model_module_version": "1.2.0",
          "state": {
            "_model_module": "@jupyter-widgets/base",
            "_model_module_version": "1.2.0",
            "_model_name": "LayoutModel",
            "_view_count": null,
            "_view_module": "@jupyter-widgets/base",
            "_view_module_version": "1.2.0",
            "_view_name": "LayoutView",
            "align_content": null,
            "align_items": null,
            "align_self": null,
            "border": null,
            "bottom": null,
            "display": null,
            "flex": null,
            "flex_flow": null,
            "grid_area": null,
            "grid_auto_columns": null,
            "grid_auto_flow": null,
            "grid_auto_rows": null,
            "grid_column": null,
            "grid_gap": null,
            "grid_row": null,
            "grid_template_areas": null,
            "grid_template_columns": null,
            "grid_template_rows": null,
            "height": null,
            "justify_content": null,
            "justify_items": null,
            "left": null,
            "margin": null,
            "max_height": null,
            "max_width": null,
            "min_height": null,
            "min_width": null,
            "object_fit": null,
            "object_position": null,
            "order": null,
            "overflow": null,
            "overflow_x": null,
            "overflow_y": null,
            "padding": null,
            "right": null,
            "top": null,
            "visibility": null,
            "width": null
          }
        },
        "655563fbbd2b4724bae7c64da54338ba": {
          "model_module": "@jupyter-widgets/controls",
          "model_name": "ProgressStyleModel",
          "model_module_version": "1.5.0",
          "state": {
            "_model_module": "@jupyter-widgets/controls",
            "_model_module_version": "1.5.0",
            "_model_name": "ProgressStyleModel",
            "_view_count": null,
            "_view_module": "@jupyter-widgets/base",
            "_view_module_version": "1.2.0",
            "_view_name": "StyleView",
            "bar_color": null,
            "description_width": ""
          }
        },
        "e876622ca45c41de9cc62e8bd2f23f08": {
          "model_module": "@jupyter-widgets/base",
          "model_name": "LayoutModel",
          "model_module_version": "1.2.0",
          "state": {
            "_model_module": "@jupyter-widgets/base",
            "_model_module_version": "1.2.0",
            "_model_name": "LayoutModel",
            "_view_count": null,
            "_view_module": "@jupyter-widgets/base",
            "_view_module_version": "1.2.0",
            "_view_name": "LayoutView",
            "align_content": null,
            "align_items": null,
            "align_self": null,
            "border": null,
            "bottom": null,
            "display": null,
            "flex": null,
            "flex_flow": null,
            "grid_area": null,
            "grid_auto_columns": null,
            "grid_auto_flow": null,
            "grid_auto_rows": null,
            "grid_column": null,
            "grid_gap": null,
            "grid_row": null,
            "grid_template_areas": null,
            "grid_template_columns": null,
            "grid_template_rows": null,
            "height": null,
            "justify_content": null,
            "justify_items": null,
            "left": null,
            "margin": null,
            "max_height": null,
            "max_width": null,
            "min_height": null,
            "min_width": null,
            "object_fit": null,
            "object_position": null,
            "order": null,
            "overflow": null,
            "overflow_x": null,
            "overflow_y": null,
            "padding": null,
            "right": null,
            "top": null,
            "visibility": null,
            "width": null
          }
        },
        "f0f799d362e14b4693e66979a4de95c0": {
          "model_module": "@jupyter-widgets/controls",
          "model_name": "DescriptionStyleModel",
          "model_module_version": "1.5.0",
          "state": {
            "_model_module": "@jupyter-widgets/controls",
            "_model_module_version": "1.5.0",
            "_model_name": "DescriptionStyleModel",
            "_view_count": null,
            "_view_module": "@jupyter-widgets/base",
            "_view_module_version": "1.2.0",
            "_view_name": "StyleView",
            "description_width": ""
          }
        },
        "94b208f307dc46e2ba287d30daad0694": {
          "model_module": "@jupyter-widgets/controls",
          "model_name": "HBoxModel",
          "model_module_version": "1.5.0",
          "state": {
            "_dom_classes": [],
            "_model_module": "@jupyter-widgets/controls",
            "_model_module_version": "1.5.0",
            "_model_name": "HBoxModel",
            "_view_count": null,
            "_view_module": "@jupyter-widgets/controls",
            "_view_module_version": "1.5.0",
            "_view_name": "HBoxView",
            "box_style": "",
            "children": [
              "IPY_MODEL_25d97b4226f2466fade01828cc79ccd3",
              "IPY_MODEL_685f8f389b0b4343b0cda3688a3fe3d8",
              "IPY_MODEL_c4beb456c534406eaec6d2c03a0fdc95"
            ],
            "layout": "IPY_MODEL_c79c31bf33114bc98af80754ff3fd4e5"
          }
        },
        "25d97b4226f2466fade01828cc79ccd3": {
          "model_module": "@jupyter-widgets/controls",
          "model_name": "HTMLModel",
          "model_module_version": "1.5.0",
          "state": {
            "_dom_classes": [],
            "_model_module": "@jupyter-widgets/controls",
            "_model_module_version": "1.5.0",
            "_model_name": "HTMLModel",
            "_view_count": null,
            "_view_module": "@jupyter-widgets/controls",
            "_view_module_version": "1.5.0",
            "_view_name": "HTMLView",
            "description": "",
            "description_tooltip": null,
            "layout": "IPY_MODEL_5c940093edc1409ca41c1d7d96aa153e",
            "placeholder": "​",
            "style": "IPY_MODEL_8c64e15a6e144d278b0910010b4722ab",
            "value": "config.json: 100%"
          }
        },
        "685f8f389b0b4343b0cda3688a3fe3d8": {
          "model_module": "@jupyter-widgets/controls",
          "model_name": "FloatProgressModel",
          "model_module_version": "1.5.0",
          "state": {
            "_dom_classes": [],
            "_model_module": "@jupyter-widgets/controls",
            "_model_module_version": "1.5.0",
            "_model_name": "FloatProgressModel",
            "_view_count": null,
            "_view_module": "@jupyter-widgets/controls",
            "_view_module_version": "1.5.0",
            "_view_name": "ProgressView",
            "bar_style": "success",
            "description": "",
            "description_tooltip": null,
            "layout": "IPY_MODEL_3679f518e2894082aa46eda5546c9f16",
            "max": 715,
            "min": 0,
            "orientation": "horizontal",
            "style": "IPY_MODEL_e159f344e4c94884995bb7e22eca5089",
            "value": 715
          }
        },
        "c4beb456c534406eaec6d2c03a0fdc95": {
          "model_module": "@jupyter-widgets/controls",
          "model_name": "HTMLModel",
          "model_module_version": "1.5.0",
          "state": {
            "_dom_classes": [],
            "_model_module": "@jupyter-widgets/controls",
            "_model_module_version": "1.5.0",
            "_model_name": "HTMLModel",
            "_view_count": null,
            "_view_module": "@jupyter-widgets/controls",
            "_view_module_version": "1.5.0",
            "_view_name": "HTMLView",
            "description": "",
            "description_tooltip": null,
            "layout": "IPY_MODEL_78e13f85c1d74cc2ad01ea7cecc0c448",
            "placeholder": "​",
            "style": "IPY_MODEL_8d41b3f4c256429faa9dc98ee5c29f95",
            "value": " 715/715 [00:00&lt;00:00, 58.3kB/s]"
          }
        },
        "c79c31bf33114bc98af80754ff3fd4e5": {
          "model_module": "@jupyter-widgets/base",
          "model_name": "LayoutModel",
          "model_module_version": "1.2.0",
          "state": {
            "_model_module": "@jupyter-widgets/base",
            "_model_module_version": "1.2.0",
            "_model_name": "LayoutModel",
            "_view_count": null,
            "_view_module": "@jupyter-widgets/base",
            "_view_module_version": "1.2.0",
            "_view_name": "LayoutView",
            "align_content": null,
            "align_items": null,
            "align_self": null,
            "border": null,
            "bottom": null,
            "display": null,
            "flex": null,
            "flex_flow": null,
            "grid_area": null,
            "grid_auto_columns": null,
            "grid_auto_flow": null,
            "grid_auto_rows": null,
            "grid_column": null,
            "grid_gap": null,
            "grid_row": null,
            "grid_template_areas": null,
            "grid_template_columns": null,
            "grid_template_rows": null,
            "height": null,
            "justify_content": null,
            "justify_items": null,
            "left": null,
            "margin": null,
            "max_height": null,
            "max_width": null,
            "min_height": null,
            "min_width": null,
            "object_fit": null,
            "object_position": null,
            "order": null,
            "overflow": null,
            "overflow_x": null,
            "overflow_y": null,
            "padding": null,
            "right": null,
            "top": null,
            "visibility": null,
            "width": null
          }
        },
        "5c940093edc1409ca41c1d7d96aa153e": {
          "model_module": "@jupyter-widgets/base",
          "model_name": "LayoutModel",
          "model_module_version": "1.2.0",
          "state": {
            "_model_module": "@jupyter-widgets/base",
            "_model_module_version": "1.2.0",
            "_model_name": "LayoutModel",
            "_view_count": null,
            "_view_module": "@jupyter-widgets/base",
            "_view_module_version": "1.2.0",
            "_view_name": "LayoutView",
            "align_content": null,
            "align_items": null,
            "align_self": null,
            "border": null,
            "bottom": null,
            "display": null,
            "flex": null,
            "flex_flow": null,
            "grid_area": null,
            "grid_auto_columns": null,
            "grid_auto_flow": null,
            "grid_auto_rows": null,
            "grid_column": null,
            "grid_gap": null,
            "grid_row": null,
            "grid_template_areas": null,
            "grid_template_columns": null,
            "grid_template_rows": null,
            "height": null,
            "justify_content": null,
            "justify_items": null,
            "left": null,
            "margin": null,
            "max_height": null,
            "max_width": null,
            "min_height": null,
            "min_width": null,
            "object_fit": null,
            "object_position": null,
            "order": null,
            "overflow": null,
            "overflow_x": null,
            "overflow_y": null,
            "padding": null,
            "right": null,
            "top": null,
            "visibility": null,
            "width": null
          }
        },
        "8c64e15a6e144d278b0910010b4722ab": {
          "model_module": "@jupyter-widgets/controls",
          "model_name": "DescriptionStyleModel",
          "model_module_version": "1.5.0",
          "state": {
            "_model_module": "@jupyter-widgets/controls",
            "_model_module_version": "1.5.0",
            "_model_name": "DescriptionStyleModel",
            "_view_count": null,
            "_view_module": "@jupyter-widgets/base",
            "_view_module_version": "1.2.0",
            "_view_name": "StyleView",
            "description_width": ""
          }
        },
        "3679f518e2894082aa46eda5546c9f16": {
          "model_module": "@jupyter-widgets/base",
          "model_name": "LayoutModel",
          "model_module_version": "1.2.0",
          "state": {
            "_model_module": "@jupyter-widgets/base",
            "_model_module_version": "1.2.0",
            "_model_name": "LayoutModel",
            "_view_count": null,
            "_view_module": "@jupyter-widgets/base",
            "_view_module_version": "1.2.0",
            "_view_name": "LayoutView",
            "align_content": null,
            "align_items": null,
            "align_self": null,
            "border": null,
            "bottom": null,
            "display": null,
            "flex": null,
            "flex_flow": null,
            "grid_area": null,
            "grid_auto_columns": null,
            "grid_auto_flow": null,
            "grid_auto_rows": null,
            "grid_column": null,
            "grid_gap": null,
            "grid_row": null,
            "grid_template_areas": null,
            "grid_template_columns": null,
            "grid_template_rows": null,
            "height": null,
            "justify_content": null,
            "justify_items": null,
            "left": null,
            "margin": null,
            "max_height": null,
            "max_width": null,
            "min_height": null,
            "min_width": null,
            "object_fit": null,
            "object_position": null,
            "order": null,
            "overflow": null,
            "overflow_x": null,
            "overflow_y": null,
            "padding": null,
            "right": null,
            "top": null,
            "visibility": null,
            "width": null
          }
        },
        "e159f344e4c94884995bb7e22eca5089": {
          "model_module": "@jupyter-widgets/controls",
          "model_name": "ProgressStyleModel",
          "model_module_version": "1.5.0",
          "state": {
            "_model_module": "@jupyter-widgets/controls",
            "_model_module_version": "1.5.0",
            "_model_name": "ProgressStyleModel",
            "_view_count": null,
            "_view_module": "@jupyter-widgets/base",
            "_view_module_version": "1.2.0",
            "_view_name": "StyleView",
            "bar_color": null,
            "description_width": ""
          }
        },
        "78e13f85c1d74cc2ad01ea7cecc0c448": {
          "model_module": "@jupyter-widgets/base",
          "model_name": "LayoutModel",
          "model_module_version": "1.2.0",
          "state": {
            "_model_module": "@jupyter-widgets/base",
            "_model_module_version": "1.2.0",
            "_model_name": "LayoutModel",
            "_view_count": null,
            "_view_module": "@jupyter-widgets/base",
            "_view_module_version": "1.2.0",
            "_view_name": "LayoutView",
            "align_content": null,
            "align_items": null,
            "align_self": null,
            "border": null,
            "bottom": null,
            "display": null,
            "flex": null,
            "flex_flow": null,
            "grid_area": null,
            "grid_auto_columns": null,
            "grid_auto_flow": null,
            "grid_auto_rows": null,
            "grid_column": null,
            "grid_gap": null,
            "grid_row": null,
            "grid_template_areas": null,
            "grid_template_columns": null,
            "grid_template_rows": null,
            "height": null,
            "justify_content": null,
            "justify_items": null,
            "left": null,
            "margin": null,
            "max_height": null,
            "max_width": null,
            "min_height": null,
            "min_width": null,
            "object_fit": null,
            "object_position": null,
            "order": null,
            "overflow": null,
            "overflow_x": null,
            "overflow_y": null,
            "padding": null,
            "right": null,
            "top": null,
            "visibility": null,
            "width": null
          }
        },
        "8d41b3f4c256429faa9dc98ee5c29f95": {
          "model_module": "@jupyter-widgets/controls",
          "model_name": "DescriptionStyleModel",
          "model_module_version": "1.5.0",
          "state": {
            "_model_module": "@jupyter-widgets/controls",
            "_model_module_version": "1.5.0",
            "_model_name": "DescriptionStyleModel",
            "_view_count": null,
            "_view_module": "@jupyter-widgets/base",
            "_view_module_version": "1.2.0",
            "_view_name": "StyleView",
            "description_width": ""
          }
        },
        "a0f78d11b1b04a81b535c85b8ef68c16": {
          "model_module": "@jupyter-widgets/controls",
          "model_name": "HBoxModel",
          "model_module_version": "1.5.0",
          "state": {
            "_dom_classes": [],
            "_model_module": "@jupyter-widgets/controls",
            "_model_module_version": "1.5.0",
            "_model_name": "HBoxModel",
            "_view_count": null,
            "_view_module": "@jupyter-widgets/controls",
            "_view_module_version": "1.5.0",
            "_view_name": "HBoxView",
            "box_style": "",
            "children": [
              "IPY_MODEL_0e2e258f0ce343d7a4c2dad61dc5f726",
              "IPY_MODEL_da9b227d10324f53937b2d50a2bb5de0",
              "IPY_MODEL_fb5bd63c050948b886db23b7fb5290b0"
            ],
            "layout": "IPY_MODEL_57f33464920e4b87958f1dcbe9828630"
          }
        },
        "0e2e258f0ce343d7a4c2dad61dc5f726": {
          "model_module": "@jupyter-widgets/controls",
          "model_name": "HTMLModel",
          "model_module_version": "1.5.0",
          "state": {
            "_dom_classes": [],
            "_model_module": "@jupyter-widgets/controls",
            "_model_module_version": "1.5.0",
            "_model_name": "HTMLModel",
            "_view_count": null,
            "_view_module": "@jupyter-widgets/controls",
            "_view_module_version": "1.5.0",
            "_view_name": "HTMLView",
            "description": "",
            "description_tooltip": null,
            "layout": "IPY_MODEL_e23c56951c3d47bb95145b3f1e373cd3",
            "placeholder": "​",
            "style": "IPY_MODEL_8e1fa09504d74afd9ccf47f7a71f7522",
            "value": "model.safetensors: 100%"
          }
        },
        "da9b227d10324f53937b2d50a2bb5de0": {
          "model_module": "@jupyter-widgets/controls",
          "model_name": "FloatProgressModel",
          "model_module_version": "1.5.0",
          "state": {
            "_dom_classes": [],
            "_model_module": "@jupyter-widgets/controls",
            "_model_module_version": "1.5.0",
            "_model_name": "FloatProgressModel",
            "_view_count": null,
            "_view_module": "@jupyter-widgets/controls",
            "_view_module_version": "1.5.0",
            "_view_name": "ProgressView",
            "bar_style": "success",
            "description": "",
            "description_tooltip": null,
            "layout": "IPY_MODEL_cc6d5fc3490741f2bd5bb193101f0100",
            "max": 439820184,
            "min": 0,
            "orientation": "horizontal",
            "style": "IPY_MODEL_43ddb5d7d92c4a6fbf6d3cf108199b58",
            "value": 439820184
          }
        },
        "fb5bd63c050948b886db23b7fb5290b0": {
          "model_module": "@jupyter-widgets/controls",
          "model_name": "HTMLModel",
          "model_module_version": "1.5.0",
          "state": {
            "_dom_classes": [],
            "_model_module": "@jupyter-widgets/controls",
            "_model_module_version": "1.5.0",
            "_model_name": "HTMLModel",
            "_view_count": null,
            "_view_module": "@jupyter-widgets/controls",
            "_view_module_version": "1.5.0",
            "_view_name": "HTMLView",
            "description": "",
            "description_tooltip": null,
            "layout": "IPY_MODEL_084f652316034bd8a49ebde319bd7546",
            "placeholder": "​",
            "style": "IPY_MODEL_b2d2efb138e14ef5bddcc649ebdbfc6d",
            "value": " 440M/440M [00:22&lt;00:00, 20.8MB/s]"
          }
        },
        "57f33464920e4b87958f1dcbe9828630": {
          "model_module": "@jupyter-widgets/base",
          "model_name": "LayoutModel",
          "model_module_version": "1.2.0",
          "state": {
            "_model_module": "@jupyter-widgets/base",
            "_model_module_version": "1.2.0",
            "_model_name": "LayoutModel",
            "_view_count": null,
            "_view_module": "@jupyter-widgets/base",
            "_view_module_version": "1.2.0",
            "_view_name": "LayoutView",
            "align_content": null,
            "align_items": null,
            "align_self": null,
            "border": null,
            "bottom": null,
            "display": null,
            "flex": null,
            "flex_flow": null,
            "grid_area": null,
            "grid_auto_columns": null,
            "grid_auto_flow": null,
            "grid_auto_rows": null,
            "grid_column": null,
            "grid_gap": null,
            "grid_row": null,
            "grid_template_areas": null,
            "grid_template_columns": null,
            "grid_template_rows": null,
            "height": null,
            "justify_content": null,
            "justify_items": null,
            "left": null,
            "margin": null,
            "max_height": null,
            "max_width": null,
            "min_height": null,
            "min_width": null,
            "object_fit": null,
            "object_position": null,
            "order": null,
            "overflow": null,
            "overflow_x": null,
            "overflow_y": null,
            "padding": null,
            "right": null,
            "top": null,
            "visibility": null,
            "width": null
          }
        },
        "e23c56951c3d47bb95145b3f1e373cd3": {
          "model_module": "@jupyter-widgets/base",
          "model_name": "LayoutModel",
          "model_module_version": "1.2.0",
          "state": {
            "_model_module": "@jupyter-widgets/base",
            "_model_module_version": "1.2.0",
            "_model_name": "LayoutModel",
            "_view_count": null,
            "_view_module": "@jupyter-widgets/base",
            "_view_module_version": "1.2.0",
            "_view_name": "LayoutView",
            "align_content": null,
            "align_items": null,
            "align_self": null,
            "border": null,
            "bottom": null,
            "display": null,
            "flex": null,
            "flex_flow": null,
            "grid_area": null,
            "grid_auto_columns": null,
            "grid_auto_flow": null,
            "grid_auto_rows": null,
            "grid_column": null,
            "grid_gap": null,
            "grid_row": null,
            "grid_template_areas": null,
            "grid_template_columns": null,
            "grid_template_rows": null,
            "height": null,
            "justify_content": null,
            "justify_items": null,
            "left": null,
            "margin": null,
            "max_height": null,
            "max_width": null,
            "min_height": null,
            "min_width": null,
            "object_fit": null,
            "object_position": null,
            "order": null,
            "overflow": null,
            "overflow_x": null,
            "overflow_y": null,
            "padding": null,
            "right": null,
            "top": null,
            "visibility": null,
            "width": null
          }
        },
        "8e1fa09504d74afd9ccf47f7a71f7522": {
          "model_module": "@jupyter-widgets/controls",
          "model_name": "DescriptionStyleModel",
          "model_module_version": "1.5.0",
          "state": {
            "_model_module": "@jupyter-widgets/controls",
            "_model_module_version": "1.5.0",
            "_model_name": "DescriptionStyleModel",
            "_view_count": null,
            "_view_module": "@jupyter-widgets/base",
            "_view_module_version": "1.2.0",
            "_view_name": "StyleView",
            "description_width": ""
          }
        },
        "cc6d5fc3490741f2bd5bb193101f0100": {
          "model_module": "@jupyter-widgets/base",
          "model_name": "LayoutModel",
          "model_module_version": "1.2.0",
          "state": {
            "_model_module": "@jupyter-widgets/base",
            "_model_module_version": "1.2.0",
            "_model_name": "LayoutModel",
            "_view_count": null,
            "_view_module": "@jupyter-widgets/base",
            "_view_module_version": "1.2.0",
            "_view_name": "LayoutView",
            "align_content": null,
            "align_items": null,
            "align_self": null,
            "border": null,
            "bottom": null,
            "display": null,
            "flex": null,
            "flex_flow": null,
            "grid_area": null,
            "grid_auto_columns": null,
            "grid_auto_flow": null,
            "grid_auto_rows": null,
            "grid_column": null,
            "grid_gap": null,
            "grid_row": null,
            "grid_template_areas": null,
            "grid_template_columns": null,
            "grid_template_rows": null,
            "height": null,
            "justify_content": null,
            "justify_items": null,
            "left": null,
            "margin": null,
            "max_height": null,
            "max_width": null,
            "min_height": null,
            "min_width": null,
            "object_fit": null,
            "object_position": null,
            "order": null,
            "overflow": null,
            "overflow_x": null,
            "overflow_y": null,
            "padding": null,
            "right": null,
            "top": null,
            "visibility": null,
            "width": null
          }
        },
        "43ddb5d7d92c4a6fbf6d3cf108199b58": {
          "model_module": "@jupyter-widgets/controls",
          "model_name": "ProgressStyleModel",
          "model_module_version": "1.5.0",
          "state": {
            "_model_module": "@jupyter-widgets/controls",
            "_model_module_version": "1.5.0",
            "_model_name": "ProgressStyleModel",
            "_view_count": null,
            "_view_module": "@jupyter-widgets/base",
            "_view_module_version": "1.2.0",
            "_view_name": "StyleView",
            "bar_color": null,
            "description_width": ""
          }
        },
        "084f652316034bd8a49ebde319bd7546": {
          "model_module": "@jupyter-widgets/base",
          "model_name": "LayoutModel",
          "model_module_version": "1.2.0",
          "state": {
            "_model_module": "@jupyter-widgets/base",
            "_model_module_version": "1.2.0",
            "_model_name": "LayoutModel",
            "_view_count": null,
            "_view_module": "@jupyter-widgets/base",
            "_view_module_version": "1.2.0",
            "_view_name": "LayoutView",
            "align_content": null,
            "align_items": null,
            "align_self": null,
            "border": null,
            "bottom": null,
            "display": null,
            "flex": null,
            "flex_flow": null,
            "grid_area": null,
            "grid_auto_columns": null,
            "grid_auto_flow": null,
            "grid_auto_rows": null,
            "grid_column": null,
            "grid_gap": null,
            "grid_row": null,
            "grid_template_areas": null,
            "grid_template_columns": null,
            "grid_template_rows": null,
            "height": null,
            "justify_content": null,
            "justify_items": null,
            "left": null,
            "margin": null,
            "max_height": null,
            "max_width": null,
            "min_height": null,
            "min_width": null,
            "object_fit": null,
            "object_position": null,
            "order": null,
            "overflow": null,
            "overflow_x": null,
            "overflow_y": null,
            "padding": null,
            "right": null,
            "top": null,
            "visibility": null,
            "width": null
          }
        },
        "b2d2efb138e14ef5bddcc649ebdbfc6d": {
          "model_module": "@jupyter-widgets/controls",
          "model_name": "DescriptionStyleModel",
          "model_module_version": "1.5.0",
          "state": {
            "_model_module": "@jupyter-widgets/controls",
            "_model_module_version": "1.5.0",
            "_model_name": "DescriptionStyleModel",
            "_view_count": null,
            "_view_module": "@jupyter-widgets/base",
            "_view_module_version": "1.2.0",
            "_view_name": "StyleView",
            "description_width": ""
          }
        },
        "db5193de22aa45388eca08fa48e21b20": {
          "model_module": "@jupyter-widgets/controls",
          "model_name": "HBoxModel",
          "model_module_version": "1.5.0",
          "state": {
            "_dom_classes": [],
            "_model_module": "@jupyter-widgets/controls",
            "_model_module_version": "1.5.0",
            "_model_name": "HBoxModel",
            "_view_count": null,
            "_view_module": "@jupyter-widgets/controls",
            "_view_module_version": "1.5.0",
            "_view_name": "HBoxView",
            "box_style": "",
            "children": [
              "IPY_MODEL_484865edc680457a8991c36ad1c7513d",
              "IPY_MODEL_eb4b2ab83a8a4810b1cc9a0137d66240",
              "IPY_MODEL_399270754e204780a85fda0d83f961b8"
            ],
            "layout": "IPY_MODEL_f74e074eda3d4fca8af6aed5903043a2"
          }
        },
        "484865edc680457a8991c36ad1c7513d": {
          "model_module": "@jupyter-widgets/controls",
          "model_name": "HTMLModel",
          "model_module_version": "1.5.0",
          "state": {
            "_dom_classes": [],
            "_model_module": "@jupyter-widgets/controls",
            "_model_module_version": "1.5.0",
            "_model_name": "HTMLModel",
            "_view_count": null,
            "_view_module": "@jupyter-widgets/controls",
            "_view_module_version": "1.5.0",
            "_view_name": "HTMLView",
            "description": "",
            "description_tooltip": null,
            "layout": "IPY_MODEL_cde3da632c7248ea84c109293815978d",
            "placeholder": "​",
            "style": "IPY_MODEL_0d056b8da41849fbb8645a1a60ad7d4c",
            "value": "tokenizer_config.json: 100%"
          }
        },
        "eb4b2ab83a8a4810b1cc9a0137d66240": {
          "model_module": "@jupyter-widgets/controls",
          "model_name": "FloatProgressModel",
          "model_module_version": "1.5.0",
          "state": {
            "_dom_classes": [],
            "_model_module": "@jupyter-widgets/controls",
            "_model_module_version": "1.5.0",
            "_model_name": "FloatProgressModel",
            "_view_count": null,
            "_view_module": "@jupyter-widgets/controls",
            "_view_module_version": "1.5.0",
            "_view_name": "ProgressView",
            "bar_style": "success",
            "description": "",
            "description_tooltip": null,
            "layout": "IPY_MODEL_8420301fc2ee4bee8bb0280c7f57e552",
            "max": 1235,
            "min": 0,
            "orientation": "horizontal",
            "style": "IPY_MODEL_d54bf04c52cd4595966821e8d9a4181b",
            "value": 1235
          }
        },
        "399270754e204780a85fda0d83f961b8": {
          "model_module": "@jupyter-widgets/controls",
          "model_name": "HTMLModel",
          "model_module_version": "1.5.0",
          "state": {
            "_dom_classes": [],
            "_model_module": "@jupyter-widgets/controls",
            "_model_module_version": "1.5.0",
            "_model_name": "HTMLModel",
            "_view_count": null,
            "_view_module": "@jupyter-widgets/controls",
            "_view_module_version": "1.5.0",
            "_view_name": "HTMLView",
            "description": "",
            "description_tooltip": null,
            "layout": "IPY_MODEL_27a129e5a3d44e7ebd5aa80251470c70",
            "placeholder": "​",
            "style": "IPY_MODEL_78cf1435223f4427ae28427731ad3f4d",
            "value": " 1.24k/1.24k [00:00&lt;00:00, 96.2kB/s]"
          }
        },
        "f74e074eda3d4fca8af6aed5903043a2": {
          "model_module": "@jupyter-widgets/base",
          "model_name": "LayoutModel",
          "model_module_version": "1.2.0",
          "state": {
            "_model_module": "@jupyter-widgets/base",
            "_model_module_version": "1.2.0",
            "_model_name": "LayoutModel",
            "_view_count": null,
            "_view_module": "@jupyter-widgets/base",
            "_view_module_version": "1.2.0",
            "_view_name": "LayoutView",
            "align_content": null,
            "align_items": null,
            "align_self": null,
            "border": null,
            "bottom": null,
            "display": null,
            "flex": null,
            "flex_flow": null,
            "grid_area": null,
            "grid_auto_columns": null,
            "grid_auto_flow": null,
            "grid_auto_rows": null,
            "grid_column": null,
            "grid_gap": null,
            "grid_row": null,
            "grid_template_areas": null,
            "grid_template_columns": null,
            "grid_template_rows": null,
            "height": null,
            "justify_content": null,
            "justify_items": null,
            "left": null,
            "margin": null,
            "max_height": null,
            "max_width": null,
            "min_height": null,
            "min_width": null,
            "object_fit": null,
            "object_position": null,
            "order": null,
            "overflow": null,
            "overflow_x": null,
            "overflow_y": null,
            "padding": null,
            "right": null,
            "top": null,
            "visibility": null,
            "width": null
          }
        },
        "cde3da632c7248ea84c109293815978d": {
          "model_module": "@jupyter-widgets/base",
          "model_name": "LayoutModel",
          "model_module_version": "1.2.0",
          "state": {
            "_model_module": "@jupyter-widgets/base",
            "_model_module_version": "1.2.0",
            "_model_name": "LayoutModel",
            "_view_count": null,
            "_view_module": "@jupyter-widgets/base",
            "_view_module_version": "1.2.0",
            "_view_name": "LayoutView",
            "align_content": null,
            "align_items": null,
            "align_self": null,
            "border": null,
            "bottom": null,
            "display": null,
            "flex": null,
            "flex_flow": null,
            "grid_area": null,
            "grid_auto_columns": null,
            "grid_auto_flow": null,
            "grid_auto_rows": null,
            "grid_column": null,
            "grid_gap": null,
            "grid_row": null,
            "grid_template_areas": null,
            "grid_template_columns": null,
            "grid_template_rows": null,
            "height": null,
            "justify_content": null,
            "justify_items": null,
            "left": null,
            "margin": null,
            "max_height": null,
            "max_width": null,
            "min_height": null,
            "min_width": null,
            "object_fit": null,
            "object_position": null,
            "order": null,
            "overflow": null,
            "overflow_x": null,
            "overflow_y": null,
            "padding": null,
            "right": null,
            "top": null,
            "visibility": null,
            "width": null
          }
        },
        "0d056b8da41849fbb8645a1a60ad7d4c": {
          "model_module": "@jupyter-widgets/controls",
          "model_name": "DescriptionStyleModel",
          "model_module_version": "1.5.0",
          "state": {
            "_model_module": "@jupyter-widgets/controls",
            "_model_module_version": "1.5.0",
            "_model_name": "DescriptionStyleModel",
            "_view_count": null,
            "_view_module": "@jupyter-widgets/base",
            "_view_module_version": "1.2.0",
            "_view_name": "StyleView",
            "description_width": ""
          }
        },
        "8420301fc2ee4bee8bb0280c7f57e552": {
          "model_module": "@jupyter-widgets/base",
          "model_name": "LayoutModel",
          "model_module_version": "1.2.0",
          "state": {
            "_model_module": "@jupyter-widgets/base",
            "_model_module_version": "1.2.0",
            "_model_name": "LayoutModel",
            "_view_count": null,
            "_view_module": "@jupyter-widgets/base",
            "_view_module_version": "1.2.0",
            "_view_name": "LayoutView",
            "align_content": null,
            "align_items": null,
            "align_self": null,
            "border": null,
            "bottom": null,
            "display": null,
            "flex": null,
            "flex_flow": null,
            "grid_area": null,
            "grid_auto_columns": null,
            "grid_auto_flow": null,
            "grid_auto_rows": null,
            "grid_column": null,
            "grid_gap": null,
            "grid_row": null,
            "grid_template_areas": null,
            "grid_template_columns": null,
            "grid_template_rows": null,
            "height": null,
            "justify_content": null,
            "justify_items": null,
            "left": null,
            "margin": null,
            "max_height": null,
            "max_width": null,
            "min_height": null,
            "min_width": null,
            "object_fit": null,
            "object_position": null,
            "order": null,
            "overflow": null,
            "overflow_x": null,
            "overflow_y": null,
            "padding": null,
            "right": null,
            "top": null,
            "visibility": null,
            "width": null
          }
        },
        "d54bf04c52cd4595966821e8d9a4181b": {
          "model_module": "@jupyter-widgets/controls",
          "model_name": "ProgressStyleModel",
          "model_module_version": "1.5.0",
          "state": {
            "_model_module": "@jupyter-widgets/controls",
            "_model_module_version": "1.5.0",
            "_model_name": "ProgressStyleModel",
            "_view_count": null,
            "_view_module": "@jupyter-widgets/base",
            "_view_module_version": "1.2.0",
            "_view_name": "StyleView",
            "bar_color": null,
            "description_width": ""
          }
        },
        "27a129e5a3d44e7ebd5aa80251470c70": {
          "model_module": "@jupyter-widgets/base",
          "model_name": "LayoutModel",
          "model_module_version": "1.2.0",
          "state": {
            "_model_module": "@jupyter-widgets/base",
            "_model_module_version": "1.2.0",
            "_model_name": "LayoutModel",
            "_view_count": null,
            "_view_module": "@jupyter-widgets/base",
            "_view_module_version": "1.2.0",
            "_view_name": "LayoutView",
            "align_content": null,
            "align_items": null,
            "align_self": null,
            "border": null,
            "bottom": null,
            "display": null,
            "flex": null,
            "flex_flow": null,
            "grid_area": null,
            "grid_auto_columns": null,
            "grid_auto_flow": null,
            "grid_auto_rows": null,
            "grid_column": null,
            "grid_gap": null,
            "grid_row": null,
            "grid_template_areas": null,
            "grid_template_columns": null,
            "grid_template_rows": null,
            "height": null,
            "justify_content": null,
            "justify_items": null,
            "left": null,
            "margin": null,
            "max_height": null,
            "max_width": null,
            "min_height": null,
            "min_width": null,
            "object_fit": null,
            "object_position": null,
            "order": null,
            "overflow": null,
            "overflow_x": null,
            "overflow_y": null,
            "padding": null,
            "right": null,
            "top": null,
            "visibility": null,
            "width": null
          }
        },
        "78cf1435223f4427ae28427731ad3f4d": {
          "model_module": "@jupyter-widgets/controls",
          "model_name": "DescriptionStyleModel",
          "model_module_version": "1.5.0",
          "state": {
            "_model_module": "@jupyter-widgets/controls",
            "_model_module_version": "1.5.0",
            "_model_name": "DescriptionStyleModel",
            "_view_count": null,
            "_view_module": "@jupyter-widgets/base",
            "_view_module_version": "1.2.0",
            "_view_name": "StyleView",
            "description_width": ""
          }
        },
        "850c488c086049c6aaf70d1c9e6f3810": {
          "model_module": "@jupyter-widgets/controls",
          "model_name": "HBoxModel",
          "model_module_version": "1.5.0",
          "state": {
            "_dom_classes": [],
            "_model_module": "@jupyter-widgets/controls",
            "_model_module_version": "1.5.0",
            "_model_name": "HBoxModel",
            "_view_count": null,
            "_view_module": "@jupyter-widgets/controls",
            "_view_module_version": "1.5.0",
            "_view_name": "HBoxView",
            "box_style": "",
            "children": [
              "IPY_MODEL_bc0e06a97ed242a3b53b5e1bb73abd56",
              "IPY_MODEL_5b41899dad66459091844294d6d51969",
              "IPY_MODEL_9585fa0cf5c748c7abc8102dcc082bce"
            ],
            "layout": "IPY_MODEL_0796149d814249149619d84992b3ef70"
          }
        },
        "bc0e06a97ed242a3b53b5e1bb73abd56": {
          "model_module": "@jupyter-widgets/controls",
          "model_name": "HTMLModel",
          "model_module_version": "1.5.0",
          "state": {
            "_dom_classes": [],
            "_model_module": "@jupyter-widgets/controls",
            "_model_module_version": "1.5.0",
            "_model_name": "HTMLModel",
            "_view_count": null,
            "_view_module": "@jupyter-widgets/controls",
            "_view_module_version": "1.5.0",
            "_view_name": "HTMLView",
            "description": "",
            "description_tooltip": null,
            "layout": "IPY_MODEL_19da4adcd5e4492fa60299287fb802bb",
            "placeholder": "​",
            "style": "IPY_MODEL_5805dfd0c3eb4d9f9335fd6dfe28c648",
            "value": "vocab.txt: 100%"
          }
        },
        "5b41899dad66459091844294d6d51969": {
          "model_module": "@jupyter-widgets/controls",
          "model_name": "FloatProgressModel",
          "model_module_version": "1.5.0",
          "state": {
            "_dom_classes": [],
            "_model_module": "@jupyter-widgets/controls",
            "_model_module_version": "1.5.0",
            "_model_name": "FloatProgressModel",
            "_view_count": null,
            "_view_module": "@jupyter-widgets/controls",
            "_view_module_version": "1.5.0",
            "_view_name": "ProgressView",
            "bar_style": "success",
            "description": "",
            "description_tooltip": null,
            "layout": "IPY_MODEL_bd892c0e4c6c4f96acfddf11e1057c56",
            "max": 247723,
            "min": 0,
            "orientation": "horizontal",
            "style": "IPY_MODEL_869c128ac14b4393a2707123d88b09b8",
            "value": 247723
          }
        },
        "9585fa0cf5c748c7abc8102dcc082bce": {
          "model_module": "@jupyter-widgets/controls",
          "model_name": "HTMLModel",
          "model_module_version": "1.5.0",
          "state": {
            "_dom_classes": [],
            "_model_module": "@jupyter-widgets/controls",
            "_model_module_version": "1.5.0",
            "_model_name": "HTMLModel",
            "_view_count": null,
            "_view_module": "@jupyter-widgets/controls",
            "_view_module_version": "1.5.0",
            "_view_name": "HTMLView",
            "description": "",
            "description_tooltip": null,
            "layout": "IPY_MODEL_01158128664f49508f21a500997c73a2",
            "placeholder": "​",
            "style": "IPY_MODEL_2c09eda1180b45cbad53dfc3a272a9dd",
            "value": " 248k/248k [00:00&lt;00:00, 929kB/s]"
          }
        },
        "0796149d814249149619d84992b3ef70": {
          "model_module": "@jupyter-widgets/base",
          "model_name": "LayoutModel",
          "model_module_version": "1.2.0",
          "state": {
            "_model_module": "@jupyter-widgets/base",
            "_model_module_version": "1.2.0",
            "_model_name": "LayoutModel",
            "_view_count": null,
            "_view_module": "@jupyter-widgets/base",
            "_view_module_version": "1.2.0",
            "_view_name": "LayoutView",
            "align_content": null,
            "align_items": null,
            "align_self": null,
            "border": null,
            "bottom": null,
            "display": null,
            "flex": null,
            "flex_flow": null,
            "grid_area": null,
            "grid_auto_columns": null,
            "grid_auto_flow": null,
            "grid_auto_rows": null,
            "grid_column": null,
            "grid_gap": null,
            "grid_row": null,
            "grid_template_areas": null,
            "grid_template_columns": null,
            "grid_template_rows": null,
            "height": null,
            "justify_content": null,
            "justify_items": null,
            "left": null,
            "margin": null,
            "max_height": null,
            "max_width": null,
            "min_height": null,
            "min_width": null,
            "object_fit": null,
            "object_position": null,
            "order": null,
            "overflow": null,
            "overflow_x": null,
            "overflow_y": null,
            "padding": null,
            "right": null,
            "top": null,
            "visibility": null,
            "width": null
          }
        },
        "19da4adcd5e4492fa60299287fb802bb": {
          "model_module": "@jupyter-widgets/base",
          "model_name": "LayoutModel",
          "model_module_version": "1.2.0",
          "state": {
            "_model_module": "@jupyter-widgets/base",
            "_model_module_version": "1.2.0",
            "_model_name": "LayoutModel",
            "_view_count": null,
            "_view_module": "@jupyter-widgets/base",
            "_view_module_version": "1.2.0",
            "_view_name": "LayoutView",
            "align_content": null,
            "align_items": null,
            "align_self": null,
            "border": null,
            "bottom": null,
            "display": null,
            "flex": null,
            "flex_flow": null,
            "grid_area": null,
            "grid_auto_columns": null,
            "grid_auto_flow": null,
            "grid_auto_rows": null,
            "grid_column": null,
            "grid_gap": null,
            "grid_row": null,
            "grid_template_areas": null,
            "grid_template_columns": null,
            "grid_template_rows": null,
            "height": null,
            "justify_content": null,
            "justify_items": null,
            "left": null,
            "margin": null,
            "max_height": null,
            "max_width": null,
            "min_height": null,
            "min_width": null,
            "object_fit": null,
            "object_position": null,
            "order": null,
            "overflow": null,
            "overflow_x": null,
            "overflow_y": null,
            "padding": null,
            "right": null,
            "top": null,
            "visibility": null,
            "width": null
          }
        },
        "5805dfd0c3eb4d9f9335fd6dfe28c648": {
          "model_module": "@jupyter-widgets/controls",
          "model_name": "DescriptionStyleModel",
          "model_module_version": "1.5.0",
          "state": {
            "_model_module": "@jupyter-widgets/controls",
            "_model_module_version": "1.5.0",
            "_model_name": "DescriptionStyleModel",
            "_view_count": null,
            "_view_module": "@jupyter-widgets/base",
            "_view_module_version": "1.2.0",
            "_view_name": "StyleView",
            "description_width": ""
          }
        },
        "bd892c0e4c6c4f96acfddf11e1057c56": {
          "model_module": "@jupyter-widgets/base",
          "model_name": "LayoutModel",
          "model_module_version": "1.2.0",
          "state": {
            "_model_module": "@jupyter-widgets/base",
            "_model_module_version": "1.2.0",
            "_model_name": "LayoutModel",
            "_view_count": null,
            "_view_module": "@jupyter-widgets/base",
            "_view_module_version": "1.2.0",
            "_view_name": "LayoutView",
            "align_content": null,
            "align_items": null,
            "align_self": null,
            "border": null,
            "bottom": null,
            "display": null,
            "flex": null,
            "flex_flow": null,
            "grid_area": null,
            "grid_auto_columns": null,
            "grid_auto_flow": null,
            "grid_auto_rows": null,
            "grid_column": null,
            "grid_gap": null,
            "grid_row": null,
            "grid_template_areas": null,
            "grid_template_columns": null,
            "grid_template_rows": null,
            "height": null,
            "justify_content": null,
            "justify_items": null,
            "left": null,
            "margin": null,
            "max_height": null,
            "max_width": null,
            "min_height": null,
            "min_width": null,
            "object_fit": null,
            "object_position": null,
            "order": null,
            "overflow": null,
            "overflow_x": null,
            "overflow_y": null,
            "padding": null,
            "right": null,
            "top": null,
            "visibility": null,
            "width": null
          }
        },
        "869c128ac14b4393a2707123d88b09b8": {
          "model_module": "@jupyter-widgets/controls",
          "model_name": "ProgressStyleModel",
          "model_module_version": "1.5.0",
          "state": {
            "_model_module": "@jupyter-widgets/controls",
            "_model_module_version": "1.5.0",
            "_model_name": "ProgressStyleModel",
            "_view_count": null,
            "_view_module": "@jupyter-widgets/base",
            "_view_module_version": "1.2.0",
            "_view_name": "StyleView",
            "bar_color": null,
            "description_width": ""
          }
        },
        "01158128664f49508f21a500997c73a2": {
          "model_module": "@jupyter-widgets/base",
          "model_name": "LayoutModel",
          "model_module_version": "1.2.0",
          "state": {
            "_model_module": "@jupyter-widgets/base",
            "_model_module_version": "1.2.0",
            "_model_name": "LayoutModel",
            "_view_count": null,
            "_view_module": "@jupyter-widgets/base",
            "_view_module_version": "1.2.0",
            "_view_name": "LayoutView",
            "align_content": null,
            "align_items": null,
            "align_self": null,
            "border": null,
            "bottom": null,
            "display": null,
            "flex": null,
            "flex_flow": null,
            "grid_area": null,
            "grid_auto_columns": null,
            "grid_auto_flow": null,
            "grid_auto_rows": null,
            "grid_column": null,
            "grid_gap": null,
            "grid_row": null,
            "grid_template_areas": null,
            "grid_template_columns": null,
            "grid_template_rows": null,
            "height": null,
            "justify_content": null,
            "justify_items": null,
            "left": null,
            "margin": null,
            "max_height": null,
            "max_width": null,
            "min_height": null,
            "min_width": null,
            "object_fit": null,
            "object_position": null,
            "order": null,
            "overflow": null,
            "overflow_x": null,
            "overflow_y": null,
            "padding": null,
            "right": null,
            "top": null,
            "visibility": null,
            "width": null
          }
        },
        "2c09eda1180b45cbad53dfc3a272a9dd": {
          "model_module": "@jupyter-widgets/controls",
          "model_name": "DescriptionStyleModel",
          "model_module_version": "1.5.0",
          "state": {
            "_model_module": "@jupyter-widgets/controls",
            "_model_module_version": "1.5.0",
            "_model_name": "DescriptionStyleModel",
            "_view_count": null,
            "_view_module": "@jupyter-widgets/base",
            "_view_module_version": "1.2.0",
            "_view_name": "StyleView",
            "description_width": ""
          }
        },
        "6eae3d4c590c43eb931a2d60866c53f4": {
          "model_module": "@jupyter-widgets/controls",
          "model_name": "HBoxModel",
          "model_module_version": "1.5.0",
          "state": {
            "_dom_classes": [],
            "_model_module": "@jupyter-widgets/controls",
            "_model_module_version": "1.5.0",
            "_model_name": "HBoxModel",
            "_view_count": null,
            "_view_module": "@jupyter-widgets/controls",
            "_view_module_version": "1.5.0",
            "_view_name": "HBoxView",
            "box_style": "",
            "children": [
              "IPY_MODEL_32f1e9c4549a40d9b395b11b9b723874",
              "IPY_MODEL_5175ec5f433f46548345927911a9346d",
              "IPY_MODEL_c588d8ee862a4351b4254ea66a96fe38"
            ],
            "layout": "IPY_MODEL_fb0aa8d0250a434a913d0262d867675c"
          }
        },
        "32f1e9c4549a40d9b395b11b9b723874": {
          "model_module": "@jupyter-widgets/controls",
          "model_name": "HTMLModel",
          "model_module_version": "1.5.0",
          "state": {
            "_dom_classes": [],
            "_model_module": "@jupyter-widgets/controls",
            "_model_module_version": "1.5.0",
            "_model_name": "HTMLModel",
            "_view_count": null,
            "_view_module": "@jupyter-widgets/controls",
            "_view_module_version": "1.5.0",
            "_view_name": "HTMLView",
            "description": "",
            "description_tooltip": null,
            "layout": "IPY_MODEL_3668a5e057bd4b66a72bcfce449ca6d2",
            "placeholder": "​",
            "style": "IPY_MODEL_311427d21b0a42ae8263d1801bd9793e",
            "value": "tokenizer.json: 100%"
          }
        },
        "5175ec5f433f46548345927911a9346d": {
          "model_module": "@jupyter-widgets/controls",
          "model_name": "FloatProgressModel",
          "model_module_version": "1.5.0",
          "state": {
            "_dom_classes": [],
            "_model_module": "@jupyter-widgets/controls",
            "_model_module_version": "1.5.0",
            "_model_name": "FloatProgressModel",
            "_view_count": null,
            "_view_module": "@jupyter-widgets/controls",
            "_view_module_version": "1.5.0",
            "_view_name": "ProgressView",
            "bar_style": "success",
            "description": "",
            "description_tooltip": null,
            "layout": "IPY_MODEL_ea8ec93eaca342d587997332234abae2",
            "max": 735280,
            "min": 0,
            "orientation": "horizontal",
            "style": "IPY_MODEL_496354462ce94f1ba3b685fa814110ba",
            "value": 735280
          }
        },
        "c588d8ee862a4351b4254ea66a96fe38": {
          "model_module": "@jupyter-widgets/controls",
          "model_name": "HTMLModel",
          "model_module_version": "1.5.0",
          "state": {
            "_dom_classes": [],
            "_model_module": "@jupyter-widgets/controls",
            "_model_module_version": "1.5.0",
            "_model_name": "HTMLModel",
            "_view_count": null,
            "_view_module": "@jupyter-widgets/controls",
            "_view_module_version": "1.5.0",
            "_view_name": "HTMLView",
            "description": "",
            "description_tooltip": null,
            "layout": "IPY_MODEL_e9d4afe0d8af4eca826b22ad35fdbec8",
            "placeholder": "​",
            "style": "IPY_MODEL_738c47d048eb4ea0be9e47598fe0c8e1",
            "value": " 735k/735k [00:00&lt;00:00, 40.9MB/s]"
          }
        },
        "fb0aa8d0250a434a913d0262d867675c": {
          "model_module": "@jupyter-widgets/base",
          "model_name": "LayoutModel",
          "model_module_version": "1.2.0",
          "state": {
            "_model_module": "@jupyter-widgets/base",
            "_model_module_version": "1.2.0",
            "_model_name": "LayoutModel",
            "_view_count": null,
            "_view_module": "@jupyter-widgets/base",
            "_view_module_version": "1.2.0",
            "_view_name": "LayoutView",
            "align_content": null,
            "align_items": null,
            "align_self": null,
            "border": null,
            "bottom": null,
            "display": null,
            "flex": null,
            "flex_flow": null,
            "grid_area": null,
            "grid_auto_columns": null,
            "grid_auto_flow": null,
            "grid_auto_rows": null,
            "grid_column": null,
            "grid_gap": null,
            "grid_row": null,
            "grid_template_areas": null,
            "grid_template_columns": null,
            "grid_template_rows": null,
            "height": null,
            "justify_content": null,
            "justify_items": null,
            "left": null,
            "margin": null,
            "max_height": null,
            "max_width": null,
            "min_height": null,
            "min_width": null,
            "object_fit": null,
            "object_position": null,
            "order": null,
            "overflow": null,
            "overflow_x": null,
            "overflow_y": null,
            "padding": null,
            "right": null,
            "top": null,
            "visibility": null,
            "width": null
          }
        },
        "3668a5e057bd4b66a72bcfce449ca6d2": {
          "model_module": "@jupyter-widgets/base",
          "model_name": "LayoutModel",
          "model_module_version": "1.2.0",
          "state": {
            "_model_module": "@jupyter-widgets/base",
            "_model_module_version": "1.2.0",
            "_model_name": "LayoutModel",
            "_view_count": null,
            "_view_module": "@jupyter-widgets/base",
            "_view_module_version": "1.2.0",
            "_view_name": "LayoutView",
            "align_content": null,
            "align_items": null,
            "align_self": null,
            "border": null,
            "bottom": null,
            "display": null,
            "flex": null,
            "flex_flow": null,
            "grid_area": null,
            "grid_auto_columns": null,
            "grid_auto_flow": null,
            "grid_auto_rows": null,
            "grid_column": null,
            "grid_gap": null,
            "grid_row": null,
            "grid_template_areas": null,
            "grid_template_columns": null,
            "grid_template_rows": null,
            "height": null,
            "justify_content": null,
            "justify_items": null,
            "left": null,
            "margin": null,
            "max_height": null,
            "max_width": null,
            "min_height": null,
            "min_width": null,
            "object_fit": null,
            "object_position": null,
            "order": null,
            "overflow": null,
            "overflow_x": null,
            "overflow_y": null,
            "padding": null,
            "right": null,
            "top": null,
            "visibility": null,
            "width": null
          }
        },
        "311427d21b0a42ae8263d1801bd9793e": {
          "model_module": "@jupyter-widgets/controls",
          "model_name": "DescriptionStyleModel",
          "model_module_version": "1.5.0",
          "state": {
            "_model_module": "@jupyter-widgets/controls",
            "_model_module_version": "1.5.0",
            "_model_name": "DescriptionStyleModel",
            "_view_count": null,
            "_view_module": "@jupyter-widgets/base",
            "_view_module_version": "1.2.0",
            "_view_name": "StyleView",
            "description_width": ""
          }
        },
        "ea8ec93eaca342d587997332234abae2": {
          "model_module": "@jupyter-widgets/base",
          "model_name": "LayoutModel",
          "model_module_version": "1.2.0",
          "state": {
            "_model_module": "@jupyter-widgets/base",
            "_model_module_version": "1.2.0",
            "_model_name": "LayoutModel",
            "_view_count": null,
            "_view_module": "@jupyter-widgets/base",
            "_view_module_version": "1.2.0",
            "_view_name": "LayoutView",
            "align_content": null,
            "align_items": null,
            "align_self": null,
            "border": null,
            "bottom": null,
            "display": null,
            "flex": null,
            "flex_flow": null,
            "grid_area": null,
            "grid_auto_columns": null,
            "grid_auto_flow": null,
            "grid_auto_rows": null,
            "grid_column": null,
            "grid_gap": null,
            "grid_row": null,
            "grid_template_areas": null,
            "grid_template_columns": null,
            "grid_template_rows": null,
            "height": null,
            "justify_content": null,
            "justify_items": null,
            "left": null,
            "margin": null,
            "max_height": null,
            "max_width": null,
            "min_height": null,
            "min_width": null,
            "object_fit": null,
            "object_position": null,
            "order": null,
            "overflow": null,
            "overflow_x": null,
            "overflow_y": null,
            "padding": null,
            "right": null,
            "top": null,
            "visibility": null,
            "width": null
          }
        },
        "496354462ce94f1ba3b685fa814110ba": {
          "model_module": "@jupyter-widgets/controls",
          "model_name": "ProgressStyleModel",
          "model_module_version": "1.5.0",
          "state": {
            "_model_module": "@jupyter-widgets/controls",
            "_model_module_version": "1.5.0",
            "_model_name": "ProgressStyleModel",
            "_view_count": null,
            "_view_module": "@jupyter-widgets/base",
            "_view_module_version": "1.2.0",
            "_view_name": "StyleView",
            "bar_color": null,
            "description_width": ""
          }
        },
        "e9d4afe0d8af4eca826b22ad35fdbec8": {
          "model_module": "@jupyter-widgets/base",
          "model_name": "LayoutModel",
          "model_module_version": "1.2.0",
          "state": {
            "_model_module": "@jupyter-widgets/base",
            "_model_module_version": "1.2.0",
            "_model_name": "LayoutModel",
            "_view_count": null,
            "_view_module": "@jupyter-widgets/base",
            "_view_module_version": "1.2.0",
            "_view_name": "LayoutView",
            "align_content": null,
            "align_items": null,
            "align_self": null,
            "border": null,
            "bottom": null,
            "display": null,
            "flex": null,
            "flex_flow": null,
            "grid_area": null,
            "grid_auto_columns": null,
            "grid_auto_flow": null,
            "grid_auto_rows": null,
            "grid_column": null,
            "grid_gap": null,
            "grid_row": null,
            "grid_template_areas": null,
            "grid_template_columns": null,
            "grid_template_rows": null,
            "height": null,
            "justify_content": null,
            "justify_items": null,
            "left": null,
            "margin": null,
            "max_height": null,
            "max_width": null,
            "min_height": null,
            "min_width": null,
            "object_fit": null,
            "object_position": null,
            "order": null,
            "overflow": null,
            "overflow_x": null,
            "overflow_y": null,
            "padding": null,
            "right": null,
            "top": null,
            "visibility": null,
            "width": null
          }
        },
        "738c47d048eb4ea0be9e47598fe0c8e1": {
          "model_module": "@jupyter-widgets/controls",
          "model_name": "DescriptionStyleModel",
          "model_module_version": "1.5.0",
          "state": {
            "_model_module": "@jupyter-widgets/controls",
            "_model_module_version": "1.5.0",
            "_model_name": "DescriptionStyleModel",
            "_view_count": null,
            "_view_module": "@jupyter-widgets/base",
            "_view_module_version": "1.2.0",
            "_view_name": "StyleView",
            "description_width": ""
          }
        },
        "d403cc64720145c8ab7d924420ff26bf": {
          "model_module": "@jupyter-widgets/controls",
          "model_name": "HBoxModel",
          "model_module_version": "1.5.0",
          "state": {
            "_dom_classes": [],
            "_model_module": "@jupyter-widgets/controls",
            "_model_module_version": "1.5.0",
            "_model_name": "HBoxModel",
            "_view_count": null,
            "_view_module": "@jupyter-widgets/controls",
            "_view_module_version": "1.5.0",
            "_view_name": "HBoxView",
            "box_style": "",
            "children": [
              "IPY_MODEL_8528d9a66be949cb9102744e595a8d1b",
              "IPY_MODEL_4c6cf67c407644ccbeec3a5a9c178d52",
              "IPY_MODEL_55ab422c2ddc49249d4034ac8eaf7d2f"
            ],
            "layout": "IPY_MODEL_69af1f3931354c25a3a80ec5e277688b"
          }
        },
        "8528d9a66be949cb9102744e595a8d1b": {
          "model_module": "@jupyter-widgets/controls",
          "model_name": "HTMLModel",
          "model_module_version": "1.5.0",
          "state": {
            "_dom_classes": [],
            "_model_module": "@jupyter-widgets/controls",
            "_model_module_version": "1.5.0",
            "_model_name": "HTMLModel",
            "_view_count": null,
            "_view_module": "@jupyter-widgets/controls",
            "_view_module_version": "1.5.0",
            "_view_name": "HTMLView",
            "description": "",
            "description_tooltip": null,
            "layout": "IPY_MODEL_ba5e2c73bfa0426f95f83920eae896c0",
            "placeholder": "​",
            "style": "IPY_MODEL_bf89855aabce466da6b893dc8636b81a",
            "value": "special_tokens_map.json: 100%"
          }
        },
        "4c6cf67c407644ccbeec3a5a9c178d52": {
          "model_module": "@jupyter-widgets/controls",
          "model_name": "FloatProgressModel",
          "model_module_version": "1.5.0",
          "state": {
            "_dom_classes": [],
            "_model_module": "@jupyter-widgets/controls",
            "_model_module_version": "1.5.0",
            "_model_name": "FloatProgressModel",
            "_view_count": null,
            "_view_module": "@jupyter-widgets/controls",
            "_view_module_version": "1.5.0",
            "_view_name": "ProgressView",
            "bar_style": "success",
            "description": "",
            "description_tooltip": null,
            "layout": "IPY_MODEL_1df4509e37de4ebcabeb1282e36747cb",
            "max": 695,
            "min": 0,
            "orientation": "horizontal",
            "style": "IPY_MODEL_3b6fea28619a49d5a148d5d8b68a5e0a",
            "value": 695
          }
        },
        "55ab422c2ddc49249d4034ac8eaf7d2f": {
          "model_module": "@jupyter-widgets/controls",
          "model_name": "HTMLModel",
          "model_module_version": "1.5.0",
          "state": {
            "_dom_classes": [],
            "_model_module": "@jupyter-widgets/controls",
            "_model_module_version": "1.5.0",
            "_model_name": "HTMLModel",
            "_view_count": null,
            "_view_module": "@jupyter-widgets/controls",
            "_view_module_version": "1.5.0",
            "_view_name": "HTMLView",
            "description": "",
            "description_tooltip": null,
            "layout": "IPY_MODEL_cdbbdc086df54123b0841688b77ff7ac",
            "placeholder": "​",
            "style": "IPY_MODEL_4f6eb2e0cb1841dba358a033846b7c3c",
            "value": " 695/695 [00:00&lt;00:00, 48.3kB/s]"
          }
        },
        "69af1f3931354c25a3a80ec5e277688b": {
          "model_module": "@jupyter-widgets/base",
          "model_name": "LayoutModel",
          "model_module_version": "1.2.0",
          "state": {
            "_model_module": "@jupyter-widgets/base",
            "_model_module_version": "1.2.0",
            "_model_name": "LayoutModel",
            "_view_count": null,
            "_view_module": "@jupyter-widgets/base",
            "_view_module_version": "1.2.0",
            "_view_name": "LayoutView",
            "align_content": null,
            "align_items": null,
            "align_self": null,
            "border": null,
            "bottom": null,
            "display": null,
            "flex": null,
            "flex_flow": null,
            "grid_area": null,
            "grid_auto_columns": null,
            "grid_auto_flow": null,
            "grid_auto_rows": null,
            "grid_column": null,
            "grid_gap": null,
            "grid_row": null,
            "grid_template_areas": null,
            "grid_template_columns": null,
            "grid_template_rows": null,
            "height": null,
            "justify_content": null,
            "justify_items": null,
            "left": null,
            "margin": null,
            "max_height": null,
            "max_width": null,
            "min_height": null,
            "min_width": null,
            "object_fit": null,
            "object_position": null,
            "order": null,
            "overflow": null,
            "overflow_x": null,
            "overflow_y": null,
            "padding": null,
            "right": null,
            "top": null,
            "visibility": null,
            "width": null
          }
        },
        "ba5e2c73bfa0426f95f83920eae896c0": {
          "model_module": "@jupyter-widgets/base",
          "model_name": "LayoutModel",
          "model_module_version": "1.2.0",
          "state": {
            "_model_module": "@jupyter-widgets/base",
            "_model_module_version": "1.2.0",
            "_model_name": "LayoutModel",
            "_view_count": null,
            "_view_module": "@jupyter-widgets/base",
            "_view_module_version": "1.2.0",
            "_view_name": "LayoutView",
            "align_content": null,
            "align_items": null,
            "align_self": null,
            "border": null,
            "bottom": null,
            "display": null,
            "flex": null,
            "flex_flow": null,
            "grid_area": null,
            "grid_auto_columns": null,
            "grid_auto_flow": null,
            "grid_auto_rows": null,
            "grid_column": null,
            "grid_gap": null,
            "grid_row": null,
            "grid_template_areas": null,
            "grid_template_columns": null,
            "grid_template_rows": null,
            "height": null,
            "justify_content": null,
            "justify_items": null,
            "left": null,
            "margin": null,
            "max_height": null,
            "max_width": null,
            "min_height": null,
            "min_width": null,
            "object_fit": null,
            "object_position": null,
            "order": null,
            "overflow": null,
            "overflow_x": null,
            "overflow_y": null,
            "padding": null,
            "right": null,
            "top": null,
            "visibility": null,
            "width": null
          }
        },
        "bf89855aabce466da6b893dc8636b81a": {
          "model_module": "@jupyter-widgets/controls",
          "model_name": "DescriptionStyleModel",
          "model_module_version": "1.5.0",
          "state": {
            "_model_module": "@jupyter-widgets/controls",
            "_model_module_version": "1.5.0",
            "_model_name": "DescriptionStyleModel",
            "_view_count": null,
            "_view_module": "@jupyter-widgets/base",
            "_view_module_version": "1.2.0",
            "_view_name": "StyleView",
            "description_width": ""
          }
        },
        "1df4509e37de4ebcabeb1282e36747cb": {
          "model_module": "@jupyter-widgets/base",
          "model_name": "LayoutModel",
          "model_module_version": "1.2.0",
          "state": {
            "_model_module": "@jupyter-widgets/base",
            "_model_module_version": "1.2.0",
            "_model_name": "LayoutModel",
            "_view_count": null,
            "_view_module": "@jupyter-widgets/base",
            "_view_module_version": "1.2.0",
            "_view_name": "LayoutView",
            "align_content": null,
            "align_items": null,
            "align_self": null,
            "border": null,
            "bottom": null,
            "display": null,
            "flex": null,
            "flex_flow": null,
            "grid_area": null,
            "grid_auto_columns": null,
            "grid_auto_flow": null,
            "grid_auto_rows": null,
            "grid_column": null,
            "grid_gap": null,
            "grid_row": null,
            "grid_template_areas": null,
            "grid_template_columns": null,
            "grid_template_rows": null,
            "height": null,
            "justify_content": null,
            "justify_items": null,
            "left": null,
            "margin": null,
            "max_height": null,
            "max_width": null,
            "min_height": null,
            "min_width": null,
            "object_fit": null,
            "object_position": null,
            "order": null,
            "overflow": null,
            "overflow_x": null,
            "overflow_y": null,
            "padding": null,
            "right": null,
            "top": null,
            "visibility": null,
            "width": null
          }
        },
        "3b6fea28619a49d5a148d5d8b68a5e0a": {
          "model_module": "@jupyter-widgets/controls",
          "model_name": "ProgressStyleModel",
          "model_module_version": "1.5.0",
          "state": {
            "_model_module": "@jupyter-widgets/controls",
            "_model_module_version": "1.5.0",
            "_model_name": "ProgressStyleModel",
            "_view_count": null,
            "_view_module": "@jupyter-widgets/base",
            "_view_module_version": "1.2.0",
            "_view_name": "StyleView",
            "bar_color": null,
            "description_width": ""
          }
        },
        "cdbbdc086df54123b0841688b77ff7ac": {
          "model_module": "@jupyter-widgets/base",
          "model_name": "LayoutModel",
          "model_module_version": "1.2.0",
          "state": {
            "_model_module": "@jupyter-widgets/base",
            "_model_module_version": "1.2.0",
            "_model_name": "LayoutModel",
            "_view_count": null,
            "_view_module": "@jupyter-widgets/base",
            "_view_module_version": "1.2.0",
            "_view_name": "LayoutView",
            "align_content": null,
            "align_items": null,
            "align_self": null,
            "border": null,
            "bottom": null,
            "display": null,
            "flex": null,
            "flex_flow": null,
            "grid_area": null,
            "grid_auto_columns": null,
            "grid_auto_flow": null,
            "grid_auto_rows": null,
            "grid_column": null,
            "grid_gap": null,
            "grid_row": null,
            "grid_template_areas": null,
            "grid_template_columns": null,
            "grid_template_rows": null,
            "height": null,
            "justify_content": null,
            "justify_items": null,
            "left": null,
            "margin": null,
            "max_height": null,
            "max_width": null,
            "min_height": null,
            "min_width": null,
            "object_fit": null,
            "object_position": null,
            "order": null,
            "overflow": null,
            "overflow_x": null,
            "overflow_y": null,
            "padding": null,
            "right": null,
            "top": null,
            "visibility": null,
            "width": null
          }
        },
        "4f6eb2e0cb1841dba358a033846b7c3c": {
          "model_module": "@jupyter-widgets/controls",
          "model_name": "DescriptionStyleModel",
          "model_module_version": "1.5.0",
          "state": {
            "_model_module": "@jupyter-widgets/controls",
            "_model_module_version": "1.5.0",
            "_model_name": "DescriptionStyleModel",
            "_view_count": null,
            "_view_module": "@jupyter-widgets/base",
            "_view_module_version": "1.2.0",
            "_view_name": "StyleView",
            "description_width": ""
          }
        }
      }
    }
  },
  "cells": [
    {
      "cell_type": "code",
      "execution_count": null,
      "metadata": {
        "colab": {
          "base_uri": "https://localhost:8080/"
        },
        "id": "1sAdhLjS09N5",
        "outputId": "269045a5-af22-4017-ffff-484b2953c6a0"
      },
      "outputs": [
        {
          "output_type": "stream",
          "name": "stdout",
          "text": [
            "fatal: cannot change to 'ColBERT/': No such file or directory\n",
            "Cloning into 'ColBERT'...\n",
            "remote: Enumerating objects: 2662, done.\u001b[K\n",
            "remote: Counting objects: 100% (1175/1175), done.\u001b[K\n",
            "remote: Compressing objects: 100% (359/359), done.\u001b[K\n",
            "remote: Total 2662 (delta 918), reused 864 (delta 816), pack-reused 1487\u001b[K\n",
            "Receiving objects: 100% (2662/2662), 2.03 MiB | 26.67 MiB/s, done.\n",
            "Resolving deltas: 100% (1671/1671), done.\n"
          ]
        }
      ],
      "source": [
        "!git -C ColBERT/ pull || git clone https://github.com/stanford-futuredata/ColBERT.git\n",
        "import sys; sys.path.insert(0, 'ColBERT/')"
      ]
    },
    {
      "cell_type": "code",
      "source": [
        "try: # When on google Colab, let's install all dependencies with pip.\n",
        "    import google.colab\n",
        "    !pip install -U pip\n",
        "    !pip install -e ColBERT/['faiss-gpu','torch']\n",
        "    !mkdir ./Training\n",
        "except Exception:\n",
        "  import sys; sys.path.insert(0, 'ColBERT/')\n",
        "  try:\n",
        "    from colbert import Indexer, Searcher\n",
        "  except Exception:\n",
        "    print(\"If you're running outside Colab, please make sure you install ColBERT in conda following the instructions in our README. You can also install (as above) with pip but it may install slower or less stable faiss or torch dependencies. Conda is recommended.\")\n",
        "    assert False"
      ],
      "metadata": {
        "colab": {
          "base_uri": "https://localhost:8080/"
        },
        "id": "He-lH8nB1ScF",
        "outputId": "be5844eb-7924-4509-b3d8-b30a8cac9502"
      },
      "execution_count": null,
      "outputs": [
        {
          "output_type": "stream",
          "name": "stdout",
          "text": [
            "Requirement already satisfied: pip in /usr/local/lib/python3.10/dist-packages (23.1.2)\n",
            "Collecting pip\n",
            "  Downloading pip-24.0-py3-none-any.whl (2.1 MB)\n",
            "\u001b[2K     \u001b[90m━━━━━━━━━━━━━━━━━━━━━━━━━━━━━━━━━━━━━━━━\u001b[0m \u001b[32m2.1/2.1 MB\u001b[0m \u001b[31m28.7 MB/s\u001b[0m eta \u001b[36m0:00:00\u001b[0m\n",
            "\u001b[?25hInstalling collected packages: pip\n",
            "  Attempting uninstall: pip\n",
            "    Found existing installation: pip 23.1.2\n",
            "    Uninstalling pip-23.1.2:\n",
            "      Successfully uninstalled pip-23.1.2\n",
            "Successfully installed pip-24.0\n",
            "Obtaining file:///content/ColBERT\n",
            "  Preparing metadata (setup.py) ... \u001b[?25l\u001b[?25hdone\n",
            "Collecting bitarray (from colbert-ai==0.2.19)\n",
            "  Downloading bitarray-2.9.2-cp310-cp310-manylinux_2_17_x86_64.manylinux2014_x86_64.whl.metadata (34 kB)\n",
            "Collecting datasets (from colbert-ai==0.2.19)\n",
            "  Downloading datasets-2.17.1-py3-none-any.whl.metadata (20 kB)\n",
            "Requirement already satisfied: flask in /usr/local/lib/python3.10/dist-packages (from colbert-ai==0.2.19) (2.2.5)\n",
            "Collecting git-python (from colbert-ai==0.2.19)\n",
            "  Downloading git_python-1.0.3-py2.py3-none-any.whl (1.9 kB)\n",
            "Collecting python-dotenv (from colbert-ai==0.2.19)\n",
            "  Downloading python_dotenv-1.0.1-py3-none-any.whl.metadata (23 kB)\n",
            "Collecting ninja (from colbert-ai==0.2.19)\n",
            "  Downloading ninja-1.11.1.1-py2.py3-none-manylinux1_x86_64.manylinux_2_5_x86_64.whl.metadata (5.3 kB)\n",
            "Requirement already satisfied: scipy in /usr/local/lib/python3.10/dist-packages (from colbert-ai==0.2.19) (1.11.4)\n",
            "Requirement already satisfied: tqdm in /usr/local/lib/python3.10/dist-packages (from colbert-ai==0.2.19) (4.66.2)\n",
            "Requirement already satisfied: transformers in /usr/local/lib/python3.10/dist-packages (from colbert-ai==0.2.19) (4.37.2)\n",
            "Collecting ujson (from colbert-ai==0.2.19)\n",
            "  Downloading ujson-5.9.0-cp310-cp310-manylinux_2_17_x86_64.manylinux2014_x86_64.whl.metadata (8.7 kB)\n",
            "Collecting faiss-gpu>=1.7.0 (from colbert-ai==0.2.19)\n",
            "  Downloading faiss_gpu-1.7.2-cp310-cp310-manylinux_2_17_x86_64.manylinux2014_x86_64.whl.metadata (1.4 kB)\n",
            "Collecting torch==1.13.1 (from colbert-ai==0.2.19)\n",
            "  Downloading torch-1.13.1-cp310-cp310-manylinux1_x86_64.whl.metadata (24 kB)\n",
            "Requirement already satisfied: typing-extensions in /usr/local/lib/python3.10/dist-packages (from torch==1.13.1->colbert-ai==0.2.19) (4.9.0)\n",
            "Collecting nvidia-cuda-runtime-cu11==11.7.99 (from torch==1.13.1->colbert-ai==0.2.19)\n",
            "  Downloading nvidia_cuda_runtime_cu11-11.7.99-py3-none-manylinux1_x86_64.whl.metadata (1.6 kB)\n",
            "Collecting nvidia-cudnn-cu11==8.5.0.96 (from torch==1.13.1->colbert-ai==0.2.19)\n",
            "  Downloading nvidia_cudnn_cu11-8.5.0.96-2-py3-none-manylinux1_x86_64.whl.metadata (1.6 kB)\n",
            "Collecting nvidia-cublas-cu11==11.10.3.66 (from torch==1.13.1->colbert-ai==0.2.19)\n",
            "  Downloading nvidia_cublas_cu11-11.10.3.66-py3-none-manylinux1_x86_64.whl.metadata (1.6 kB)\n",
            "Collecting nvidia-cuda-nvrtc-cu11==11.7.99 (from torch==1.13.1->colbert-ai==0.2.19)\n",
            "  Downloading nvidia_cuda_nvrtc_cu11-11.7.99-2-py3-none-manylinux1_x86_64.whl.metadata (1.5 kB)\n",
            "Requirement already satisfied: setuptools in /usr/local/lib/python3.10/dist-packages (from nvidia-cublas-cu11==11.10.3.66->torch==1.13.1->colbert-ai==0.2.19) (67.7.2)\n",
            "Requirement already satisfied: wheel in /usr/local/lib/python3.10/dist-packages (from nvidia-cublas-cu11==11.10.3.66->torch==1.13.1->colbert-ai==0.2.19) (0.42.0)\n",
            "Requirement already satisfied: filelock in /usr/local/lib/python3.10/dist-packages (from datasets->colbert-ai==0.2.19) (3.13.1)\n",
            "Requirement already satisfied: numpy>=1.17 in /usr/local/lib/python3.10/dist-packages (from datasets->colbert-ai==0.2.19) (1.25.2)\n",
            "Requirement already satisfied: pyarrow>=12.0.0 in /usr/local/lib/python3.10/dist-packages (from datasets->colbert-ai==0.2.19) (14.0.2)\n",
            "Requirement already satisfied: pyarrow-hotfix in /usr/local/lib/python3.10/dist-packages (from datasets->colbert-ai==0.2.19) (0.6)\n",
            "Collecting dill<0.3.9,>=0.3.0 (from datasets->colbert-ai==0.2.19)\n",
            "  Downloading dill-0.3.8-py3-none-any.whl.metadata (10 kB)\n",
            "Requirement already satisfied: pandas in /usr/local/lib/python3.10/dist-packages (from datasets->colbert-ai==0.2.19) (1.5.3)\n",
            "Requirement already satisfied: requests>=2.19.0 in /usr/local/lib/python3.10/dist-packages (from datasets->colbert-ai==0.2.19) (2.31.0)\n",
            "Requirement already satisfied: xxhash in /usr/local/lib/python3.10/dist-packages (from datasets->colbert-ai==0.2.19) (3.4.1)\n",
            "Collecting multiprocess (from datasets->colbert-ai==0.2.19)\n",
            "  Downloading multiprocess-0.70.16-py310-none-any.whl.metadata (7.2 kB)\n",
            "Requirement already satisfied: fsspec<=2023.10.0,>=2023.1.0 in /usr/local/lib/python3.10/dist-packages (from fsspec[http]<=2023.10.0,>=2023.1.0->datasets->colbert-ai==0.2.19) (2023.6.0)\n",
            "Requirement already satisfied: aiohttp in /usr/local/lib/python3.10/dist-packages (from datasets->colbert-ai==0.2.19) (3.9.3)\n",
            "Requirement already satisfied: huggingface-hub>=0.19.4 in /usr/local/lib/python3.10/dist-packages (from datasets->colbert-ai==0.2.19) (0.20.3)\n",
            "Requirement already satisfied: packaging in /usr/local/lib/python3.10/dist-packages (from datasets->colbert-ai==0.2.19) (23.2)\n",
            "Requirement already satisfied: pyyaml>=5.1 in /usr/local/lib/python3.10/dist-packages (from datasets->colbert-ai==0.2.19) (6.0.1)\n",
            "Requirement already satisfied: Werkzeug>=2.2.2 in /usr/local/lib/python3.10/dist-packages (from flask->colbert-ai==0.2.19) (3.0.1)\n",
            "Requirement already satisfied: Jinja2>=3.0 in /usr/local/lib/python3.10/dist-packages (from flask->colbert-ai==0.2.19) (3.1.3)\n",
            "Requirement already satisfied: itsdangerous>=2.0 in /usr/local/lib/python3.10/dist-packages (from flask->colbert-ai==0.2.19) (2.1.2)\n",
            "Requirement already satisfied: click>=8.0 in /usr/local/lib/python3.10/dist-packages (from flask->colbert-ai==0.2.19) (8.1.7)\n",
            "Collecting gitpython (from git-python->colbert-ai==0.2.19)\n",
            "  Downloading GitPython-3.1.42-py3-none-any.whl.metadata (12 kB)\n",
            "Requirement already satisfied: regex!=2019.12.17 in /usr/local/lib/python3.10/dist-packages (from transformers->colbert-ai==0.2.19) (2023.12.25)\n",
            "Requirement already satisfied: tokenizers<0.19,>=0.14 in /usr/local/lib/python3.10/dist-packages (from transformers->colbert-ai==0.2.19) (0.15.2)\n",
            "Requirement already satisfied: safetensors>=0.4.1 in /usr/local/lib/python3.10/dist-packages (from transformers->colbert-ai==0.2.19) (0.4.2)\n",
            "Requirement already satisfied: aiosignal>=1.1.2 in /usr/local/lib/python3.10/dist-packages (from aiohttp->datasets->colbert-ai==0.2.19) (1.3.1)\n",
            "Requirement already satisfied: attrs>=17.3.0 in /usr/local/lib/python3.10/dist-packages (from aiohttp->datasets->colbert-ai==0.2.19) (23.2.0)\n",
            "Requirement already satisfied: frozenlist>=1.1.1 in /usr/local/lib/python3.10/dist-packages (from aiohttp->datasets->colbert-ai==0.2.19) (1.4.1)\n",
            "Requirement already satisfied: multidict<7.0,>=4.5 in /usr/local/lib/python3.10/dist-packages (from aiohttp->datasets->colbert-ai==0.2.19) (6.0.5)\n",
            "Requirement already satisfied: yarl<2.0,>=1.0 in /usr/local/lib/python3.10/dist-packages (from aiohttp->datasets->colbert-ai==0.2.19) (1.9.4)\n",
            "Requirement already satisfied: async-timeout<5.0,>=4.0 in /usr/local/lib/python3.10/dist-packages (from aiohttp->datasets->colbert-ai==0.2.19) (4.0.3)\n",
            "Requirement already satisfied: MarkupSafe>=2.0 in /usr/local/lib/python3.10/dist-packages (from Jinja2>=3.0->flask->colbert-ai==0.2.19) (2.1.5)\n",
            "Requirement already satisfied: charset-normalizer<4,>=2 in /usr/local/lib/python3.10/dist-packages (from requests>=2.19.0->datasets->colbert-ai==0.2.19) (3.3.2)\n",
            "Requirement already satisfied: idna<4,>=2.5 in /usr/local/lib/python3.10/dist-packages (from requests>=2.19.0->datasets->colbert-ai==0.2.19) (3.6)\n",
            "Requirement already satisfied: urllib3<3,>=1.21.1 in /usr/local/lib/python3.10/dist-packages (from requests>=2.19.0->datasets->colbert-ai==0.2.19) (2.0.7)\n",
            "Requirement already satisfied: certifi>=2017.4.17 in /usr/local/lib/python3.10/dist-packages (from requests>=2.19.0->datasets->colbert-ai==0.2.19) (2024.2.2)\n",
            "Collecting gitdb<5,>=4.0.1 (from gitpython->git-python->colbert-ai==0.2.19)\n",
            "  Downloading gitdb-4.0.11-py3-none-any.whl.metadata (1.2 kB)\n",
            "Requirement already satisfied: python-dateutil>=2.8.1 in /usr/local/lib/python3.10/dist-packages (from pandas->datasets->colbert-ai==0.2.19) (2.8.2)\n",
            "Requirement already satisfied: pytz>=2020.1 in /usr/local/lib/python3.10/dist-packages (from pandas->datasets->colbert-ai==0.2.19) (2023.4)\n",
            "Collecting smmap<6,>=3.0.1 (from gitdb<5,>=4.0.1->gitpython->git-python->colbert-ai==0.2.19)\n",
            "  Downloading smmap-5.0.1-py3-none-any.whl.metadata (4.3 kB)\n",
            "Requirement already satisfied: six>=1.5 in /usr/local/lib/python3.10/dist-packages (from python-dateutil>=2.8.1->pandas->datasets->colbert-ai==0.2.19) (1.16.0)\n",
            "Downloading torch-1.13.1-cp310-cp310-manylinux1_x86_64.whl (887.5 MB)\n",
            "\u001b[2K   \u001b[90m━━━━━━━━━━━━━━━━━━━━━━━━━━━━━━━━━━━━━━━━\u001b[0m \u001b[32m887.5/887.5 MB\u001b[0m \u001b[31m1.5 MB/s\u001b[0m eta \u001b[36m0:00:00\u001b[0m\n",
            "\u001b[?25hDownloading nvidia_cublas_cu11-11.10.3.66-py3-none-manylinux1_x86_64.whl (317.1 MB)\n",
            "\u001b[2K   \u001b[90m━━━━━━━━━━━━━━━━━━━━━━━━━━━━━━━━━━━━━━━━\u001b[0m \u001b[32m317.1/317.1 MB\u001b[0m \u001b[31m4.1 MB/s\u001b[0m eta \u001b[36m0:00:00\u001b[0m\n",
            "\u001b[?25hDownloading nvidia_cuda_nvrtc_cu11-11.7.99-2-py3-none-manylinux1_x86_64.whl (21.0 MB)\n",
            "\u001b[2K   \u001b[90m━━━━━━━━━━━━━━━━━━━━━━━━━━━━━━━━━━━━━━━━\u001b[0m \u001b[32m21.0/21.0 MB\u001b[0m \u001b[31m35.3 MB/s\u001b[0m eta \u001b[36m0:00:00\u001b[0m\n",
            "\u001b[?25hDownloading nvidia_cuda_runtime_cu11-11.7.99-py3-none-manylinux1_x86_64.whl (849 kB)\n",
            "\u001b[2K   \u001b[90m━━━━━━━━━━━━━━━━━━━━━━━━━━━━━━━━━━━━━━━━\u001b[0m \u001b[32m849.3/849.3 kB\u001b[0m \u001b[31m57.0 MB/s\u001b[0m eta \u001b[36m0:00:00\u001b[0m\n",
            "\u001b[?25hDownloading nvidia_cudnn_cu11-8.5.0.96-2-py3-none-manylinux1_x86_64.whl (557.1 MB)\n",
            "\u001b[2K   \u001b[90m━━━━━━━━━━━━━━━━━━━━━━━━━━━━━━━━━━━━━━━━\u001b[0m \u001b[32m557.1/557.1 MB\u001b[0m \u001b[31m2.1 MB/s\u001b[0m eta \u001b[36m0:00:00\u001b[0m\n",
            "\u001b[?25hDownloading faiss_gpu-1.7.2-cp310-cp310-manylinux_2_17_x86_64.manylinux2014_x86_64.whl (85.5 MB)\n",
            "\u001b[2K   \u001b[90m━━━━━━━━━━━━━━━━━━━━━━━━━━━━━━━━━━━━━━━━\u001b[0m \u001b[32m85.5/85.5 MB\u001b[0m \u001b[31m24.0 MB/s\u001b[0m eta \u001b[36m0:00:00\u001b[0m\n",
            "\u001b[?25hDownloading bitarray-2.9.2-cp310-cp310-manylinux_2_17_x86_64.manylinux2014_x86_64.whl (288 kB)\n",
            "\u001b[2K   \u001b[90m━━━━━━━━━━━━━━━━━━━━━━━━━━━━━━━━━━━━━━━━\u001b[0m \u001b[32m288.3/288.3 kB\u001b[0m \u001b[31m24.3 MB/s\u001b[0m eta \u001b[36m0:00:00\u001b[0m\n",
            "\u001b[?25hDownloading datasets-2.17.1-py3-none-any.whl (536 kB)\n",
            "\u001b[2K   \u001b[90m━━━━━━━━━━━━━━━━━━━━━━━━━━━━━━━━━━━━━━━━\u001b[0m \u001b[32m536.7/536.7 kB\u001b[0m \u001b[31m39.3 MB/s\u001b[0m eta \u001b[36m0:00:00\u001b[0m\n",
            "\u001b[?25hDownloading ninja-1.11.1.1-py2.py3-none-manylinux1_x86_64.manylinux_2_5_x86_64.whl (307 kB)\n",
            "\u001b[2K   \u001b[90m━━━━━━━━━━━━━━━━━━━━━━━━━━━━━━━━━━━━━━━━\u001b[0m \u001b[32m307.2/307.2 kB\u001b[0m \u001b[31m26.7 MB/s\u001b[0m eta \u001b[36m0:00:00\u001b[0m\n",
            "\u001b[?25hDownloading python_dotenv-1.0.1-py3-none-any.whl (19 kB)\n",
            "Downloading ujson-5.9.0-cp310-cp310-manylinux_2_17_x86_64.manylinux2014_x86_64.whl (53 kB)\n",
            "\u001b[2K   \u001b[90m━━━━━━━━━━━━━━━━━━━━━━━━━━━━━━━━━━━━━━━━\u001b[0m \u001b[32m53.2/53.2 kB\u001b[0m \u001b[31m4.7 MB/s\u001b[0m eta \u001b[36m0:00:00\u001b[0m\n",
            "\u001b[?25hDownloading dill-0.3.8-py3-none-any.whl (116 kB)\n",
            "\u001b[2K   \u001b[90m━━━━━━━━━━━━━━━━━━━━━━━━━━━━━━━━━━━━━━━━\u001b[0m \u001b[32m116.3/116.3 kB\u001b[0m \u001b[31m11.2 MB/s\u001b[0m eta \u001b[36m0:00:00\u001b[0m\n",
            "\u001b[?25hDownloading GitPython-3.1.42-py3-none-any.whl (195 kB)\n",
            "\u001b[2K   \u001b[90m━━━━━━━━━━━━━━━━━━━━━━━━━━━━━━━━━━━━━━━━\u001b[0m \u001b[32m195.4/195.4 kB\u001b[0m \u001b[31m18.7 MB/s\u001b[0m eta \u001b[36m0:00:00\u001b[0m\n",
            "\u001b[?25hDownloading multiprocess-0.70.16-py310-none-any.whl (134 kB)\n",
            "\u001b[2K   \u001b[90m━━━━━━━━━━━━━━━━━━━━━━━━━━━━━━━━━━━━━━━━\u001b[0m \u001b[32m134.8/134.8 kB\u001b[0m \u001b[31m12.6 MB/s\u001b[0m eta \u001b[36m0:00:00\u001b[0m\n",
            "\u001b[?25hDownloading gitdb-4.0.11-py3-none-any.whl (62 kB)\n",
            "\u001b[2K   \u001b[90m━━━━━━━━━━━━━━━━━━━━━━━━━━━━━━━━━━━━━━━━\u001b[0m \u001b[32m62.7/62.7 kB\u001b[0m \u001b[31m6.1 MB/s\u001b[0m eta \u001b[36m0:00:00\u001b[0m\n",
            "\u001b[?25hDownloading smmap-5.0.1-py3-none-any.whl (24 kB)\n",
            "Installing collected packages: ninja, faiss-gpu, bitarray, ujson, smmap, python-dotenv, nvidia-cuda-runtime-cu11, nvidia-cuda-nvrtc-cu11, nvidia-cublas-cu11, dill, nvidia-cudnn-cu11, multiprocess, gitdb, torch, gitpython, git-python, datasets, colbert-ai\n",
            "  Attempting uninstall: torch\n",
            "    Found existing installation: torch 2.1.0+cu121\n",
            "    Uninstalling torch-2.1.0+cu121:\n",
            "      Successfully uninstalled torch-2.1.0+cu121\n",
            "  Running setup.py develop for colbert-ai\n",
            "\u001b[31mERROR: pip's dependency resolver does not currently take into account all the packages that are installed. This behaviour is the source of the following dependency conflicts.\n",
            "torchaudio 2.1.0+cu121 requires torch==2.1.0, but you have torch 1.13.1 which is incompatible.\n",
            "torchdata 0.7.0 requires torch==2.1.0, but you have torch 1.13.1 which is incompatible.\n",
            "torchtext 0.16.0 requires torch==2.1.0, but you have torch 1.13.1 which is incompatible.\n",
            "torchvision 0.16.0+cu121 requires torch==2.1.0, but you have torch 1.13.1 which is incompatible.\u001b[0m\u001b[31m\n",
            "\u001b[0mSuccessfully installed bitarray-2.9.2 colbert-ai-0.2.19 datasets-2.17.1 dill-0.3.8 faiss-gpu-1.7.2 git-python-1.0.3 gitdb-4.0.11 gitpython-3.1.42 multiprocess-0.70.16 ninja-1.11.1.1 nvidia-cublas-cu11-11.10.3.66 nvidia-cuda-nvrtc-cu11-11.7.99 nvidia-cuda-runtime-cu11-11.7.99 nvidia-cudnn-cu11-8.5.0.96 python-dotenv-1.0.1 smmap-5.0.1 torch-1.13.1 ujson-5.9.0\n",
            "\u001b[33mWARNING: Running pip as the 'root' user can result in broken permissions and conflicting behaviour with the system package manager. It is recommended to use a virtual environment instead: https://pip.pypa.io/warnings/venv\u001b[0m\u001b[33m\n",
            "\u001b[0m"
          ]
        }
      ]
    },
    {
      "cell_type": "markdown",
      "source": [
        "# Training"
      ],
      "metadata": {
        "id": "O_xhCX3xqwmr"
      }
    },
    {
      "cell_type": "code",
      "source": [
        "!wget https://huggingface.co/colbert-ir/colbertv2.0_msmarco_64way/resolve/main/examples.json #gets the original triples from colbertv2 to use in the destination language\n",
        "!wget 'https://huggingface.co/datasets/unicamp-dl/mmarco/resolve/main/data/google/collections/french_collection.tsv'\n",
        "!wget 'https://huggingface.co/datasets/unicamp-dl/mmarco/resolve/main/data/google/queries/train/french_queries.train.tsv'"
      ],
      "metadata": {
        "colab": {
          "base_uri": "https://localhost:8080/"
        },
        "id": "UwliydqB2Thn",
        "outputId": "2edecb1e-9c4e-407d-da86-86a621122a7f"
      },
      "execution_count": null,
      "outputs": [
        {
          "output_type": "stream",
          "name": "stdout",
          "text": [
            "--2024-02-27 12:09:34--  https://huggingface.co/datasets/unicamp-dl/mmarco/resolve/main/data/google/collections/portuguese_collection.tsv\n",
            "Resolving huggingface.co (huggingface.co)... 13.35.7.5, 13.35.7.38, 13.35.7.57, ...\n",
            "Connecting to huggingface.co (huggingface.co)|13.35.7.5|:443... connected.\n",
            "HTTP request sent, awaiting response... 302 Found\n",
            "Location: https://cdn-lfs.huggingface.co/datasets/unicamp-dl/mmarco/bd0074d22ec0deacb08e9f9851f8f3aeb6d03b0d59b1b05f926ad4961a229520?response-content-disposition=attachment%3B+filename*%3DUTF-8%27%27portuguese_collection.tsv%3B+filename%3D%22portuguese_collection.tsv%22%3B&response-content-type=text%2Ftab-separated-values&Expires=1709294974&Policy=eyJTdGF0ZW1lbnQiOlt7IkNvbmRpdGlvbiI6eyJEYXRlTGVzc1RoYW4iOnsiQVdTOkVwb2NoVGltZSI6MTcwOTI5NDk3NH19LCJSZXNvdXJjZSI6Imh0dHBzOi8vY2RuLWxmcy5odWdnaW5nZmFjZS5jby9kYXRhc2V0cy91bmljYW1wLWRsL21tYXJjby9iZDAwNzRkMjJlYzBkZWFjYjA4ZTlmOTg1MWY4ZjNhZWI2ZDAzYjBkNTliMWIwNWY5MjZhZDQ5NjFhMjI5NTIwP3Jlc3BvbnNlLWNvbnRlbnQtZGlzcG9zaXRpb249KiZyZXNwb25zZS1jb250ZW50LXR5cGU9KiJ9XX0_&Signature=sLgAa1zvd4rajMB7wEjaaMDoU0JkM323W09HKp7ogBMxzjbfqB80fUCvliNcL5zOfSsqpAnog16J4Ee0ZhsVNJyZO8lgP8xMc98wvgGq2Tn2qOKjMSDzHadKYfmzPtJBkJi72L-PKlmxMkhBf85Nzzi-HnZ%7ElB4WU5P%7EAoBk2VeRtAJ8V9z-lgfi5oCoj4x53wGYDxDEEd0JrYeto5dzNaXYLmNXGlX33IjHn%7EIOM-tej4ibMcOZMP7DMAu1-EHl5QLl9KIPJwkqh-lTc%7Ek83RT5DginQHlZAvsqfYIrOM-gNCXsMH9IeMw2Kr6T7%7EmZwDPR8ekp-FBu6y%7EFxsDBjQ__&Key-Pair-Id=KVTP0A1DKRTAX [following]\n",
            "--2024-02-27 12:09:35--  https://cdn-lfs.huggingface.co/datasets/unicamp-dl/mmarco/bd0074d22ec0deacb08e9f9851f8f3aeb6d03b0d59b1b05f926ad4961a229520?response-content-disposition=attachment%3B+filename*%3DUTF-8%27%27portuguese_collection.tsv%3B+filename%3D%22portuguese_collection.tsv%22%3B&response-content-type=text%2Ftab-separated-values&Expires=1709294974&Policy=eyJTdGF0ZW1lbnQiOlt7IkNvbmRpdGlvbiI6eyJEYXRlTGVzc1RoYW4iOnsiQVdTOkVwb2NoVGltZSI6MTcwOTI5NDk3NH19LCJSZXNvdXJjZSI6Imh0dHBzOi8vY2RuLWxmcy5odWdnaW5nZmFjZS5jby9kYXRhc2V0cy91bmljYW1wLWRsL21tYXJjby9iZDAwNzRkMjJlYzBkZWFjYjA4ZTlmOTg1MWY4ZjNhZWI2ZDAzYjBkNTliMWIwNWY5MjZhZDQ5NjFhMjI5NTIwP3Jlc3BvbnNlLWNvbnRlbnQtZGlzcG9zaXRpb249KiZyZXNwb25zZS1jb250ZW50LXR5cGU9KiJ9XX0_&Signature=sLgAa1zvd4rajMB7wEjaaMDoU0JkM323W09HKp7ogBMxzjbfqB80fUCvliNcL5zOfSsqpAnog16J4Ee0ZhsVNJyZO8lgP8xMc98wvgGq2Tn2qOKjMSDzHadKYfmzPtJBkJi72L-PKlmxMkhBf85Nzzi-HnZ%7ElB4WU5P%7EAoBk2VeRtAJ8V9z-lgfi5oCoj4x53wGYDxDEEd0JrYeto5dzNaXYLmNXGlX33IjHn%7EIOM-tej4ibMcOZMP7DMAu1-EHl5QLl9KIPJwkqh-lTc%7Ek83RT5DginQHlZAvsqfYIrOM-gNCXsMH9IeMw2Kr6T7%7EmZwDPR8ekp-FBu6y%7EFxsDBjQ__&Key-Pair-Id=KVTP0A1DKRTAX\n",
            "Resolving cdn-lfs.huggingface.co (cdn-lfs.huggingface.co)... 13.35.7.113, 13.35.7.93, 13.35.7.99, ...\n",
            "Connecting to cdn-lfs.huggingface.co (cdn-lfs.huggingface.co)|13.35.7.113|:443... connected.\n",
            "HTTP request sent, awaiting response... 200 OK\n",
            "Length: 3431011785 (3.2G) [text/tab-separated-values]\n",
            "Saving to: ‘/content/drive/MyDrive/Colab Notebooks/data_colbert/portuguese_collection.tsv’\n",
            "\n",
            "portuguese_collecti 100%[===================>]   3.20G  19.0MB/s    in 2m 56s  \n",
            "\n",
            "2024-02-27 12:12:32 (18.6 MB/s) - ‘/content/drive/MyDrive/Colab Notebooks/data_colbert/portuguese_collection.tsv’ saved [3431011785/3431011785]\n",
            "\n",
            "--2024-02-27 12:12:32--  https://huggingface.co/datasets/unicamp-dl/mmarco/resolve/main/data/google/queries/train/portuguese_queries.train.tsv\n",
            "Resolving huggingface.co (huggingface.co)... 13.35.7.5, 13.35.7.57, 13.35.7.38, ...\n",
            "Connecting to huggingface.co (huggingface.co)|13.35.7.5|:443... connected.\n",
            "HTTP request sent, awaiting response... 302 Found\n",
            "Location: https://cdn-lfs.huggingface.co/datasets/unicamp-dl/mmarco/858af5d5e280c50ce84632c420a04765d3e3c91ff4cbb5c6781eee2d0e6774d7?response-content-disposition=attachment%3B+filename*%3DUTF-8%27%27portuguese_queries.train.tsv%3B+filename%3D%22portuguese_queries.train.tsv%22%3B&response-content-type=text%2Ftab-separated-values&Expires=1709295153&Policy=eyJTdGF0ZW1lbnQiOlt7IkNvbmRpdGlvbiI6eyJEYXRlTGVzc1RoYW4iOnsiQVdTOkVwb2NoVGltZSI6MTcwOTI5NTE1M319LCJSZXNvdXJjZSI6Imh0dHBzOi8vY2RuLWxmcy5odWdnaW5nZmFjZS5jby9kYXRhc2V0cy91bmljYW1wLWRsL21tYXJjby84NThhZjVkNWUyODBjNTBjZTg0NjMyYzQyMGEwNDc2NWQzZTNjOTFmZjRjYmI1YzY3ODFlZWUyZDBlNjc3NGQ3P3Jlc3BvbnNlLWNvbnRlbnQtZGlzcG9zaXRpb249KiZyZXNwb25zZS1jb250ZW50LXR5cGU9KiJ9XX0_&Signature=VtTiQBTMRg8HWnPfMen%7EJcjPO9qEEV1QwgQzcQRu%7ETA4CrXVZn11DWNcvvWEo0N8Ts6xgwfayAJ%7ExSRFxFN6vgSvYFzRd-ihgyHOCq5OxQrQ%7EKdSWtV3y3Q8woz7NgunP-X%7E4GiHzUrdbt6yfIKYqi6EvI2yCZ28NjG-648d1ObqQwLpzw6qZFoIkM32QuzD94SzbVY96GXtcEwn7SIH18E425OnLRqwZEGIMU1eO7C3t2ghVFmAopB12w7OvcIHeU%7EsUAkDPEwHtzU0k1HiqWk-vFDuMNn8urmphDxNmWs1%7E75AiQQQKB9o%7ElVO6HtWYS6k2FYHe7CjhwnjlIJq8w__&Key-Pair-Id=KVTP0A1DKRTAX [following]\n",
            "--2024-02-27 12:12:33--  https://cdn-lfs.huggingface.co/datasets/unicamp-dl/mmarco/858af5d5e280c50ce84632c420a04765d3e3c91ff4cbb5c6781eee2d0e6774d7?response-content-disposition=attachment%3B+filename*%3DUTF-8%27%27portuguese_queries.train.tsv%3B+filename%3D%22portuguese_queries.train.tsv%22%3B&response-content-type=text%2Ftab-separated-values&Expires=1709295153&Policy=eyJTdGF0ZW1lbnQiOlt7IkNvbmRpdGlvbiI6eyJEYXRlTGVzc1RoYW4iOnsiQVdTOkVwb2NoVGltZSI6MTcwOTI5NTE1M319LCJSZXNvdXJjZSI6Imh0dHBzOi8vY2RuLWxmcy5odWdnaW5nZmFjZS5jby9kYXRhc2V0cy91bmljYW1wLWRsL21tYXJjby84NThhZjVkNWUyODBjNTBjZTg0NjMyYzQyMGEwNDc2NWQzZTNjOTFmZjRjYmI1YzY3ODFlZWUyZDBlNjc3NGQ3P3Jlc3BvbnNlLWNvbnRlbnQtZGlzcG9zaXRpb249KiZyZXNwb25zZS1jb250ZW50LXR5cGU9KiJ9XX0_&Signature=VtTiQBTMRg8HWnPfMen%7EJcjPO9qEEV1QwgQzcQRu%7ETA4CrXVZn11DWNcvvWEo0N8Ts6xgwfayAJ%7ExSRFxFN6vgSvYFzRd-ihgyHOCq5OxQrQ%7EKdSWtV3y3Q8woz7NgunP-X%7E4GiHzUrdbt6yfIKYqi6EvI2yCZ28NjG-648d1ObqQwLpzw6qZFoIkM32QuzD94SzbVY96GXtcEwn7SIH18E425OnLRqwZEGIMU1eO7C3t2ghVFmAopB12w7OvcIHeU%7EsUAkDPEwHtzU0k1HiqWk-vFDuMNn8urmphDxNmWs1%7E75AiQQQKB9o%7ElVO6HtWYS6k2FYHe7CjhwnjlIJq8w__&Key-Pair-Id=KVTP0A1DKRTAX\n",
            "Resolving cdn-lfs.huggingface.co (cdn-lfs.huggingface.co)... 13.35.7.99, 13.35.7.14, 13.35.7.93, ...\n",
            "Connecting to cdn-lfs.huggingface.co (cdn-lfs.huggingface.co)|13.35.7.99|:443... connected.\n",
            "HTTP request sent, awaiting response... 200 OK\n",
            "Length: 39281063 (37M) [text/tab-separated-values]\n",
            "Saving to: ‘/content/drive/MyDrive/Colab Notebooks/data_colbert/portuguese_queries.train.tsv’\n",
            "\n",
            "portuguese_queries. 100%[===================>]  37.46M  11.0MB/s    in 3.4s    \n",
            "\n",
            "2024-02-27 12:12:37 (11.0 MB/s) - ‘/content/drive/MyDrive/Colab Notebooks/data_colbert/portuguese_queries.train.tsv’ saved [39281063/39281063]\n",
            "\n"
          ]
        }
      ]
    },
    {
      "cell_type": "code",
      "source": [
        "import colbert\n",
        "from colbert import Indexer, Searcher\n",
        "from colbert.infra import Run, RunConfig, ColBERTConfig\n",
        "from colbert.data import Queries, Collection\n",
        "from datasets import load_dataset"
      ],
      "metadata": {
        "id": "G1GzoZ8n1Vkq"
      },
      "execution_count": null,
      "outputs": []
    },
    {
      "cell_type": "code",
      "source": [
        "checkpoint = 'antoinelouis/colbertv1-camembert-base-mmarcoFR'\n",
        "language = 'french'"
      ],
      "metadata": {
        "id": "mW0hHvu31xXd"
      },
      "execution_count": null,
      "outputs": []
    },
    {
      "cell_type": "code",
      "source": [
        "from colbert.infra.run import Run\n",
        "from colbert.infra.config import ColBERTConfig, RunConfig\n",
        "from colbert import Trainer\n",
        "\n",
        "\n",
        "def train():\n",
        "    # use 4 gpus (e.g. four A100s, but you can use fewer by changing nway,accumsteps,bsize).\n",
        "    with Run().context(RunConfig(nranks=1, name='ColBERTv2.0-camembert-based-mmarcoFR', avoid_fork_if_possible=True, root = '/content/drive/MyDrive/Colab Notebooks/french-checkpoints')):\n",
        "        triples = 'examples.json'\n",
        "        queries = f'{language}_queries.train.tsv'\n",
        "        collection = f'{language}_collection.tsv'\n",
        "\n",
        "        config = ColBERTConfig(\n",
        "            bsize=64,\n",
        "            lr=1e-05,\n",
        "            warmup=20_000,\n",
        "            doc_maxlen=180,\n",
        "            dim=128,\n",
        "            attend_to_mask_tokens=False,\n",
        "            nway=4,\n",
        "            accumsteps=1,\n",
        "            similarity='cosine',\n",
        "            use_ib_negatives=True,\n",
        "            maxsteps=200000,\n",
        "            save_every=10000,\n",
        "            )\n",
        "\n",
        "        trainer = Trainer(triples=triples, queries=queries, collection=collection, config=config)\n",
        "\n",
        "        trainer.train(checkpoint=checkpoint)  # or start from scratch, like `bert-base-uncased`\n",
        "\n",
        "\n",
        "if __name__ == '__main__':\n",
        "    train()"
      ],
      "metadata": {
        "colab": {
          "base_uri": "https://localhost:8080/",
          "height": 1000
        },
        "id": "FroD2q6o173B",
        "outputId": "6fcd8ad2-77f5-478b-b19a-a0b998bb5dfa"
      },
      "execution_count": null,
      "outputs": [
        {
          "output_type": "stream",
          "name": "stdout",
          "text": [
            "{\n",
            "    \"query_token_id\": \"[unused0]\",\n",
            "    \"doc_token_id\": \"[unused1]\",\n",
            "    \"query_token\": \"[Q]\",\n",
            "    \"doc_token\": \"[D]\",\n",
            "    \"ncells\": null,\n",
            "    \"centroid_score_threshold\": null,\n",
            "    \"ndocs\": null,\n",
            "    \"load_index_with_mmap\": false,\n",
            "    \"index_path\": null,\n",
            "    \"index_bsize\": 64,\n",
            "    \"nbits\": 1,\n",
            "    \"kmeans_niters\": 4,\n",
            "    \"resume\": false,\n",
            "    \"similarity\": \"cosine\",\n",
            "    \"bsize\": 128,\n",
            "    \"accumsteps\": 1,\n",
            "    \"lr\": 1e-5,\n",
            "    \"maxsteps\": 200000,\n",
            "    \"save_every\": 10000,\n",
            "    \"warmup\": 20000,\n",
            "    \"warmup_bert\": null,\n",
            "    \"relu\": false,\n",
            "    \"nway\": 2,\n",
            "    \"use_ib_negatives\": true,\n",
            "    \"reranker\": false,\n",
            "    \"distillation_alpha\": 1.0,\n",
            "    \"ignore_scores\": false,\n",
            "    \"model_name\": null,\n",
            "    \"query_maxlen\": 32,\n",
            "    \"attend_to_mask_tokens\": false,\n",
            "    \"interaction\": \"colbert\",\n",
            "    \"dim\": 128,\n",
            "    \"doc_maxlen\": 180,\n",
            "    \"mask_punctuation\": true,\n",
            "    \"checkpoint\": \"antoinelouis\\/colbertv1-camembert-base-mmarcoFR\",\n",
            "    \"triples\": \"\\/content\\/drive\\/MyDrive\\/Colab Notebooks\\/data_colbert\\/examples.json\",\n",
            "    \"collection\": \"\\/content\\/drive\\/MyDrive\\/Colab Notebooks\\/data_colbert\\/french_collection.tsv\",\n",
            "    \"queries\": \"\\/content\\/drive\\/MyDrive\\/Colab Notebooks\\/data_colbert\\/french_queries.train.tsv\",\n",
            "    \"index_name\": null,\n",
            "    \"overwrite\": false,\n",
            "    \"root\": \"\\/content\\/drive\\/MyDrive\\/Colab Notebooks\\/french-checkpoints\",\n",
            "    \"experiment\": \"default\",\n",
            "    \"index_root\": null,\n",
            "    \"name\": \"ColBERTv2.0-camembert-based-mmarcoFR\",\n",
            "    \"rank\": 0,\n",
            "    \"nranks\": 1,\n",
            "    \"amp\": true,\n",
            "    \"gpus\": 1,\n",
            "    \"avoid_fork_if_possible\": true\n",
            "}\n",
            "Using config.bsize = 128 (per process) and config.accumsteps = 1\n",
            "[Feb 27, 13:55:40] #> Loading the queries from /content/drive/MyDrive/Colab Notebooks/data_colbert/french_queries.train.tsv ...\n",
            "[Feb 27, 13:55:41] #> Got 808731 queries. All QIDs are unique.\n",
            "\n",
            "[Feb 27, 13:55:41] #> Loading collection...\n",
            "0M 1M 2M 3M 4M 5M 6M 7M 8M \n"
          ]
        },
        {
          "output_type": "stream",
          "name": "stderr",
          "text": [
            "/usr/local/lib/python3.10/dist-packages/transformers/optimization.py:429: FutureWarning: This implementation of AdamW is deprecated and will be removed in a future version. Use the PyTorch implementation torch.optim.AdamW instead, or set `no_deprecation_warning=True` to disable this warning\n",
            "  warnings.warn(\n"
          ]
        },
        {
          "output_type": "stream",
          "name": "stdout",
          "text": [
            "\u001b[1;30;43mStreaming output truncated to the last 5000 lines.\u001b[0m\n",
            "#>>>    21.1 15.64 \t\t|\t\t 5.460000000000001\n",
            "[Feb 27, 13:56:58] 86 0.3488790604763124\n",
            "\t\t\t\t 0.1826304793357849 0.12982921302318573\n",
            "#>>>    21.47 16.53 \t\t|\t\t 4.939999999999998\n",
            "[Feb 27, 13:56:58] 87 0.3488426411230962\n",
            "\t\t\t\t 0.15792851150035858 0.15008465945720673\n",
            "#>>>    21.43 16.34 \t\t|\t\t 5.09\n",
            "[Feb 27, 13:56:59] 88 0.34880181165293067\n",
            "\t\t\t\t 0.14866763353347778 0.1542704999446869\n",
            "#>>>    21.56 15.68 \t\t|\t\t 5.879999999999999\n",
            "[Feb 27, 13:56:59] 89 0.3487559479747559\n",
            "\t\t\t\t 0.21860460937023163 0.1162266954779625\n",
            "#>>>    21.08 15.95 \t\t|\t\t 5.129999999999999\n",
            "[Feb 27, 13:57:00] 90 0.34874202332417875\n",
            "\t\t\t\t 0.2821371555328369 0.20317929983139038\n",
            "#>>>    20.82 16.44 \t\t|\t\t 4.379999999999999\n",
            "[Feb 27, 13:57:00] 91 0.34887859775621877\n",
            "\t\t\t\t 0.1622951179742813 0.14649119973182678\n",
            "#>>>    21.01 15.98 \t\t|\t\t 5.030000000000001\n",
            "[Feb 27, 13:57:00] 92 0.3488385054910698\n",
            "\t\t\t\t 0.22530049085617065 0.13478927314281464\n",
            "#>>>    21.21 15.93 \t\t|\t\t 5.280000000000001\n",
            "[Feb 27, 13:57:01] 93 0.34884975676447894\n",
            "\t\t\t\t 0.1606237292289734 0.1476130485534668\n",
            "#>>>    21.25 16.08 \t\t|\t\t 5.170000000000002\n",
            "[Feb 27, 13:57:01] 94 0.34880914378549693\n",
            "\t\t\t\t 0.2165125459432602 0.15001660585403442\n",
            "#>>>    21.48 16.18 \t\t|\t\t 5.300000000000001\n",
            "[Feb 27, 13:57:02] 95 0.3488268638084099\n",
            "\t\t\t\t 0.1364206075668335 0.11277873069047928\n",
            "#>>>    21.27 15.71 \t\t|\t\t 5.559999999999999\n",
            "[Feb 27, 13:57:02] 96 0.34872723627540825\n",
            "\t\t\t\t 0.11246810108423233 0.12366002053022385\n",
            "#>>>    21.11 15.9 \t\t|\t\t 5.209999999999999\n",
            "[Feb 27, 13:57:03] 97 0.3486146371607473\n",
            "\t\t\t\t 0.3298536241054535 0.22502468526363373\n",
            "#>>>    20.57 15.93 \t\t|\t\t 4.640000000000001\n",
            "[Feb 27, 13:57:03] 98 0.3488209008180545\n",
            "\t\t\t\t 0.15219740569591522 0.10262797772884369\n",
            "#>>>    21.59 16.35 \t\t|\t\t 5.239999999999998\n",
            "[Feb 27, 13:57:04] 99 0.3487269053006612\n",
            "\t\t\t\t 0.15630114078521729 0.14137357473373413\n",
            "#>>>    20.73 15.95 \t\t|\t\t 4.780000000000001\n",
            "[Feb 27, 13:57:04] 100 0.34867585311087945\n",
            "\t\t\t\t 0.2392881214618683 0.23652039468288422\n",
            "#>>>    20.79 15.97 \t\t|\t\t 4.8199999999999985\n",
            "[Feb 27, 13:57:05] 101 0.34880298575901214\n",
            "\t\t\t\t 0.12964777648448944 0.04767754673957825\n",
            "#>>>    21.88 16.51 \t\t|\t\t 5.369999999999997\n",
            "[Feb 27, 13:57:05] 102 0.3486315080964772\n",
            "\t\t\t\t 0.2722249925136566 0.2252662032842636\n",
            "#>>>    21.06 16.34 \t\t|\t\t 4.719999999999999\n",
            "[Feb 27, 13:57:06] 103 0.34878036776927746\n",
            "\t\t\t\t 0.18182197213172913 0.22783732414245605\n",
            "#>>>    20.36 15.43 \t\t|\t\t 4.93\n",
            "[Feb 27, 13:57:06] 104 0.3488412466977824\n",
            "\t\t\t\t 0.21076896786689758 0.08507917821407318\n",
            "#>>>    21.6 16.83 \t\t|\t\t 4.770000000000003\n",
            "[Feb 27, 13:57:07] 105 0.34878825358226445\n",
            "\t\t\t\t 0.1407424658536911 0.1536893993616104\n",
            "#>>>    21.07 15.94 \t\t|\t\t 5.130000000000001\n",
            "[Feb 27, 13:57:07] 106 0.3487338971938975\n",
            "\t\t\t\t 0.11203715950250626 0.12007848918437958\n",
            "#>>>    21.52 16.13 \t\t|\t\t 5.390000000000001\n",
            "[Feb 27, 13:57:08] 107 0.34861727895284106\n",
            "\t\t\t\t 0.151390939950943 0.15905775129795074\n",
            "#>>>    21.1 15.55 \t\t|\t\t 5.550000000000001\n",
            "[Feb 27, 13:57:08] 108 0.34857911038003825\n",
            "\t\t\t\t 0.16285264492034912 0.1088905781507492\n",
            "#>>>    21.52 16.22 \t\t|\t\t 5.300000000000001\n",
            "[Feb 27, 13:57:09] 109 0.34850227450763044\n",
            "\t\t\t\t 0.23596492409706116 0.2069876343011856\n",
            "#>>>    21.29 16.15 \t\t|\t\t 5.140000000000001\n",
            "[Feb 27, 13:57:09] 110 0.34859672480642223\n",
            "\t\t\t\t 0.24460723996162415 0.16510309278964996\n",
            "#>>>    20.85 16.11 \t\t|\t\t 4.740000000000002\n",
            "[Feb 27, 13:57:09] 111 0.34865783842926823\n",
            "\t\t\t\t 0.19657188653945923 0.09442291408777237\n",
            "#>>>    21.45 16.82 \t\t|\t\t 4.629999999999999\n",
            "[Feb 27, 13:57:10] 112 0.3486001753840156\n",
            "\t\t\t\t 0.18384426832199097 0.16460753977298737\n",
            "#>>>    21.46 15.97 \t\t|\t\t 5.49\n",
            "[Feb 27, 13:57:10] 113 0.3486000270018254\n",
            "\t\t\t\t 0.1913703829050064 0.13607251644134521\n",
            "#>>>    21.43 16.04 \t\t|\t\t 5.390000000000001\n",
            "[Feb 27, 13:57:11] 114 0.3485788698592688\n",
            "\t\t\t\t 0.22346754372119904 0.16592895984649658\n",
            "#>>>    21.72 16.14 \t\t|\t\t 5.579999999999998\n",
            "[Feb 27, 13:57:11] 115 0.34861968747807603\n",
            "\t\t\t\t 0.17679210007190704 0.21123181283473969\n",
            "#>>>    21.18 16.08 \t\t|\t\t 5.100000000000001\n",
            "[Feb 27, 13:57:12] 116 0.3486590917035046\n",
            "\t\t\t\t 0.11728177964687347 0.06546462327241898\n",
            "#>>>    21.48 16.62 \t\t|\t\t 4.859999999999999\n",
            "[Feb 27, 13:57:12] 117 0.348493179022171\n",
            "\t\t\t\t 0.20164990425109863 0.13966509699821472\n",
            "#>>>    21.19 16.05 \t\t|\t\t 5.140000000000001\n",
            "[Feb 27, 13:57:13] 118 0.34848600084439807\n",
            "\t\t\t\t 0.2531469464302063 0.25288063287734985\n",
            "#>>>    21.09 16.66 \t\t|\t\t 4.43\n",
            "[Feb 27, 13:57:13] 119 0.3486435424228612\n",
            "\t\t\t\t 0.16298550367355347 0.18961429595947266\n",
            "#>>>    20.96 15.14 \t\t|\t\t 5.82\n",
            "[Feb 27, 13:57:14] 120 0.3486474986800714\n",
            "\t\t\t\t 0.12732647359371185 0.11961530894041061\n",
            "#>>>    21.35 15.99 \t\t|\t\t 5.360000000000001\n",
            "[Feb 27, 13:57:14] 121 0.34854579295647486\n",
            "\t\t\t\t 0.1991930454969406 0.21432240307331085\n",
            "#>>>    21.46 16.48 \t\t|\t\t 4.98\n",
            "[Feb 27, 13:57:15] 122 0.3486107626120887\n",
            "\t\t\t\t 0.16348379850387573 0.15656642615795135\n",
            "#>>>    21.26 15.97 \t\t|\t\t 5.290000000000001\n",
            "[Feb 27, 13:57:15] 123 0.34858220208903956\n",
            "\t\t\t\t 0.07430163770914078 0.09702909737825394\n",
            "#>>>    21.41 15.64 \t\t|\t\t 5.77\n",
            "[Feb 27, 13:57:16] 124 0.3484049506220379\n",
            "\t\t\t\t 0.1622333824634552 0.12523312866687775\n",
            "#>>>    21.7 16.36 \t\t|\t\t 5.34\n",
            "[Feb 27, 13:57:16] 125 0.3483440121974474\n",
            "\t\t\t\t 0.18048657476902008 0.14852994680404663\n",
            "#>>>    21.15 16.31 \t\t|\t\t 4.84\n",
            "[Feb 27, 13:57:17] 126 0.3483246846919218\n",
            "\t\t\t\t 0.29688459634780884 0.20035420358181\n",
            "#>>>    20.91 16.11 \t\t|\t\t 4.800000000000001\n",
            "[Feb 27, 13:57:17] 127 0.34847359882206064\n",
            "\t\t\t\t 0.24738840758800507 0.21341070532798767\n",
            "#>>>    20.87 15.96 \t\t|\t\t 4.91\n",
            "[Feb 27, 13:57:18] 128 0.3485859243212534\n",
            "\t\t\t\t 0.10308749228715897 0.0582866370677948\n",
            "#>>>    21.73 16.15 \t\t|\t\t 5.580000000000002\n",
            "[Feb 27, 13:57:18] 129 0.34839871251883653\n",
            "\t\t\t\t 0.3083009719848633 0.20614823698997498\n",
            "#>>>    21.09 15.98 \t\t|\t\t 5.109999999999999\n",
            "[Feb 27, 13:57:19] 130 0.3485647630450948\n",
            "\t\t\t\t 0.11288529634475708 0.09774471074342728\n",
            "#>>>    21.59 16.17 \t\t|\t\t 5.419999999999998\n",
            "[Feb 27, 13:57:19] 131 0.3484268282816873\n",
            "\t\t\t\t 0.14288806915283203 0.1421172171831131\n",
            "#>>>    21.48 15.21 \t\t|\t\t 6.27\n",
            "[Feb 27, 13:57:19] 132 0.3483634067248404\n",
            "\t\t\t\t 0.17539581656455994 0.16160006821155548\n",
            "#>>>    21.32 16.13 \t\t|\t\t 5.190000000000001\n",
            "[Feb 27, 13:57:20] 133 0.34835203921779284\n",
            "\t\t\t\t 0.19404706358909607 0.1142648309469223\n",
            "#>>>    21.6 16.2 \t\t|\t\t 5.400000000000002\n",
            "[Feb 27, 13:57:20] 134 0.3483119990582099\n",
            "\t\t\t\t 0.13251268863677979 0.2025780826807022\n",
            "#>>>    20.89 15.64 \t\t|\t\t 5.25\n",
            "[Feb 27, 13:57:21] 135 0.348298777815568\n",
            "\t\t\t\t 0.1103200614452362 0.06897518038749695\n",
            "#>>>    21.49 16.18 \t\t|\t\t 5.309999999999999\n",
            "[Feb 27, 13:57:21] 136 0.3481297742795852\n",
            "\t\t\t\t 0.14186370372772217 0.10774311423301697\n",
            "#>>>    20.92 15.62 \t\t|\t\t 5.3000000000000025\n",
            "[Feb 27, 13:57:22] 137 0.34803125132326634\n",
            "\t\t\t\t 0.17202746868133545 0.1739182472229004\n",
            "#>>>    20.92 15.78 \t\t|\t\t 5.140000000000002\n",
            "[Feb 27, 13:57:22] 138 0.3480291657878473\n",
            "\t\t\t\t 0.1735793948173523 0.23165734112262726\n",
            "#>>>    20.81 15.34 \t\t|\t\t 5.469999999999999\n",
            "[Feb 27, 13:57:23] 139 0.3480863733430983\n",
            "\t\t\t\t 0.1455266922712326 0.10220976918935776\n",
            "#>>>    21.39 16.18 \t\t|\t\t 5.210000000000001\n",
            "[Feb 27, 13:57:23] 140 0.34798602342376517\n",
            "\t\t\t\t 0.20609939098358154 0.14489756524562836\n",
            "#>>>    21.56 16.32 \t\t|\t\t 5.239999999999998\n",
            "[Feb 27, 13:57:24] 141 0.3479890343714718\n",
            "\t\t\t\t 0.10013807564973831 0.19329705834388733\n",
            "#>>>    21.27 15.58 \t\t|\t\t 5.6899999999999995\n",
            "[Feb 27, 13:57:24] 142 0.34793448046364334\n",
            "\t\t\t\t 0.11562735587358475 0.09003637731075287\n",
            "#>>>    21.18 15.65 \t\t|\t\t 5.529999999999999\n",
            "[Feb 27, 13:57:25] 143 0.3477922097238146\n",
            "\t\t\t\t 0.27286458015441895 0.20588916540145874\n",
            "#>>>    21.1 16.41 \t\t|\t\t 4.690000000000001\n",
            "[Feb 27, 13:57:25] 144 0.34792317125964667\n",
            "\t\t\t\t 0.24443437159061432 0.16024115681648254\n",
            "#>>>    21.79 16.44 \t\t|\t\t 5.349999999999998\n",
            "[Feb 27, 13:57:26] 145 0.3479799236316953\n",
            "\t\t\t\t 0.24110029637813568 0.12786813080310822\n",
            "#>>>    21.42 16.39 \t\t|\t\t 5.030000000000001\n",
            "[Feb 27, 13:57:26] 146 0.34800091213524487\n",
            "\t\t\t\t 0.11885210871696472 0.09484519064426422\n",
            "#>>>    21.4 16.02 \t\t|\t\t 5.379999999999999\n",
            "[Feb 27, 13:57:27] 147 0.3478666085224708\n",
            "\t\t\t\t 0.16557194292545319 0.18147315084934235\n",
            "#>>>    21.57 16.11 \t\t|\t\t 5.460000000000001\n",
            "[Feb 27, 13:57:27] 148 0.34786578700772314\n",
            "\t\t\t\t 0.22936220467090607 0.15189269185066223\n",
            "#>>>    21.22 15.99 \t\t|\t\t 5.229999999999999\n",
            "[Feb 27, 13:57:28] 149 0.3478991761321381\n",
            "\t\t\t\t 0.2285861074924469 0.12089113146066666\n",
            "#>>>    21.63 16.34 \t\t|\t\t 5.289999999999999\n",
            "[Feb 27, 13:57:28] 150 0.3479007541875085\n",
            "\t\t\t\t 0.14615079760551453 0.1345309317111969\n",
            "#>>>    21.41 16.19 \t\t|\t\t 5.219999999999999\n",
            "[Feb 27, 13:57:28] 151 0.3478335351626377\n",
            "\t\t\t\t 0.3233901858329773 0.16185738146305084\n",
            "#>>>    21.01 16.24 \t\t|\t\t 4.770000000000003\n",
            "[Feb 27, 13:57:29] 152 0.3479709491798699\n",
            "\t\t\t\t 0.15751129388809204 0.1684815138578415\n",
            "#>>>    21.19 15.58 \t\t|\t\t 5.610000000000001\n",
            "[Feb 27, 13:57:29] 153 0.34794897105333716\n",
            "\t\t\t\t 0.14218661189079285 0.09555070847272873\n",
            "#>>>    21.41 16.01 \t\t|\t\t 5.399999999999999\n",
            "[Feb 27, 13:57:30] 154 0.34783875941009795\n",
            "\t\t\t\t 0.1603238731622696 0.19104494154453278\n",
            "#>>>    21.16 16.06 \t\t|\t\t 5.100000000000001\n",
            "[Feb 27, 13:57:30] 155 0.3478422894653947\n",
            "\t\t\t\t 0.12321334332227707 0.12474196404218674\n",
            "#>>>    21.32 16.02 \t\t|\t\t 5.300000000000001\n",
            "[Feb 27, 13:57:31] 156 0.3477424024832938\n",
            "\t\t\t\t 0.15850824117660522 0.12944285571575165\n",
            "#>>>    21.58 16.42 \t\t|\t\t 5.159999999999997\n",
            "[Feb 27, 13:57:31] 157 0.347682611192604\n",
            "\t\t\t\t 0.16963538527488708 0.1796739399433136\n",
            "#>>>    21.0 15.9 \t\t|\t\t 5.1\n",
            "[Feb 27, 13:57:32] 158 0.3476842379066296\n",
            "\t\t\t\t 0.15441665053367615 0.0879969447851181\n",
            "#>>>    21.42 16.07 \t\t|\t\t 5.350000000000001\n",
            "[Feb 27, 13:57:32] 159 0.34757896726404175\n",
            "\t\t\t\t 0.13453146815299988 0.1248212680220604\n",
            "#>>>    21.77 16.1 \t\t|\t\t 5.669999999999998\n",
            "[Feb 27, 13:57:33] 160 0.34749074104040334\n",
            "\t\t\t\t 0.2343769073486328 0.1720581352710724\n",
            "#>>>    21.12 16.19 \t\t|\t\t 4.93\n",
            "[Feb 27, 13:57:33] 161 0.34754968534198266\n",
            "\t\t\t\t 0.1756829470396042 0.21950630843639374\n",
            "#>>>    21.09 15.97 \t\t|\t\t 5.119999999999999\n",
            "[Feb 27, 13:57:34] 162 0.34759732491211665\n",
            "\t\t\t\t 0.20581215620040894 0.14766621589660645\n",
            "#>>>    21.41 16.35 \t\t|\t\t 5.059999999999999\n",
            "[Feb 27, 13:57:34] 163 0.34760320595930155\n",
            "\t\t\t\t 0.21946409344673157 0.12336155027151108\n",
            "#>>>    21.42 16.24 \t\t|\t\t 5.180000000000003\n",
            "[Feb 27, 13:57:35] 164 0.3475984284045111\n",
            "\t\t\t\t 0.14222073554992676 0.16590000689029694\n",
            "#>>>    21.09 15.51 \t\t|\t\t 5.58\n",
            "[Feb 27, 13:57:35] 165 0.3475589507036456\n",
            "\t\t\t\t 0.11190754920244217 0.059968940913677216\n",
            "#>>>    22.08 16.45 \t\t|\t\t 5.629999999999999\n",
            "[Feb 27, 13:57:36] 166 0.3473832682430581\n",
            "\t\t\t\t 0.14011424779891968 0.1483658403158188\n",
            "#>>>    21.43 16.32 \t\t|\t\t 5.109999999999999\n",
            "[Feb 27, 13:57:36] 167 0.34732436507783093\n",
            "\t\t\t\t 0.13405582308769226 0.13097351789474487\n",
            "#>>>    21.63 15.73 \t\t|\t\t 5.899999999999999\n",
            "[Feb 27, 13:57:37] 168 0.34724207005373553\n",
            "\t\t\t\t 0.22792792320251465 0.13145996630191803\n",
            "#>>>    21.48 15.88 \t\t|\t\t 5.6\n",
            "[Feb 27, 13:57:37] 169 0.3472542158582851\n",
            "\t\t\t\t 0.14734892547130585 0.12880373001098633\n",
            "#>>>    21.36 15.81 \t\t|\t\t 5.549999999999999\n",
            "[Feb 27, 13:57:37] 170 0.34718311431281024\n",
            "\t\t\t\t 0.1910281479358673 0.2198541760444641\n",
            "#>>>    21.01 15.93 \t\t|\t\t 5.080000000000002\n",
            "[Feb 27, 13:57:38] 171 0.34724681352247777\n",
            "\t\t\t\t 0.31169044971466064 0.20886152982711792\n",
            "#>>>    20.82 15.96 \t\t|\t\t 4.859999999999999\n",
            "[Feb 27, 13:57:38] 172 0.34742011868849704\n",
            "\t\t\t\t 0.14424774050712585 0.09311329573392868\n",
            "#>>>    21.69 16.64 \t\t|\t\t 5.050000000000001\n",
            "[Feb 27, 13:57:39] 173 0.3473100596135002\n",
            "\t\t\t\t 0.28828659653663635 0.09915153682231903\n",
            "#>>>    21.02 16.08 \t\t|\t\t 4.940000000000001\n",
            "[Feb 27, 13:57:39] 174 0.3473501876723445\n",
            "\t\t\t\t 0.21124395728111267 0.10884446650743484\n",
            "#>>>    21.34 16.72 \t\t|\t\t 4.620000000000001\n",
            "[Feb 27, 13:57:40] 175 0.3473229259010101\n",
            "\t\t\t\t 0.2598903179168701 0.19464315474033356\n",
            "#>>>    21.42 16.45 \t\t|\t\t 4.970000000000002\n",
            "[Feb 27, 13:57:40] 176 0.34743013643286513\n",
            "\t\t\t\t 0.13453951478004456 0.14621496200561523\n",
            "#>>>    21.66 16.33 \t\t|\t\t 5.330000000000002\n",
            "[Feb 27, 13:57:41] 177 0.34736346077321795\n",
            "\t\t\t\t 0.1668401062488556 0.2799781560897827\n",
            "#>>>    21.23 15.99 \t\t|\t\t 5.24\n",
            "[Feb 27, 13:57:41] 178 0.34746291557478337\n",
            "\t\t\t\t 0.1936022937297821 0.09749256819486618\n",
            "#>>>    21.36 16.56 \t\t|\t\t 4.800000000000001\n",
            "[Feb 27, 13:57:42] 179 0.3474065475285838\n",
            "\t\t\t\t 0.1759018898010254 0.1364792138338089\n",
            "#>>>    21.17 15.77 \t\t|\t\t 5.400000000000002\n",
            "[Feb 27, 13:57:42] 180 0.3473715220697889\n",
            "\t\t\t\t 0.2450042963027954 0.14247317612171173\n",
            "#>>>    21.52 16.29 \t\t|\t\t 5.23\n",
            "[Feb 27, 13:57:43] 181 0.34741162800524245\n",
            "\t\t\t\t 0.24062123894691467 0.21307699382305145\n",
            "#>>>    20.46 15.35 \t\t|\t\t 5.110000000000001\n",
            "[Feb 27, 13:57:43] 182 0.347517914595106\n",
            "\t\t\t\t 0.23294058442115784 0.1412697434425354\n",
            "#>>>    21.29 16.04 \t\t|\t\t 5.25\n",
            "[Feb 27, 13:57:44] 183 0.3475446070083746\n",
            "\t\t\t\t 0.16838398575782776 0.18017394840717316\n",
            "#>>>    21.42 16.16 \t\t|\t\t 5.260000000000002\n",
            "[Feb 27, 13:57:44] 184 0.3475456203504324\n",
            "\t\t\t\t 0.16665591299533844 0.07496530562639236\n",
            "#>>>    21.65 16.55 \t\t|\t\t 5.099999999999998\n",
            "[Feb 27, 13:57:45] 185 0.34743969595615426\n",
            "\t\t\t\t 0.1322806477546692 0.11775209754705429\n",
            "#>>>    21.12 15.81 \t\t|\t\t 5.3100000000000005\n",
            "[Feb 27, 13:57:45] 186 0.34734228901295044\n",
            "\t\t\t\t 0.3280811905860901 0.2426614910364151\n",
            "#>>>    21.1 16.4 \t\t|\t\t 4.700000000000003\n",
            "[Feb 27, 13:57:46] 187 0.34756568939065885\n",
            "\t\t\t\t 0.1424216628074646 0.1448495090007782\n",
            "#>>>    21.62 15.74 \t\t|\t\t 5.880000000000001\n",
            "[Feb 27, 13:57:46] 188 0.34750539487307647\n",
            "\t\t\t\t 0.16440889239311218 0.13585688173770905\n",
            "#>>>    21.74 15.61 \t\t|\t\t 6.129999999999999\n",
            "[Feb 27, 13:57:46] 189 0.34745815526723534\n",
            "\t\t\t\t 0.27828681468963623 0.12816153466701508\n",
            "#>>>    21.41 16.58 \t\t|\t\t 4.830000000000002\n",
            "[Feb 27, 13:57:47] 190 0.3475171454762259\n",
            "\t\t\t\t 0.13165169954299927 0.12824082374572754\n",
            "#>>>    21.35 15.79 \t\t|\t\t 5.560000000000002\n",
            "[Feb 27, 13:57:47] 191 0.34742952085403844\n",
            "\t\t\t\t 0.16507495939731598 0.18642732501029968\n",
            "#>>>    21.57 16.06 \t\t|\t\t 5.510000000000002\n",
            "[Feb 27, 13:57:48] 192 0.3474335936324932\n",
            "\t\t\t\t 0.20567727088928223 0.15638279914855957\n",
            "#>>>    21.29 16.25 \t\t|\t\t 5.039999999999999\n",
            "[Feb 27, 13:57:48] 193 0.3474482201088986\n",
            "\t\t\t\t 0.26227569580078125 0.1767946183681488\n",
            "#>>>    21.16 16.08 \t\t|\t\t 5.080000000000002\n",
            "[Feb 27, 13:57:49] 194 0.34753984220295864\n",
            "\t\t\t\t 0.14766517281532288 0.05512513220310211\n",
            "#>>>    21.68 16.35 \t\t|\t\t 5.329999999999998\n",
            "[Feb 27, 13:57:49] 195 0.34739509266577406\n",
            "\t\t\t\t 0.19658848643302917 0.23832029104232788\n",
            "#>>>    21.28 16.01 \t\t|\t\t 5.27\n",
            "[Feb 27, 13:57:50] 196 0.34748260635058364\n",
            "\t\t\t\t 0.07919830828905106 0.07386013120412827\n",
            "#>>>    21.89 15.56 \t\t|\t\t 6.33\n",
            "[Feb 27, 13:57:50] 197 0.34728818218372626\n",
            "\t\t\t\t 0.3385322391986847 0.18049371242523193\n",
            "#>>>    21.05 16.35 \t\t|\t\t 4.699999999999999\n",
            "[Feb 27, 13:57:51] 198 0.3474599199233641\n",
            "\t\t\t\t 0.2254074662923813 0.1300225406885147\n",
            "#>>>    21.23 16.57 \t\t|\t\t 4.66\n",
            "[Feb 27, 13:57:51] 199 0.34746789001042167\n",
            "\t\t\t\t 0.2250150442123413 0.10293754190206528\n",
            "#>>>    21.5 16.94 \t\t|\t\t 4.559999999999999\n",
            "[Feb 27, 13:57:52] 200 0.3474483747139762\n",
            "\t\t\t\t 0.2074170559644699 0.1914231926202774\n",
            "#>>>    21.51 16.45 \t\t|\t\t 5.060000000000002\n",
            "[Feb 27, 13:57:52] 201 0.34749976658784704\n",
            "\t\t\t\t 0.2747178077697754 0.248731791973114\n",
            "#>>>    20.75 16.07 \t\t|\t\t 4.68\n",
            "[Feb 27, 13:57:53] 202 0.3476757164210021\n",
            "\t\t\t\t 0.14122235774993896 0.12010703235864639\n",
            "#>>>    21.34 16.16 \t\t|\t\t 5.18\n",
            "[Feb 27, 13:57:53] 203 0.34758937008723906\n",
            "\t\t\t\t 0.1863769292831421 0.06692865490913391\n",
            "#>>>    21.41 15.58 \t\t|\t\t 5.83\n",
            "[Feb 27, 13:57:54] 204 0.3474950863013441\n",
            "\t\t\t\t 0.3221885859966278 0.27483540773391724\n",
            "#>>>    20.94 16.06 \t\t|\t\t 4.880000000000003\n",
            "[Feb 27, 13:57:54] 205 0.34774461517897104\n",
            "\t\t\t\t 0.2840075194835663 0.2025049924850464\n",
            "#>>>    20.98 15.71 \t\t|\t\t 5.27\n",
            "[Feb 27, 13:57:55] 206 0.3478833830757607\n",
            "\t\t\t\t 0.17156431078910828 0.15730448067188263\n",
            "#>>>    21.72 16.28 \t\t|\t\t 5.439999999999998\n",
            "[Feb 27, 13:57:55] 207 0.34786436849904706\n",
            "\t\t\t\t 0.30698931217193604 0.2709755003452301\n",
            "#>>>    20.82 16.2 \t\t|\t\t 4.620000000000001\n",
            "[Feb 27, 13:57:55] 208 0.34809446891326284\n",
            "\t\t\t\t 0.21792973577976227 0.10838978737592697\n",
            "#>>>    21.55 16.45 \t\t|\t\t 5.100000000000001\n",
            "[Feb 27, 13:57:56] 209 0.3480726939600547\n",
            "\t\t\t\t 0.10342870652675629 0.14931510388851166\n",
            "#>>>    22.1 16.47 \t\t|\t\t 5.630000000000003\n",
            "[Feb 27, 13:57:56] 210 0.34797736507650995\n",
            "\t\t\t\t 0.14258675277233124 0.1733768731355667\n",
            "#>>>    21.12 15.51 \t\t|\t\t 5.610000000000001\n",
            "[Feb 27, 13:57:57] 211 0.34794535133734134\n",
            "\t\t\t\t 0.18801555037498474 0.08459841459989548\n",
            "#>>>    21.42 16.24 \t\t|\t\t 5.180000000000003\n",
            "[Feb 27, 13:57:57] 212 0.3478700199584294\n",
            "\t\t\t\t 0.09768711030483246 0.049263112246990204\n",
            "#>>>    21.1 15.68 \t\t|\t\t 5.420000000000002\n",
            "[Feb 27, 13:57:58] 213 0.3476691001535722\n",
            "\t\t\t\t 0.16105443239212036 0.08346566557884216\n",
            "#>>>    21.34 16.66 \t\t|\t\t 4.68\n",
            "[Feb 27, 13:57:58] 214 0.34756595115138966\n",
            "\t\t\t\t 0.21326696872711182 0.13818302750587463\n",
            "#>>>    21.02 16.32 \t\t|\t\t 4.699999999999999\n",
            "[Feb 27, 13:57:59] 215 0.3475698351964713\n",
            "\t\t\t\t 0.10223555564880371 0.11122817546129227\n",
            "#>>>    21.68 16.01 \t\t|\t\t 5.669999999999998\n",
            "[Feb 27, 13:57:59] 216 0.3474357290849343\n",
            "\t\t\t\t 0.1195211187005043 0.14940515160560608\n",
            "#>>>    21.44 15.77 \t\t|\t\t 5.670000000000002\n",
            "[Feb 27, 13:58:00] 217 0.3473572196187049\n",
            "\t\t\t\t 0.13439875841140747 0.11103468388319016\n",
            "#>>>    21.37 15.98 \t\t|\t\t 5.390000000000001\n",
            "[Feb 27, 13:58:00] 218 0.3472552958488314\n",
            "\t\t\t\t 0.14694839715957642 0.2076347917318344\n",
            "#>>>    21.35 15.82 \t\t|\t\t 5.530000000000001\n",
            "[Feb 27, 13:58:01] 219 0.34726262375677514\n",
            "\t\t\t\t 0.1864520013332367 0.09241992980241776\n",
            "#>>>    21.09 15.57 \t\t|\t\t 5.52\n",
            "[Feb 27, 13:58:01] 220 0.34719423305670344\n",
            "\t\t\t\t 0.14648473262786865 0.16943687200546265\n",
            "#>>>    21.08 15.52 \t\t|\t\t 5.559999999999999\n",
            "[Feb 27, 13:58:02] 221 0.3471629604282801\n",
            "\t\t\t\t 0.15462909638881683 0.03707445412874222\n",
            "#>>>    21.49 15.86 \t\t|\t\t 5.629999999999999\n",
            "[Feb 27, 13:58:02] 222 0.34700750102581995\n",
            "\t\t\t\t 0.23906567692756653 0.185276061296463\n",
            "#>>>    21.16 16.49 \t\t|\t\t 4.670000000000002\n",
            "[Feb 27, 13:58:03] 223 0.34708483526301814\n",
            "\t\t\t\t 0.17873963713645935 0.1310614049434662\n",
            "#>>>    21.92 16.44 \t\t|\t\t 5.48\n",
            "[Feb 27, 13:58:03] 224 0.34704755146983507\n",
            "\t\t\t\t 0.09527914971113205 0.14754851162433624\n",
            "#>>>    21.31 15.82 \t\t|\t\t 5.489999999999998\n",
            "[Feb 27, 13:58:03] 225 0.3469433315722501\n",
            "\t\t\t\t 0.10993898659944534 0.136454775929451\n",
            "#>>>    21.58 16.46 \t\t|\t\t 5.119999999999997\n",
            "[Feb 27, 13:58:04] 226 0.3468427820106573\n",
            "\t\t\t\t 0.1984308809041977 0.23032905161380768\n",
            "#>>>    21.28 15.59 \t\t|\t\t 5.690000000000001\n",
            "[Feb 27, 13:58:04] 227 0.3469246991611647\n",
            "\t\t\t\t 0.11520857363939285 0.09051172435283661\n",
            "#>>>    21.82 16.24 \t\t|\t\t 5.580000000000002\n",
            "[Feb 27, 13:58:05] 228 0.34678349476744635\n",
            "\t\t\t\t 0.14741738140583038 0.14299216866493225\n",
            "#>>>    21.48 15.73 \t\t|\t\t 5.75\n",
            "[Feb 27, 13:58:05] 229 0.34672712083765084\n",
            "\t\t\t\t 0.10142636299133301 0.19463877379894257\n",
            "#>>>    20.96 15.72 \t\t|\t\t 5.24\n",
            "[Feb 27, 13:58:06] 230 0.3466764588685046\n",
            "\t\t\t\t 0.25725144147872925 0.18168535828590393\n",
            "#>>>    21.42 15.44 \t\t|\t\t 5.980000000000002\n",
            "[Feb 27, 13:58:06] 231 0.3467687192094008\n",
            "\t\t\t\t 0.2607806921005249 0.16919787228107452\n",
            "#>>>    20.87 15.95 \t\t|\t\t 4.920000000000002\n",
            "[Feb 27, 13:58:07] 232 0.3468519290396718\n",
            "\t\t\t\t 0.18848641216754913 0.22077538073062897\n",
            "#>>>    21.13 15.94 \t\t|\t\t 5.1899999999999995\n",
            "[Feb 27, 13:58:07] 233 0.34691433890353035\n",
            "\t\t\t\t 0.13199101388454437 0.18454939126968384\n",
            "#>>>    21.13 15.32 \t\t|\t\t 5.809999999999999\n",
            "[Feb 27, 13:58:08] 234 0.3468839649846822\n",
            "\t\t\t\t 0.21382856369018555 0.1516464352607727\n",
            "#>>>    21.44 16.19 \t\t|\t\t 5.25\n",
            "[Feb 27, 13:58:08] 235 0.3469025560186485\n",
            "\t\t\t\t 0.23804804682731628 0.22087717056274414\n",
            "#>>>    21.7 16.12 \t\t|\t\t 5.579999999999998\n",
            "[Feb 27, 13:58:09] 236 0.3470145786800199\n",
            "\t\t\t\t 0.13983118534088135 0.08326614648103714\n",
            "#>>>    21.29 15.94 \t\t|\t\t 5.35\n",
            "[Feb 27, 13:58:09] 237 0.3468906614257112\n",
            "\t\t\t\t 0.09997883439064026 0.18875902891159058\n",
            "#>>>    20.91 15.62 \t\t|\t\t 5.290000000000001\n",
            "[Feb 27, 13:58:10] 238 0.3468325086275877\n",
            "\t\t\t\t 0.19903481006622314 0.10361132025718689\n",
            "#>>>    21.55 16.16 \t\t|\t\t 5.390000000000001\n",
            "[Feb 27, 13:58:10] 239 0.3467883222492835\n",
            "\t\t\t\t 0.14314745366573334 0.08245336264371872\n",
            "#>>>    21.41 16.53 \t\t|\t\t 4.879999999999999\n",
            "[Feb 27, 13:58:10] 240 0.3466671347358931\n",
            "\t\t\t\t 0.1670273244380951 0.11905691027641296\n",
            "#>>>    21.09 15.45 \t\t|\t\t 5.640000000000001\n",
            "[Feb 27, 13:58:11] 241 0.3466065518358717\n",
            "\t\t\t\t 0.11342780292034149 0.04015294089913368\n",
            "#>>>    22.04 16.52 \t\t|\t\t 5.52\n",
            "[Feb 27, 13:58:11] 242 0.34641352602413\n",
            "\t\t\t\t 0.24748648703098297 0.29864078760147095\n",
            "#>>>    21.28 16.12 \t\t|\t\t 5.16\n",
            "[Feb 27, 13:58:12] 243 0.3466132397578372\n",
            "\t\t\t\t 0.22882166504859924 0.123409204185009\n",
            "#>>>    21.4 16.07 \t\t|\t\t 5.329999999999998\n",
            "[Feb 27, 13:58:12] 244 0.34661885739476356\n",
            "\t\t\t\t 0.15282651782035828 0.21639764308929443\n",
            "#>>>    21.14 15.27 \t\t|\t\t 5.870000000000001\n",
            "[Feb 27, 13:58:13] 245 0.34664146269827845\n",
            "\t\t\t\t 0.198588564991951 0.09336098283529282\n",
            "#>>>    21.44 16.32 \t\t|\t\t 5.120000000000001\n",
            "[Feb 27, 13:58:13] 246 0.3465867707759568\n",
            "\t\t\t\t 0.184860497713089 0.22816745936870575\n",
            "#>>>    21.2 15.9 \t\t|\t\t 5.299999999999999\n",
            "[Feb 27, 13:58:14] 247 0.34665321194736143\n",
            "\t\t\t\t 0.15139853954315186 0.19366233050823212\n",
            "#>>>    21.42 16.6 \t\t|\t\t 4.82\n",
            "[Feb 27, 13:58:14] 248 0.3466516196203666\n",
            "\t\t\t\t 0.16239798069000244 0.1467122584581375\n",
            "#>>>    20.86 16.33 \t\t|\t\t 4.530000000000001\n",
            "[Feb 27, 13:58:15] 249 0.3466140782249932\n",
            "\t\t\t\t 0.24245356023311615 0.24192818999290466\n",
            "#>>>    20.92 15.89 \t\t|\t\t 5.030000000000001\n",
            "[Feb 27, 13:58:15] 250 0.346751845882093\n",
            "\t\t\t\t 0.14486169815063477 0.09492412954568863\n",
            "#>>>    21.32 16.18 \t\t|\t\t 5.140000000000001\n",
            "[Feb 27, 13:58:16] 251 0.34664487985645664\n",
            "\t\t\t\t 0.11235170066356659 0.08069061487913132\n",
            "#>>>    21.31 16.26 \t\t|\t\t 5.049999999999997\n",
            "[Feb 27, 13:58:16] 252 0.3464912772846923\n",
            "\t\t\t\t 0.10137876868247986 0.07223707437515259\n",
            "#>>>    21.52 15.68 \t\t|\t\t 5.84\n",
            "[Feb 27, 13:58:17] 253 0.34631840185046525\n",
            "\t\t\t\t 0.24866923689842224 0.10240193456411362\n",
            "#>>>    21.53 16.2 \t\t|\t\t 5.330000000000002\n",
            "[Feb 27, 13:58:17] 254 0.34632315462752794\n",
            "\t\t\t\t 0.1556200385093689 0.10791994631290436\n",
            "#>>>    21.33 16.37 \t\t|\t\t 4.959999999999997\n",
            "[Feb 27, 13:58:18] 255 0.34624037144282155\n",
            "\t\t\t\t 0.2358836829662323 0.40960049629211426\n",
            "#>>>    20.86 15.64 \t\t|\t\t 5.219999999999999\n",
            "[Feb 27, 13:58:18] 256 0.3465396152804394\n",
            "\t\t\t\t 0.18435877561569214 0.1684185117483139\n",
            "#>>>    21.34 15.58 \t\t|\t\t 5.76\n",
            "[Feb 27, 13:58:18] 257 0.3465458529674242\n",
            "\t\t\t\t 0.09898367524147034 0.11977973580360413\n",
            "#>>>    21.6 16.26 \t\t|\t\t 5.34\n",
            "[Feb 27, 13:58:19] 258 0.34641807052550183\n",
            "\t\t\t\t 0.11070217192173004 0.041719950735569\n",
            "#>>>    21.65 16.01 \t\t|\t\t 5.639999999999997\n",
            "[Feb 27, 13:58:19] 259 0.3462240745850842\n",
            "\t\t\t\t 0.14087596535682678 0.08977046608924866\n",
            "#>>>    21.24 15.93 \t\t|\t\t 5.309999999999999\n",
            "[Feb 27, 13:58:20] 260 0.34610849694194523\n",
            "\t\t\t\t 0.19733035564422607 0.14573414623737335\n",
            "#>>>    21.63 16.15 \t\t|\t\t 5.48\n",
            "[Feb 27, 13:58:20] 261 0.34610545293198375\n",
            "\t\t\t\t 0.144648477435112 0.1563420593738556\n",
            "#>>>    21.36 15.73 \t\t|\t\t 5.629999999999999\n",
            "[Feb 27, 13:58:21] 262 0.34606033800095953\n",
            "\t\t\t\t 0.23498359322547913 0.18475109338760376\n",
            "#>>>    20.95 16.27 \t\t|\t\t 4.68\n",
            "[Feb 27, 13:58:21] 263 0.3461340123495717\n",
            "\t\t\t\t 0.1586834192276001 0.13665525615215302\n",
            "#>>>    20.98 15.86 \t\t|\t\t 5.120000000000001\n",
            "[Feb 27, 13:58:22] 264 0.34608321702750305\n",
            "\t\t\t\t 0.26043441891670227 0.2774759531021118\n",
            "#>>>    20.81 16.18 \t\t|\t\t 4.629999999999999\n",
            "[Feb 27, 13:58:22] 265 0.34627504415269206\n",
            "\t\t\t\t 0.2048248052597046 0.1840117871761322\n",
            "#>>>    20.85 15.97 \t\t|\t\t 4.880000000000001\n",
            "[Feb 27, 13:58:23] 266 0.3463176057009752\n",
            "\t\t\t\t 0.08780166506767273 0.1219654455780983\n",
            "#>>>    21.54 16.03 \t\t|\t\t 5.509999999999998\n",
            "[Feb 27, 13:58:23] 267 0.3461810551984694\n",
            "\t\t\t\t 0.2408384084701538 0.10907763987779617\n",
            "#>>>    21.12 16.13 \t\t|\t\t 4.990000000000002\n",
            "[Feb 27, 13:58:24] 268 0.3461847901841683\n",
            "\t\t\t\t 0.08705144375562668 0.10268993675708771\n",
            "#>>>    21.61 15.78 \t\t|\t\t 5.83\n",
            "[Feb 27, 13:58:24] 269 0.3460283467670463\n",
            "\t\t\t\t 0.10276629030704498 0.10241582989692688\n",
            "#>>>    21.64 16.24 \t\t|\t\t 5.400000000000002\n",
            "[Feb 27, 13:58:25] 270 0.34588750054048323\n",
            "\t\t\t\t 0.09906049072742462 0.07581432163715363\n",
            "#>>>    21.68 16.73 \t\t|\t\t 4.949999999999999\n",
            "[Feb 27, 13:58:25] 271 0.3457164878523073\n",
            "\t\t\t\t 0.11272351443767548 0.14700430631637573\n",
            "#>>>    21.64 16.15 \t\t|\t\t 5.490000000000002\n",
            "[Feb 27, 13:58:26] 272 0.3456304992001102\n",
            "\t\t\t\t 0.12392017245292664 0.07815250009298325\n",
            "#>>>    21.62 15.91 \t\t|\t\t 5.710000000000001\n",
            "[Feb 27, 13:58:26] 273 0.3454869413809066\n",
            "\t\t\t\t 0.12038443982601166 0.16212283074855804\n",
            "#>>>    21.09 15.67 \t\t|\t\t 5.42\n",
            "[Feb 27, 13:58:27] 274 0.3454239617101002\n",
            "\t\t\t\t 0.21196122467517853 0.13858407735824585\n",
            "#>>>    21.25 15.81 \t\t|\t\t 5.4399999999999995\n",
            "[Feb 27, 13:58:27] 275 0.34542908303552233\n",
            "\t\t\t\t 0.26000162959098816 0.09371032565832138\n",
            "#>>>    21.56 15.91 \t\t|\t\t 5.649999999999999\n",
            "[Feb 27, 13:58:27] 276 0.3454373659151867\n",
            "\t\t\t\t 0.15490058064460754 0.1183691918849945\n",
            "#>>>    21.26 15.79 \t\t|\t\t 5.470000000000002\n",
            "[Feb 27, 13:58:28] 277 0.3453651983218011\n",
            "\t\t\t\t 0.2528015375137329 0.17394886910915375\n",
            "#>>>    21.08 15.88 \t\t|\t\t 5.1999999999999975\n",
            "[Feb 27, 13:58:28] 278 0.3454465835450034\n",
            "\t\t\t\t 0.2580770254135132 0.2533101439476013\n",
            "#>>>    20.67 15.4 \t\t|\t\t 5.270000000000001\n",
            "[Feb 27, 13:58:29] 279 0.3456125241308195\n",
            "\t\t\t\t 0.15190958976745605 0.08768964558839798\n",
            "#>>>    21.61 16.09 \t\t|\t\t 5.52\n",
            "[Feb 27, 13:58:29] 280 0.34550651083459394\n",
            "\t\t\t\t 0.21422377228736877 0.12992562353610992\n",
            "#>>>    21.11 16.45 \t\t|\t\t 4.66\n",
            "[Feb 27, 13:58:30] 281 0.345505153734484\n",
            "\t\t\t\t 0.19809386134147644 0.09387071430683136\n",
            "#>>>    21.24 16.13 \t\t|\t\t 5.109999999999999\n",
            "[Feb 27, 13:58:30] 282 0.34545161317129897\n",
            "\t\t\t\t 0.23553261160850525 0.152041494846344\n",
            "#>>>    21.23 16.32 \t\t|\t\t 4.91\n",
            "[Feb 27, 13:58:31] 283 0.3454937356645825\n",
            "\t\t\t\t 0.19966478645801544 0.15843306481838226\n",
            "#>>>    20.97 16.54 \t\t|\t\t 4.43\n",
            "[Feb 27, 13:58:31] 284 0.34550633978019435\n",
            "\t\t\t\t 0.18802517652511597 0.11011233180761337\n",
            "#>>>    21.45 16.3 \t\t|\t\t 5.149999999999999\n",
            "[Feb 27, 13:58:32] 285 0.3454589709561975\n",
            "\t\t\t\t 0.11903603374958038 0.046151503920555115\n",
            "#>>>    21.48 15.23 \t\t|\t\t 6.25\n",
            "[Feb 27, 13:58:32] 286 0.3452786995229114\n",
            "\t\t\t\t 0.2335210144519806 0.12234722077846527\n",
            "#>>>    21.45 16.79 \t\t|\t\t 4.66\n",
            "[Feb 27, 13:58:33] 287 0.3452892890437178\n",
            "\t\t\t\t 0.22237169742584229 0.20379386842250824\n",
            "#>>>    20.94 16.01 \t\t|\t\t 4.93\n",
            "[Feb 27, 13:58:33] 288 0.34537016533542364\n",
            "\t\t\t\t 0.2195495218038559 0.19693957269191742\n",
            "#>>>    21.36 15.73 \t\t|\t\t 5.629999999999999\n",
            "[Feb 27, 13:58:34] 289 0.345441284264584\n",
            "\t\t\t\t 0.18019717931747437 0.1034255176782608\n",
            "#>>>    21.51 16.3 \t\t|\t\t 5.210000000000001\n",
            "[Feb 27, 13:58:34] 290 0.345379465662414\n",
            "\t\t\t\t 0.12563636898994446 0.13192898035049438\n",
            "#>>>    21.33 15.59 \t\t|\t\t 5.739999999999998\n",
            "[Feb 27, 13:58:35] 291 0.34529165154609204\n",
            "\t\t\t\t 0.31998002529144287 0.24407923221588135\n",
            "#>>>    21.0 15.97 \t\t|\t\t 5.029999999999999\n",
            "[Feb 27, 13:58:35] 292 0.34551041915205327\n",
            "\t\t\t\t 0.11918357014656067 0.12246839702129364\n",
            "#>>>    21.41 16.62 \t\t|\t\t 4.789999999999999\n",
            "[Feb 27, 13:58:36] 293 0.3454065607000691\n",
            "\t\t\t\t 0.26917290687561035 0.13684821128845215\n",
            "#>>>    20.95 16.21 \t\t|\t\t 4.739999999999998\n",
            "[Feb 27, 13:58:36] 294 0.34546717525753307\n",
            "\t\t\t\t 0.3227977156639099 0.15252326428890228\n",
            "#>>>    21.57 16.43 \t\t|\t\t 5.140000000000001\n",
            "[Feb 27, 13:58:36] 295 0.3455970290771295\n",
            "\t\t\t\t 0.20086334645748138 0.0916270911693573\n",
            "#>>>    21.41 16.13 \t\t|\t\t 5.280000000000001\n",
            "[Feb 27, 13:58:37] 296 0.3455439224707781\n",
            "\t\t\t\t 0.2968561351299286 0.19218386709690094\n",
            "#>>>    21.36 16.44 \t\t|\t\t 4.919999999999998\n",
            "[Feb 27, 13:58:37] 297 0.34568741856543533\n",
            "\t\t\t\t 0.12995663285255432 0.12502521276474\n",
            "#>>>    21.22 16.13 \t\t|\t\t 5.09\n",
            "[Feb 27, 13:58:38] 298 0.3455967129924872\n",
            "\t\t\t\t 0.19172900915145874 0.1438932865858078\n",
            "#>>>    21.45 15.58 \t\t|\t\t 5.869999999999999\n",
            "[Feb 27, 13:58:38] 299 0.3455867385901331\n",
            "\t\t\t\t 0.18543758988380432 0.11809474229812622\n",
            "#>>>    21.15 15.93 \t\t|\t\t 5.219999999999999\n",
            "[Feb 27, 13:58:39] 300 0.3455446841837249\n",
            "\t\t\t\t 0.20694801211357117 0.1274576038122177\n",
            "#>>>    21.41 16.16 \t\t|\t\t 5.25\n",
            "[Feb 27, 13:58:39] 301 0.3455335451005658\n",
            "\t\t\t\t 0.17232400178909302 0.1966417282819748\n",
            "#>>>    21.22 15.96 \t\t|\t\t 5.259999999999998\n",
            "[Feb 27, 13:58:40] 302 0.34555697730043744\n",
            "\t\t\t\t 0.2292325496673584 0.136543408036232\n",
            "#>>>    21.53 16.35 \t\t|\t\t 5.18\n",
            "[Feb 27, 13:58:40] 303 0.3455771962659394\n",
            "\t\t\t\t 0.13175126910209656 0.09869410842657089\n",
            "#>>>    21.89 16.73 \t\t|\t\t 5.16\n",
            "[Feb 27, 13:58:41] 304 0.3454620644546527\n",
            "\t\t\t\t 0.20103824138641357 0.14701740443706512\n",
            "#>>>    21.56 16.18 \t\t|\t\t 5.379999999999999\n",
            "[Feb 27, 13:58:41] 305 0.34546465805092275\n",
            "\t\t\t\t 0.10312004387378693 0.10988426208496094\n",
            "#>>>    21.38 16.03 \t\t|\t\t 5.349999999999998\n",
            "[Feb 27, 13:58:42] 306 0.3453321976988306\n",
            "\t\t\t\t 0.12608972191810608 0.0906677097082138\n",
            "#>>>    20.99 15.73 \t\t|\t\t 5.259999999999998\n",
            "[Feb 27, 13:58:42] 307 0.3452036229327581\n",
            "\t\t\t\t 0.23076549172401428 0.33404433727264404\n",
            "#>>>    21.16 16.08 \t\t|\t\t 5.080000000000002\n",
            "[Feb 27, 13:58:43] 308 0.3454232291090196\n",
            "\t\t\t\t 0.19740945100784302 0.09699060022830963\n",
            "#>>>    21.49 16.21 \t\t|\t\t 5.279999999999998\n",
            "[Feb 27, 13:58:43] 309 0.3453722059162456\n",
            "\t\t\t\t 0.1706671416759491 0.16676338016986847\n",
            "#>>>    21.06 15.56 \t\t|\t\t 5.499999999999998\n",
            "[Feb 27, 13:58:44] 310 0.34536426424707634\n",
            "\t\t\t\t 0.16864080727100372 0.13637453317642212\n",
            "#>>>    21.55 15.81 \t\t|\t\t 5.74\n",
            "[Feb 27, 13:58:44] 311 0.34532391530837553\n",
            "\t\t\t\t 0.1632249355316162 0.07327185571193695\n",
            "#>>>    21.48 16.52 \t\t|\t\t 4.960000000000001\n",
            "[Feb 27, 13:58:45] 312 0.3452150881843107\n",
            "\t\t\t\t 0.13377922773361206 0.2290874719619751\n",
            "#>>>    21.18 15.82 \t\t|\t\t 5.359999999999999\n",
            "[Feb 27, 13:58:45] 313 0.345232739795822\n",
            "\t\t\t\t 0.14383302628993988 0.07883989810943604\n",
            "#>>>    21.67 16.49 \t\t|\t\t 5.180000000000003\n",
            "[Feb 27, 13:58:45] 314 0.34511017998042554\n",
            "\t\t\t\t 0.10169849544763565 0.09989837557077408\n",
            "#>>>    21.92 15.95 \t\t|\t\t 5.970000000000002\n",
            "[Feb 27, 13:58:46] 315 0.34496666667146353\n",
            "\t\t\t\t 0.15762744843959808 0.05940323695540428\n",
            "#>>>    21.67 16.24 \t\t|\t\t 5.430000000000003\n",
            "[Feb 27, 13:58:46] 316 0.34483873069391235\n",
            "\t\t\t\t 0.15437862277030945 0.10738693922758102\n",
            "#>>>    21.12 15.56 \t\t|\t\t 5.5600000000000005\n",
            "[Feb 27, 13:58:47] 317 0.3447556575326669\n",
            "\t\t\t\t 0.33869749307632446 0.3126959502696991\n",
            "#>>>    21.19 16.11 \t\t|\t\t 5.080000000000002\n",
            "[Feb 27, 13:58:47] 318 0.34506229528867793\n",
            "\t\t\t\t 0.13208672404289246 0.11250317841768265\n",
            "#>>>    21.54 15.89 \t\t|\t\t 5.649999999999999\n",
            "[Feb 27, 13:58:48] 319 0.3449618228883992\n",
            "\t\t\t\t 0.2339034378528595 0.21087144315242767\n",
            "#>>>    20.65 15.86 \t\t|\t\t 4.789999999999999\n",
            "[Feb 27, 13:58:48] 320 0.34506163593161493\n",
            "\t\t\t\t 0.20258750021457672 0.08785727620124817\n",
            "#>>>    21.46 16.15 \t\t|\t\t 5.310000000000002\n",
            "[Feb 27, 13:58:49] 321 0.3450070190870003\n",
            "\t\t\t\t 0.14575882256031036 0.12775103747844696\n",
            "#>>>    21.61 16.46 \t\t|\t\t 5.149999999999999\n",
            "[Feb 27, 13:58:49] 322 0.34493552192795207\n",
            "\t\t\t\t 0.19267067313194275 0.19621515274047852\n",
            "#>>>    20.88 15.35 \t\t|\t\t 5.529999999999999\n",
            "[Feb 27, 13:58:50] 323 0.34497947223189657\n",
            "\t\t\t\t 0.1479083150625229 0.15615928173065186\n",
            "#>>>    21.39 16.23 \t\t|\t\t 5.16\n",
            "[Feb 27, 13:58:50] 324 0.344938560371359\n",
            "\t\t\t\t 0.1421656757593155 0.23940536379814148\n",
            "#>>>    21.25 15.53 \t\t|\t\t 5.720000000000001\n",
            "[Feb 27, 13:58:51] 325 0.34497519286544626\n",
            "\t\t\t\t 0.16820566356182098 0.2581067681312561\n",
            "#>>>    21.04 15.3 \t\t|\t\t 5.739999999999998\n",
            "[Feb 27, 13:58:51] 326 0.34505653011917503\n",
            "\t\t\t\t 0.15738829970359802 0.14232942461967468\n",
            "#>>>    21.16 15.61 \t\t|\t\t 5.550000000000001\n",
            "[Feb 27, 13:58:52] 327 0.34501119131337915\n",
            "\t\t\t\t 0.24095980823040009 0.2393365055322647\n",
            "#>>>    21.38 15.9 \t\t|\t\t 5.479999999999999\n",
            "[Feb 27, 13:58:52] 328 0.34514647643582846\n",
            "\t\t\t\t 0.15081273019313812 0.16050904989242554\n",
            "#>>>    21.53 16.08 \t\t|\t\t 5.450000000000003\n",
            "[Feb 27, 13:58:53] 329 0.34511265175437933\n",
            "\t\t\t\t 0.19794684648513794 0.06510118395090103\n",
            "#>>>    21.42 15.92 \t\t|\t\t 5.500000000000002\n",
            "[Feb 27, 13:58:53] 330 0.3450305871256104\n",
            "\t\t\t\t 0.1445809006690979 0.1501815915107727\n",
            "#>>>    21.4 16.03 \t\t|\t\t 5.369999999999997\n",
            "[Feb 27, 13:58:54] 331 0.3449803190306647\n",
            "\t\t\t\t 0.17310592532157898 0.1262912154197693\n",
            "#>>>    21.49 16.39 \t\t|\t\t 5.099999999999998\n",
            "[Feb 27, 13:58:54] 332 0.34493473585237533\n",
            "\t\t\t\t 0.1722644865512848 0.03612182289361954\n",
            "#>>>    21.89 16.39 \t\t|\t\t 5.5\n",
            "[Feb 27, 13:58:54] 333 0.34479818741851725\n",
            "\t\t\t\t 0.18615713715553284 0.09192591905593872\n",
            "#>>>    21.2 16.1 \t\t|\t\t 5.099999999999998\n",
            "[Feb 27, 13:58:55] 334 0.3447314722873102\n",
            "\t\t\t\t 0.13693872094154358 0.07158979773521423\n",
            "#>>>    21.55 16.56 \t\t|\t\t 4.990000000000002\n",
            "[Feb 27, 13:58:55] 335 0.34459526933369966\n",
            "\t\t\t\t 0.09106318652629852 0.07776886969804764\n",
            "#>>>    22.09 16.61 \t\t|\t\t 5.48\n",
            "[Feb 27, 13:58:56] 336 0.34441950612804084\n",
            "\t\t\t\t 0.11253377795219421 0.08526679873466492\n",
            "#>>>    21.93 16.25 \t\t|\t\t 5.68\n",
            "[Feb 27, 13:58:56] 337 0.3442728871985996\n",
            "\t\t\t\t 0.19216987490653992 0.07303109765052795\n",
            "#>>>    21.65 16.68 \t\t|\t\t 4.969999999999999\n",
            "[Feb 27, 13:58:57] 338 0.34419381528395804\n",
            "\t\t\t\t 0.1747693121433258 0.12353542447090149\n",
            "#>>>    21.9 16.4 \t\t|\t\t 5.5\n",
            "[Feb 27, 13:58:57] 339 0.34414792620528833\n",
            "\t\t\t\t 0.1864069700241089 0.10402677953243256\n",
            "#>>>    21.32 15.65 \t\t|\t\t 5.67\n",
            "[Feb 27, 13:58:58] 340 0.34409421204354074\n",
            "\t\t\t\t 0.21616461873054504 0.15674537420272827\n",
            "#>>>    21.54 15.85 \t\t|\t\t 5.6899999999999995\n",
            "[Feb 27, 13:58:58] 341 0.34412302782443044\n",
            "\t\t\t\t 0.15545211732387543 0.1725468933582306\n",
            "#>>>    21.4 16.37 \t\t|\t\t 5.029999999999998\n",
            "[Feb 27, 13:58:59] 342 0.34410690379238695\n",
            "\t\t\t\t 0.24635204672813416 0.15331389009952545\n",
            "#>>>    21.15 16.39 \t\t|\t\t 4.759999999999998\n",
            "[Feb 27, 13:58:59] 343 0.34416246284032337\n",
            "\t\t\t\t 0.22106005251407623 0.11871908605098724\n",
            "#>>>    21.12 15.64 \t\t|\t\t 5.48\n",
            "[Feb 27, 13:59:00] 344 0.34415807951604815\n",
            "\t\t\t\t 0.14390765130519867 0.10755883902311325\n",
            "#>>>    21.58 15.86 \t\t|\t\t 5.719999999999999\n",
            "[Feb 27, 13:59:00] 345 0.3440653879194098\n",
            "\t\t\t\t 0.0971170961856842 0.06051813066005707\n",
            "#>>>    21.41 15.65 \t\t|\t\t 5.76\n",
            "[Feb 27, 13:59:01] 346 0.34387895775833616\n",
            "\t\t\t\t 0.17112666368484497 0.11372165381908417\n",
            "#>>>    21.17 15.91 \t\t|\t\t 5.260000000000002\n",
            "[Feb 27, 13:59:01] 347 0.3438199271329829\n",
            "\t\t\t\t 0.2816755771636963 0.14044331014156342\n",
            "#>>>    21.21 16.26 \t\t|\t\t 4.949999999999999\n",
            "[Feb 27, 13:59:02] 348 0.34389822610805637\n",
            "\t\t\t\t 0.22845599055290222 0.12433753907680511\n",
            "#>>>    21.13 16.2 \t\t|\t\t 4.93\n",
            "[Feb 27, 13:59:02] 349 0.3439071213966769\n",
            "\t\t\t\t 0.14742983877658844 0.1244335025548935\n",
            "#>>>    21.15 16.12 \t\t|\t\t 5.029999999999998\n",
            "[Feb 27, 13:59:02] 350 0.3438350776166117\n",
            "\t\t\t\t 0.1101430281996727 0.11802246421575546\n",
            "#>>>    21.39 15.82 \t\t|\t\t 5.57\n",
            "[Feb 27, 13:59:03] 351 0.34371940803141054\n",
            "\t\t\t\t 0.2900656461715698 0.2523009777069092\n",
            "#>>>    20.79 16.55 \t\t|\t\t 4.239999999999998\n",
            "[Feb 27, 13:59:03] 352 0.3439180552472576\n",
            "\t\t\t\t 0.12880755960941315 0.07366965711116791\n",
            "#>>>    21.46 15.94 \t\t|\t\t 5.520000000000001\n",
            "[Feb 27, 13:59:04] 353 0.3437766144087309\n",
            "\t\t\t\t 0.11418401449918747 0.09629605710506439\n",
            "#>>>    21.5 15.85 \t\t|\t\t 5.65\n",
            "[Feb 27, 13:59:04] 354 0.3436433178584759\n",
            "\t\t\t\t 0.18207363784313202 0.14184609055519104\n",
            "#>>>    20.87 16.18 \t\t|\t\t 4.690000000000001\n",
            "[Feb 27, 13:59:05] 355 0.3436235942541146\n",
            "\t\t\t\t 0.18396037817001343 0.08584467321634293\n",
            "#>>>    21.59 15.85 \t\t|\t\t 5.74\n",
            "[Feb 27, 13:59:05] 356 0.34354977570379625\n",
            "\t\t\t\t 0.09493837505578995 0.11202956736087799\n",
            "#>>>    21.41 16.1 \t\t|\t\t 5.309999999999999\n",
            "[Feb 27, 13:59:06] 357 0.3434131938779597\n",
            "\t\t\t\t 0.2937557101249695 0.2625401020050049\n",
            "#>>>    20.72 15.43 \t\t|\t\t 5.289999999999999\n",
            "[Feb 27, 13:59:06] 358 0.3436260764962117\n",
            "\t\t\t\t 0.18055538833141327 0.09537135809659958\n",
            "#>>>    21.28 15.96 \t\t|\t\t 5.32\n",
            "[Feb 27, 13:59:07] 359 0.34355837715869286\n",
            "\t\t\t\t 0.18381735682487488 0.10229998081922531\n",
            "#>>>    21.25 15.76 \t\t|\t\t 5.49\n",
            "[Feb 27, 13:59:07] 360 0.34350093612662885\n",
            "\t\t\t\t 0.20706158876419067 0.14640896022319794\n",
            "#>>>    21.04 16.14 \t\t|\t\t 4.899999999999999\n",
            "[Feb 27, 13:59:08] 361 0.3435109057543908\n",
            "\t\t\t\t 0.19896350800991058 0.1656503975391388\n",
            "#>>>    21.14 16.4 \t\t|\t\t 4.740000000000002\n",
            "[Feb 27, 13:59:08] 362 0.3435320087392843\n",
            "\t\t\t\t 0.22124652564525604 0.11960835754871368\n",
            "#>>>    21.65 16.26 \t\t|\t\t 5.389999999999997\n",
            "[Feb 27, 13:59:09] 363 0.343529331613739\n",
            "\t\t\t\t 0.21594387292861938 0.16122646629810333\n",
            "#>>>    21.4 16.81 \t\t|\t\t 4.59\n",
            "[Feb 27, 13:59:09] 364 0.3435629726064508\n",
            "\t\t\t\t 0.13910257816314697 0.1323721706867218\n",
            "#>>>    21.14 15.98 \t\t|\t\t 5.16\n",
            "[Feb 27, 13:59:10] 365 0.3434908843826942\n",
            "\t\t\t\t 0.1375700980424881 0.09537214785814285\n",
            "#>>>    21.54 16.59 \t\t|\t\t 4.949999999999999\n",
            "[Feb 27, 13:59:10] 366 0.3433803357516627\n",
            "\t\t\t\t 0.21082957088947296 0.16399672627449036\n",
            "#>>>    21.28 16.76 \t\t|\t\t 4.52\n",
            "[Feb 27, 13:59:11] 367 0.3434117817279762\n",
            "\t\t\t\t 0.18953321874141693 0.14790374040603638\n",
            "#>>>    20.99 16.38 \t\t|\t\t 4.609999999999999\n",
            "[Feb 27, 13:59:11] 368 0.3434058069202968\n",
            "\t\t\t\t 0.19838662445545197 0.23301951587200165\n",
            "#>>>    21.51 15.94 \t\t|\t\t 5.570000000000002\n",
            "[Feb 27, 13:59:11] 369 0.343493807253704\n",
            "\t\t\t\t 0.1363464593887329 0.20604471862316132\n",
            "#>>>    21.02 15.61 \t\t|\t\t 5.41\n",
            "[Feb 27, 13:59:12] 370 0.3434927046393634\n",
            "\t\t\t\t 0.127226784825325 0.15337075293064117\n",
            "#>>>    21.12 15.77 \t\t|\t\t 5.350000000000001\n",
            "[Feb 27, 13:59:12] 371 0.34342980947248\n",
            "\t\t\t\t 0.26927459239959717 0.2072698473930359\n",
            "#>>>    21.1 15.97 \t\t|\t\t 5.130000000000001\n",
            "[Feb 27, 13:59:13] 372 0.3435629241028001\n",
            "\t\t\t\t 0.3095402121543884 0.2574845850467682\n",
            "#>>>    21.32 15.93 \t\t|\t\t 5.390000000000001\n",
            "[Feb 27, 13:59:13] 373 0.3437863860057008\n",
            "\t\t\t\t 0.1452740579843521 0.06259915232658386\n",
            "#>>>    21.65 16.51 \t\t|\t\t 5.139999999999997\n",
            "[Feb 27, 13:59:14] 374 0.34365047283000605\n",
            "\t\t\t\t 0.18975505232810974 0.10579083114862442\n",
            "#>>>    21.21 16.12 \t\t|\t\t 5.09\n",
            "[Feb 27, 13:59:14] 375 0.34360236823320217\n",
            "\t\t\t\t 0.07665101438760757 0.12054459005594254\n",
            "#>>>    21.6 15.26 \t\t|\t\t 6.340000000000002\n",
            "[Feb 27, 13:59:15] 376 0.3434559614694125\n",
            "\t\t\t\t 0.0911712497472763 0.10704787075519562\n",
            "#>>>    21.06 15.3 \t\t|\t\t 5.759999999999998\n",
            "[Feb 27, 13:59:15] 377 0.3433107246284456\n",
            "\t\t\t\t 0.21881379187107086 0.0953507050871849\n",
            "#>>>    21.85 16.35 \t\t|\t\t 5.5\n",
            "[Feb 27, 13:59:16] 378 0.3432815783933248\n",
            "\t\t\t\t 0.14527326822280884 0.08826656639575958\n",
            "#>>>    21.43 15.74 \t\t|\t\t 5.6899999999999995\n",
            "[Feb 27, 13:59:16] 379 0.34317183664955003\n",
            "\t\t\t\t 0.16319984197616577 0.18662838637828827\n",
            "#>>>    21.29 15.79 \t\t|\t\t 5.5\n",
            "[Feb 27, 13:59:17] 380 0.3431784930561561\n",
            "\t\t\t\t 0.170528382062912 0.16232943534851074\n",
            "#>>>    21.05 15.51 \t\t|\t\t 5.540000000000001\n",
            "[Feb 27, 13:59:17] 381 0.3431681723805114\n",
            "\t\t\t\t 0.20455500483512878 0.12597116827964783\n",
            "#>>>    21.69 16.46 \t\t|\t\t 5.23\n",
            "[Feb 27, 13:59:18] 382 0.3431555303812457\n",
            "\t\t\t\t 0.2043185830116272 0.10080345720052719\n",
            "#>>>    21.17 16.16 \t\t|\t\t 5.010000000000002\n",
            "[Feb 27, 13:59:18] 383 0.3431174968985272\n",
            "\t\t\t\t 0.15164998173713684 0.25404345989227295\n",
            "#>>>    21.0 15.66 \t\t|\t\t 5.34\n",
            "[Feb 27, 13:59:19] 384 0.3431800728432581\n",
            "\t\t\t\t 0.25589001178741455 0.2863504886627197\n",
            "#>>>    20.87 15.42 \t\t|\t\t 5.450000000000001\n",
            "[Feb 27, 13:59:19] 385 0.34337913327086494\n",
            "\t\t\t\t 0.18437646329402924 0.1532914638519287\n",
            "#>>>    21.3 16.52 \t\t|\t\t 4.780000000000001\n",
            "[Feb 27, 13:59:20] 386 0.34337342207964117\n",
            "\t\t\t\t 0.24457001686096191 0.18384520709514618\n",
            "#>>>    20.76 16.1 \t\t|\t\t 4.66\n",
            "[Feb 27, 13:59:20] 387 0.3434584638964188\n",
            "\t\t\t\t 0.18541494011878967 0.1120641902089119\n",
            "#>>>    21.02 16.38 \t\t|\t\t 4.640000000000001\n",
            "[Feb 27, 13:59:20] 388 0.3434124845553995\n",
            "\t\t\t\t 0.18362551927566528 0.08956968784332275\n",
            "#>>>    21.11 15.72 \t\t|\t\t 5.389999999999999\n",
            "[Feb 27, 13:59:21] 389 0.34334226727796313\n",
            "\t\t\t\t 0.15702101588249207 0.24029314517974854\n",
            "#>>>    21.35 16.44 \t\t|\t\t 4.91\n",
            "[Feb 27, 13:59:21] 390 0.34339623917174744\n",
            "\t\t\t\t 0.11253262311220169 0.12724120914936066\n",
            "#>>>    21.28 15.91 \t\t|\t\t 5.370000000000001\n",
            "[Feb 27, 13:59:22] 391 0.34329261677228784\n",
            "\t\t\t\t 0.22031031548976898 0.26546165347099304\n",
            "#>>>    21.22 15.45 \t\t|\t\t 5.77\n",
            "[Feb 27, 13:59:22] 392 0.3434350961095751\n",
            "\t\t\t\t 0.1777099072933197 0.11228926479816437\n",
            "#>>>    21.42 15.93 \t\t|\t\t 5.490000000000002\n",
            "[Feb 27, 13:59:23] 393 0.3433816602004582\n",
            "\t\t\t\t 0.08678190410137177 0.09509606659412384\n",
            "#>>>    21.64 16.0 \t\t|\t\t 5.640000000000001\n",
            "[Feb 27, 13:59:23] 394 0.3432201565109532\n",
            "\t\t\t\t 0.19020171463489532 0.10358311235904694\n",
            "#>>>    21.34 15.96 \t\t|\t\t 5.379999999999999\n",
            "[Feb 27, 13:59:24] 395 0.3431707211814362\n",
            "\t\t\t\t 0.19036617875099182 0.12810707092285156\n",
            "#>>>    21.18 16.35 \t\t|\t\t 4.829999999999998\n",
            "[Feb 27, 13:59:24] 396 0.3431460237099286\n",
            "\t\t\t\t 0.11649201810359955 0.07075077295303345\n",
            "#>>>    21.85 15.79 \t\t|\t\t 6.060000000000002\n",
            "[Feb 27, 13:59:25] 397 0.3429901204772753\n",
            "\t\t\t\t 0.16110864281654358 0.16030272841453552\n",
            "#>>>    21.46 16.01 \t\t|\t\t 5.449999999999999\n",
            "[Feb 27, 13:59:25] 398 0.3429685417280291\n",
            "\t\t\t\t 0.10750497877597809 0.17294566333293915\n",
            "#>>>    21.29 15.83 \t\t|\t\t 5.459999999999999\n",
            "[Feb 27, 13:59:26] 399 0.34290602382840996\n",
            "\t\t\t\t 0.21416929364204407 0.10972974449396133\n",
            "#>>>    20.78 16.08 \t\t|\t\t 4.700000000000003\n",
            "[Feb 27, 13:59:26] 400 0.34288701683526696\n",
            "\t\t\t\t 0.11147476732730865 0.0601314939558506\n",
            "#>>>    21.67 16.0 \t\t|\t\t 5.670000000000002\n",
            "[Feb 27, 13:59:27] 401 0.34271573607598954\n",
            "\t\t\t\t 0.13164512813091278 0.18145518004894257\n",
            "#>>>    21.24 16.04 \t\t|\t\t 5.199999999999999\n",
            "[Feb 27, 13:59:27] 402 0.34268612064809345\n",
            "\t\t\t\t 0.17227564752101898 0.10384999215602875\n",
            "#>>>    21.61 16.25 \t\t|\t\t 5.359999999999999\n",
            "[Feb 27, 13:59:28] 403 0.3426195601671224\n",
            "\t\t\t\t 0.16268977522850037 0.1520523726940155\n",
            "#>>>    21.69 15.63 \t\t|\t\t 6.0600000000000005\n",
            "[Feb 27, 13:59:28] 404 0.34259168275487784\n",
            "\t\t\t\t 0.38665691018104553 0.2766631841659546\n",
            "#>>>    21.44 16.2 \t\t|\t\t 5.240000000000002\n",
            "[Feb 27, 13:59:29] 405 0.34291241113666765\n",
            "\t\t\t\t 0.15829095244407654 0.10594063252210617\n",
            "#>>>    21.35 16.35 \t\t|\t\t 5.0\n",
            "[Feb 27, 13:59:29] 406 0.3428337303179478\n",
            "\t\t\t\t 0.1650761514902115 0.046735361218452454\n",
            "#>>>    21.44 16.28 \t\t|\t\t 5.16\n",
            "[Feb 27, 13:59:29] 407 0.3427027081003385\n",
            "\t\t\t\t 0.12111884355545044 0.16080144047737122\n",
            "#>>>    21.72 15.45 \t\t|\t\t 6.27\n",
            "[Feb 27, 13:59:30] 408 0.342641925676271\n",
            "\t\t\t\t 0.14177459478378296 0.1637202352285385\n",
            "#>>>    20.97 15.35 \t\t|\t\t 5.619999999999999\n",
            "[Feb 27, 13:59:30] 409 0.3426047785955082\n",
            "\t\t\t\t 0.1165783703327179 0.12616278231143951\n",
            "#>>>    21.28 16.13 \t\t|\t\t 5.150000000000002\n",
            "[Feb 27, 13:59:31] 410 0.3425049149695569\n",
            "\t\t\t\t 0.17391330003738403 0.18292558193206787\n",
            "#>>>    21.07 15.53 \t\t|\t\t 5.540000000000001\n",
            "[Feb 27, 13:59:31] 411 0.3425192489365568\n",
            "\t\t\t\t 0.11570459604263306 0.11797574162483215\n",
            "#>>>    21.49 15.86 \t\t|\t\t 5.629999999999999\n",
            "[Feb 27, 13:59:32] 412 0.34241041002528766\n",
            "\t\t\t\t 0.19313722848892212 0.14591415226459503\n",
            "#>>>    21.33 15.97 \t\t|\t\t 5.359999999999998\n",
            "[Feb 27, 13:59:32] 413 0.34240705098111474\n",
            "\t\t\t\t 0.1476542055606842 0.08896568417549133\n",
            "#>>>    21.71 16.28 \t\t|\t\t 5.43\n",
            "[Feb 27, 13:59:33] 414 0.3423012638198698\n",
            "\t\t\t\t 0.1465015858411789 0.11735624819993973\n",
            "#>>>    21.14 15.8 \t\t|\t\t 5.34\n",
            "[Feb 27, 13:59:33] 415 0.34222282039754165\n",
            "\t\t\t\t 0.12096529453992844 0.07412032783031464\n",
            "#>>>    21.43 16.0 \t\t|\t\t 5.43\n",
            "[Feb 27, 13:59:34] 416 0.3420756831920638\n",
            "\t\t\t\t 0.11359746009111404 0.11573441326618195\n",
            "#>>>    21.66 16.3 \t\t|\t\t 5.359999999999999\n",
            "[Feb 27, 13:59:34] 417 0.3419629393896796\n",
            "\t\t\t\t 0.10832785069942474 0.09273025393486023\n",
            "#>>>    21.38 16.61 \t\t|\t\t 4.77\n",
            "[Feb 27, 13:59:35] 418 0.34182203455492416\n",
            "\t\t\t\t 0.1446245014667511 0.09804531186819077\n",
            "#>>>    21.26 16.24 \t\t|\t\t 5.020000000000003\n",
            "[Feb 27, 13:59:35] 419 0.3417228823411548\n",
            "\t\t\t\t 0.24788731336593628 0.11974292248487473\n",
            "#>>>    21.35 15.88 \t\t|\t\t 5.470000000000001\n",
            "[Feb 27, 13:59:36] 420 0.34174878970211503\n",
            "\t\t\t\t 0.09445998817682266 0.1730719655752182\n",
            "#>>>    20.65 15.79 \t\t|\t\t 4.859999999999999\n",
            "[Feb 27, 13:59:36] 421 0.3416745728736155\n",
            "\t\t\t\t 0.19901427626609802 0.13228581845760345\n",
            "#>>>    21.21 16.25 \t\t|\t\t 4.960000000000001\n",
            "[Feb 27, 13:59:37] 422 0.34166419838056444\n",
            "\t\t\t\t 0.16926456987857819 0.11039724946022034\n",
            "#>>>    21.31 16.54 \t\t|\t\t 4.77\n",
            "[Feb 27, 13:59:37] 423 0.34160219601642383\n",
            "\t\t\t\t 0.18359722197055817 0.12862487137317657\n",
            "#>>>    21.27 16.19 \t\t|\t\t 5.079999999999998\n",
            "[Feb 27, 13:59:38] 424 0.34157281591375116\n",
            "\t\t\t\t 0.282886803150177 0.3186536729335785\n",
            "#>>>    20.85 15.76 \t\t|\t\t 5.090000000000002\n",
            "[Feb 27, 13:59:38] 425 0.34183278354411883\n",
            "\t\t\t\t 0.14151202142238617 0.08893311023712158\n",
            "#>>>    21.83 15.97 \t\t|\t\t 5.859999999999998\n",
            "[Feb 27, 13:59:38] 426 0.3417213958922342\n",
            "\t\t\t\t 0.16619548201560974 0.07572736591100693\n",
            "#>>>    21.01 15.72 \t\t|\t\t 5.290000000000001\n",
            "[Feb 27, 13:59:39] 427 0.3416215973517192\n",
            "\t\t\t\t 0.14680716395378113 0.09329036623239517\n",
            "#>>>    21.37 15.93 \t\t|\t\t 5.440000000000001\n",
            "[Feb 27, 13:59:39] 428 0.34152007327710304\n",
            "\t\t\t\t 0.13725998997688293 0.1291588693857193\n",
            "#>>>    21.31 15.44 \t\t|\t\t 5.869999999999999\n",
            "[Feb 27, 13:59:40] 429 0.3414449720780897\n",
            "\t\t\t\t 0.13150091469287872 0.1990465521812439\n",
            "#>>>    20.65 15.13 \t\t|\t\t 5.519999999999998\n",
            "[Feb 27, 13:59:40] 430 0.3414340745579846\n",
            "\t\t\t\t 0.19950658082962036 0.155622661113739\n",
            "#>>>    21.52 15.83 \t\t|\t\t 5.6899999999999995\n",
            "[Feb 27, 13:59:41] 431 0.34144776972536994\n",
            "\t\t\t\t 0.12336664646863937 0.12043121457099915\n",
            "#>>>    21.93 15.88 \t\t|\t\t 6.049999999999999\n",
            "[Feb 27, 13:59:41] 432 0.34135011982413477\n",
            "\t\t\t\t 0.14923569560050964 0.0347372367978096\n",
            "#>>>    21.9 16.2 \t\t|\t\t 5.699999999999999\n",
            "[Feb 27, 13:59:42] 433 0.3411927426292584\n",
            "\t\t\t\t 0.1359027773141861 0.1708536446094513\n",
            "#>>>    21.04 15.68 \t\t|\t\t 5.359999999999999\n",
            "[Feb 27, 13:59:42] 434 0.34115830632345395\n",
            "\t\t\t\t 0.1644589751958847 0.13317805528640747\n",
            "#>>>    21.53 15.97 \t\t|\t\t 5.5600000000000005\n",
            "[Feb 27, 13:59:43] 435 0.3411147850625139\n",
            "\t\t\t\t 0.15021122992038727 0.17169497907161713\n",
            "#>>>    21.37 16.12 \t\t|\t\t 5.25\n",
            "[Feb 27, 13:59:43] 436 0.34109557648644345\n",
            "\t\t\t\t 0.19512581825256348 0.11155953258275986\n",
            "#>>>    21.64 16.0 \t\t|\t\t 5.640000000000001\n",
            "[Feb 27, 13:59:44] 437 0.34106116626824295\n",
            "\t\t\t\t 0.2196853905916214 0.12121891975402832\n",
            "#>>>    21.74 16.58 \t\t|\t\t 5.16\n",
            "[Feb 27, 13:59:44] 438 0.3410610093974192\n",
            "\t\t\t\t 0.33511072397232056 0.1728866994380951\n",
            "#>>>    21.43 16.52 \t\t|\t\t 4.91\n",
            "[Feb 27, 13:59:45] 439 0.34122794578162985\n",
            "\t\t\t\t 0.14747485518455505 0.10834651440382004\n",
            "#>>>    21.13 16.07 \t\t|\t\t 5.059999999999999\n",
            "[Feb 27, 13:59:45] 440 0.3411425392128872\n",
            "\t\t\t\t 0.18623676896095276 0.15351161360740662\n",
            "#>>>    21.74 16.03 \t\t|\t\t 5.709999999999997\n",
            "[Feb 27, 13:59:46] 441 0.3411411450562426\n",
            "\t\t\t\t 0.1254148930311203 0.14063380658626556\n",
            "#>>>    21.57 15.65 \t\t|\t\t 5.92\n",
            "[Feb 27, 13:59:46] 442 0.34106605261080375\n",
            "\t\t\t\t 0.15202286839485168 0.12788785994052887\n",
            "#>>>    21.27 15.8 \t\t|\t\t 5.469999999999999\n",
            "[Feb 27, 13:59:47] 443 0.34100489730142947\n",
            "\t\t\t\t 0.09913656115531921 0.07171767950057983\n",
            "#>>>    21.46 15.92 \t\t|\t\t 5.540000000000001\n",
            "[Feb 27, 13:59:47] 444 0.3408347466447839\n",
            "\t\t\t\t 0.23104244470596313 0.13097138702869415\n",
            "#>>>    21.44 16.38 \t\t|\t\t 5.060000000000002\n",
            "[Feb 27, 13:59:48] 445 0.34085592571497264\n",
            "\t\t\t\t 0.11790686845779419 0.07375320047140121\n",
            "#>>>    21.88 16.32 \t\t|\t\t 5.559999999999999\n",
            "[Feb 27, 13:59:48] 446 0.34070672986563744\n",
            "\t\t\t\t 0.22859922051429749 0.1806110292673111\n",
            "#>>>    20.81 15.69 \t\t|\t\t 5.119999999999999\n",
            "[Feb 27, 13:59:48] 447 0.34077523340045457\n",
            "\t\t\t\t 0.24880917370319366 0.15587148070335388\n",
            "#>>>    21.23 16.26 \t\t|\t\t 4.969999999999999\n",
            "[Feb 27, 13:59:49] 448 0.3408391388363618\n",
            "\t\t\t\t 0.1839541792869568 0.20285570621490479\n",
            "#>>>    21.37 15.61 \t\t|\t\t 5.760000000000002\n",
            "[Feb 27, 13:59:49] 449 0.3408851095830273\n",
            "\t\t\t\t 0.13818004727363586 0.06340590119361877\n",
            "#>>>    21.32 15.68 \t\t|\t\t 5.640000000000001\n",
            "[Feb 27, 13:59:50] 450 0.34074581042191154\n",
            "\t\t\t\t 0.17402008175849915 0.1232050284743309\n",
            "#>>>    21.24 15.97 \t\t|\t\t 5.269999999999998\n",
            "[Feb 27, 13:59:50] 451 0.34070228972917305\n",
            "\t\t\t\t 0.11957162618637085 0.15785612165927887\n",
            "#>>>    20.89 15.53 \t\t|\t\t 5.360000000000001\n",
            "[Feb 27, 13:59:51] 452 0.34063901517238837\n",
            "\t\t\t\t 0.22626088559627533 0.09720160067081451\n",
            "#>>>    21.42 16.16 \t\t|\t\t 5.260000000000002\n",
            "[Feb 27, 13:59:51] 453 0.34062183864348305\n",
            "\t\t\t\t 0.19767720997333527 0.279503732919693\n",
            "#>>>    21.05 15.68 \t\t|\t\t 5.370000000000001\n",
            "[Feb 27, 13:59:52] 454 0.3407583977626338\n",
            "\t\t\t\t 0.14694198966026306 0.17322933673858643\n",
            "#>>>    21.15 15.93 \t\t|\t\t 5.219999999999999\n",
            "[Feb 27, 13:59:52] 455 0.34073781069126996\n",
            "\t\t\t\t 0.20437243580818176 0.126186802983284\n",
            "#>>>    21.27 16.44 \t\t|\t\t 4.829999999999998\n",
            "[Feb 27, 13:59:53] 456 0.3407276321342713\n",
            "\t\t\t\t 0.24705711007118225 0.25169846415519714\n",
            "#>>>    20.79 15.56 \t\t|\t\t 5.229999999999999\n",
            "[Feb 27, 13:59:53] 457 0.34088566007636345\n",
            "\t\t\t\t 0.20371732115745544 0.1656343936920166\n",
            "#>>>    20.76 15.91 \t\t|\t\t 4.850000000000001\n",
            "[Feb 27, 13:59:54] 458 0.3409141261311366\n",
            "\t\t\t\t 0.1915871798992157 0.07332298159599304\n",
            "#>>>    21.67 16.11 \t\t|\t\t 5.560000000000002\n",
            "[Feb 27, 13:59:54] 459 0.34083812216650067\n",
            "\t\t\t\t 0.17077267169952393 0.23681852221488953\n",
            "#>>>    21.39 16.17 \t\t|\t\t 5.219999999999999\n",
            "[Feb 27, 13:59:55] 460 0.3409048752382486\n",
            "\t\t\t\t 0.12780946493148804 0.1751956045627594\n",
            "#>>>    21.45 16.11 \t\t|\t\t 5.34\n",
            "[Feb 27, 13:59:55] 461 0.3408669754325046\n",
            "\t\t\t\t 0.060032397508621216 0.10135820508003235\n",
            "#>>>    21.51 15.64 \t\t|\t\t 5.870000000000001\n",
            "[Feb 27, 13:59:56] 462 0.3406874990596607\n",
            "\t\t\t\t 0.10726023465394974 0.141736701130867\n",
            "#>>>    21.19 15.79 \t\t|\t\t 5.400000000000002\n",
            "[Feb 27, 13:59:56] 463 0.3405958085038364\n",
            "\t\t\t\t 0.09448638558387756 0.09516169875860214\n",
            "#>>>    21.25 16.0 \t\t|\t\t 5.25\n",
            "[Feb 27, 13:59:57] 464 0.34044486078712566\n",
            "\t\t\t\t 0.1359860897064209 0.13460713624954224\n",
            "#>>>    20.93 15.97 \t\t|\t\t 4.959999999999999\n",
            "[Feb 27, 13:59:57] 465 0.3403750091522945\n",
            "\t\t\t\t 0.18966975808143616 0.1981135457754135\n",
            "#>>>    20.97 15.73 \t\t|\t\t 5.239999999999998\n",
            "[Feb 27, 13:59:57] 466 0.3404224174320979\n",
            "\t\t\t\t 0.26136794686317444 0.2046496570110321\n",
            "#>>>    21.19 15.87 \t\t|\t\t 5.320000000000002\n",
            "[Feb 27, 13:59:58] 467 0.34054801261854\n",
            "\t\t\t\t 0.19734255969524384 0.0730254277586937\n",
            "#>>>    21.82 17.0 \t\t|\t\t 4.82\n",
            "[Feb 27, 13:59:58] 468 0.34047783258592484\n",
            "\t\t\t\t 0.129665344953537 0.1183270663022995\n",
            "#>>>    21.47 15.98 \t\t|\t\t 5.489999999999998\n",
            "[Feb 27, 13:59:59] 469 0.34038534716459473\n",
            "\t\t\t\t 0.18301555514335632 0.22837424278259277\n",
            "#>>>    20.58 15.25 \t\t|\t\t 5.329999999999998\n",
            "[Feb 27, 13:59:59] 470 0.3404563516153561\n",
            "\t\t\t\t 0.1969091296195984 0.13159170746803284\n",
            "#>>>    21.24 15.73 \t\t|\t\t 5.509999999999998\n",
            "[Feb 27, 14:00:00] 471 0.3404443961008284\n",
            "\t\t\t\t 0.1585235297679901 0.07267777621746063\n",
            "#>>>    21.5 16.46 \t\t|\t\t 5.039999999999999\n",
            "[Feb 27, 14:00:00] 472 0.34033515301071304\n",
            "\t\t\t\t 0.12002120912075043 0.046098869293928146\n",
            "#>>>    21.62 16.58 \t\t|\t\t 5.040000000000003\n",
            "[Feb 27, 14:00:01] 473 0.34016093793984226\n",
            "\t\t\t\t 0.12145348638296127 0.0906853973865509\n",
            "#>>>    21.92 16.28 \t\t|\t\t 5.640000000000001\n",
            "[Feb 27, 14:00:01] 474 0.3400329158931225\n",
            "\t\t\t\t 0.17262566089630127 0.13029009103775024\n",
            "#>>>    21.59 16.24 \t\t|\t\t 5.350000000000001\n",
            "[Feb 27, 14:00:02] 475 0.3399957987291634\n",
            "\t\t\t\t 0.1483353227376938 0.18748901784420013\n",
            "#>>>    21.11 15.95 \t\t|\t\t 5.16\n",
            "[Feb 27, 14:00:02] 476 0.3399916272710161\n",
            "\t\t\t\t 0.1356407105922699 0.10147653520107269\n",
            "#>>>    21.23 15.51 \t\t|\t\t 5.720000000000001\n",
            "[Feb 27, 14:00:03] 477 0.33988875288953846\n",
            "\t\t\t\t 0.07005710899829865 0.1280452311038971\n",
            "#>>>    21.39 15.78 \t\t|\t\t 5.610000000000001\n",
            "[Feb 27, 14:00:03] 478 0.3397469664767511\n",
            "\t\t\t\t 0.2962695360183716 0.14877215027809143\n",
            "#>>>    20.92 15.81 \t\t|\t\t 5.110000000000001\n",
            "[Feb 27, 14:00:04] 479 0.3398522611965708\n",
            "\t\t\t\t 0.15195757150650024 0.2625886797904968\n",
            "#>>>    21.47 15.88 \t\t|\t\t 5.589999999999998\n",
            "[Feb 27, 14:00:04] 480 0.3399269551866712\n",
            "\t\t\t\t 0.12724635004997253 0.10256222635507584\n",
            "#>>>    21.76 16.46 \t\t|\t\t 5.300000000000001\n",
            "[Feb 27, 14:00:05] 481 0.339816836800439\n",
            "\t\t\t\t 0.125325009226799 0.22798147797584534\n",
            "#>>>    21.63 15.81 \t\t|\t\t 5.8199999999999985\n",
            "[Feb 27, 14:00:05] 482 0.33983032643594\n",
            "\t\t\t\t 0.21574902534484863 0.14049166440963745\n",
            "#>>>    21.37 16.79 \t\t|\t\t 4.580000000000002\n",
            "[Feb 27, 14:00:06] 483 0.3398467367992586\n",
            "\t\t\t\t 0.1560102105140686 0.1346578449010849\n",
            "#>>>    21.31 16.14 \t\t|\t\t 5.169999999999998\n",
            "[Feb 27, 14:00:06] 484 0.3397975581327756\n",
            "\t\t\t\t 0.17657434940338135 0.1934310793876648\n",
            "#>>>    20.96 16.52 \t\t|\t\t 4.440000000000001\n",
            "[Feb 27, 14:00:06] 485 0.3398277660034339\n",
            "\t\t\t\t 0.10514545440673828 0.03579815477132797\n",
            "#>>>    21.82 16.58 \t\t|\t\t 5.240000000000002\n",
            "[Feb 27, 14:00:07] 486 0.3396288818540591\n",
            "\t\t\t\t 0.1479632556438446 0.08305107057094574\n",
            "#>>>    21.34 15.77 \t\t|\t\t 5.57\n",
            "[Feb 27, 14:00:07] 487 0.33952026729841983\n",
            "\t\t\t\t 0.1691986620426178 0.05523284152150154\n",
            "#>>>    21.77 16.25 \t\t|\t\t 5.52\n",
            "[Feb 27, 14:00:08] 488 0.3394051785309602\n",
            "\t\t\t\t 0.1455693244934082 0.022186633199453354\n",
            "#>>>    21.48 16.26 \t\t|\t\t 5.219999999999999\n",
            "[Feb 27, 14:00:08] 489 0.33923352931384737\n",
            "\t\t\t\t 0.2073831409215927 0.17157626152038574\n",
            "#>>>    21.04 16.09 \t\t|\t\t 4.949999999999999\n",
            "[Feb 27, 14:00:09] 490 0.3392732552018766\n",
            "\t\t\t\t 0.1148134171962738 0.12905403971672058\n",
            "#>>>    21.17 15.98 \t\t|\t\t 5.190000000000001\n",
            "[Feb 27, 14:00:09] 491 0.33917784940358775\n",
            "\t\t\t\t 0.25633782148361206 0.12070862948894501\n",
            "#>>>    21.18 16.03 \t\t|\t\t 5.149999999999999\n",
            "[Feb 27, 14:00:10] 492 0.3392157180200579\n",
            "\t\t\t\t 0.14372994005680084 0.07807186990976334\n",
            "#>>>    21.45 15.94 \t\t|\t\t 5.51\n",
            "[Feb 27, 14:00:10] 493 0.339098304119455\n",
            "\t\t\t\t 0.13236579298973083 0.1596670001745224\n",
            "#>>>    21.44 16.05 \t\t|\t\t 5.390000000000001\n",
            "[Feb 27, 14:00:11] 494 0.3390512385935987\n",
            "\t\t\t\t 0.17741629481315613 0.11185862123966217\n",
            "#>>>    20.96 15.48 \t\t|\t\t 5.48\n",
            "[Feb 27, 14:00:11] 495 0.33900146228595907\n",
            "\t\t\t\t 0.12712354958057404 0.08321681618690491\n",
            "#>>>    21.48 16.1 \t\t|\t\t 5.379999999999999\n",
            "[Feb 27, 14:00:12] 496 0.33887280118944063\n",
            "\t\t\t\t 0.18206395208835602 0.09263397008180618\n",
            "#>>>    21.5 16.5 \t\t|\t\t 5.0\n",
            "[Feb 27, 14:00:12] 497 0.33880862631787195\n",
            "\t\t\t\t 0.19187065958976746 0.16819237172603607\n",
            "#>>>    21.14 16.01 \t\t|\t\t 5.129999999999999\n",
            "[Feb 27, 14:00:13] 498 0.33882988070796877\n",
            "\t\t\t\t 0.22812581062316895 0.21288034319877625\n",
            "#>>>    21.19 15.56 \t\t|\t\t 5.630000000000001\n",
            "[Feb 27, 14:00:13] 499 0.3389320569810827\n",
            "\t\t\t\t 0.14863884449005127 0.07128632068634033\n",
            "#>>>    21.62 15.98 \t\t|\t\t 5.640000000000001\n",
            "[Feb 27, 14:00:14] 500 0.338813050089278\n",
            "\t\t\t\t 0.17741909623146057 0.11959816515445709\n",
            "#>>>    21.3 15.88 \t\t|\t\t 5.42\n",
            "[Feb 27, 14:00:14] 501 0.3387712543154758\n",
            "\t\t\t\t 0.07807834446430206 0.055866364389657974\n",
            "#>>>    21.77 16.0 \t\t|\t\t 5.77\n",
            "[Feb 27, 14:00:15] 502 0.338566427766289\n",
            "\t\t\t\t 0.21047988533973694 0.1369239240884781\n",
            "#>>>    21.33 16.25 \t\t|\t\t 5.079999999999998\n",
            "[Feb 27, 14:00:15] 503 0.338575265162852\n",
            "\t\t\t\t 0.22130806744098663 0.0823076143860817\n",
            "#>>>    21.75 16.52 \t\t|\t\t 5.23\n",
            "[Feb 27, 14:00:15] 504 0.33854030558696685\n",
            "\t\t\t\t 0.22673678398132324 0.09624628722667694\n",
            "#>>>    21.75 16.46 \t\t|\t\t 5.289999999999999\n",
            "[Feb 27, 14:00:16] 505 0.3385247483674891\n",
            "\t\t\t\t 0.2437896728515625 0.18658648431301117\n",
            "#>>>    21.34 16.14 \t\t|\t\t 5.199999999999999\n",
            "[Feb 27, 14:00:16] 506 0.33861659979118736\n",
            "\t\t\t\t 0.09414584934711456 0.09377675503492355\n",
            "#>>>    21.61 16.23 \t\t|\t\t 5.379999999999999\n",
            "[Feb 27, 14:00:17] 507 0.33846590578832764\n",
            "\t\t\t\t 0.15176531672477722 0.14112061262130737\n",
            "#>>>    21.13 15.95 \t\t|\t\t 5.18\n",
            "[Feb 27, 14:00:17] 508 0.33842032581188536\n",
            "\t\t\t\t 0.14094269275665283 0.08991246670484543\n",
            "#>>>    21.25 15.66 \t\t|\t\t 5.59\n",
            "[Feb 27, 14:00:18] 509 0.33831276065298554\n",
            "\t\t\t\t 0.25484657287597656 0.26945823431015015\n",
            "#>>>    21.07 15.76 \t\t|\t\t 5.3100000000000005\n",
            "[Feb 27, 14:00:18] 510 0.3384987526995187\n",
            "\t\t\t\t 0.18353557586669922 0.1417733132839203\n",
            "#>>>    21.33 16.37 \t\t|\t\t 4.959999999999997\n",
            "[Feb 27, 14:00:19] 511 0.33848556283596976\n",
            "\t\t\t\t 0.14509762823581696 0.09222900122404099\n",
            "#>>>    21.47 16.76 \t\t|\t\t 4.709999999999997\n",
            "[Feb 27, 14:00:19] 512 0.33838440389514307\n",
            "\t\t\t\t 0.14936330914497375 0.20658858120441437\n",
            "#>>>    21.3 15.63 \t\t|\t\t 5.67\n",
            "[Feb 27, 14:00:20] 513 0.33840197139649847\n",
            "\t\t\t\t 0.20658409595489502 0.1581525355577469\n",
            "#>>>    20.93 15.68 \t\t|\t\t 5.25\n",
            "[Feb 27, 14:00:20] 514 0.3384283060417134\n",
            "\t\t\t\t 0.2356015294790268 0.10282103717327118\n",
            "#>>>    21.83 16.24 \t\t|\t\t 5.59\n",
            "[Feb 27, 14:00:21] 515 0.338428300302324\n",
            "\t\t\t\t 0.1069285199046135 0.06859740614891052\n",
            "#>>>    21.6 16.08 \t\t|\t\t 5.520000000000003\n",
            "[Feb 27, 14:00:21] 516 0.3382653979355258\n",
            "\t\t\t\t 0.19932463765144348 0.12173402309417725\n",
            "#>>>    21.07 15.51 \t\t|\t\t 5.5600000000000005\n",
            "[Feb 27, 14:00:22] 517 0.3382481911983359\n",
            "\t\t\t\t 0.16751036047935486 0.15317192673683167\n",
            "#>>>    21.32 16.22 \t\t|\t\t 5.100000000000001\n",
            "[Feb 27, 14:00:22] 518 0.33823062529435377\n",
            "\t\t\t\t 0.20944011211395264 0.1620221585035324\n",
            "#>>>    21.15 15.68 \t\t|\t\t 5.469999999999999\n",
            "[Feb 27, 14:00:23] 519 0.33826385695457806\n",
            "\t\t\t\t 0.14341171085834503 0.11405311524868011\n",
            "#>>>    21.17 15.9 \t\t|\t\t 5.270000000000001\n",
            "[Feb 27, 14:00:23] 520 0.3381830579237305\n",
            "\t\t\t\t 0.1751766949892044 0.057779230177402496\n",
            "#>>>    21.54 15.78 \t\t|\t\t 5.76\n",
            "[Feb 27, 14:00:24] 521 0.33807783079842396\n",
            "\t\t\t\t 0.14033567905426025 0.08941376954317093\n",
            "#>>>    21.56 15.8 \t\t|\t\t 5.759999999999998\n",
            "[Feb 27, 14:00:24] 522 0.3379695024087724\n",
            "\t\t\t\t 0.17634323239326477 0.10478728264570236\n",
            "#>>>    21.36 16.41 \t\t|\t\t 4.949999999999999\n",
            "[Feb 27, 14:00:24] 523 0.3379126634288532\n",
            "\t\t\t\t 0.14519616961479187 0.08659031242132187\n",
            "#>>>    21.45 15.97 \t\t|\t\t 5.479999999999999\n",
            "[Feb 27, 14:00:25] 524 0.337806537254911\n",
            "\t\t\t\t 0.1242462545633316 0.13827036321163177\n",
            "#>>>    20.88 15.94 \t\t|\t\t 4.9399999999999995\n",
            "[Feb 27, 14:00:25] 525 0.3377312473354311\n",
            "\t\t\t\t 0.07593989372253418 0.1000574603676796\n",
            "#>>>    21.47 15.41 \t\t|\t\t 6.059999999999999\n",
            "[Feb 27, 14:00:26] 526 0.3375695134347353\n",
            "\t\t\t\t 0.15729504823684692 0.1692580282688141\n",
            "#>>>    21.46 15.67 \t\t|\t\t 5.790000000000001\n",
            "[Feb 27, 14:00:26] 527 0.3375584969978062\n",
            "\t\t\t\t 0.11577943712472916 0.11020360141992569\n",
            "#>>>    21.62 15.93 \t\t|\t\t 5.690000000000001\n",
            "[Feb 27, 14:00:27] 528 0.3374469215393531\n",
            "\t\t\t\t 0.1457681655883789 0.13563348352909088\n",
            "#>>>    21.27 15.47 \t\t|\t\t 5.799999999999999\n",
            "[Feb 27, 14:00:27] 529 0.33739087625203\n",
            "\t\t\t\t 0.11965898424386978 0.09487885236740112\n",
            "#>>>    21.22 16.11 \t\t|\t\t 5.109999999999999\n",
            "[Feb 27, 14:00:28] 530 0.3372680232049387\n",
            "\t\t\t\t 0.15367764234542847 0.1711197942495346\n",
            "#>>>    21.2 15.44 \t\t|\t\t 5.76\n",
            "[Feb 27, 14:00:28] 531 0.33725555263322987\n",
            "\t\t\t\t 0.22474803030490875 0.1278572529554367\n",
            "#>>>    21.18 16.67 \t\t|\t\t 4.509999999999998\n",
            "[Feb 27, 14:00:29] 532 0.337270902363857\n",
            "\t\t\t\t 0.22359997034072876 0.10409747064113617\n",
            "#>>>    21.28 15.78 \t\t|\t\t 5.500000000000002\n",
            "[Feb 27, 14:00:29] 533 0.33726132891737615\n",
            "\t\t\t\t 0.17824417352676392 0.1916135549545288\n",
            "#>>>    21.74 16.09 \t\t|\t\t 5.649999999999999\n",
            "[Feb 27, 14:00:30] 534 0.3372939253169401\n",
            "\t\t\t\t 0.15542751550674438 0.18077044188976288\n",
            "#>>>    21.2 16.02 \t\t|\t\t 5.18\n",
            "[Feb 27, 14:00:30] 535 0.3372928293639208\n",
            "\t\t\t\t 0.23096412420272827 0.24481774866580963\n",
            "#>>>    21.24 16.42 \t\t|\t\t 4.819999999999997\n",
            "[Feb 27, 14:00:31] 536 0.33743131839252427\n",
            "\t\t\t\t 0.27106255292892456 0.2129274606704712\n",
            "#>>>    21.42 16.55 \t\t|\t\t 4.870000000000001\n",
            "[Feb 27, 14:00:31] 537 0.3375778770877311\n",
            "\t\t\t\t 0.2858111262321472 0.1706114262342453\n",
            "#>>>    21.22 16.5 \t\t|\t\t 4.719999999999999\n",
            "[Feb 27, 14:00:32] 538 0.33769672177801097\n",
            "\t\t\t\t 0.1367444097995758 0.09912595897912979\n",
            "#>>>    21.92 15.79 \t\t|\t\t 6.130000000000003\n",
            "[Feb 27, 14:00:32] 539 0.33759489541756105\n",
            "\t\t\t\t 0.19456438720226288 0.06907574832439423\n",
            "#>>>    21.43 15.59 \t\t|\t\t 5.84\n",
            "[Feb 27, 14:00:33] 540 0.33752094065767013\n",
            "\t\t\t\t 0.14738517999649048 0.11089850962162018\n",
            "#>>>    21.4 16.31 \t\t|\t\t 5.09\n",
            "[Feb 27, 14:00:33] 541 0.33744170339172946\n",
            "\t\t\t\t 0.0902918130159378 0.07142150402069092\n",
            "#>>>    21.58 16.14 \t\t|\t\t 5.439999999999998\n",
            "[Feb 27, 14:00:34] 542 0.33726597500537436\n",
            "\t\t\t\t 0.15784737467765808 0.1038745641708374\n",
            "#>>>    21.4 15.92 \t\t|\t\t 5.479999999999999\n",
            "[Feb 27, 14:00:34] 543 0.33719043096921747\n",
            "\t\t\t\t 0.22379407286643982 0.08829338103532791\n",
            "#>>>    21.67 16.41 \t\t|\t\t 5.260000000000002\n",
            "[Feb 27, 14:00:34] 544 0.33716532798469945\n",
            "\t\t\t\t 0.27265363931655884 0.0976111888885498\n",
            "#>>>    21.86 16.75 \t\t|\t\t 5.109999999999999\n",
            "[Feb 27, 14:00:35] 545 0.33719842748491985\n",
            "\t\t\t\t 0.14921805262565613 0.08400359749794006\n",
            "#>>>    21.79 15.93 \t\t|\t\t 5.859999999999999\n",
            "[Feb 27, 14:00:35] 546 0.3370944507075585\n",
            "\t\t\t\t 0.1796921193599701 0.11631621420383453\n",
            "#>>>    21.7 15.89 \t\t|\t\t 5.809999999999999\n",
            "[Feb 27, 14:00:36] 547 0.33705336460531593\n",
            "\t\t\t\t 0.1340046525001526 0.06989115476608276\n",
            "#>>>    21.45 16.19 \t\t|\t\t 5.259999999999998\n",
            "[Feb 27, 14:00:36] 548 0.3369202070479768\n",
            "\t\t\t\t 0.17592217028141022 0.1006133109331131\n",
            "#>>>    21.11 15.99 \t\t|\t\t 5.119999999999999\n",
            "[Feb 27, 14:00:37] 549 0.3368598223221434\n",
            "\t\t\t\t 0.14765317738056183 0.03358817100524902\n",
            "#>>>    21.39 16.2 \t\t|\t\t 5.190000000000001\n",
            "[Feb 27, 14:00:37] 550 0.3367042038482071\n",
            "\t\t\t\t 0.07806941866874695 0.08470435440540314\n",
            "#>>>    21.6 15.85 \t\t|\t\t 5.750000000000002\n",
            "[Feb 27, 14:00:38] 551 0.3365302734174331\n",
            "\t\t\t\t 0.19399015605449677 0.17213450372219086\n",
            "#>>>    21.31 16.21 \t\t|\t\t 5.099999999999998\n",
            "[Feb 27, 14:00:38] 552 0.3365598678037923\n",
            "\t\t\t\t 0.188245952129364 0.19141839444637299\n",
            "#>>>    20.81 15.51 \t\t|\t\t 5.299999999999999\n",
            "[Feb 27, 14:00:39] 553 0.33660297229746544\n",
            "\t\t\t\t 0.1452423632144928 0.14417676627635956\n",
            "#>>>    21.24 15.61 \t\t|\t\t 5.629999999999999\n",
            "[Feb 27, 14:00:39] 554 0.33655578843975764\n",
            "\t\t\t\t 0.1676267832517624 0.123898446559906\n",
            "#>>>    21.26 16.78 \t\t|\t\t 4.48\n",
            "[Feb 27, 14:00:40] 555 0.3365107578960307\n",
            "\t\t\t\t 0.15663611888885498 0.14776195585727692\n",
            "#>>>    21.72 16.13 \t\t|\t\t 5.59\n",
            "[Feb 27, 14:00:40] 556 0.3364786451979796\n",
            "\t\t\t\t 0.22292572259902954 0.18693426251411438\n",
            "#>>>    21.08 16.73 \t\t|\t\t 4.349999999999998\n",
            "[Feb 27, 14:00:41] 557 0.3365520265378948\n",
            "\t\t\t\t 0.09786394238471985 0.06432010233402252\n",
            "#>>>    21.8 16.32 \t\t|\t\t 5.48\n",
            "[Feb 27, 14:00:41] 558 0.33637765855607565\n",
            "\t\t\t\t 0.174836665391922 0.1647266149520874\n",
            "#>>>    20.66 15.29 \t\t|\t\t 5.370000000000001\n",
            "[Feb 27, 14:00:42] 559 0.33638084417786357\n",
            "\t\t\t\t 0.12514373660087585 0.2028844803571701\n",
            "#>>>    21.45 15.74 \t\t|\t\t 5.709999999999999\n",
            "[Feb 27, 14:00:42] 560 0.3363724915357426\n",
            "\t\t\t\t 0.18408332765102386 0.11564991623163223\n",
            "#>>>    21.11 16.15 \t\t|\t\t 4.960000000000001\n",
            "[Feb 27, 14:00:43] 561 0.33633585229554014\n",
            "\t\t\t\t 0.13961800932884216 0.17728154361248016\n",
            "#>>>    20.76 16.11 \t\t|\t\t 4.650000000000002\n",
            "[Feb 27, 14:00:43] 562 0.33631641598128476\n",
            "\t\t\t\t 0.15556463599205017 0.04417954385280609\n",
            "#>>>    21.92 16.31 \t\t|\t\t 5.610000000000003\n",
            "[Feb 27, 14:00:44] 563 0.3361798437451483\n",
            "\t\t\t\t 0.18682800233364105 0.12322871387004852\n",
            "#>>>    21.4 15.87 \t\t|\t\t 5.529999999999999\n",
            "[Feb 27, 14:00:44] 564 0.3361537206176069\n",
            "\t\t\t\t 0.0840301588177681 0.11404852569103241\n",
            "#>>>    21.88 16.1 \t\t|\t\t 5.779999999999998\n",
            "[Feb 27, 14:00:44] 565 0.33601564558894864\n",
            "\t\t\t\t 0.1569182127714157 0.0973304733633995\n",
            "#>>>    21.84 16.73 \t\t|\t\t 5.109999999999999\n",
            "[Feb 27, 14:00:45] 566 0.33593387862204394\n",
            "\t\t\t\t 0.17897221446037292 0.1148727536201477\n",
            "#>>>    21.39 16.15 \t\t|\t\t 5.240000000000002\n",
            "[Feb 27, 14:00:45] 567 0.33589178971150246\n",
            "\t\t\t\t 0.1996050328016281 0.16534318029880524\n",
            "#>>>    21.85 16.88 \t\t|\t\t 4.970000000000002\n",
            "[Feb 27, 14:00:46] 568 0.3359208461348914\n",
            "\t\t\t\t 0.1916877180337906 0.14177173376083374\n",
            "#>>>    21.31 16.34 \t\t|\t\t 4.969999999999999\n",
            "[Feb 27, 14:00:46] 569 0.33591838472565\n",
            "\t\t\t\t 0.12271712720394135 0.060417961329221725\n",
            "#>>>    21.5 16.16 \t\t|\t\t 5.34\n",
            "[Feb 27, 14:00:47] 570 0.33576560143318285\n",
            "\t\t\t\t 0.11329443007707596 0.15872813761234283\n",
            "#>>>    21.46 15.96 \t\t|\t\t 5.5\n",
            "[Feb 27, 14:00:47] 571 0.33570185840688965\n",
            "\t\t\t\t 0.08073970675468445 0.11818540096282959\n",
            "#>>>    21.16 15.48 \t\t|\t\t 5.68\n",
            "[Feb 27, 14:00:48] 572 0.3355650816562003\n",
            "\t\t\t\t 0.18212395906448364 0.0917152464389801\n",
            "#>>>    21.46 16.19 \t\t|\t\t 5.27\n",
            "[Feb 27, 14:00:48] 573 0.33550335578004753\n",
            "\t\t\t\t 0.11457032710313797 0.05576099827885628\n",
            "#>>>    21.16 15.9 \t\t|\t\t 5.26\n",
            "[Feb 27, 14:00:49] 574 0.33533818375337476\n",
            "\t\t\t\t 0.1287846714258194 0.10137789696455002\n",
            "#>>>    21.44 16.57 \t\t|\t\t 4.870000000000001\n",
            "[Feb 27, 14:00:49] 575 0.33523300813056117\n",
            "\t\t\t\t 0.09883321821689606 0.15113569796085358\n",
            "#>>>    21.15 16.05 \t\t|\t\t 5.099999999999998\n",
            "[Feb 27, 14:00:50] 576 0.33514774403860836\n",
            "\t\t\t\t 0.08368508517742157 0.12164671719074249\n",
            "#>>>    21.81 16.1 \t\t|\t\t 5.709999999999997\n",
            "[Feb 27, 14:00:50] 577 0.3350179280969379\n",
            "\t\t\t\t 0.14903101325035095 0.1243371069431305\n",
            "#>>>    21.71 16.15 \t\t|\t\t 5.560000000000002\n",
            "[Feb 27, 14:00:51] 578 0.33495627828903446\n",
            "\t\t\t\t 0.2125614583492279 0.10739640891551971\n",
            "#>>>    21.5 16.08 \t\t|\t\t 5.420000000000002\n",
            "[Feb 27, 14:00:51] 579 0.334941279863109\n",
            "\t\t\t\t 0.1991683393716812 0.2723529636859894\n",
            "#>>>    21.12 16.13 \t\t|\t\t 4.990000000000002\n",
            "[Feb 27, 14:00:52] 580 0.33507785990120476\n",
            "\t\t\t\t 0.1573290377855301 0.13463914394378662\n",
            "#>>>    21.79 16.61 \t\t|\t\t 5.18\n",
            "[Feb 27, 14:00:52] 581 0.33503475020813167\n",
            "\t\t\t\t 0.1745172142982483 0.08955133706331253\n",
            "#>>>    21.46 15.98 \t\t|\t\t 5.48\n",
            "[Feb 27, 14:00:53] 582 0.3349637840018345\n",
            "\t\t\t\t 0.20072218775749207 0.1262340545654297\n",
            "#>>>    21.73 16.59 \t\t|\t\t 5.140000000000001\n",
            "[Feb 27, 14:00:53] 583 0.3349557764601556\n",
            "\t\t\t\t 0.12955322861671448 0.12413287162780762\n",
            "#>>>    21.08 16.0 \t\t|\t\t 5.079999999999998\n",
            "[Feb 27, 14:00:54] 584 0.33487450678394\n",
            "\t\t\t\t 0.22474059462547302 0.28799378871917725\n",
            "#>>>    21.37 16.08 \t\t|\t\t 5.290000000000003\n",
            "[Feb 27, 14:00:54] 585 0.335052366690303\n",
            "\t\t\t\t 0.07292275875806808 0.04524056240916252\n",
            "#>>>    22.03 16.05 \t\t|\t\t 5.98\n",
            "[Feb 27, 14:00:55] 586 0.3348354776410547\n",
            "\t\t\t\t 0.19469968974590302 0.20020493865013123\n",
            "#>>>    20.75 15.88 \t\t|\t\t 4.869999999999999\n",
            "[Feb 27, 14:00:55] 587 0.3348955467769085\n",
            "\t\t\t\t 0.19792971014976501 0.1493658423423767\n",
            "#>>>    21.31 16.14 \t\t|\t\t 5.169999999999998\n",
            "[Feb 27, 14:00:55] 588 0.33490794678262376\n",
            "\t\t\t\t 0.17458713054656982 0.10537499934434891\n",
            "#>>>    21.53 15.61 \t\t|\t\t 5.920000000000002\n",
            "[Feb 27, 14:00:56] 589 0.33485300095828147\n",
            "\t\t\t\t 0.25564268231391907 0.12258818745613098\n",
            "#>>>    21.44 15.85 \t\t|\t\t 5.590000000000002\n",
            "[Feb 27, 14:00:56] 590 0.3348963788270933\n",
            "\t\t\t\t 0.10908706486225128 0.08793880045413971\n",
            "#>>>    21.28 15.65 \t\t|\t\t 5.630000000000001\n",
            "[Feb 27, 14:00:57] 591 0.33475850831358256\n",
            "\t\t\t\t 0.15283891558647156 0.11287376284599304\n",
            "#>>>    21.25 16.59 \t\t|\t\t 4.66\n",
            "[Feb 27, 14:00:57] 592 0.3346894624837014\n",
            "\t\t\t\t 0.21729396283626556 0.10331887006759644\n",
            "#>>>    21.13 15.89 \t\t|\t\t 5.239999999999998\n",
            "[Feb 27, 14:00:58] 593 0.33467538586902273\n",
            "\t\t\t\t 0.09329180419445038 0.06348731368780136\n",
            "#>>>    21.84 15.58 \t\t|\t\t 6.26\n",
            "[Feb 27, 14:00:58] 594 0.3344974895935854\n",
            "\t\t\t\t 0.14278358221054077 0.048527952283620834\n",
            "#>>>    21.26 16.76 \t\t|\t\t 4.5\n",
            "[Feb 27, 14:00:59] 595 0.33435430364221125\n",
            "\t\t\t\t 0.09419918060302734 0.08998964726924896\n",
            "#>>>    21.46 15.9 \t\t|\t\t 5.5600000000000005\n",
            "[Feb 27, 14:00:59] 596 0.33420413816644134\n",
            "\t\t\t\t 0.16354408860206604 0.1292831152677536\n",
            "#>>>    21.02 15.97 \t\t|\t\t 5.049999999999999\n",
            "[Feb 27, 14:01:00] 597 0.3341627612172436\n",
            "\t\t\t\t 0.09498515725135803 0.061028853058815\n",
            "#>>>    21.85 15.95 \t\t|\t\t 5.900000000000002\n",
            "[Feb 27, 14:01:00] 598 0.33398461246633654\n",
            "\t\t\t\t 0.07979214191436768 0.07082056999206543\n",
            "#>>>    21.38 15.91 \t\t|\t\t 5.469999999999999\n",
            "[Feb 27, 14:01:01] 599 0.33380124056577665\n",
            "\t\t\t\t 0.14505715668201447 0.031089501455426216\n",
            "#>>>    21.42 15.86 \t\t|\t\t 5.560000000000002\n",
            "[Feb 27, 14:01:01] 600 0.3336435859814857\n",
            "\t\t\t\t 0.17011494934558868 0.1393478661775589\n",
            "#>>>    21.97 16.15 \t\t|\t\t 5.82\n",
            "[Feb 27, 14:01:02] 601 0.33361940521102734\n",
            "\t\t\t\t 0.1348474621772766 0.03879323601722717\n",
            "#>>>    22.08 16.29 \t\t|\t\t 5.789999999999999\n",
            "[Feb 27, 14:01:02] 602 0.3334594265040108\n",
            "\t\t\t\t 0.19295641779899597 0.12565375864505768\n",
            "#>>>    21.38 16.27 \t\t|\t\t 5.109999999999999\n",
            "[Feb 27, 14:01:03] 603 0.33344457726885196\n",
            "\t\t\t\t 0.07149180769920349 0.06923620402812958\n",
            "#>>>    21.59 15.62 \t\t|\t\t 5.970000000000001\n",
            "[Feb 27, 14:01:03] 604 0.3332518607033104\n",
            "\t\t\t\t 0.09823579341173172 0.10111275315284729\n",
            "#>>>    22.08 17.15 \t\t|\t\t 4.93\n",
            "[Feb 27, 14:01:04] 605 0.3331179573817211\n",
            "\t\t\t\t 0.16881659626960754 0.09882266819477081\n",
            "#>>>    21.38 15.44 \t\t|\t\t 5.9399999999999995\n",
            "[Feb 27, 14:01:04] 606 0.3330524787037049\n",
            "\t\t\t\t 0.22998201847076416 0.17213712632656097\n",
            "#>>>    20.8 15.78 \t\t|\t\t 5.020000000000001\n",
            "[Feb 27, 14:01:05] 607 0.33312154538469974\n",
            "\t\t\t\t 0.12477734684944153 0.08854220807552338\n",
            "#>>>    21.47 16.03 \t\t|\t\t 5.439999999999998\n",
            "[Feb 27, 14:01:05] 608 0.33300174339424005\n",
            "\t\t\t\t 0.29993098974227905 0.30250445008277893\n",
            "#>>>    20.83 15.83 \t\t|\t\t 4.999999999999998\n",
            "[Feb 27, 14:01:05] 609 0.3332711771204732\n",
            "\t\t\t\t 0.1326066553592682 0.07668051868677139\n",
            "#>>>    21.41 16.23 \t\t|\t\t 5.18\n",
            "[Feb 27, 14:01:06] 610 0.3331471931099482\n",
            "\t\t\t\t 0.23049363493919373 0.11959673464298248\n",
            "#>>>    21.25 16.16 \t\t|\t\t 5.09\n",
            "[Feb 27, 14:01:06] 611 0.33316413630132163\n",
            "\t\t\t\t 0.17026902735233307 0.12491247802972794\n",
            "#>>>    21.48 16.63 \t\t|\t\t 4.850000000000001\n",
            "[Feb 27, 14:01:07] 612 0.333126153677853\n",
            "\t\t\t\t 0.22084450721740723 0.1167108416557312\n",
            "#>>>    21.19 16.19 \t\t|\t\t 5.0\n",
            "[Feb 27, 14:01:07] 613 0.33313058287304825\n",
            "\t\t\t\t 0.18438415229320526 0.1206008642911911\n",
            "#>>>    21.11 16.07 \t\t|\t\t 5.039999999999999\n",
            "[Feb 27, 14:01:08] 614 0.3331024373067596\n",
            "\t\t\t\t 0.07574765384197235 0.11709218472242355\n",
            "#>>>    22.01 16.18 \t\t|\t\t 5.830000000000002\n",
            "[Feb 27, 14:01:08] 615 0.3329621747005666\n",
            "\t\t\t\t 0.218715101480484 0.06040254235267639\n",
            "#>>>    21.74 16.35 \t\t|\t\t 5.389999999999997\n",
            "[Feb 27, 14:01:09] 616 0.3329083301696992\n",
            "\t\t\t\t 0.20078285038471222 0.08886092901229858\n",
            "#>>>    21.65 15.92 \t\t|\t\t 5.729999999999999\n",
            "[Feb 27, 14:01:09] 617 0.33286506560402535\n",
            "\t\t\t\t 0.18292702734470367 0.09351961314678192\n",
            "#>>>    21.6 16.52 \t\t|\t\t 5.080000000000002\n",
            "[Feb 27, 14:01:10] 618 0.3328086471789128\n",
            "\t\t\t\t 0.14342403411865234 0.1479107290506363\n",
            "#>>>    21.69 16.31 \t\t|\t\t 5.380000000000003\n",
            "[Feb 27, 14:01:10] 619 0.332767173280002\n",
            "\t\t\t\t 0.10864152759313583 0.12311909347772598\n",
            "#>>>    21.31 15.76 \t\t|\t\t 5.549999999999999\n",
            "[Feb 27, 14:01:11] 620 0.33266616672779287\n",
            "\t\t\t\t 0.17739516496658325 0.07069114595651627\n",
            "#>>>    21.15 15.42 \t\t|\t\t 5.729999999999999\n",
            "[Feb 27, 14:01:11] 621 0.3325815868645376\n",
            "\t\t\t\t 0.26058048009872437 0.15551318228244781\n",
            "#>>>    21.16 16.0 \t\t|\t\t 5.16\n",
            "[Feb 27, 14:01:12] 622 0.33266509892515306\n",
            "\t\t\t\t 0.16081172227859497 0.09900722652673721\n",
            "#>>>    21.25 15.76 \t\t|\t\t 5.49\n",
            "[Feb 27, 14:01:12] 623 0.33259225276758264\n",
            "\t\t\t\t 0.179778590798378 0.237296462059021\n",
            "#>>>    21.2 16.23 \t\t|\t\t 4.969999999999999\n",
            "[Feb 27, 14:01:13] 624 0.3326767355527713\n",
            "\t\t\t\t 0.1810963749885559 0.13885465264320374\n",
            "#>>>    21.29 16.42 \t\t|\t\t 4.869999999999997\n",
            "[Feb 27, 14:01:13] 625 0.3326640098448503\n",
            "\t\t\t\t 0.13683056831359863 0.11364758014678955\n",
            "#>>>    21.68 16.35 \t\t|\t\t 5.329999999999998\n",
            "[Feb 27, 14:01:14] 626 0.33258182398346586\n",
            "\t\t\t\t 0.12295255064964294 0.11378753930330276\n",
            "#>>>    21.34 16.13 \t\t|\t\t 5.210000000000001\n",
            "[Feb 27, 14:01:14] 627 0.3324859822419847\n",
            "\t\t\t\t 0.16536284983158112 0.07107466459274292\n",
            "#>>>    21.58 16.25 \t\t|\t\t 5.329999999999998\n",
            "[Feb 27, 14:01:15] 628 0.33238993377416703\n",
            "\t\t\t\t 0.16793307662010193 0.06728208810091019\n",
            "#>>>    21.27 16.22 \t\t|\t\t 5.050000000000001\n",
            "[Feb 27, 14:01:15] 629 0.3322927589976633\n",
            "\t\t\t\t 0.12030038237571716 0.07160366326570511\n",
            "#>>>    21.11 15.62 \t\t|\t\t 5.49\n",
            "[Feb 27, 14:01:15] 630 0.3321523702768565\n",
            "\t\t\t\t 0.21901080012321472 0.17510122060775757\n",
            "#>>>    21.37 16.45 \t\t|\t\t 4.920000000000002\n",
            "[Feb 27, 14:01:16] 631 0.33221432992731065\n",
            "\t\t\t\t 0.2154521495103836 0.17804968357086182\n",
            "#>>>    21.22 15.71 \t\t|\t\t 5.509999999999998\n",
            "[Feb 27, 14:01:16] 632 0.33227561741556344\n",
            "\t\t\t\t 0.2832137644290924 0.1345689594745636\n",
            "#>>>    21.16 15.76 \t\t|\t\t 5.4\n",
            "[Feb 27, 14:01:17] 633 0.3323611245220515\n",
            "\t\t\t\t 0.15804798901081085 0.17766480147838593\n",
            "#>>>    21.25 15.92 \t\t|\t\t 5.33\n",
            "[Feb 27, 14:01:17] 634 0.3323644761880187\n",
            "\t\t\t\t 0.09842696785926819 0.05112803354859352\n",
            "#>>>    22.16 16.11 \t\t|\t\t 6.050000000000001\n",
            "[Feb 27, 14:01:18] 635 0.3321816667095132\n",
            "\t\t\t\t 0.12256559729576111 0.11272723227739334\n",
            "#>>>    21.75 16.41 \t\t|\t\t 5.34\n",
            "[Feb 27, 14:01:18] 636 0.3320847778649263\n",
            "\t\t\t\t 0.11530062556266785 0.10703963041305542\n",
            "#>>>    21.49 16.12 \t\t|\t\t 5.369999999999997\n",
            "[Feb 27, 14:01:19] 637 0.3319750333430371\n",
            "\t\t\t\t 0.15388482809066772 0.17190439999103546\n",
            "#>>>    20.71 15.86 \t\t|\t\t 4.850000000000001\n",
            "[Feb 27, 14:01:19] 638 0.3319688475228746\n",
            "\t\t\t\t 0.10924237221479416 0.09820139408111572\n",
            "#>>>    21.69 15.71 \t\t|\t\t 5.98\n",
            "[Feb 27, 14:01:20] 639 0.3318443224490982\n",
            "\t\t\t\t 0.14671030640602112 0.08813224732875824\n",
            "#>>>    21.41 16.06 \t\t|\t\t 5.350000000000001\n",
            "[Feb 27, 14:01:20] 640 0.3317473206803839\n",
            "\t\t\t\t 0.17368093132972717 0.13557635247707367\n",
            "#>>>    21.52 16.22 \t\t|\t\t 5.300000000000001\n",
            "[Feb 27, 14:01:21] 641 0.33172483062860914\n",
            "\t\t\t\t 0.13352346420288086 0.11417343467473984\n",
            "#>>>    21.62 15.98 \t\t|\t\t 5.640000000000001\n",
            "[Feb 27, 14:01:21] 642 0.33164080270430873\n",
            "\t\t\t\t 0.11370900273323059 0.19526167213916779\n",
            "#>>>    21.25 15.64 \t\t|\t\t 5.609999999999999\n",
            "[Feb 27, 14:01:22] 643 0.33161813259137796\n",
            "\t\t\t\t 0.15201888978481293 0.06326102465391159\n",
            "#>>>    21.54 16.04 \t\t|\t\t 5.5\n",
            "[Feb 27, 14:01:22] 644 0.33150179436577476\n",
            "\t\t\t\t 0.18431995809078217 0.13428720831871033\n",
            "#>>>    21.35 16.0 \t\t|\t\t 5.350000000000001\n",
            "[Feb 27, 14:01:23] 645 0.33148889972291734\n",
            "\t\t\t\t 0.18224786221981049 0.13597601652145386\n",
            "#>>>    21.2 15.76 \t\t|\t\t 5.4399999999999995\n",
            "[Feb 27, 14:01:23] 646 0.3314756347168369\n",
            "\t\t\t\t 0.2746906876564026 0.22999969124794006\n",
            "#>>>    20.65 15.63 \t\t|\t\t 5.019999999999998\n",
            "[Feb 27, 14:01:24] 647 0.3316488494908267\n",
            "\t\t\t\t 0.12605388462543488 0.09268180280923843\n",
            "#>>>    21.82 16.59 \t\t|\t\t 5.23\n",
            "[Feb 27, 14:01:24] 648 0.3315359363362211\n",
            "\t\t\t\t 0.14715370535850525 0.07685083150863647\n",
            "#>>>    21.54 15.97 \t\t|\t\t 5.5699999999999985\n",
            "[Feb 27, 14:01:24] 649 0.331428404936752\n",
            "\t\t\t\t 0.13065975904464722 0.12610742449760437\n",
            "#>>>    20.95 15.89 \t\t|\t\t 5.059999999999999\n",
            "[Feb 27, 14:01:25] 650 0.3313537437153575\n",
            "\t\t\t\t 0.24588248133659363 0.16034086048603058\n",
            "#>>>    21.33 15.87 \t\t|\t\t 5.459999999999999\n",
            "[Feb 27, 14:01:25] 651 0.33142861332836593\n",
            "\t\t\t\t 0.12377764284610748 0.054145801812410355\n",
            "#>>>    21.42 15.9 \t\t|\t\t 5.520000000000001\n",
            "[Feb 27, 14:01:26] 652 0.3312751081559708\n",
            "\t\t\t\t 0.10580887645483017 0.10831255465745926\n",
            "#>>>    21.87 16.4 \t\t|\t\t 5.470000000000002\n",
            "[Feb 27, 14:01:26] 653 0.3311579544789271\n",
            "\t\t\t\t 0.21108698844909668 0.10103383660316467\n",
            "#>>>    21.41 15.95 \t\t|\t\t 5.460000000000001\n",
            "[Feb 27, 14:01:27] 654 0.33113891734950046\n",
            "\t\t\t\t 0.16146838665008545 0.07328454405069351\n",
            "#>>>    21.48 15.71 \t\t|\t\t 5.77\n",
            "[Feb 27, 14:01:27] 655 0.3310425313554012\n",
            "\t\t\t\t 0.16370674967765808 0.17116481065750122\n",
            "#>>>    21.43 16.39 \t\t|\t\t 5.039999999999999\n",
            "[Feb 27, 14:01:28] 656 0.33104636038438096\n",
            "\t\t\t\t 0.13074040412902832 0.04190801456570625\n",
            "#>>>    21.84 16.0 \t\t|\t\t 5.84\n",
            "[Feb 27, 14:01:28] 657 0.330887962438966\n",
            "\t\t\t\t 0.11094093322753906 0.12069650739431381\n",
            "#>>>    21.94 16.54 \t\t|\t\t 5.400000000000002\n",
            "[Feb 27, 14:01:29] 658 0.33078871192459947\n",
            "\t\t\t\t 0.1529598832130432 0.11647006869316101\n",
            "#>>>    21.74 16.74 \t\t|\t\t 5.0\n",
            "[Feb 27, 14:01:29] 659 0.3307273531645811\n",
            "\t\t\t\t 0.1707485318183899 0.19809937477111816\n",
            "#>>>    20.8 14.98 \t\t|\t\t 5.82\n",
            "[Feb 27, 14:01:30] 660 0.330765473718006\n",
            "\t\t\t\t 0.224584698677063 0.18541142344474792\n",
            "#>>>    20.71 16.02 \t\t|\t\t 4.690000000000001\n",
            "[Feb 27, 14:01:30] 661 0.33084470436640984\n",
            "\t\t\t\t 0.1036093458533287 0.07953318953514099\n",
            "#>>>    21.58 15.8 \t\t|\t\t 5.779999999999998\n",
            "[Feb 27, 14:01:31] 662 0.3306970022048825\n",
            "\t\t\t\t 0.1433398574590683 0.14847956597805023\n",
            "#>>>    21.16 15.86 \t\t|\t\t 5.300000000000001\n",
            "[Feb 27, 14:01:31] 663 0.33065812462611477\n",
            "\t\t\t\t 0.2196284979581833 0.13688427209854126\n",
            "#>>>    21.68 16.19 \t\t|\t\t 5.489999999999998\n",
            "[Feb 27, 14:01:32] 664 0.33068397928644655\n",
            "\t\t\t\t 0.18503108620643616 0.13418075442314148\n",
            "#>>>    21.0 15.96 \t\t|\t\t 5.039999999999999\n",
            "[Feb 27, 14:01:32] 665 0.3306725071477897\n",
            "\t\t\t\t 0.181361585855484 0.03464208543300629\n",
            "#>>>    21.89 16.12 \t\t|\t\t 5.77\n",
            "[Feb 27, 14:01:33] 666 0.33055783831193036\n",
            "\t\t\t\t 0.11558589339256287 0.14727865159511566\n",
            "#>>>    21.57 16.44 \t\t|\t\t 5.129999999999999\n",
            "[Feb 27, 14:01:33] 667 0.33049014500370494\n",
            "\t\t\t\t 0.25643089413642883 0.08742967247962952\n",
            "#>>>    21.21 16.31 \t\t|\t\t 4.900000000000002\n",
            "[Feb 27, 14:01:33] 668 0.3305035154253173\n",
            "\t\t\t\t 0.06954866647720337 0.04034055769443512\n",
            "#>>>    21.73 15.87 \t\t|\t\t 5.860000000000001\n",
            "[Feb 27, 14:01:34] 669 0.33028290113406367\n",
            "\t\t\t\t 0.2569073736667633 0.17362521588802338\n",
            "#>>>    21.14 16.45 \t\t|\t\t 4.690000000000001\n",
            "[Feb 27, 14:01:34] 670 0.33038315080758324\n",
            "\t\t\t\t 0.1852271556854248 0.08417592197656631\n",
            "#>>>    21.07 15.41 \t\t|\t\t 5.66\n",
            "[Feb 27, 14:01:35] 671 0.33032217072698705\n",
            "\t\t\t\t 0.2036026418209076 0.10779984295368195\n",
            "#>>>    21.04 15.71 \t\t|\t\t 5.329999999999998\n",
            "[Feb 27, 14:01:35] 672 0.33030325105593583\n",
            "\t\t\t\t 0.09097606688737869 0.04651772230863571\n",
            "#>>>    21.63 16.1 \t\t|\t\t 5.529999999999998\n",
            "[Feb 27, 14:01:36] 673 0.33011044159407593\n",
            "\t\t\t\t 0.23280909657478333 0.16245463490486145\n",
            "#>>>    21.35 16.12 \t\t|\t\t 5.23\n",
            "[Feb 27, 14:01:36] 674 0.3301755948839615\n",
            "\t\t\t\t 0.10836705565452576 0.24729806184768677\n",
            "#>>>    21.09 15.91 \t\t|\t\t 5.18\n",
            "[Feb 27, 14:01:37] 675 0.33020108440657975\n",
            "\t\t\t\t 0.2250264585018158 0.10465066134929657\n",
            "#>>>    21.52 16.25 \t\t|\t\t 5.27\n",
            "[Feb 27, 14:01:37] 676 0.33020056042712315\n",
            "\t\t\t\t 0.14110489189624786 0.15153692662715912\n",
            "#>>>    21.53 15.82 \t\t|\t\t 5.710000000000001\n",
            "[Feb 27, 14:01:38] 677 0.33016300168521945\n",
            "\t\t\t\t 0.16492177546024323 0.13613100349903107\n",
            "#>>>    21.22 16.16 \t\t|\t\t 5.059999999999999\n",
            "[Feb 27, 14:01:38] 678 0.3301338914624935\n",
            "\t\t\t\t 0.21016618609428406 0.168726846575737\n",
            "#>>>    21.52 16.35 \t\t|\t\t 5.169999999999998\n",
            "[Feb 27, 14:01:39] 679 0.33018265058879986\n",
            "\t\t\t\t 0.16801229119300842 0.06812149286270142\n",
            "#>>>    21.44 16.16 \t\t|\t\t 5.280000000000001\n",
            "[Feb 27, 14:01:39] 680 0.3300886017222668\n",
            "\t\t\t\t 0.12962879240512848 0.05707323178648949\n",
            "#>>>    21.87 16.23 \t\t|\t\t 5.640000000000001\n",
            "[Feb 27, 14:01:40] 681 0.3299452151484614\n",
            "\t\t\t\t 0.3831987679004669 0.2764414846897125\n",
            "#>>>    21.15 16.54 \t\t|\t\t 4.609999999999999\n",
            "[Feb 27, 14:01:40] 682 0.33027491018590316\n",
            "\t\t\t\t 0.07622775435447693 0.1573292762041092\n",
            "#>>>    21.41 15.43 \t\t|\t\t 5.98\n",
            "[Feb 27, 14:01:41] 683 0.3301781923062759\n",
            "\t\t\t\t 0.10126401484012604 0.0613040067255497\n",
            "#>>>    21.23 15.19 \t\t|\t\t 6.040000000000001\n",
            "[Feb 27, 14:01:41] 684 0.33001058213180995\n",
            "\t\t\t\t 0.1479150801897049 0.09479207545518875\n",
            "#>>>    21.98 15.69 \t\t|\t\t 6.290000000000001\n",
            "[Feb 27, 14:01:42] 685 0.3299232787127736\n",
            "\t\t\t\t 0.1086425632238388 0.04396237060427666\n",
            "#>>>    21.89 16.23 \t\t|\t\t 5.66\n",
            "[Feb 27, 14:01:42] 686 0.32974596037161424\n",
            "\t\t\t\t 0.18775010108947754 0.1396668553352356\n",
            "#>>>    21.23 15.81 \t\t|\t\t 5.42\n",
            "[Feb 27, 14:01:42] 687 0.3297436313676673\n",
            "\t\t\t\t 0.17346450686454773 0.08399710804224014\n",
            "#>>>    21.53 15.68 \t\t|\t\t 5.850000000000001\n",
            "[Feb 27, 14:01:43] 688 0.32967134934375586\n",
            "\t\t\t\t 0.21489322185516357 0.08142749220132828\n",
            "#>>>    21.12 16.03 \t\t|\t\t 5.09\n",
            "[Feb 27, 14:01:43] 689 0.329637998701018\n",
            "\t\t\t\t 0.11272022128105164 0.1619354784488678\n",
            "#>>>    21.2 16.28 \t\t|\t\t 4.919999999999998\n",
            "[Feb 27, 14:01:44] 690 0.3295830164020469\n",
            "\t\t\t\t 0.19858580827713013 0.15430696308612823\n",
            "#>>>    21.13 16.31 \t\t|\t\t 4.82\n",
            "[Feb 27, 14:01:44] 691 0.32960632614210694\n",
            "\t\t\t\t 0.16006475687026978 0.1922283172607422\n",
            "#>>>    21.06 15.96 \t\t|\t\t 5.099999999999998\n",
            "[Feb 27, 14:01:45] 692 0.3296290128900959\n",
            "\t\t\t\t 0.19817255437374115 0.15724052488803864\n",
            "#>>>    21.53 16.07 \t\t|\t\t 5.460000000000001\n",
            "[Feb 27, 14:01:45] 693 0.3296547969564676\n",
            "\t\t\t\t 0.09811796247959137 0.10270576179027557\n",
            "#>>>    21.33 16.15 \t\t|\t\t 5.18\n",
            "[Feb 27, 14:01:46] 694 0.329525965883781\n",
            "\t\t\t\t 0.15089374780654907 0.1590941995382309\n",
            "#>>>    21.27 15.85 \t\t|\t\t 5.42\n",
            "[Feb 27, 14:01:46] 695 0.3295064278801432\n",
            "\t\t\t\t 0.19736403226852417 0.10353446751832962\n",
            "#>>>    21.49 16.19 \t\t|\t\t 5.299999999999997\n",
            "[Feb 27, 14:01:47] 696 0.32947781994459935\n",
            "\t\t\t\t 0.10978692024946213 0.08712261915206909\n",
            "#>>>    21.87 16.09 \t\t|\t\t 5.780000000000001\n",
            "[Feb 27, 14:01:47] 697 0.32934525167150686\n",
            "\t\t\t\t 0.10032419860363007 0.06067555770277977\n",
            "#>>>    21.68 16.64 \t\t|\t\t 5.039999999999999\n",
            "[Feb 27, 14:01:48] 698 0.32917690617986706\n",
            "\t\t\t\t 0.17603662610054016 0.12899324297904968\n",
            "#>>>    21.26 16.16 \t\t|\t\t 5.100000000000001\n",
            "[Feb 27, 14:01:48] 699 0.3291527591427668\n",
            "\t\t\t\t 0.13361231982707977 0.17773516476154327\n",
            "#>>>    20.78 15.47 \t\t|\t\t 5.3100000000000005\n",
            "[Feb 27, 14:01:49] 700 0.3291349538682127\n",
            "\t\t\t\t 0.1376594752073288 0.08652608096599579\n",
            "#>>>    21.62 15.95 \t\t|\t\t 5.670000000000002\n",
            "[Feb 27, 14:01:49] 701 0.3290300044705178\n",
            "\t\t\t\t 0.14008331298828125 0.07478232681751251\n",
            "#>>>    21.32 16.15 \t\t|\t\t 5.170000000000002\n",
            "[Feb 27, 14:01:50] 702 0.328915840105853\n",
            "\t\t\t\t 0.21176105737686157 0.2268242985010147\n",
            "#>>>    21.19 15.99 \t\t|\t\t 5.200000000000001\n",
            "[Feb 27, 14:01:50] 703 0.3290255096067239\n",
            "\t\t\t\t 0.11003424227237701 0.061147887259721756\n",
            "#>>>    22.01 16.05 \t\t|\t\t 5.960000000000001\n",
            "[Feb 27, 14:01:51] 704 0.32886766622292396\n",
            "\t\t\t\t 0.15182584524154663 0.10380809754133224\n",
            "#>>>    21.46 16.44 \t\t|\t\t 5.02\n",
            "[Feb 27, 14:01:51] 705 0.3287944325069345\n",
            "\t\t\t\t 0.1779378354549408 0.0920078381896019\n",
            "#>>>    21.09 16.03 \t\t|\t\t 5.059999999999999\n",
            "[Feb 27, 14:01:51] 706 0.3287355837555227\n",
            "\t\t\t\t 0.16673077642917633 0.1525699645280838\n",
            "#>>>    21.68 16.23 \t\t|\t\t 5.449999999999999\n",
            "[Feb 27, 14:01:52] 707 0.32872614891272445\n",
            "\t\t\t\t 0.14613991975784302 0.07866783440113068\n",
            "#>>>    21.13 15.77 \t\t|\t\t 5.359999999999999\n",
            "[Feb 27, 14:01:52] 708 0.3286222305179707\n",
            "\t\t\t\t 0.30509480834007263 0.17534036934375763\n",
            "#>>>    21.39 15.9 \t\t|\t\t 5.49\n",
            "[Feb 27, 14:01:53] 709 0.3287740434800377\n",
            "\t\t\t\t 0.1724465936422348 0.08718140423297882\n",
            "#>>>    21.27 16.28 \t\t|\t\t 4.989999999999998\n",
            "[Feb 27, 14:01:53] 710 0.3287048974344329\n",
            "\t\t\t\t 0.15355636179447174 0.0960012674331665\n",
            "#>>>    21.7 16.66 \t\t|\t\t 5.039999999999999\n",
            "[Feb 27, 14:01:54] 711 0.3286257501662261\n",
            "\t\t\t\t 0.15538644790649414 0.1484902799129486\n",
            "#>>>    21.61 16.12 \t\t|\t\t 5.489999999999998\n",
            "[Feb 27, 14:01:54] 712 0.3286010011438793\n",
            "\t\t\t\t 0.16102279722690582 0.10755303502082825\n",
            "#>>>    21.56 15.82 \t\t|\t\t 5.739999999999998\n",
            "[Feb 27, 14:01:55] 713 0.3285409759898843\n",
            "\t\t\t\t 0.23963378369808197 0.13733041286468506\n",
            "#>>>    21.5 16.35 \t\t|\t\t 5.149999999999999\n",
            "[Feb 27, 14:01:55] 714 0.32858939922535835\n",
            "\t\t\t\t 0.16459599137306213 0.1619541496038437\n",
            "#>>>    21.16 16.01 \t\t|\t\t 5.149999999999999\n",
            "[Feb 27, 14:01:56] 715 0.3285873599522087\n",
            "\t\t\t\t 0.14607807993888855 0.14631430804729462\n",
            "#>>>    21.32 15.63 \t\t|\t\t 5.6899999999999995\n",
            "[Feb 27, 14:01:56] 716 0.32855116496534154\n",
            "\t\t\t\t 0.12864375114440918 0.06907965242862701\n",
            "#>>>    21.58 16.21 \t\t|\t\t 5.369999999999997\n",
            "[Feb 27, 14:01:57] 717 0.32842033720394925\n",
            "\t\t\t\t 0.15257081389427185 0.10278487950563431\n",
            "#>>>    21.41 16.12 \t\t|\t\t 5.289999999999999\n",
            "[Feb 27, 14:01:57] 718 0.32834727255269464\n",
            "\t\t\t\t 0.11539624631404877 0.06778348982334137\n",
            "#>>>    21.66 16.53 \t\t|\t\t 5.129999999999999\n",
            "[Feb 27, 14:01:58] 719 0.32820210501627933\n",
            "\t\t\t\t 0.19844719767570496 0.10602601617574692\n",
            "#>>>    21.38 15.69 \t\t|\t\t 5.6899999999999995\n",
            "[Feb 27, 14:01:58] 720 0.3281783761325651\n",
            "\t\t\t\t 0.09743945300579071 0.1972237229347229\n",
            "#>>>    21.45 15.8 \t\t|\t\t 5.649999999999999\n",
            "[Feb 27, 14:01:59] 721 0.3281448609472742\n",
            "\t\t\t\t 0.18436208367347717 0.10091017186641693\n",
            "#>>>    21.45 15.97 \t\t|\t\t 5.479999999999999\n",
            "[Feb 27, 14:01:59] 722 0.32810198832696563\n",
            "\t\t\t\t 0.10888119041919708 0.049102362245321274\n",
            "#>>>    22.17 16.13 \t\t|\t\t 6.040000000000003\n",
            "[Feb 27, 14:02:00] 723 0.3279318698950285\n",
            "\t\t\t\t 0.15791825950145721 0.1412741243839264\n",
            "#>>>    21.03 15.74 \t\t|\t\t 5.290000000000001\n",
            "[Feb 27, 14:02:00] 724 0.32790313039411767\n",
            "\t\t\t\t 0.26758190989494324 0.3197341561317444\n",
            "#>>>    21.08 16.1 \t\t|\t\t 4.979999999999997\n",
            "[Feb 27, 14:02:00] 725 0.32816254329994793\n",
            "\t\t\t\t 0.10965698957443237 0.13560263812541962\n",
            "#>>>    21.49 15.72 \t\t|\t\t 5.769999999999998\n",
            "[Feb 27, 14:02:01] 726 0.32807964038434784\n",
            "\t\t\t\t 0.15410028398036957 0.1227484717965126\n",
            "#>>>    21.5 16.3 \t\t|\t\t 5.199999999999999\n",
            "[Feb 27, 14:02:01] 727 0.328028409507191\n",
            "\t\t\t\t 0.19858765602111816 0.1219496876001358\n",
            "#>>>    21.65 16.23 \t\t|\t\t 5.419999999999998\n",
            "[Feb 27, 14:02:02] 728 0.3280209184264039\n",
            "\t\t\t\t 0.22669613361358643 0.25045883655548096\n",
            "#>>>    20.86 16.17 \t\t|\t\t 4.689999999999998\n",
            "[Feb 27, 14:02:02] 729 0.32817005247814657\n",
            "\t\t\t\t 0.2081131786108017 0.09684458374977112\n",
            "#>>>    21.13 16.13 \t\t|\t\t 5.0\n",
            "[Feb 27, 14:02:03] 730 0.32814684017312784\n",
            "\t\t\t\t 0.2531159520149231 0.2800498902797699\n",
            "#>>>    20.83 15.58 \t\t|\t\t 5.249999999999998\n",
            "[Feb 27, 14:02:03] 731 0.32835185914544707\n",
            "\t\t\t\t 0.11392103135585785 0.15021592378616333\n",
            "#>>>    21.68 16.18 \t\t|\t\t 5.5\n",
            "[Feb 27, 14:02:04] 732 0.3282876442563448\n",
            "\t\t\t\t 0.1960648000240326 0.11258592456579208\n",
            "#>>>    21.58 16.35 \t\t|\t\t 5.229999999999997\n",
            "[Feb 27, 14:02:04] 733 0.32826800734412886\n",
            "\t\t\t\t 0.10482524335384369 0.11720190197229385\n",
            "#>>>    21.51 16.11 \t\t|\t\t 5.400000000000002\n",
            "[Feb 27, 14:02:05] 734 0.3281617664895614\n",
            "\t\t\t\t 0.16603225469589233 0.1582408845424652\n",
            "#>>>    20.88 15.89 \t\t|\t\t 4.989999999999998\n",
            "[Feb 27, 14:02:05] 735 0.3281578778623102\n",
            "\t\t\t\t 0.2301974892616272 0.2008950561285019\n",
            "#>>>    20.83 15.54 \t\t|\t\t 5.289999999999999\n",
            "[Feb 27, 14:02:06] 736 0.32826081254473916\n",
            "\t\t\t\t 0.08780039101839066 0.1256038099527359\n",
            "#>>>    21.63 16.42 \t\t|\t\t 5.209999999999997\n",
            "[Feb 27, 14:02:06] 737 0.32814595594061613\n",
            "\t\t\t\t 0.1455065906047821 0.15090440213680267\n",
            "#>>>    21.1 15.65 \t\t|\t\t 5.450000000000001\n",
            "[Feb 27, 14:02:07] 738 0.32811422096251597\n",
            "\t\t\t\t 0.1514611542224884 0.06157231703400612\n",
            "#>>>    21.66 16.22 \t\t|\t\t 5.440000000000001\n",
            "[Feb 27, 14:02:07] 739 0.32799914020908466\n",
            "\t\t\t\t 0.19796638190746307 0.07464627921581268\n",
            "#>>>    21.26 16.21 \t\t|\t\t 5.050000000000001\n",
            "[Feb 27, 14:02:08] 740 0.32794375372999884\n",
            "\t\t\t\t 0.16896849870681763 0.06272754073143005\n",
            "#>>>    21.8 16.0 \t\t|\t\t 5.800000000000001\n",
            "[Feb 27, 14:02:08] 741 0.32784750601570706\n",
            "\t\t\t\t 0.21139585971832275 0.19368499517440796\n",
            "#>>>    21.72 16.31 \t\t|\t\t 5.41\n",
            "[Feb 27, 14:02:09] 742 0.32792473936458405\n",
            "\t\t\t\t 0.09785978496074677 0.0619526244699955\n",
            "#>>>    21.9 16.72 \t\t|\t\t 5.18\n",
            "[Feb 27, 14:02:09] 743 0.3277566270309249\n",
            "\t\t\t\t 0.23876918852329254 0.1815079152584076\n",
            "#>>>    21.6 16.46 \t\t|\t\t 5.140000000000001\n",
            "[Feb 27, 14:02:10] 744 0.3278491475225768\n",
            "\t\t\t\t 0.1130625307559967 0.06526374071836472\n",
            "#>>>    21.48 15.54 \t\t|\t\t 5.940000000000001\n",
            "[Feb 27, 14:02:10] 745 0.32769962465397917\n",
            "\t\t\t\t 0.2098064124584198 0.09754721820354462\n",
            "#>>>    21.29 16.09 \t\t|\t\t 5.199999999999999\n",
            "[Feb 27, 14:02:11] 746 0.327679278645086\n",
            "\t\t\t\t 0.21047362685203552 0.2210274189710617\n",
            "#>>>    21.38 15.82 \t\t|\t\t 5.559999999999999\n",
            "[Feb 27, 14:02:11] 747 0.32778310039736286\n",
            "\t\t\t\t 0.2206064760684967 0.06311342865228653\n",
            "#>>>    22.27 16.37 \t\t|\t\t 5.899999999999999\n",
            "[Feb 27, 14:02:11] 748 0.3277390371942357\n",
            "\t\t\t\t 0.12086974084377289 0.1107558161020279\n",
            "#>>>    21.53 15.97 \t\t|\t\t 5.5600000000000005\n",
            "[Feb 27, 14:02:12] 749 0.32764292371398723\n",
            "\t\t\t\t 0.12450134009122849 0.10263686627149582\n",
            "#>>>    21.33 16.16 \t\t|\t\t 5.169999999999998\n",
            "[Feb 27, 14:02:12] 750 0.32754241899663594\n",
            "\t\t\t\t 0.10970336943864822 0.12185117602348328\n",
            "#>>>    21.31 15.51 \t\t|\t\t 5.799999999999999\n",
            "[Feb 27, 14:02:13] 751 0.32744643111565086\n",
            "\t\t\t\t 0.15791261196136475 0.15951324999332428\n",
            "#>>>    20.95 15.85 \t\t|\t\t 5.1\n",
            "[Feb 27, 14:02:13] 752 0.32743641053158873\n",
            "\t\t\t\t 0.20651018619537354 0.24468334019184113\n",
            "#>>>    21.11 15.91 \t\t|\t\t 5.199999999999999\n",
            "[Feb 27, 14:02:14] 753 0.3275601676325432\n",
            "\t\t\t\t 0.19866536557674408 0.17543195188045502\n",
            "#>>>    21.03 15.42 \t\t|\t\t 5.610000000000001\n",
            "[Feb 27, 14:02:14] 754 0.32760670478236786\n",
            "\t\t\t\t 0.15538513660430908 0.10354336351156235\n",
            "#>>>    21.32 16.28 \t\t|\t\t 5.039999999999999\n",
            "[Feb 27, 14:02:15] 755 0.3275380265851519\n",
            "\t\t\t\t 0.1564820557832718 0.1568969190120697\n",
            "#>>>    21.46 15.99 \t\t|\t\t 5.470000000000001\n",
            "[Feb 27, 14:02:15] 756 0.3275238675482633\n",
            "\t\t\t\t 0.06573737412691116 0.10895812511444092\n",
            "#>>>    21.85 15.93 \t\t|\t\t 5.920000000000002\n",
            "[Feb 27, 14:02:16] 757 0.3273710391725058\n",
            "\t\t\t\t 0.09494362771511078 0.12116780877113342\n",
            "#>>>    21.32 15.89 \t\t|\t\t 5.43\n",
            "[Feb 27, 14:02:16] 758 0.32725977956981955\n",
            "\t\t\t\t 0.17073912918567657 0.23307505249977112\n",
            "#>>>    21.26 16.19 \t\t|\t\t 5.07\n",
            "[Feb 27, 14:02:17] 759 0.3273363339868363\n",
            "\t\t\t\t 0.13656988739967346 0.11238882690668106\n",
            "#>>>    21.83 16.23 \t\t|\t\t 5.599999999999998\n",
            "[Feb 27, 14:02:17] 760 0.3272579563597052\n",
            "\t\t\t\t 0.13809067010879517 0.1758614331483841\n",
            "#>>>    21.63 15.96 \t\t|\t\t 5.669999999999998\n",
            "[Feb 27, 14:02:18] 761 0.32724465049170154\n",
            "\t\t\t\t 0.13593678176403046 0.13674238324165344\n",
            "#>>>    21.41 15.89 \t\t|\t\t 5.52\n",
            "[Feb 27, 14:02:18] 762 0.32719008499131436\n",
            "\t\t\t\t 0.18664386868476868 0.2001035511493683\n",
            "#>>>    21.0 16.1 \t\t|\t\t 4.899999999999999\n",
            "[Feb 27, 14:02:19] 763 0.32724964232615716\n",
            "\t\t\t\t 0.17385658621788025 0.22137609124183655\n",
            "#>>>    21.3 16.54 \t\t|\t\t 4.760000000000002\n",
            "[Feb 27, 14:02:19] 764 0.3273176253612907\n",
            "\t\t\t\t 0.17125561833381653 0.07123306393623352\n",
            "#>>>    21.92 16.09 \t\t|\t\t 5.830000000000002\n",
            "[Feb 27, 14:02:20] 765 0.32723279641819947\n",
            "\t\t\t\t 0.16081838309764862 0.1084134429693222\n",
            "#>>>    20.99 15.91 \t\t|\t\t 5.079999999999998\n",
            "[Feb 27, 14:02:20] 766 0.3271747954478482\n",
            "\t\t\t\t 0.17667695879936218 0.08258892595767975\n",
            "#>>>    21.32 16.56 \t\t|\t\t 4.760000000000002\n",
            "[Feb 27, 14:02:21] 767 0.32710688655205855\n",
            "\t\t\t\t 0.12088097631931305 0.07451189309358597\n",
            "#>>>    21.55 16.71 \t\t|\t\t 4.84\n",
            "[Feb 27, 14:02:21] 768 0.32697517254236996\n",
            "\t\t\t\t 0.22546465694904327 0.12528495490550995\n",
            "#>>>    21.12 15.87 \t\t|\t\t 5.250000000000002\n",
            "[Feb 27, 14:02:21] 769 0.32699894698168214\n",
            "\t\t\t\t 0.19247883558273315 0.07596273720264435\n",
            "#>>>    21.1 16.08 \t\t|\t\t 5.020000000000003\n",
            "[Feb 27, 14:02:22] 770 0.32694038959258465\n",
            "\t\t\t\t 0.17833377420902252 0.11877395212650299\n",
            "#>>>    21.45 16.03 \t\t|\t\t 5.419999999999998\n",
            "[Feb 27, 14:02:22] 771 0.3269105569293276\n",
            "\t\t\t\t 0.10716594755649567 0.08732965588569641\n",
            "#>>>    21.38 15.96 \t\t|\t\t 5.419999999999998\n",
            "[Feb 27, 14:02:23] 772 0.32677814197584043\n",
            "\t\t\t\t 0.1537279486656189 0.1910831332206726\n",
            "#>>>    21.41 15.61 \t\t|\t\t 5.800000000000001\n",
            "[Feb 27, 14:02:23] 773 0.32679617491575086\n",
            "\t\t\t\t 0.17518198490142822 0.114380843937397\n",
            "#>>>    21.38 16.55 \t\t|\t\t 4.829999999999998\n",
            "[Feb 27, 14:02:24] 774 0.32675894156222335\n",
            "\t\t\t\t 0.09173987060785294 0.03274018317461014\n",
            "#>>>    21.73 16.37 \t\t|\t\t 5.359999999999999\n",
            "[Feb 27, 14:02:24] 775 0.3265566626744436\n",
            "\t\t\t\t 0.1878475695848465 0.1384190171957016\n",
            "#>>>    21.35 16.13 \t\t|\t\t 5.220000000000002\n",
            "[Feb 27, 14:02:25] 776 0.3265563725985497\n",
            "\t\t\t\t 0.12137392163276672 0.10101579129695892\n",
            "#>>>    21.25 16.22 \t\t|\t\t 5.030000000000001\n",
            "[Feb 27, 14:02:25] 777 0.32645220593888086\n",
            "\t\t\t\t 0.20589673519134521 0.06454296410083771\n",
            "#>>>    21.59 16.33 \t\t|\t\t 5.260000000000002\n",
            "[Feb 27, 14:02:26] 778 0.326396193417333\n",
            "\t\t\t\t 0.10827764868736267 0.04408726096153259\n",
            "#>>>    21.52 16.39 \t\t|\t\t 5.129999999999999\n",
            "[Feb 27, 14:02:26] 779 0.32622216213356453\n",
            "\t\t\t\t 0.12852391600608826 0.17979325354099274\n",
            "#>>>    21.93 15.7 \t\t|\t\t 6.23\n",
            "[Feb 27, 14:02:27] 780 0.3262042571558792\n",
            "\t\t\t\t 0.21251273155212402 0.12705527245998383\n",
            "#>>>    21.24 16.08 \t\t|\t\t 5.16\n",
            "[Feb 27, 14:02:27] 781 0.32621762091763656\n",
            "\t\t\t\t 0.1550530195236206 0.09441187232732773\n",
            "#>>>    21.73 15.65 \t\t|\t\t 6.08\n",
            "[Feb 27, 14:02:28] 782 0.3261408681960205\n",
            "\t\t\t\t 0.12200070917606354 0.09155404567718506\n",
            "#>>>    21.66 16.05 \t\t|\t\t 5.609999999999999\n",
            "[Feb 27, 14:02:28] 783 0.3260282820826777\n",
            "\t\t\t\t 0.13278479874134064 0.05569254606962204\n",
            "#>>>    21.37 16.42 \t\t|\t\t 4.949999999999999\n",
            "[Feb 27, 14:02:29] 784 0.3258907311379554\n",
            "\t\t\t\t 0.14007779955863953 0.10622429847717285\n",
            "#>>>    21.58 16.26 \t\t|\t\t 5.319999999999997\n",
            "[Feb 27, 14:02:29] 785 0.32581114250485327\n",
            "\t\t\t\t 0.1920410841703415 0.13249731063842773\n",
            "#>>>    21.16 15.75 \t\t|\t\t 5.41\n",
            "[Feb 27, 14:02:30] 786 0.32580986977205834\n",
            "\t\t\t\t 0.2170225977897644 0.14950165152549744\n",
            "#>>>    21.15 15.88 \t\t|\t\t 5.269999999999998\n",
            "[Feb 27, 14:02:30] 787 0.32585058415160156\n",
            "\t\t\t\t 0.15953484177589417 0.05479487031698227\n",
            "#>>>    21.43 15.87 \t\t|\t\t 5.5600000000000005\n",
            "[Feb 27, 14:02:31] 788 0.3257390632869934\n",
            "\t\t\t\t 0.19393911957740784 0.10499162971973419\n",
            "#>>>    21.64 15.93 \t\t|\t\t 5.710000000000001\n",
            "[Feb 27, 14:02:31] 789 0.32571225498790474\n",
            "\t\t\t\t 0.12284786254167557 0.12446492910385132\n",
            "#>>>    21.49 15.65 \t\t|\t\t 5.839999999999998\n",
            "[Feb 27, 14:02:32] 790 0.32563385551711177\n",
            "\t\t\t\t 0.08902184665203094 0.10707832127809525\n",
            "#>>>    21.12 16.34 \t\t|\t\t 4.780000000000001\n",
            "[Feb 27, 14:02:32] 791 0.32550432183697536\n",
            "\t\t\t\t 0.1533355861902237 0.08241451531648636\n",
            "#>>>    21.53 15.93 \t\t|\t\t 5.600000000000001\n",
            "[Feb 27, 14:02:32] 792 0.32541456762409565\n",
            "\t\t\t\t 0.21315327286720276 0.09454420208930969\n",
            "#>>>    21.75 15.95 \t\t|\t\t 5.800000000000001\n",
            "[Feb 27, 14:02:33] 793 0.3253968505314281\n",
            "\t\t\t\t 0.20350125432014465 0.08071879297494888\n",
            "#>>>    21.76 16.99 \t\t|\t\t 4.770000000000003\n",
            "[Feb 27, 14:02:33] 794 0.3253556737207412\n",
            "\t\t\t\t 0.12987542152404785 0.16296707093715668\n",
            "#>>>    21.26 16.21 \t\t|\t\t 5.050000000000001\n",
            "[Feb 27, 14:02:34] 795 0.3253231605543829\n",
            "\t\t\t\t 0.14355257153511047 0.1524939090013504\n",
            "#>>>    21.24 15.85 \t\t|\t\t 5.389999999999999\n",
            "[Feb 27, 14:02:34] 796 0.3252938838892661\n",
            "\t\t\t\t 0.24080991744995117 0.06952878087759018\n",
            "#>>>    21.67 16.43 \t\t|\t\t 5.240000000000002\n",
            "[Feb 27, 14:02:35] 797 0.325278928711155\n",
            "\t\t\t\t 0.12834575772285461 0.12505093216896057\n",
            "#>>>    21.35 15.75 \t\t|\t\t 5.600000000000001\n",
            "[Feb 27, 14:02:35] 798 0.32520704647233567\n",
            "\t\t\t\t 0.26200956106185913 0.15838481485843658\n",
            "#>>>    21.68 16.21 \t\t|\t\t 5.469999999999999\n",
            "[Feb 27, 14:02:36] 799 0.3253022337868825\n",
            "\t\t\t\t 0.2526407837867737 0.1784571260213852\n",
            "#>>>    21.13 16.19 \t\t|\t\t 4.939999999999998\n",
            "[Feb 27, 14:02:36] 800 0.3254080294778049\n",
            "\t\t\t\t 0.1942267119884491 0.21184033155441284\n",
            "#>>>    21.3 16.49 \t\t|\t\t 4.810000000000002\n",
            "[Feb 27, 14:02:37] 801 0.32548868849186996\n",
            "\t\t\t\t 0.08296576142311096 0.05620419979095459\n",
            "#>>>    21.84 16.46 \t\t|\t\t 5.379999999999999\n",
            "[Feb 27, 14:02:37] 802 0.32530236976459215\n",
            "\t\t\t\t 0.15125806629657745 0.08392433077096939\n",
            "#>>>    21.54 16.37 \t\t|\t\t 5.169999999999998\n",
            "[Feb 27, 14:02:38] 803 0.3252122497993457\n",
            "\t\t\t\t 0.14213509857654572 0.044192828238010406\n",
            "#>>>    21.43 15.89 \t\t|\t\t 5.539999999999999\n",
            "[Feb 27, 14:02:38] 804 0.3250733654838115\n",
            "\t\t\t\t 0.11264971643686295 0.09251434355974197\n",
            "#>>>    21.3 15.77 \t\t|\t\t 5.530000000000001\n",
            "[Feb 27, 14:02:39] 805 0.3249534561783243\n",
            "\t\t\t\t 0.13574756681919098 0.10915984213352203\n",
            "#>>>    21.38 15.76 \t\t|\t\t 5.619999999999999\n",
            "[Feb 27, 14:02:39] 806 0.32487341013109866\n",
            "\t\t\t\t 0.191241055727005 0.14883066713809967\n",
            "#>>>    21.37 15.69 \t\t|\t\t 5.6800000000000015\n",
            "[Feb 27, 14:02:40] 807 0.32488860845873385\n",
            "\t\t\t\t 0.18388859927654266 0.11303580552339554\n",
            "#>>>    21.36 16.38 \t\t|\t\t 4.98\n",
            "[Feb 27, 14:02:40] 808 0.32486064426252564\n",
            "\t\t\t\t 0.20483562350273132 0.06987672299146652\n",
            "#>>>    21.34 15.42 \t\t|\t\t 5.92\n",
            "[Feb 27, 14:02:41] 809 0.3248104959722079\n",
            "\t\t\t\t 0.14051583409309387 0.03799433261156082\n",
            "#>>>    21.58 16.49 \t\t|\t\t 5.09\n",
            "[Feb 27, 14:02:41] 810 0.32466419563548976\n",
            "\t\t\t\t 0.16246268153190613 0.08261818438768387\n",
            "#>>>    21.45 16.33 \t\t|\t\t 5.120000000000001\n",
            "[Feb 27, 14:02:42] 811 0.3245846122983233\n",
            "\t\t\t\t 0.12771061062812805 0.11446063965559006\n",
            "#>>>    21.57 15.93 \t\t|\t\t 5.640000000000001\n",
            "[Feb 27, 14:02:42] 812 0.32450219894375926\n",
            "\t\t\t\t 0.12591467797756195 0.08126033842563629\n",
            "#>>>    21.63 15.87 \t\t|\t\t 5.76\n",
            "[Feb 27, 14:02:43] 813 0.3243848717612187\n",
            "\t\t\t\t 0.232304185628891 0.15915951132774353\n",
            "#>>>    21.42 16.01 \t\t|\t\t 5.41\n",
            "[Feb 27, 14:02:43] 814 0.32445195058641413\n",
            "\t\t\t\t 0.24582910537719727 0.13567353785037994\n",
            "#>>>    21.73 16.87 \t\t|\t\t 4.859999999999999\n",
            "[Feb 27, 14:02:44] 815 0.32450900126415416\n",
            "\t\t\t\t 0.1292235255241394 0.09977422654628754\n",
            "#>>>    21.82 16.02 \t\t|\t\t 5.800000000000001\n",
            "[Feb 27, 14:02:44] 816 0.32441349001496045\n",
            "\t\t\t\t 0.08435565233230591 0.08142305910587311\n",
            "#>>>    21.34 15.88 \t\t|\t\t 5.459999999999999\n",
            "[Feb 27, 14:02:44] 817 0.3242548552363837\n",
            "\t\t\t\t 0.12303044646978378 0.09869248420000076\n",
            "#>>>    21.5 16.12 \t\t|\t\t 5.379999999999999\n",
            "[Feb 27, 14:02:45] 818 0.3241523233118171\n",
            "\t\t\t\t 0.08446985483169556 0.08659271150827408\n",
            "#>>>    21.39 15.84 \t\t|\t\t 5.550000000000001\n",
            "[Feb 27, 14:02:45] 819 0.3239992335473946\n",
            "\t\t\t\t 0.10013534128665924 0.05439482629299164\n",
            "#>>>    21.85 15.84 \t\t|\t\t 6.010000000000002\n",
            "[Feb 27, 14:02:46] 820 0.3238297644814269\n",
            "\t\t\t\t 0.13809804618358612 0.049580082297325134\n",
            "#>>>    21.24 16.4 \t\t|\t\t 4.84\n",
            "[Feb 27, 14:02:46] 821 0.3236936128454264\n",
            "\t\t\t\t 0.1655961275100708 0.10118597745895386\n",
            "#>>>    21.64 16.21 \t\t|\t\t 5.43\n",
            "[Feb 27, 14:02:47] 822 0.32363670133755\n",
            "\t\t\t\t 0.12425918877124786 0.14819997549057007\n",
            "#>>>    21.66 16.08 \t\t|\t\t 5.580000000000002\n",
            "[Feb 27, 14:02:47] 823 0.3235855237855731\n",
            "\t\t\t\t 0.14269037544727325 0.18210797011852264\n",
            "#>>>    21.17 15.98 \t\t|\t\t 5.190000000000001\n",
            "[Feb 27, 14:02:48] 824 0.3235867366073533\n",
            "\t\t\t\t 0.19999724626541138 0.1106506735086441\n",
            "#>>>    21.48 16.15 \t\t|\t\t 5.330000000000002\n",
            "[Feb 27, 14:02:48] 825 0.32357379777561884\n",
            "\t\t\t\t 0.1722901463508606 0.11162975430488586\n",
            "#>>>    21.46 16.62 \t\t|\t\t 4.84\n",
            "[Feb 27, 14:02:49] 826 0.32353414387849894\n",
            "\t\t\t\t 0.1260625123977661 0.1818516105413437\n",
            "#>>>    21.45 16.53 \t\t|\t\t 4.919999999999998\n",
            "[Feb 27, 14:02:49] 827 0.3235185238724607\n",
            "\t\t\t\t 0.14458595216274261 0.1054438129067421\n",
            "#>>>    21.34 16.0 \t\t|\t\t 5.34\n",
            "[Feb 27, 14:02:50] 828 0.32344503512110834\n",
            "\t\t\t\t 0.15899136662483215 0.17350155115127563\n",
            "#>>>    21.26 15.79 \t\t|\t\t 5.470000000000002\n",
            "[Feb 27, 14:02:50] 829 0.3234540830037633\n",
            "\t\t\t\t 0.29178228974342346 0.16411997377872467\n",
            "#>>>    21.42 16.38 \t\t|\t\t 5.040000000000003\n",
            "[Feb 27, 14:02:51] 830 0.32358653119918285\n",
            "\t\t\t\t 0.28070443868637085 0.10398326069116592\n",
            "#>>>    22.18 17.43 \t\t|\t\t 4.75\n",
            "[Feb 27, 14:02:51] 831 0.3236476323599106\n",
            "\t\t\t\t 0.19591526687145233 0.10014325380325317\n",
            "#>>>    21.38 16.63 \t\t|\t\t 4.75\n",
            "[Feb 27, 14:02:52] 832 0.32362004326312654\n",
            "\t\t\t\t 0.20052754878997803 0.07889654487371445\n",
            "#>>>    21.47 16.32 \t\t|\t\t 5.149999999999999\n",
            "[Feb 27, 14:02:52] 833 0.32357584732097766\n",
            "\t\t\t\t 0.17163735628128052 0.23357778787612915\n",
            "#>>>    21.2 15.86 \t\t|\t\t 5.34\n",
            "[Feb 27, 14:02:53] 834 0.3236574866178141\n",
            "\t\t\t\t 0.17052558064460754 0.11182186007499695\n",
            "#>>>    21.12 16.05 \t\t|\t\t 5.07\n",
            "[Feb 27, 14:02:53] 835 0.3236161765719159\n",
            "\t\t\t\t 0.1294722706079483 0.1001935675740242\n",
            "#>>>    21.46 16.31 \t\t|\t\t 5.150000000000002\n",
            "[Feb 27, 14:02:54] 836 0.32352222624097654\n",
            "\t\t\t\t 0.07945722341537476 0.14206799864768982\n",
            "#>>>    21.73 16.51 \t\t|\t\t 5.219999999999999\n",
            "[Feb 27, 14:02:54] 837 0.32342022923679864\n",
            "\t\t\t\t 0.227605402469635 0.18094459176063538\n",
            "#>>>    20.63 15.79 \t\t|\t\t 4.84\n",
            "[Feb 27, 14:02:55] 838 0.3235053590017921\n",
            "\t\t\t\t 0.2028500735759735 0.11264075338840485\n",
            "#>>>    20.93 16.4 \t\t|\t\t 4.530000000000001\n",
            "[Feb 27, 14:02:55] 839 0.3234973444846559\n",
            "\t\t\t\t 0.27385085821151733 0.21736745536327362\n",
            "#>>>    21.39 15.7 \t\t|\t\t 5.690000000000001\n",
            "[Feb 27, 14:02:56] 840 0.32366506546864715\n",
            "\t\t\t\t 0.18082495033740997 0.11447528004646301\n",
            "#>>>    21.41 16.51 \t\t|\t\t 4.899999999999999\n",
            "[Feb 27, 14:02:56] 841 0.3236367006484635\n",
            "\t\t\t\t 0.11001832783222198 0.07053998112678528\n",
            "#>>>    21.84 16.06 \t\t|\t\t 5.780000000000001\n",
            "[Feb 27, 14:02:56] 842 0.3234936222567741\n",
            "\t\t\t\t 0.15364643931388855 0.1740046590566635\n",
            "#>>>    21.53 16.64 \t\t|\t\t 4.890000000000001\n",
            "[Feb 27, 14:02:57] 843 0.3234977797179867\n",
            "\t\t\t\t 0.15050221979618073 0.14885157346725464\n",
            "#>>>    21.59 15.88 \t\t|\t\t 5.709999999999999\n",
            "[Feb 27, 14:02:57] 844 0.323473635716631\n",
            "\t\t\t\t 0.11467738449573517 0.027827780693769455\n",
            "#>>>    22.06 16.38 \t\t|\t\t 5.68\n",
            "[Feb 27, 14:02:58] 845 0.3232926672498292\n",
            "\t\t\t\t 0.11379201710224152 0.08920715004205704\n",
            "#>>>    21.58 15.67 \t\t|\t\t 5.909999999999998\n",
            "[Feb 27, 14:02:58] 846 0.3231723737571742\n",
            "\t\t\t\t 0.136199951171875 0.12728099524974823\n",
            "#>>>    21.72 15.9 \t\t|\t\t 5.8199999999999985\n",
            "[Feb 27, 14:02:59] 847 0.32311268234473983\n",
            "\t\t\t\t 0.245223730802536 0.10686003416776657\n",
            "#>>>    21.63 16.48 \t\t|\t\t 5.149999999999999\n",
            "[Feb 27, 14:02:59] 848 0.323141653434816\n",
            "\t\t\t\t 0.23957957327365875 0.20309413969516754\n",
            "#>>>    21.43 16.15 \t\t|\t\t 5.280000000000001\n",
            "[Feb 27, 14:03:00] 849 0.32326118549434996\n",
            "\t\t\t\t 0.13367025554180145 0.08009029924869537\n",
            "#>>>    20.85 15.69 \t\t|\t\t 5.160000000000002\n",
            "[Feb 27, 14:03:00] 850 0.3231516848636461\n",
            "\t\t\t\t 0.1747419238090515 0.03555922582745552\n",
            "#>>>    21.75 15.91 \t\t|\t\t 5.84\n",
            "[Feb 27, 14:03:01] 851 0.32303883432469366\n",
            "\t\t\t\t 0.1644245982170105 0.11462678760290146\n",
            "#>>>    21.61 16.1 \t\t|\t\t 5.509999999999998\n",
            "[Feb 27, 14:03:01] 852 0.32299484688363944\n",
            "\t\t\t\t 0.17402078211307526 0.14810451865196228\n",
            "#>>>    21.58 15.88 \t\t|\t\t 5.6999999999999975\n",
            "[Feb 27, 14:03:02] 853 0.322993977352422\n",
            "\t\t\t\t 0.17733407020568848 0.12547250092029572\n",
            "#>>>    21.46 16.25 \t\t|\t\t 5.210000000000001\n",
            "[Feb 27, 14:03:02] 854 0.32297378993129444\n",
            "\t\t\t\t 0.169456347823143 0.10435815900564194\n",
            "#>>>    21.8 16.64 \t\t|\t\t 5.16\n",
            "[Feb 27, 14:03:03] 855 0.32292463064074134\n",
            "\t\t\t\t 0.22772462666034698 0.16263586282730103\n",
            "#>>>    21.3 16.13 \t\t|\t\t 5.170000000000002\n",
            "[Feb 27, 14:03:03] 856 0.32299206648468703\n",
            "\t\t\t\t 0.1151517927646637 0.08826813846826553\n",
            "#>>>    21.26 15.85 \t\t|\t\t 5.410000000000002\n",
            "[Feb 27, 14:03:04] 857 0.32287249434198473\n",
            "\t\t\t\t 0.17909938097000122 0.1383112370967865\n",
            "#>>>    20.91 15.94 \t\t|\t\t 4.970000000000001\n",
            "[Feb 27, 14:03:04] 858 0.3228670324657095\n",
            "\t\t\t\t 0.0790828987956047 0.13227903842926025\n",
            "#>>>    21.46 16.06 \t\t|\t\t 5.400000000000002\n",
            "[Feb 27, 14:03:05] 859 0.3227555273779193\n",
            "\t\t\t\t 0.17765013873577118 0.15407203137874603\n",
            "#>>>    21.35 15.77 \t\t|\t\t 5.580000000000002\n",
            "[Feb 27, 14:03:05] 860 0.3227644940206559\n",
            "\t\t\t\t 0.09807021170854568 0.14970390498638153\n",
            "#>>>    21.24 15.63 \t\t|\t\t 5.609999999999998\n",
            "[Feb 27, 14:03:06] 861 0.32268950365078075\n",
            "\t\t\t\t 0.12103745341300964 0.06793602555990219\n",
            "#>>>    21.92 16.58 \t\t|\t\t 5.340000000000003\n",
            "[Feb 27, 14:03:06] 862 0.32255578763355347\n",
            "\t\t\t\t 0.19743835926055908 0.1769975870847702\n",
            "#>>>    21.29 15.89 \t\t|\t\t 5.399999999999999\n",
            "[Feb 27, 14:03:06] 863 0.3226076678071664\n",
            "\t\t\t\t 0.2620314359664917 0.1462957113981247\n",
            "#>>>    21.3 15.95 \t\t|\t\t 5.350000000000001\n",
            "[Feb 27, 14:03:07] 864 0.322693387301625\n",
            "\t\t\t\t 0.17577669024467468 0.12840867042541504\n",
            "#>>>    21.71 16.33 \t\t|\t\t 5.380000000000003\n",
            "[Feb 27, 14:03:07] 865 0.3226748792749935\n",
            "\t\t\t\t 0.09826718270778656 0.16053220629692078\n",
            "#>>>    21.82 15.98 \t\t|\t\t 5.84\n",
            "[Feb 27, 14:03:08] 866 0.32261100376982205\n",
            "\t\t\t\t 0.16762414574623108 0.0638548731803894\n",
            "#>>>    21.59 16.33 \t\t|\t\t 5.260000000000002\n",
            "[Feb 27, 14:03:08] 867 0.3225198717849788\n",
            "\t\t\t\t 0.1642087697982788 0.07381464540958405\n",
            "#>>>    21.13 15.64 \t\t|\t\t 5.489999999999998\n",
            "[Feb 27, 14:03:09] 868 0.32243537532840166\n",
            "\t\t\t\t 0.22651611268520355 0.09346893429756165\n",
            "#>>>    21.94 16.71 \t\t|\t\t 5.23\n",
            "[Feb 27, 14:03:09] 869 0.32243292498515486\n",
            "\t\t\t\t 0.16903749108314514 0.07856233417987823\n",
            "#>>>    21.57 16.39 \t\t|\t\t 5.18\n",
            "[Feb 27, 14:03:10] 870 0.32235809188543274\n",
            "\t\t\t\t 0.15183597803115845 0.13507038354873657\n",
            "#>>>    21.9 16.13 \t\t|\t\t 5.77\n",
            "[Feb 27, 14:03:10] 871 0.32232264015512724\n",
            "\t\t\t\t 0.17114663124084473 0.20510414242744446\n",
            "#>>>    21.61 16.5 \t\t|\t\t 5.109999999999999\n",
            "[Feb 27, 14:03:11] 872 0.32237656828864036\n",
            "\t\t\t\t 0.18012593686580658 0.1776030957698822\n",
            "#>>>    21.3 15.91 \t\t|\t\t 5.390000000000001\n",
            "[Feb 27, 14:03:11] 873 0.3224119207380862\n",
            "\t\t\t\t 0.10200943052768707 0.0698554739356041\n",
            "#>>>    21.92 16.34 \t\t|\t\t 5.580000000000002\n",
            "[Feb 27, 14:03:12] 874 0.32226137371436087\n",
            "\t\t\t\t 0.23809882998466492 0.2253645956516266\n",
            "#>>>    21.02 16.37 \t\t|\t\t 4.649999999999999\n",
            "[Feb 27, 14:03:12] 875 0.3224025757662828\n",
            "\t\t\t\t 0.10815887153148651 0.08940679579973221\n",
            "#>>>    21.39 15.31 \t\t|\t\t 6.08\n",
            "[Feb 27, 14:03:13] 876 0.3222777388652983\n",
            "\t\t\t\t 0.15649491548538208 0.07710910588502884\n",
            "#>>>    22.01 16.76 \t\t|\t\t 5.25\n",
            "[Feb 27, 14:03:13] 877 0.32218906514035284\n",
            "\t\t\t\t 0.15286806225776672 0.1047460064291954\n",
            "#>>>    21.72 16.44 \t\t|\t\t 5.279999999999998\n",
            "[Feb 27, 14:03:14] 878 0.32212449015135003\n",
            "\t\t\t\t 0.09490557760000229 0.10558256506919861\n",
            "#>>>    21.52 15.69 \t\t|\t\t 5.83\n",
            "[Feb 27, 14:03:14] 879 0.3220028538113185\n",
            "\t\t\t\t 0.15326163172721863 0.11001336574554443\n",
            "#>>>    21.37 16.0 \t\t|\t\t 5.370000000000001\n",
            "[Feb 27, 14:03:15] 880 0.3219441259549799\n",
            "\t\t\t\t 0.12737542390823364 0.08992121368646622\n",
            "#>>>    21.42 16.31 \t\t|\t\t 5.110000000000003\n",
            "[Feb 27, 14:03:15] 881 0.32183947845916905\n",
            "\t\t\t\t 0.11417926847934723 0.0857657790184021\n",
            "#>>>    21.72 16.22 \t\t|\t\t 5.5\n",
            "[Feb 27, 14:03:16] 882 0.32171758402820766\n",
            "\t\t\t\t 0.2531522214412689 0.15933382511138916\n",
            "#>>>    21.31 15.78 \t\t|\t\t 5.529999999999999\n",
            "[Feb 27, 14:03:16] 883 0.3218083524907321\n",
            "\t\t\t\t 0.18383195996284485 0.1295004040002823\n",
            "#>>>    21.7 16.39 \t\t|\t\t 5.309999999999999\n",
            "[Feb 27, 14:03:17] 884 0.3217998765171056\n",
            "\t\t\t\t 0.09898243844509125 0.09582877159118652\n",
            "#>>>    21.72 15.69 \t\t|\t\t 6.029999999999999\n",
            "[Feb 27, 14:03:17] 885 0.3216728878506248\n",
            "\t\t\t\t 0.17182853817939758 0.16344477236270905\n",
            "#>>>    21.18 16.0 \t\t|\t\t 5.18\n",
            "[Feb 27, 14:03:18] 886 0.32168648828821744\n",
            "\t\t\t\t 0.15288090705871582 0.17117013037204742\n",
            "#>>>    21.43 16.63 \t\t|\t\t 4.800000000000001\n",
            "[Feb 27, 14:03:18] 887 0.3216888528224588\n",
            "\t\t\t\t 0.13025546073913574 0.08331850171089172\n",
            "#>>>    21.8 16.32 \t\t|\t\t 5.48\n",
            "[Feb 27, 14:03:18] 888 0.32158073793208636\n",
            "\t\t\t\t 0.15389397740364075 0.04227064177393913\n",
            "#>>>    21.66 16.09 \t\t|\t\t 5.57\n",
            "[Feb 27, 14:03:19] 889 0.32145532181705716\n",
            "\t\t\t\t 0.0737583115696907 0.058258265256881714\n",
            "#>>>    21.99 16.16 \t\t|\t\t 5.829999999999998\n",
            "[Feb 27, 14:03:19] 890 0.3212658830646161\n",
            "\t\t\t\t 0.26033350825309753 0.2114526927471161\n",
            "#>>>    21.1 16.01 \t\t|\t\t 5.09\n",
            "[Feb 27, 14:03:20] 891 0.3214164033825517\n",
            "\t\t\t\t 0.12186849117279053 0.11401455104351044\n",
            "#>>>    21.39 16.08 \t\t|\t\t 5.310000000000002\n",
            "[Feb 27, 14:03:20] 892 0.3213308700213854\n",
            "\t\t\t\t 0.23180247843265533 0.16344845294952393\n",
            "#>>>    21.56 15.94 \t\t|\t\t 5.619999999999999\n",
            "[Feb 27, 14:03:21] 893 0.321404790067845\n",
            "\t\t\t\t 0.2364637851715088 0.2529422640800476\n",
            "#>>>    21.06 15.66 \t\t|\t\t 5.399999999999999\n",
            "[Feb 27, 14:03:21] 894 0.3215727913270287\n",
            "\t\t\t\t 0.13296431303024292 0.0765240415930748\n",
            "#>>>    21.16 16.1 \t\t|\t\t 5.059999999999999\n",
            "[Feb 27, 14:03:22] 895 0.32146070689777556\n",
            "\t\t\t\t 0.07454671710729599 0.04796885326504707\n",
            "#>>>    21.77 16.22 \t\t|\t\t 5.550000000000001\n",
            "[Feb 27, 14:03:22] 896 0.32126176176497545\n",
            "\t\t\t\t 0.2132847011089325 0.14991213381290436\n",
            "#>>>    21.29 16.01 \t\t|\t\t 5.279999999999998\n",
            "[Feb 27, 14:03:23] 897 0.32130369685303345\n",
            "\t\t\t\t 0.12332355231046677 0.08729835599660873\n",
            "#>>>    21.42 15.68 \t\t|\t\t 5.740000000000002\n",
            "[Feb 27, 14:03:23] 898 0.3211930150644875\n",
            "\t\t\t\t 0.22257083654403687 0.12858335673809052\n",
            "#>>>    21.77 16.84 \t\t|\t\t 4.93\n",
            "[Feb 27, 14:03:24] 899 0.32122297625760626\n",
            "\t\t\t\t 0.13908438384532928 0.07282784581184387\n",
            "#>>>    21.42 16.16 \t\t|\t\t 5.260000000000002\n",
            "[Feb 27, 14:03:24] 900 0.32111366551100584\n",
            "\t\t\t\t 0.09076710790395737 0.10775572806596756\n",
            "#>>>    21.29 15.3 \t\t|\t\t 5.989999999999998\n",
            "[Feb 27, 14:03:25] 901 0.32099107468146476\n",
            "\t\t\t\t 0.25093063712120056 0.16842402517795563\n",
            "#>>>    21.34 16.39 \t\t|\t\t 4.949999999999999\n",
            "[Feb 27, 14:03:25] 902 0.3210894382839836\n",
            "\t\t\t\t 0.23788630962371826 0.2773151993751526\n",
            "#>>>    21.61 16.74 \t\t|\t\t 4.870000000000001\n",
            "[Feb 27, 14:03:26] 903 0.3212835503546985\n",
            "\t\t\t\t 0.12228265404701233 0.08396430313587189\n",
            "#>>>    21.25 16.53 \t\t|\t\t 4.719999999999999\n",
            "[Feb 27, 14:03:26] 904 0.3211685137615267\n",
            "\t\t\t\t 0.21370241045951843 0.1259240359067917\n",
            "#>>>    21.71 16.31 \t\t|\t\t 5.400000000000002\n",
            "[Feb 27, 14:03:27] 905 0.3211869716792303\n",
            "\t\t\t\t 0.12969239056110382 0.04747134447097778\n",
            "#>>>    22.11 16.57 \t\t|\t\t 5.539999999999999\n",
            "[Feb 27, 14:03:27] 906 0.3210429484425832\n",
            "\t\t\t\t 0.19220682978630066 0.14532436430454254\n",
            "#>>>    21.08 15.81 \t\t|\t\t 5.269999999999998\n",
            "[Feb 27, 14:03:28] 907 0.3210594367031326\n",
            "\t\t\t\t 0.10304702073335648 0.02857247367501259\n",
            "#>>>    21.91 16.3 \t\t|\t\t 5.609999999999999\n",
            "[Feb 27, 14:03:28] 908 0.3208699967645631\n",
            "\t\t\t\t 0.1867266446352005 0.07593940943479538\n",
            "#>>>    21.75 16.6 \t\t|\t\t 5.149999999999999\n",
            "[Feb 27, 14:03:29] 909 0.32081179281441796\n",
            "\t\t\t\t 0.05732456594705582 0.09310182929039001\n",
            "#>>>    22.14 16.45 \t\t|\t\t 5.690000000000001\n",
            "[Feb 27, 14:03:29] 910 0.3206414074093904\n",
            "\t\t\t\t 0.20291727781295776 0.16540135443210602\n",
            "#>>>    21.31 16.12 \t\t|\t\t 5.189999999999998\n",
            "[Feb 27, 14:03:30] 911 0.3206890846193249\n",
            "\t\t\t\t 0.23335480690002441 0.1843811571598053\n",
            "#>>>    21.45 15.94 \t\t|\t\t 5.51\n",
            "[Feb 27, 14:03:30] 912 0.32078613149876534\n",
            "\t\t\t\t 0.21801447868347168 0.12922874093055725\n",
            "#>>>    21.2 16.22 \t\t|\t\t 4.98\n",
            "[Feb 27, 14:03:30] 913 0.3208125885868806\n",
            "\t\t\t\t 0.10802000761032104 0.08731365203857422\n",
            "#>>>    21.44 16.05 \t\t|\t\t 5.390000000000001\n",
            "[Feb 27, 14:03:31] 914 0.3206871096579426\n",
            "\t\t\t\t 0.12785941362380981 0.046484168618917465\n",
            "#>>>    22.33 16.3 \t\t|\t\t 6.029999999999998\n",
            "[Feb 27, 14:03:31] 915 0.3205407661342527\n",
            "\t\t\t\t 0.1508568823337555 0.16817347705364227\n",
            "#>>>    21.3 15.88 \t\t|\t\t 5.42\n",
            "[Feb 27, 14:03:32] 916 0.32053925571260466\n",
            "\t\t\t\t 0.14629261195659637 0.12864817678928375\n",
            "#>>>    21.68 16.2 \t\t|\t\t 5.48\n",
            "[Feb 27, 14:03:32] 917 0.32049365724563794\n",
            "\t\t\t\t 0.19550523161888123 0.09581219404935837\n",
            "#>>>    21.56 15.54 \t\t|\t\t 6.02\n",
            "[Feb 27, 14:03:33] 918 0.32046448102151115\n",
            "\t\t\t\t 0.14952969551086426 0.041783493012189865\n",
            "#>>>    21.56 16.26 \t\t|\t\t 5.299999999999997\n",
            "[Feb 27, 14:03:33] 919 0.320335329732738\n",
            "\t\t\t\t 0.11127916723489761 0.05237576365470886\n",
            "#>>>    21.83 16.13 \t\t|\t\t 5.699999999999999\n",
            "[Feb 27, 14:03:34] 920 0.32017864932644424\n",
            "\t\t\t\t 0.1708877682685852 0.12008613348007202\n",
            "#>>>    21.87 16.71 \t\t|\t\t 5.16\n",
            "[Feb 27, 14:03:34] 921 0.32014944457886646\n",
            "\t\t\t\t 0.12770068645477295 0.10688134282827377\n",
            "#>>>    21.42 16.54 \t\t|\t\t 4.880000000000003\n",
            "[Feb 27, 14:03:35] 922 0.32006387717102125\n",
            "\t\t\t\t 0.12249240279197693 0.10318490862846375\n",
            "#>>>    21.49 15.84 \t\t|\t\t 5.649999999999999\n",
            "[Feb 27, 14:03:35] 923 0.31996949060527063\n",
            "\t\t\t\t 0.09392867237329483 0.1015634834766388\n",
            "#>>>    21.17 15.9 \t\t|\t\t 5.270000000000001\n",
            "[Feb 27, 14:03:36] 924 0.31984501326306475\n",
            "\t\t\t\t 0.1288003921508789 0.05432642251253128\n",
            "#>>>    21.68 15.81 \t\t|\t\t 5.869999999999999\n",
            "[Feb 27, 14:03:36] 925 0.31970829505701454\n",
            "\t\t\t\t 0.11407031118869781 0.10571208596229553\n",
            "#>>>    21.31 15.97 \t\t|\t\t 5.339999999999998\n",
            "[Feb 27, 14:03:37] 926 0.3196083691591085\n",
            "\t\t\t\t 0.2070010006427765 0.09025103598833084\n",
            "#>>>    21.22 16.55 \t\t|\t\t 4.669999999999998\n",
            "[Feb 27, 14:03:37] 927 0.3195860128191299\n",
            "\t\t\t\t 0.24137677252292633 0.1691838502883911\n",
            "#>>>    21.51 16.07 \t\t|\t\t 5.440000000000001\n",
            "[Feb 27, 14:03:38] 928 0.31967698741422096\n",
            "\t\t\t\t 0.13895829021930695 0.2709735333919525\n",
            "#>>>    21.06 15.74 \t\t|\t\t 5.3199999999999985\n",
            "[Feb 27, 14:03:38] 929 0.31976724226531916\n",
            "\t\t\t\t 0.2761828303337097 0.15952512621879578\n",
            "#>>>    21.45 16.04 \t\t|\t\t 5.41\n",
            "[Feb 27, 14:03:39] 930 0.31988318297960633\n",
            "\t\t\t\t 0.09279633313417435 0.07804177701473236\n",
            "#>>>    21.62 15.87 \t\t|\t\t 5.750000000000002\n",
            "[Feb 27, 14:03:39] 931 0.3197341379142262\n",
            "\t\t\t\t 0.16521170735359192 0.06832807511091232\n",
            "#>>>    21.3 16.01 \t\t|\t\t 5.289999999999999\n",
            "[Feb 27, 14:03:40] 932 0.31964794356622706\n",
            "\t\t\t\t 0.20297865569591522 0.2348930388689041\n",
            "#>>>    21.38 16.62 \t\t|\t\t 4.759999999999998\n",
            "[Feb 27, 14:03:40] 933 0.3197661673172257\n",
            "\t\t\t\t 0.18551082909107208 0.07766424864530563\n",
            "#>>>    21.04 15.94 \t\t|\t\t 5.1\n",
            "[Feb 27, 14:03:41] 934 0.31970957622019425\n",
            "\t\t\t\t 0.14889851212501526 0.11603804677724838\n",
            "#>>>    21.5 16.08 \t\t|\t\t 5.420000000000002\n",
            "[Feb 27, 14:03:41] 935 0.3196548032103269\n",
            "\t\t\t\t 0.12998098134994507 0.08402843773365021\n",
            "#>>>    21.28 15.51 \t\t|\t\t 5.770000000000001\n",
            "[Feb 27, 14:03:41] 936 0.3195491578262002\n",
            "\t\t\t\t 0.18228518962860107 0.1259041279554367\n",
            "#>>>    21.94 15.92 \t\t|\t\t 6.020000000000001\n",
            "[Feb 27, 14:03:42] 937 0.3195377980008592\n",
            "\t\t\t\t 0.11225080490112305 0.11836831271648407\n",
            "#>>>    21.78 16.16 \t\t|\t\t 5.620000000000001\n",
            "[Feb 27, 14:03:42] 938 0.31944887932047594\n",
            "\t\t\t\t 0.2497304230928421 0.15969422459602356\n",
            "#>>>    21.14 16.03 \t\t|\t\t 5.109999999999999\n",
            "[Feb 27, 14:03:43] 939 0.3195388551037455\n",
            "\t\t\t\t 0.11281085014343262 0.1473189741373062\n",
            "#>>>    22.01 16.1 \t\t|\t\t 5.91\n",
            "[Feb 27, 14:03:43] 940 0.31947944605802137\n",
            "\t\t\t\t 0.11402253806591034 0.24539710581302643\n",
            "#>>>    21.05 15.8 \t\t|\t\t 5.25\n",
            "[Feb 27, 14:03:44] 941 0.31951938625584225\n",
            "\t\t\t\t 0.1515016108751297 0.18796974420547485\n",
            "#>>>    21.59 16.37 \t\t|\t\t 5.219999999999999\n",
            "[Feb 27, 14:03:44] 942 0.3195393382097658\n",
            "\t\t\t\t 0.1076817438006401 0.07032706588506699\n",
            "#>>>    21.45 15.73 \t\t|\t\t 5.719999999999999\n",
            "[Feb 27, 14:03:45] 943 0.31939780768124176\n",
            "\t\t\t\t 0.06659027934074402 0.13865967094898224\n",
            "#>>>    21.21 16.07 \t\t|\t\t 5.140000000000001\n",
            "[Feb 27, 14:03:45] 944 0.3192836598238502\n",
            "\t\t\t\t 0.056877441704273224 0.12235642969608307\n",
            "#>>>    21.41 15.2 \t\t|\t\t 6.210000000000001\n",
            "[Feb 27, 14:03:46] 945 0.3191436100428773\n",
            "\t\t\t\t 0.20583146810531616 0.18764840066432953\n",
            "#>>>    21.26 15.83 \t\t|\t\t 5.4300000000000015\n",
            "[Feb 27, 14:03:46] 946 0.31921794631650524\n",
            "\t\t\t\t 0.11576828360557556 0.0890914797782898\n",
            "#>>>    21.63 16.0 \t\t|\t\t 5.629999999999999\n",
            "[Feb 27, 14:03:47] 947 0.3191035881335726\n",
            "\t\t\t\t 0.25555115938186646 0.12875191867351532\n",
            "#>>>    21.57 16.43 \t\t|\t\t 5.140000000000001\n",
            "[Feb 27, 14:03:47] 948 0.31916878763839557\n",
            "\t\t\t\t 0.2276204526424408 0.20539933443069458\n",
            "#>>>    21.31 15.66 \t\t|\t\t 5.649999999999999\n",
            "[Feb 27, 14:03:48] 949 0.31928263863783035\n",
            "\t\t\t\t 0.11431480944156647 0.05718217417597771\n",
            "#>>>    22.11 16.3 \t\t|\t\t 5.809999999999999\n",
            "[Feb 27, 14:03:48] 950 0.3191348529865353\n",
            "\t\t\t\t 0.1538625955581665 0.11043713986873627\n",
            "#>>>    21.61 16.39 \t\t|\t\t 5.219999999999999\n",
            "[Feb 27, 14:03:49] 951 0.31908001788387685\n",
            "\t\t\t\t 0.13506779074668884 0.06554859131574631\n",
            "#>>>    21.6 16.59 \t\t|\t\t 5.010000000000002\n",
            "[Feb 27, 14:03:49] 952 0.318961554255506\n",
            "\t\t\t\t 0.16184625029563904 0.10188575088977814\n",
            "#>>>    21.41 16.13 \t\t|\t\t 5.280000000000001\n",
            "[Feb 27, 14:03:50] 953 0.3189063247173371\n",
            "\t\t\t\t 0.15422222018241882 0.09042712301015854\n",
            "#>>>    21.68 15.68 \t\t|\t\t 6.0\n",
            "[Feb 27, 14:03:50] 954 0.31883206774326295\n",
            "\t\t\t\t 0.1360323280096054 0.1268548220396042\n",
            "#>>>    21.64 16.9 \t\t|\t\t 4.740000000000002\n",
            "[Feb 27, 14:03:51] 955 0.3187761228255689\n",
            "\t\t\t\t 0.16515004634857178 0.08577020466327667\n",
            "#>>>    22.09 16.41 \t\t|\t\t 5.68\n",
            "[Feb 27, 14:03:51] 956 0.318708266938854\n",
            "\t\t\t\t 0.23264771699905396 0.16792608797550201\n",
            "#>>>    21.19 16.16 \t\t|\t\t 5.030000000000001\n",
            "[Feb 27, 14:03:52] 957 0.31879013246198856\n",
            "\t\t\t\t 0.16558271646499634 0.13641642034053802\n",
            "#>>>    21.63 15.85 \t\t|\t\t 5.779999999999999\n",
            "[Feb 27, 14:03:52] 958 0.31877334148123326\n",
            "\t\t\t\t 0.1983041614294052 0.21915359795093536\n",
            "#>>>    20.69 16.03 \t\t|\t\t 4.66\n",
            "[Feb 27, 14:03:52] 959 0.3188720258991324\n",
            "\t\t\t\t 0.09335514903068542 0.08223072439432144\n",
            "#>>>    21.56 16.28 \t\t|\t\t 5.279999999999998\n",
            "[Feb 27, 14:03:53] 960 0.3187287397392077\n",
            "\t\t\t\t 0.15664198994636536 0.09970631450414658\n",
            "#>>>    21.54 16.0 \t\t|\t\t 5.539999999999999\n",
            "[Feb 27, 14:03:53] 961 0.31866635931136955\n",
            "\t\t\t\t 0.0880948081612587 0.06372839957475662\n",
            "#>>>    21.61 15.93 \t\t|\t\t 5.68\n",
            "[Feb 27, 14:03:54] 962 0.31849951615979416\n",
            "\t\t\t\t 0.12506207823753357 0.08824712783098221\n",
            "#>>>    21.5 16.09 \t\t|\t\t 5.41\n",
            "[Feb 27, 14:03:54] 963 0.3183943258422523\n",
            "\t\t\t\t 0.08417418599128723 0.08722969889640808\n",
            "#>>>    21.38 15.79 \t\t|\t\t 5.59\n",
            "[Feb 27, 14:03:55] 964 0.31824733540129774\n",
            "\t\t\t\t 0.14200915396213531 0.09234141558408737\n",
            "#>>>    21.4 16.22 \t\t|\t\t 5.18\n",
            "[Feb 27, 14:03:55] 965 0.31816343862799207\n",
            "\t\t\t\t 0.16869178414344788 0.06488527357578278\n",
            "#>>>    21.98 16.12 \t\t|\t\t 5.859999999999999\n",
            "[Feb 27, 14:03:56] 966 0.31807885224708327\n",
            "\t\t\t\t 0.15148404240608215 0.17186936736106873\n",
            "#>>>    21.36 15.69 \t\t|\t\t 5.67\n",
            "[Feb 27, 14:03:56] 967 0.3180841268046033\n",
            "\t\t\t\t 0.1302713006734848 0.14178994297981262\n",
            "#>>>    21.16 15.82 \t\t|\t\t 5.34\n",
            "[Feb 27, 14:03:57] 968 0.3180381039065508\n",
            "\t\t\t\t 0.08319521695375443 0.024038687348365784\n",
            "#>>>    21.9 16.47 \t\t|\t\t 5.43\n",
            "[Feb 27, 14:03:57] 969 0.31782729970694634\n",
            "\t\t\t\t 0.13666307926177979 0.1511320173740387\n",
            "#>>>    21.47 15.39 \t\t|\t\t 6.079999999999998\n",
            "[Feb 27, 14:03:58] 970 0.3177972675038752\n",
            "\t\t\t\t 0.17098821699619293 0.10764206200838089\n",
            "#>>>    21.14 15.8 \t\t|\t\t 5.34\n",
            "[Feb 27, 14:03:58] 971 0.3177581005228265\n",
            "\t\t\t\t 0.07529996335506439 0.10632340610027313\n",
            "#>>>    21.67 16.06 \t\t|\t\t 5.610000000000003\n",
            "[Feb 27, 14:03:59] 972 0.317621965791759\n",
            "\t\t\t\t 0.1565985083580017 0.11326783150434494\n",
            "#>>>    21.56 16.22 \t\t|\t\t 5.34\n",
            "[Feb 27, 14:03:59] 973 0.31757421017328014\n",
            "\t\t\t\t 0.05760075896978378 0.045171260833740234\n",
            "#>>>    22.02 15.95 \t\t|\t\t 6.07\n",
            "[Feb 27, 14:04:00] 974 0.3173594079829104\n",
            "\t\t\t\t 0.277884840965271 0.11703301966190338\n",
            "#>>>    20.84 16.06 \t\t|\t\t 4.780000000000001\n",
            "[Feb 27, 14:04:00] 975 0.31743696642065355\n",
            "\t\t\t\t 0.16387666761875153 0.1994599550962448\n",
            "#>>>    20.85 15.73 \t\t|\t\t 5.120000000000001\n",
            "[Feb 27, 14:04:01] 976 0.31748286607694787\n",
            "\t\t\t\t 0.1125066876411438 0.0854460746049881\n",
            "#>>>    21.52 16.47 \t\t|\t\t 5.050000000000001\n",
            "[Feb 27, 14:04:01] 977 0.31736333597311706\n",
            "\t\t\t\t 0.1552266776561737 0.16204054653644562\n",
            "#>>>    21.53 15.88 \t\t|\t\t 5.65\n",
            "[Feb 27, 14:04:02] 978 0.3173632398762377\n",
            "\t\t\t\t 0.08801819384098053 0.03612573817372322\n",
            "#>>>    21.71 15.85 \t\t|\t\t 5.860000000000001\n",
            "[Feb 27, 14:04:02] 979 0.3171700205646509\n",
            "\t\t\t\t 0.10228875279426575 0.10784896463155746\n",
            "#>>>    21.8 15.8 \t\t|\t\t 6.0\n",
            "[Feb 27, 14:04:03] 980 0.3170629882689626\n",
            "\t\t\t\t 0.10416463017463684 0.1521092653274536\n",
            "#>>>    21.21 15.36 \t\t|\t\t 5.850000000000001\n",
            "[Feb 27, 14:04:03] 981 0.31700219917619576\n",
            "\t\t\t\t 0.11252576112747192 0.07196389883756638\n",
            "#>>>    21.71 16.03 \t\t|\t\t 5.68\n",
            "[Feb 27, 14:04:03] 982 0.3168696866444352\n",
            "\t\t\t\t 0.1481611281633377 0.1070883497595787\n",
            "#>>>    21.43 16.59 \t\t|\t\t 4.84\n",
            "[Feb 27, 14:04:04] 983 0.3168080664282631\n",
            "\t\t\t\t 0.0883486270904541 0.038401152938604355\n",
            "#>>>    21.54 16.03 \t\t|\t\t 5.509999999999998\n",
            "[Feb 27, 14:04:04] 984 0.3166180081455892\n",
            "\t\t\t\t 0.23854313790798187 0.14721231162548065\n",
            "#>>>    21.43 15.82 \t\t|\t\t 5.609999999999999\n",
            "[Feb 27, 14:04:05] 985 0.3166871455869771\n",
            "\t\t\t\t 0.12564373016357422 0.10343914479017258\n",
            "#>>>    21.11 16.05 \t\t|\t\t 5.059999999999999\n",
            "[Feb 27, 14:04:05] 986 0.3165995413237944\n",
            "\t\t\t\t 0.13930299878120422 0.14319413900375366\n",
            "#>>>    21.25 15.88 \t\t|\t\t 5.369999999999999\n",
            "[Feb 27, 14:04:06] 987 0.31656543892025557\n",
            "\t\t\t\t 0.10858622938394547 0.11013923585414886\n",
            "#>>>    21.35 16.1 \t\t|\t\t 5.25\n",
            "[Feb 27, 14:04:06] 988 0.316467598954024\n",
            "\t\t\t\t 0.09632017463445663 0.08045751601457596\n",
            "#>>>    21.58 16.07 \t\t|\t\t 5.509999999999998\n",
            "[Feb 27, 14:04:07] 989 0.316327909045719\n",
            "\t\t\t\t 0.079864501953125 0.04310247674584389\n",
            "#>>>    22.18 16.48 \t\t|\t\t 5.699999999999999\n",
            "[Feb 27, 14:04:07] 990 0.31613454811164693\n",
            "\t\t\t\t 0.09599998593330383 0.06639262288808823\n",
            "#>>>    21.5 16.07 \t\t|\t\t 5.43\n",
            "[Feb 27, 14:04:08] 991 0.3159808061798073\n",
            "\t\t\t\t 0.1978672742843628 0.058631252497434616\n",
            "#>>>    21.53 16.59 \t\t|\t\t 4.940000000000001\n",
            "[Feb 27, 14:04:08] 992 0.31592132388923344\n",
            "\t\t\t\t 0.1371479034423828 0.07563380151987076\n",
            "#>>>    21.98 16.42 \t\t|\t\t 5.559999999999999\n",
            "[Feb 27, 14:04:09] 993 0.31581818426285585\n",
            "\t\t\t\t 0.16676561534404755 0.12333184480667114\n",
            "#>>>    21.26 15.92 \t\t|\t\t 5.340000000000002\n",
            "[Feb 27, 14:04:09] 994 0.3157924635536449\n",
            "\t\t\t\t 0.11678418517112732 0.09243464469909668\n",
            "#>>>    21.42 16.33 \t\t|\t\t 5.090000000000003\n",
            "[Feb 27, 14:04:10] 995 0.3156858899199615\n",
            "\t\t\t\t 0.10396699607372284 0.059635959565639496\n",
            "#>>>    21.67 16.23 \t\t|\t\t 5.440000000000001\n",
            "[Feb 27, 14:04:10] 996 0.3155338069782303\n",
            "\t\t\t\t 0.16811835765838623 0.13534589111804962\n",
            "#>>>    21.57 16.72 \t\t|\t\t 4.850000000000001\n",
            "[Feb 27, 14:04:11] 997 0.31552173740512734\n",
            "\t\t\t\t 0.17599481344223022 0.0950939729809761\n",
            "#>>>    21.57 16.31 \t\t|\t\t 5.260000000000002\n",
            "[Feb 27, 14:04:11] 998 0.31547730444669486\n",
            "\t\t\t\t 0.20410341024398804 0.06197236850857735\n",
            "#>>>    21.49 16.31 \t\t|\t\t 5.18\n",
            "[Feb 27, 14:04:12] 999 0.3154279029321766\n",
            "\t\t\t\t 0.1948522925376892 0.07980838418006897\n",
            "#>>>    21.5 16.28 \t\t|\t\t 5.219999999999999\n",
            "[Feb 27, 14:04:12] 1000 0.3153871357059622\n",
            "\t\t\t\t 0.18153715133666992 0.1631910800933838\n",
            "#>>>    21.22 15.98 \t\t|\t\t 5.239999999999998\n",
            "[Feb 27, 14:04:13] 1001 0.31541647680168633\n",
            "\t\t\t\t 0.20664659142494202 0.16324034333229065\n",
            "#>>>    21.23 15.92 \t\t|\t\t 5.3100000000000005\n",
            "[Feb 27, 14:04:13] 1002 0.3154709472596419\n",
            "\t\t\t\t 0.13349616527557373 0.03277464956045151\n",
            "#>>>    21.78 16.41 \t\t|\t\t 5.370000000000001\n",
            "[Feb 27, 14:04:14] 1003 0.3153217471346689\n",
            "\t\t\t\t 0.1168205663561821 0.07117611169815063\n",
            "#>>>    21.71 15.93 \t\t|\t\t 5.780000000000001\n",
            "[Feb 27, 14:04:14] 1004 0.3151944220730391\n",
            "\t\t\t\t 0.16467884182929993 0.05211539566516876\n",
            "#>>>    21.59 16.21 \t\t|\t\t 5.379999999999999\n",
            "[Feb 27, 14:04:14] 1005 0.31509602188846053\n",
            "\t\t\t\t 0.19771096110343933 0.18072864413261414\n",
            "#>>>    21.1 16.2 \t\t|\t\t 4.900000000000002\n",
            "[Feb 27, 14:04:15] 1006 0.3151593654718081\n",
            "\t\t\t\t 0.14240290224552155 0.1179465651512146\n",
            "#>>>    21.27 16.36 \t\t|\t\t 4.91\n",
            "[Feb 27, 14:04:15] 1007 0.3151045555588319\n",
            "\t\t\t\t 0.15171454846858978 0.05884947627782822\n",
            "#>>>    21.67 16.5 \t\t|\t\t 5.170000000000002\n",
            "[Feb 27, 14:04:16] 1008 0.3150000150205689\n",
            "\t\t\t\t 0.2356722354888916 0.21077999472618103\n",
            "#>>>    21.22 16.12 \t\t|\t\t 5.099999999999998\n",
            "[Feb 27, 14:04:16] 1009 0.3151314672357634\n",
            "\t\t\t\t 0.19897598028182983 0.17219685018062592\n",
            "#>>>    21.35 16.36 \t\t|\t\t 4.990000000000002\n",
            "[Feb 27, 14:04:17] 1010 0.3151875086138913\n",
            "\t\t\t\t 0.09732756018638611 0.04961167275905609\n",
            "#>>>    21.27 15.74 \t\t|\t\t 5.529999999999999\n",
            "[Feb 27, 14:04:17] 1011 0.31501926033822286\n",
            "\t\t\t\t 0.1724824607372284 0.10103850066661835\n",
            "#>>>    21.38 16.3 \t\t|\t\t 5.079999999999998\n",
            "[Feb 27, 14:04:18] 1012 0.3149777620243873\n",
            "\t\t\t\t 0.1398155242204666 0.13501779735088348\n",
            "#>>>    21.74 16.15 \t\t|\t\t 5.59\n",
            "[Feb 27, 14:04:18] 1013 0.3149376175839343\n",
            "\t\t\t\t 0.2237200289964676 0.15977410972118378\n",
            "#>>>    21.19 16.35 \t\t|\t\t 4.84\n",
            "[Feb 27, 14:04:19] 1014 0.315006174105068\n",
            "\t\t\t\t 0.14287084341049194 0.14872951805591583\n",
            "#>>>    21.23 16.01 \t\t|\t\t 5.219999999999999\n",
            "[Feb 27, 14:04:19] 1015 0.31498276827752814\n",
            "\t\t\t\t 0.12089986354112625 0.10629869997501373\n",
            "#>>>    21.56 15.57 \t\t|\t\t 5.989999999999998\n",
            "[Feb 27, 14:04:20] 1016 0.3148949840802173\n",
            "\t\t\t\t 0.24704694747924805 0.2281632274389267\n",
            "#>>>    21.26 15.97 \t\t|\t\t 5.290000000000001\n",
            "[Feb 27, 14:04:20] 1017 0.31505529928595644\n",
            "\t\t\t\t 0.13776622712612152 0.06922464072704315\n",
            "#>>>    21.32 15.9 \t\t|\t\t 5.42\n",
            "[Feb 27, 14:04:21] 1018 0.31494723485452364\n",
            "\t\t\t\t 0.10758782923221588 0.07301826030015945\n",
            "#>>>    21.47 16.38 \t\t|\t\t 5.09\n",
            "[Feb 27, 14:04:21] 1019 0.31481289371665205\n",
            "\t\t\t\t 0.2657739818096161 0.15228895843029022\n",
            "#>>>    21.5 16.04 \t\t|\t\t 5.460000000000001\n",
            "[Feb 27, 14:04:22] 1020 0.31491614374827415\n",
            "\t\t\t\t 0.11259348690509796 0.023923641070723534\n",
            "#>>>    22.04 16.37 \t\t|\t\t 5.669999999999998\n",
            "[Feb 27, 14:04:22] 1021 0.31473774472691374\n",
            "\t\t\t\t 0.1450330913066864 0.10327653586864471\n",
            "#>>>    21.7 15.96 \t\t|\t\t 5.739999999999998\n",
            "[Feb 27, 14:04:22] 1022 0.31467131660936215\n",
            "\t\t\t\t 0.13441459834575653 0.23378147184848785\n",
            "#>>>    21.44 15.86 \t\t|\t\t 5.580000000000002\n",
            "[Feb 27, 14:04:23] 1023 0.31472484136294704\n",
            "\t\t\t\t 0.21884679794311523 0.10347416251897812\n",
            "#>>>    21.37 16.01 \t\t|\t\t 5.359999999999999\n",
            "[Feb 27, 14:04:23] 1024 0.31473243748949675\n",
            "\t\t\t\t 0.1341480016708374 0.09825962781906128\n",
            "#>>>    21.42 15.98 \t\t|\t\t 5.440000000000001\n",
            "[Feb 27, 14:04:24] 1025 0.3146501126814972\n",
            "\t\t\t\t 0.14820748567581177 0.12312059849500656\n",
            "#>>>    21.34 16.09 \t\t|\t\t 5.25\n",
            "[Feb 27, 14:04:24] 1026 0.31460679066043706\n",
            "\t\t\t\t 0.14732512831687927 0.08917813748121262\n",
            "#>>>    21.08 16.05 \t\t|\t\t 5.029999999999998\n",
            "[Feb 27, 14:04:25] 1027 0.3145286871430253\n",
            "\t\t\t\t 0.12059222906827927 0.08680980652570724\n",
            "#>>>    21.66 16.54 \t\t|\t\t 5.120000000000001\n",
            "[Feb 27, 14:04:25] 1028 0.31442156049147624\n",
            "\t\t\t\t 0.09663859754800797 0.07473251223564148\n",
            "#>>>    21.1 15.63 \t\t|\t\t 5.470000000000001\n",
            "[Feb 27, 14:04:26] 1029 0.3142785100333178\n",
            "\t\t\t\t 0.1401171088218689 0.09517838805913925\n",
            "#>>>    21.42 16.1 \t\t|\t\t 5.32\n",
            "[Feb 27, 14:04:26] 1030 0.3141995270276161\n",
            "\t\t\t\t 0.14196175336837769 0.1712246835231781\n",
            "#>>>    21.34 15.79 \t\t|\t\t 5.550000000000001\n",
            "[Feb 27, 14:04:27] 1031 0.31419851393748005\n",
            "\t\t\t\t 0.17245754599571228 0.09811531752347946\n",
            "#>>>    21.53 16.22 \t\t|\t\t 5.310000000000002\n",
            "[Feb 27, 14:04:27] 1032 0.3141548882945123\n",
            "\t\t\t\t 0.19024544954299927 0.1587456613779068\n",
            "#>>>    21.33 16.29 \t\t|\t\t 5.039999999999999\n",
            "[Feb 27, 14:04:28] 1033 0.3141897245022376\n",
            "\t\t\t\t 0.124724380671978 0.07578359544277191\n",
            "#>>>    21.13 15.7 \t\t|\t\t 5.43\n",
            "[Feb 27, 14:04:28] 1034 0.3140760427463995\n",
            "\t\t\t\t 0.17506730556488037 0.08706393092870712\n",
            "#>>>    21.53 16.3 \t\t|\t\t 5.23\n",
            "[Feb 27, 14:04:29] 1035 0.3140240979475972\n",
            "\t\t\t\t 0.11057626456022263 0.04690951853990555\n",
            "#>>>    21.77 16.26 \t\t|\t\t 5.509999999999998\n",
            "[Feb 27, 14:04:29] 1036 0.31386755963274976\n",
            "\t\t\t\t 0.12083178758621216 0.0507347509264946\n",
            "#>>>    21.97 16.12 \t\t|\t\t 5.849999999999998\n",
            "[Feb 27, 14:04:30] 1037 0.3137252586190803\n",
            "\t\t\t\t 0.15156927704811096 0.1822519302368164\n",
            "#>>>    21.47 16.37 \t\t|\t\t 5.099999999999998\n",
            "[Feb 27, 14:04:30] 1038 0.31374535456774616\n",
            "\t\t\t\t 0.09827756881713867 0.07263153791427612\n",
            "#>>>    21.42 15.6 \t\t|\t\t 5.820000000000002\n",
            "[Feb 27, 14:04:30] 1039 0.3136025183199098\n",
            "\t\t\t\t 0.21212321519851685 0.11427440494298935\n",
            "#>>>    21.4 15.64 \t\t|\t\t 5.759999999999998\n",
            "[Feb 27, 14:04:31] 1040 0.313615313429182\n",
            "\t\t\t\t 0.2149735540151596 0.1720840334892273\n",
            "#>>>    21.39 16.72 \t\t|\t\t 4.670000000000002\n",
            "[Feb 27, 14:04:31] 1041 0.31368875571815835\n",
            "\t\t\t\t 0.07414482533931732 0.06050075590610504\n",
            "#>>>    21.75 15.99 \t\t|\t\t 5.76\n",
            "[Feb 27, 14:04:32] 1042 0.31350971254368565\n",
            "\t\t\t\t 0.14940111339092255 0.13819067180156708\n",
            "#>>>    21.49 15.96 \t\t|\t\t 5.529999999999998\n",
            "[Feb 27, 14:04:32] 1043 0.31348379461633447\n",
            "\t\t\t\t 0.2362053096294403 0.18237106502056122\n",
            "#>>>    21.19 16.54 \t\t|\t\t 4.650000000000002\n",
            "[Feb 27, 14:04:33] 1044 0.313588887181467\n",
            "\t\t\t\t 0.16189152002334595 0.09286890923976898\n",
            "#>>>    21.48 16.25 \t\t|\t\t 5.23\n",
            "[Feb 27, 14:04:33] 1045 0.3135300587384498\n",
            "\t\t\t\t 0.1215398907661438 0.0798906460404396\n",
            "#>>>    21.72 16.49 \t\t|\t\t 5.23\n",
            "[Feb 27, 14:04:34] 1046 0.31341795920906734\n",
            "\t\t\t\t 0.1453837752342224 0.2087833434343338\n",
            "#>>>    21.32 15.75 \t\t|\t\t 5.57\n",
            "[Feb 27, 14:04:34] 1047 0.31345870835362566\n",
            "\t\t\t\t 0.12635448575019836 0.1507055163383484\n",
            "#>>>    21.46 15.98 \t\t|\t\t 5.48\n",
            "[Feb 27, 14:04:35] 1048 0.31342230964736056\n",
            "\t\t\t\t 0.11961933970451355 0.18061740696430206\n",
            "#>>>    21.18 15.47 \t\t|\t\t 5.709999999999999\n",
            "[Feb 27, 14:04:35] 1049 0.3134091240992832\n",
            "\t\t\t\t 0.10366999357938766 0.06674020737409592\n",
            "#>>>    21.84 16.79 \t\t|\t\t 5.050000000000001\n",
            "[Feb 27, 14:04:36] 1050 0.3132661251761374\n",
            "\t\t\t\t 0.16556476056575775 0.2675347328186035\n",
            "#>>>    21.33 15.64 \t\t|\t\t 5.689999999999998\n",
            "[Feb 27, 14:04:36] 1051 0.3133859585592468\n",
            "\t\t\t\t 0.20365315675735474 0.18255266547203064\n",
            "#>>>    21.11 16.08 \t\t|\t\t 5.030000000000001\n",
            "[Feb 27, 14:04:37] 1052 0.3134587784229169\n",
            "\t\t\t\t 0.13859617710113525 0.16303487122058868\n",
            "#>>>    21.33 15.93 \t\t|\t\t 5.399999999999999\n",
            "[Feb 27, 14:04:37] 1053 0.31344695067791456\n",
            "\t\t\t\t 0.22828859090805054 0.11425023525953293\n",
            "#>>>    21.32 15.62 \t\t|\t\t 5.700000000000001\n",
            "[Feb 27, 14:04:38] 1054 0.3134760425608548\n",
            "\t\t\t\t 0.1485373079776764 0.12645871937274933\n",
            "#>>>    21.64 15.79 \t\t|\t\t 5.850000000000001\n",
            "[Feb 27, 14:04:38] 1055 0.3134375625605455\n",
            "\t\t\t\t 0.13892970979213715 0.18497373163700104\n",
            "#>>>    21.83 16.31 \t\t|\t\t 5.52\n",
            "[Feb 27, 14:04:38] 1056 0.3134480284394141\n",
            "\t\t\t\t 0.07697584480047226 0.1115453764796257\n",
            "#>>>    21.58 16.0 \t\t|\t\t 5.579999999999998\n",
            "[Feb 27, 14:04:39] 1057 0.3133231016322548\n",
            "\t\t\t\t 0.20990660786628723 0.09515005350112915\n",
            "#>>>    21.36 16.49 \t\t|\t\t 4.870000000000001\n",
            "[Feb 27, 14:04:39] 1058 0.31331483519199\n",
            "\t\t\t\t 0.1213199719786644 0.062374334782361984\n",
            "#>>>    21.39 15.95 \t\t|\t\t 5.440000000000001\n",
            "[Feb 27, 14:04:40] 1059 0.31318521465983373\n",
            "\t\t\t\t 0.14881548285484314 0.07972034066915512\n",
            "#>>>    21.5 15.93 \t\t|\t\t 5.57\n",
            "[Feb 27, 14:04:40] 1060 0.3131005652761485\n",
            "\t\t\t\t 0.07123344391584396 0.12761525809764862\n",
            "#>>>    22.08 16.09 \t\t|\t\t 5.989999999999998\n",
            "[Feb 27, 14:04:41] 1061 0.31298631340543526\n",
            "\t\t\t\t 0.1738492250442505 0.09923957288265228\n",
            "#>>>    21.6 16.32 \t\t|\t\t 5.280000000000001\n",
            "[Feb 27, 14:04:41] 1062 0.3129464159048579\n",
            "\t\t\t\t 0.21162012219429016 0.12604980170726776\n",
            "#>>>    20.96 15.89 \t\t|\t\t 5.07\n",
            "[Feb 27, 14:04:42] 1063 0.31297113939795346\n",
            "\t\t\t\t 0.10335142910480499 0.12497638165950775\n",
            "#>>>    21.51 15.87 \t\t|\t\t 5.640000000000002\n",
            "[Feb 27, 14:04:42] 1064 0.31288649606931984\n",
            "\t\t\t\t 0.10092297941446304 0.022797923535108566\n",
            "#>>>    21.78 16.28 \t\t|\t\t 5.5\n",
            "[Feb 27, 14:04:43] 1065 0.31269733047247483\n",
            "\t\t\t\t 0.1323956698179245 0.0698002427816391\n",
            "#>>>    21.52 16.07 \t\t|\t\t 5.449999999999999\n",
            "[Feb 27, 14:04:43] 1066 0.31258682905460194\n",
            "\t\t\t\t 0.1286839097738266 0.0630599856376648\n",
            "#>>>    21.38 15.92 \t\t|\t\t 5.459999999999999\n",
            "[Feb 27, 14:04:44] 1067 0.3124659861209588\n",
            "\t\t\t\t 0.08273569494485855 0.12309065461158752\n",
            "#>>>    21.5 15.64 \t\t|\t\t 5.859999999999999\n",
            "[Feb 27, 14:04:44] 1068 0.31235934647694374\n",
            "\t\t\t\t 0.18870863318443298 0.07251857221126556\n",
            "#>>>    21.4 16.46 \t\t|\t\t 4.939999999999998\n",
            "[Feb 27, 14:04:45] 1069 0.31230821432096134\n",
            "\t\t\t\t 0.12452682852745056 0.1011570394039154\n",
            "#>>>    21.9 16.89 \t\t|\t\t 5.009999999999998\n",
            "[Feb 27, 14:04:45] 1070 0.3122215899745717\n",
            "\t\t\t\t 0.22932779788970947 0.1578611582517624\n",
            "#>>>    21.52 16.65 \t\t|\t\t 4.870000000000001\n",
            "[Feb 27, 14:04:45] 1071 0.31229655735563977\n",
            "\t\t\t\t 0.10308362543582916 0.03143754601478577\n",
            "#>>>    21.92 16.37 \t\t|\t\t 5.550000000000001\n",
            "[Feb 27, 14:04:46] 1072 0.31211878196973475\n",
            "\t\t\t\t 0.18731708824634552 0.1033526137471199\n",
            "#>>>    21.65 16.09 \t\t|\t\t 5.559999999999999\n",
            "[Feb 27, 14:04:46] 1073 0.31209733289720903\n",
            "\t\t\t\t 0.2354271560907364 0.1877049207687378\n",
            "#>>>    21.48 16.03 \t\t|\t\t 5.449999999999999\n",
            "[Feb 27, 14:04:47] 1074 0.31220836762627013\n",
            "\t\t\t\t 0.18092331290245056 0.11284370720386505\n",
            "#>>>    21.94 17.01 \t\t|\t\t 4.93\n",
            "[Feb 27, 14:04:47] 1075 0.3121899262936514\n",
            "\t\t\t\t 0.10822156816720963 0.0412253700196743\n",
            "#>>>    21.57 16.15 \t\t|\t\t 5.420000000000002\n",
            "[Feb 27, 14:04:48] 1076 0.31202718330181933\n",
            "\t\t\t\t 0.15373656153678894 0.049801066517829895\n",
            "#>>>    21.51 16.14 \t\t|\t\t 5.370000000000001\n",
            "[Feb 27, 14:04:48] 1077 0.31191869374657216\n",
            "\t\t\t\t 0.1393427848815918 0.10876643657684326\n",
            "#>>>    21.78 16.36 \t\t|\t\t 5.420000000000002\n",
            "[Feb 27, 14:04:49] 1078 0.31185488427428404\n",
            "\t\t\t\t 0.15902629494667053 0.10682861506938934\n",
            "#>>>    21.45 16.57 \t\t|\t\t 4.879999999999999\n",
            "[Feb 27, 14:04:49] 1079 0.31180888428512465\n",
            "\t\t\t\t 0.15131548047065735 0.0898958221077919\n",
            "#>>>    21.57 15.89 \t\t|\t\t 5.68\n",
            "[Feb 27, 14:04:50] 1080 0.3117382866959674\n",
            "\t\t\t\t 0.16580791771411896 0.1847846806049347\n",
            "#>>>    21.56 16.32 \t\t|\t\t 5.239999999999998\n",
            "[Feb 27, 14:04:50] 1081 0.3117771410224917\n",
            "\t\t\t\t 0.15390823781490326 0.16692286729812622\n",
            "#>>>    21.52 15.96 \t\t|\t\t 5.559999999999999\n",
            "[Feb 27, 14:04:51] 1082 0.3117861950014834\n",
            "\t\t\t\t 0.13988734781742096 0.16538676619529724\n",
            "#>>>    21.61 16.26 \t\t|\t\t 5.349999999999998\n",
            "[Feb 27, 14:04:51] 1083 0.3117796829353958\n",
            "\t\t\t\t 0.13068437576293945 0.09393677860498428\n",
            "#>>>    21.4 16.15 \t\t|\t\t 5.25\n",
            "[Feb 27, 14:04:52] 1084 0.3116925243993778\n",
            "\t\t\t\t 0.1939850002527237 0.2163660079240799\n",
            "#>>>    21.48 16.29 \t\t|\t\t 5.190000000000001\n",
            "[Feb 27, 14:04:52] 1085 0.3117911828831552\n",
            "\t\t\t\t 0.1417497992515564 0.19312816858291626\n",
            "#>>>    21.0 15.94 \t\t|\t\t 5.0600000000000005\n",
            "[Feb 27, 14:04:53] 1086 0.31181426966810655\n",
            "\t\t\t\t 0.08781461417675018 0.09035509079694748\n",
            "#>>>    21.88 15.89 \t\t|\t\t 5.989999999999998\n",
            "[Feb 27, 14:04:53] 1087 0.31168062509596156\n",
            "\t\t\t\t 0.08143582940101624 0.08583978563547134\n",
            "#>>>    21.65 15.83 \t\t|\t\t 5.8199999999999985\n",
            "[Feb 27, 14:04:53] 1088 0.3115362200784515\n",
            "\t\t\t\t 0.10321489721536636 0.1504940539598465\n",
            "#>>>    22.13 16.4 \t\t|\t\t 5.73\n",
            "[Feb 27, 14:04:54] 1089 0.31147839281699885\n",
            "\t\t\t\t 0.20906974375247955 0.123067706823349\n",
            "#>>>    21.52 16.57 \t\t|\t\t 4.949999999999999\n",
            "[Feb 27, 14:04:54] 1090 0.3114990518896589\n",
            "\t\t\t\t 0.16197460889816284 0.13789105415344238\n",
            "#>>>    21.11 16.21 \t\t|\t\t 4.899999999999999\n",
            "[Feb 27, 14:04:55] 1091 0.31148741850082085\n",
            "\t\t\t\t 0.15384158492088318 0.11279075592756271\n",
            "#>>>    21.37 16.32 \t\t|\t\t 5.050000000000001\n",
            "[Feb 27, 14:04:55] 1092 0.31144256343061905\n",
            "\t\t\t\t 0.0814041793346405 0.05496501177549362\n",
            "#>>>    21.77 15.93 \t\t|\t\t 5.84\n",
            "[Feb 27, 14:04:56] 1093 0.3112674900657491\n",
            "\t\t\t\t 0.13054853677749634 0.11607536673545837\n",
            "#>>>    21.62 16.37 \t\t|\t\t 5.25\n",
            "[Feb 27, 14:04:56] 1094 0.31120284647919627\n",
            "\t\t\t\t 0.23336775600910187 0.23392513394355774\n",
            "#>>>    21.14 16.05 \t\t|\t\t 5.09\n",
            "[Feb 27, 14:04:57] 1095 0.3113589365375709\n",
            "\t\t\t\t 0.15636837482452393 0.1023482084274292\n",
            "#>>>    21.46 15.85 \t\t|\t\t 5.610000000000001\n",
            "[Feb 27, 14:04:57] 1096 0.3113062941842853\n",
            "\t\t\t\t 0.1123589426279068 0.12211895734071732\n",
            "#>>>    21.05 15.77 \t\t|\t\t 5.280000000000001\n",
            "[Feb 27, 14:04:58] 1097 0.3112294657975202\n",
            "\t\t\t\t 0.08915881812572479 0.04379582405090332\n",
            "#>>>    21.45 16.22 \t\t|\t\t 5.23\n",
            "[Feb 27, 14:04:58] 1098 0.31105119097389927\n",
            "\t\t\t\t 0.10145306587219238 0.0797337144613266\n",
            "#>>>    21.4 16.05 \t\t|\t\t 5.349999999999998\n",
            "[Feb 27, 14:04:59] 1099 0.3109213265632589\n",
            "\t\t\t\t 0.16998034715652466 0.19241204857826233\n",
            "#>>>    21.02 15.91 \t\t|\t\t 5.109999999999999\n",
            "[Feb 27, 14:04:59] 1100 0.3109727976324304\n",
            "\t\t\t\t 0.13636475801467896 0.10623752325773239\n",
            "#>>>    21.58 16.43 \t\t|\t\t 5.149999999999999\n",
            "[Feb 27, 14:05:00] 1101 0.31090442712352095\n",
            "\t\t\t\t 0.11644729226827621 0.07300623506307602\n",
            "#>>>    21.6 15.71 \t\t|\t\t 5.890000000000001\n",
            "[Feb 27, 14:05:00] 1102 0.3107829762237288\n",
            "\t\t\t\t 0.16822412610054016 0.08992357552051544\n",
            "#>>>    21.6 16.22 \t\t|\t\t 5.380000000000003\n",
            "[Feb 27, 14:05:01] 1103 0.3107303409640273\n",
            "\t\t\t\t 0.10856176912784576 0.037533026188611984\n",
            "#>>>    21.96 16.28 \t\t|\t\t 5.68\n",
            "[Feb 27, 14:05:01] 1104 0.31056570542210504\n",
            "\t\t\t\t 0.047852523624897 0.06365212053060532\n",
            "#>>>    21.81 16.01 \t\t|\t\t 5.799999999999997\n",
            "[Feb 27, 14:05:02] 1105 0.31036664436083844\n",
            "\t\t\t\t 0.12000548839569092 0.049786657094955444\n",
            "#>>>    21.53 16.41 \t\t|\t\t 5.120000000000001\n",
            "[Feb 27, 14:05:02] 1106 0.3102260698619682\n",
            "\t\t\t\t 0.09380324184894562 0.06801982969045639\n",
            "#>>>    21.54 16.05 \t\t|\t\t 5.489999999999998\n",
            "[Feb 27, 14:05:02] 1107 0.31007766685619503\n",
            "\t\t\t\t 0.1804947853088379 0.1740778535604477\n",
            "#>>>    21.19 16.34 \t\t|\t\t 4.850000000000001\n",
            "[Feb 27, 14:05:03] 1108 0.31012216184310926\n",
            "\t\t\t\t 0.18336932361125946 0.08923279494047165\n",
            "#>>>    20.92 15.74 \t\t|\t\t 5.1800000000000015\n",
            "[Feb 27, 14:05:03] 1109 0.3100846417923673\n",
            "\t\t\t\t 0.14039739966392517 0.13089007139205933\n",
            "#>>>    21.36 16.42 \t\t|\t\t 4.939999999999998\n",
            "[Feb 27, 14:05:04] 1110 0.3100458446216309\n",
            "\t\t\t\t 0.09061630070209503 0.05337631329894066\n",
            "#>>>    21.44 15.92 \t\t|\t\t 5.520000000000001\n",
            "[Feb 27, 14:05:04] 1111 0.3098797913947356\n",
            "\t\t\t\t 0.1703316569328308 0.06396744400262833\n",
            "#>>>    21.96 16.76 \t\t|\t\t 5.199999999999999\n",
            "[Feb 27, 14:05:05] 1112 0.30980421069682573\n",
            "\t\t\t\t 0.22083038091659546 0.0989561453461647\n",
            "#>>>    21.27 16.2 \t\t|\t\t 5.07\n",
            "[Feb 27, 14:05:05] 1113 0.3098141930049411\n",
            "\t\t\t\t 0.10302994400262833 0.0535070039331913\n",
            "#>>>    22.15 16.07 \t\t|\t\t 6.079999999999998\n",
            "[Feb 27, 14:05:06] 1114 0.3096609157635973\n",
            "\t\t\t\t 0.19155575335025787 0.12286899983882904\n",
            "#>>>    21.49 15.98 \t\t|\t\t 5.509999999999998\n",
            "[Feb 27, 14:05:06] 1115 0.30966567960102276\n",
            "\t\t\t\t 0.16525818407535553 0.0889248251914978\n",
            "#>>>    21.7 16.8 \t\t|\t\t 4.899999999999999\n",
            "[Feb 27, 14:05:07] 1116 0.30961019691578745\n",
            "\t\t\t\t 0.13864539563655853 0.18152330815792084\n",
            "#>>>    21.52 16.27 \t\t|\t\t 5.25\n",
            "[Feb 27, 14:05:07] 1117 0.30962075542266615\n",
            "\t\t\t\t 0.13060612976551056 0.051176801323890686\n",
            "#>>>    21.59 16.69 \t\t|\t\t 4.899999999999999\n",
            "[Feb 27, 14:05:08] 1118 0.30949291759833286\n",
            "\t\t\t\t 0.10817614197731018 0.07699284702539444\n",
            "#>>>    22.26 16.87 \t\t|\t\t 5.390000000000001\n",
            "[Feb 27, 14:05:08] 1119 0.30936859366228664\n",
            "\t\t\t\t 0.08436524868011475 0.026869885623455048\n",
            "#>>>    21.81 16.38 \t\t|\t\t 5.43\n",
            "[Feb 27, 14:05:09] 1120 0.30917046020292793\n",
            "\t\t\t\t 0.1625659167766571 0.23394785821437836\n",
            "#>>>    21.56 15.94 \t\t|\t\t 5.619999999999999\n",
            "[Feb 27, 14:05:09] 1121 0.3092578035028149\n",
            "\t\t\t\t 0.13459351658821106 0.09736223518848419\n",
            "#>>>    21.84 16.49 \t\t|\t\t 5.350000000000001\n",
            "[Feb 27, 14:05:10] 1122 0.3091805014510888\n",
            "\t\t\t\t 0.1615670621395111 0.15585915744304657\n",
            "#>>>    21.76 15.99 \t\t|\t\t 5.770000000000001\n",
            "[Feb 27, 14:05:10] 1123 0.3091887471543191\n",
            "\t\t\t\t 0.21008172631263733 0.18812860548496246\n",
            "#>>>    21.22 16.07 \t\t|\t\t 5.149999999999999\n",
            "[Feb 27, 14:05:10] 1124 0.30927776875386354\n",
            "\t\t\t\t 0.21471354365348816 0.06554534286260605\n",
            "#>>>    21.74 16.23 \t\t|\t\t 5.509999999999998\n",
            "[Feb 27, 14:05:11] 1125 0.3092487498790763\n",
            "\t\t\t\t 0.1405690312385559 0.08464055508375168\n",
            "#>>>    21.65 16.08 \t\t|\t\t 5.57\n",
            "[Feb 27, 14:05:11] 1126 0.3091647107229701\n",
            "\t\t\t\t 0.19498322904109955 0.11064041405916214\n",
            "#>>>    21.76 15.92 \t\t|\t\t 5.840000000000002\n",
            "[Feb 27, 14:05:12] 1127 0.309161169662798\n",
            "\t\t\t\t 0.21923325955867767 0.16323137283325195\n",
            "#>>>    21.29 16.39 \t\t|\t\t 4.899999999999999\n",
            "[Feb 27, 14:05:12] 1128 0.3092344731404283\n",
            "\t\t\t\t 0.17168377339839935 0.14966602623462677\n",
            "#>>>    21.98 16.46 \t\t|\t\t 5.52\n",
            "[Feb 27, 14:05:13] 1129 0.30924658846692094\n",
            "\t\t\t\t 0.1725623458623886 0.19809859991073608\n",
            "#>>>    21.43 16.0 \t\t|\t\t 5.43\n",
            "[Feb 27, 14:05:13] 1130 0.3093080028391283\n",
            "\t\t\t\t 0.12943437695503235 0.16578644514083862\n",
            "#>>>    22.03 15.92 \t\t|\t\t 6.110000000000001\n",
            "[Feb 27, 14:05:14] 1131 0.30929391565838504\n",
            "\t\t\t\t 0.2124365121126175 0.09155098348855972\n",
            "#>>>    21.5 16.38 \t\t|\t\t 5.120000000000001\n",
            "[Feb 27, 14:05:14] 1132 0.30928860924577845\n",
            "\t\t\t\t 0.1456756293773651 0.08933129906654358\n",
            "#>>>    21.56 16.04 \t\t|\t\t 5.52\n",
            "[Feb 27, 14:05:15] 1133 0.3092143275649766\n",
            "\t\t\t\t 0.18824729323387146 0.1236773133277893\n",
            "#>>>    21.45 15.85 \t\t|\t\t 5.6\n",
            "[Feb 27, 14:05:15] 1134 0.30921703784397325\n",
            "\t\t\t\t 0.23341123759746552 0.16653087735176086\n",
            "#>>>    21.14 15.83 \t\t|\t\t 5.3100000000000005\n",
            "[Feb 27, 14:05:16] 1135 0.30930776290617734\n",
            "\t\t\t\t 0.1782686561346054 0.15006932616233826\n",
            "#>>>    21.63 16.14 \t\t|\t\t 5.489999999999998\n",
            "[Feb 27, 14:05:16] 1136 0.30932679311066696\n",
            "\t\t\t\t 0.15549755096435547 0.1398017704486847\n",
            "#>>>    21.83 16.52 \t\t|\t\t 5.309999999999999\n",
            "[Feb 27, 14:05:17] 1137 0.3093127656389693\n",
            "\t\t\t\t 0.11622938513755798 0.20677414536476135\n",
            "#>>>    20.92 15.75 \t\t|\t\t 5.170000000000002\n",
            "[Feb 27, 14:05:17] 1138 0.30932645640383266\n",
            "\t\t\t\t 0.1015481948852539 0.12135837972164154\n",
            "#>>>    21.5 15.83 \t\t|\t\t 5.67\n",
            "[Feb 27, 14:05:18] 1139 0.3092400365220357\n",
            "\t\t\t\t 0.07483436167240143 0.06355252116918564\n",
            "#>>>    21.13 15.66 \t\t|\t\t 5.469999999999999\n",
            "[Feb 27, 14:05:18] 1140 0.30906918336090466\n",
            "\t\t\t\t 0.11350933462381363 0.15945178270339966\n",
            "#>>>    21.56 16.46 \t\t|\t\t 5.099999999999998\n",
            "[Feb 27, 14:05:18] 1141 0.3090330752874204\n",
            "\t\t\t\t 0.10518771409988403 0.13673856854438782\n",
            "#>>>    21.55 15.83 \t\t|\t\t 5.720000000000001\n",
            "[Feb 27, 14:05:19] 1142 0.30896596849477725\n",
            "\t\t\t\t 0.18431109189987183 0.1457228809595108\n",
            "#>>>    21.14 15.42 \t\t|\t\t 5.720000000000001\n",
            "[Feb 27, 14:05:19] 1143 0.3089870364842407\n",
            "\t\t\t\t 0.11340168863534927 0.06266488879919052\n",
            "#>>>    22.08 15.55 \t\t|\t\t 6.529999999999998\n",
            "[Feb 27, 14:05:20] 1144 0.308854116025191\n",
            "\t\t\t\t 0.1390371322631836 0.048712726682424545\n",
            "#>>>    21.57 16.12 \t\t|\t\t 5.449999999999999\n",
            "[Feb 27, 14:05:20] 1145 0.30873301177183665\n",
            "\t\t\t\t 0.09611690789461136 0.13375626504421234\n",
            "#>>>    21.72 16.11 \t\t|\t\t 5.609999999999999\n",
            "[Feb 27, 14:05:21] 1146 0.30865415194045426\n",
            "\t\t\t\t 0.17016756534576416 0.14227724075317383\n",
            "#>>>    21.65 16.14 \t\t|\t\t 5.509999999999998\n",
            "[Feb 27, 14:05:21] 1147 0.3086579425946127\n",
            "\t\t\t\t 0.16115127503871918 0.10164052248001099\n",
            "#>>>    21.39 16.43 \t\t|\t\t 4.960000000000001\n",
            "[Feb 27, 14:05:22] 1148 0.308612076464438\n",
            "\t\t\t\t 0.14658810198307037 0.14375172555446625\n",
            "#>>>    21.28 15.59 \t\t|\t\t 5.690000000000001\n",
            "[Feb 27, 14:05:22] 1149 0.3085938042155111\n",
            "\t\t\t\t 0.2178696095943451 0.13451364636421204\n",
            "#>>>    21.65 16.52 \t\t|\t\t 5.129999999999999\n",
            "[Feb 27, 14:05:23] 1150 0.30863759366725413\n",
            "\t\t\t\t 0.18698012828826904 0.08359711617231369\n",
            "#>>>    21.62 16.16 \t\t|\t\t 5.460000000000001\n",
            "[Feb 27, 14:05:23] 1151 0.30859953332549805\n",
            "\t\t\t\t 0.12322162091732025 0.12048932164907455\n",
            "#>>>    21.11 15.93 \t\t|\t\t 5.18\n",
            "[Feb 27, 14:05:24] 1152 0.30853464472728837\n",
            "\t\t\t\t 0.16333165764808655 0.09091062098741531\n",
            "#>>>    22.0 16.45 \t\t|\t\t 5.550000000000001\n",
            "[Feb 27, 14:05:24] 1153 0.308480352353746\n",
            "\t\t\t\t 0.14113497734069824 0.1498013138771057\n",
            "#>>>    21.1 15.9 \t\t|\t\t 5.200000000000001\n",
            "[Feb 27, 14:05:25] 1154 0.30846280829261\n",
            "\t\t\t\t 0.1237836480140686 0.12626388669013977\n",
            "#>>>    21.31 15.96 \t\t|\t\t 5.349999999999998\n",
            "[Feb 27, 14:05:25] 1155 0.3084043930190216\n",
            "\t\t\t\t 0.20756147801876068 0.11102235317230225\n",
            "#>>>    21.83 16.43 \t\t|\t\t 5.399999999999999\n",
            "[Feb 27, 14:05:26] 1156 0.3084145724720948\n",
            "\t\t\t\t 0.15040533244609833 0.11751268059015274\n",
            "#>>>    21.34 16.31 \t\t|\t\t 5.030000000000001\n",
            "[Feb 27, 14:05:26] 1157 0.3083740759201095\n",
            "\t\t\t\t 0.2280837446451187 0.1820162534713745\n",
            "#>>>    21.26 16.39 \t\t|\t\t 4.870000000000001\n",
            "[Feb 27, 14:05:26] 1158 0.30847580182740475\n",
            "\t\t\t\t 0.08989222347736359 0.02303074114024639\n",
            "#>>>    22.24 16.27 \t\t|\t\t 5.969999999999999\n",
            "[Feb 27, 14:05:27] 1159 0.3082802489920576\n",
            "\t\t\t\t 0.07685090601444244 0.07119400799274445\n",
            "#>>>    21.34 15.5 \t\t|\t\t 5.84\n",
            "[Feb 27, 14:05:27] 1160 0.3081200136570727\n",
            "\t\t\t\t 0.1818200945854187 0.1711878925561905\n",
            "#>>>    21.53 16.01 \t\t|\t\t 5.52\n",
            "[Feb 27, 14:05:28] 1161 0.3081649016156561\n",
            "\t\t\t\t 0.18256491422653198 0.1477084457874298\n",
            "#>>>    21.24 16.03 \t\t|\t\t 5.209999999999997\n",
            "[Feb 27, 14:05:28] 1162 0.30818701007405436\n",
            "\t\t\t\t 0.2565692067146301 0.14820784330368042\n",
            "#>>>    21.06 16.38 \t\t|\t\t 4.68\n",
            "[Feb 27, 14:05:29] 1163 0.3082836001139986\n",
            "\t\t\t\t 0.19004109501838684 0.1231117695569992\n",
            "#>>>    21.18 16.54 \t\t|\t\t 4.640000000000001\n",
            "[Feb 27, 14:05:29] 1164 0.3082884693635588\n",
            "\t\t\t\t 0.13596677780151367 0.08283912390470505\n",
            "#>>>    21.95 16.57 \t\t|\t\t 5.379999999999999\n",
            "[Feb 27, 14:05:30] 1165 0.30819898680335206\n",
            "\t\t\t\t 0.17902973294258118 0.09592117369174957\n",
            "#>>>    21.29 15.71 \t\t|\t\t 5.579999999999998\n",
            "[Feb 27, 14:05:30] 1166 0.3081657387380842\n",
            "\t\t\t\t 0.13281242549419403 0.031000396236777306\n",
            "#>>>    21.59 16.12 \t\t|\t\t 5.469999999999999\n",
            "[Feb 27, 14:05:31] 1167 0.30802138581548916\n",
            "\t\t\t\t 0.17543572187423706 0.1407337784767151\n",
            "#>>>    21.0 16.13 \t\t|\t\t 4.870000000000001\n",
            "[Feb 27, 14:05:31] 1168 0.30802953393002463\n",
            "\t\t\t\t 0.1604190468788147 0.11756452172994614\n",
            "#>>>    21.37 16.2 \t\t|\t\t 5.170000000000002\n",
            "[Feb 27, 14:05:32] 1169 0.307999487972154\n",
            "\t\t\t\t 0.07972434163093567 0.12252045422792435\n",
            "#>>>    21.09 16.2 \t\t|\t\t 4.890000000000001\n",
            "[Feb 27, 14:05:32] 1170 0.3078937332725901\n",
            "\t\t\t\t 0.2021014392375946 0.11688131839036942\n",
            "#>>>    21.48 16.47 \t\t|\t\t 5.010000000000002\n",
            "[Feb 27, 14:05:33] 1171 0.3079048222894949\n",
            "\t\t\t\t 0.2112542986869812 0.10736170411109924\n",
            "#>>>    21.02 15.92 \t\t|\t\t 5.1\n",
            "[Feb 27, 14:05:33] 1172 0.3079155334700035\n",
            "\t\t\t\t 0.22327658534049988 0.27321991324424744\n",
            "#>>>    21.31 15.88 \t\t|\t\t 5.429999999999998\n",
            "[Feb 27, 14:05:34] 1173 0.30810411443511826\n",
            "\t\t\t\t 0.12251851707696915 0.1165899783372879\n",
            "#>>>    21.52 16.23 \t\t|\t\t 5.289999999999999\n",
            "[Feb 27, 14:05:34] 1174 0.308035118823548\n",
            "\t\t\t\t 0.15531925857067108 0.12918826937675476\n",
            "#>>>    21.37 15.76 \t\t|\t\t 5.610000000000001\n",
            "[Feb 27, 14:05:35] 1175 0.3080115912177707\n",
            "\t\t\t\t 0.14929024875164032 0.10256171226501465\n",
            "#>>>    21.21 15.81 \t\t|\t\t 5.4\n",
            "[Feb 27, 14:05:35] 1176 0.30795543160247074\n",
            "\t\t\t\t 0.16591939330101013 0.061495356261730194\n",
            "#>>>    21.42 16.42 \t\t|\t\t 5.0\n",
            "[Feb 27, 14:05:35] 1177 0.3078748909278816\n",
            "\t\t\t\t 0.08156034350395203 0.035563863813877106\n",
            "#>>>    22.05 17.04 \t\t|\t\t 5.010000000000002\n",
            "[Feb 27, 14:05:36] 1178 0.3076841402442716\n",
            "\t\t\t\t 0.1607871949672699 0.07740406692028046\n",
            "#>>>    21.36 15.68 \t\t|\t\t 5.68\n",
            "[Feb 27, 14:05:36] 1179 0.3076146473659149\n",
            "\t\t\t\t 0.10949245095252991 0.14483673870563507\n",
            "#>>>    21.69 15.8 \t\t|\t\t 5.890000000000001\n",
            "[Feb 27, 14:05:37] 1180 0.3075613619231083\n",
            "\t\t\t\t 0.15279999375343323 0.15253043174743652\n",
            "#>>>    21.22 15.7 \t\t|\t\t 5.52\n",
            "[Feb 27, 14:05:37] 1181 0.307559130986686\n",
            "\t\t\t\t 0.12782922387123108 0.04900645092129707\n",
            "#>>>    21.8 16.25 \t\t|\t\t 5.550000000000001\n",
            "[Feb 27, 14:05:38] 1182 0.3074284075267666\n",
            "\t\t\t\t 0.1288163810968399 0.05884286016225815\n",
            "#>>>    21.9 16.69 \t\t|\t\t 5.209999999999997\n",
            "[Feb 27, 14:05:38] 1183 0.30730863835304834\n",
            "\t\t\t\t 0.22577786445617676 0.0621844120323658\n",
            "#>>>    21.41 16.24 \t\t|\t\t 5.170000000000002\n",
            "[Feb 27, 14:05:39] 1184 0.3072892920023597\n",
            "\t\t\t\t 0.11586938798427582 0.06155708059668541\n",
            "#>>>    21.93 16.33 \t\t|\t\t 5.600000000000001\n",
            "[Feb 27, 14:05:39] 1185 0.3071594291826636\n",
            "\t\t\t\t 0.12761922180652618 0.13380444049835205\n",
            "#>>>    21.89 16.38 \t\t|\t\t 5.510000000000002\n",
            "[Feb 27, 14:05:40] 1186 0.3071136934008846\n",
            "\t\t\t\t 0.15325793623924255 0.08584939688444138\n",
            "#>>>    21.95 16.54 \t\t|\t\t 5.41\n",
            "[Feb 27, 14:05:40] 1187 0.307045687048058\n",
            "\t\t\t\t 0.14548632502555847 0.10285159200429916\n",
            "#>>>    21.57 16.05 \t\t|\t\t 5.52\n",
            "[Feb 27, 14:05:41] 1188 0.3069869792854904\n",
            "\t\t\t\t 0.11747390776872635 0.10257605463266373\n",
            "#>>>    21.13 15.36 \t\t|\t\t 5.77\n",
            "[Feb 27, 14:05:41] 1189 0.3069000422686063\n",
            "\t\t\t\t 0.1095123440027237 0.19111238420009613\n",
            "#>>>    21.36 16.64 \t\t|\t\t 4.719999999999999\n",
            "[Feb 27, 14:05:42] 1190 0.30689376695454046\n",
            "\t\t\t\t 0.15985047817230225 0.11256630718708038\n",
            "#>>>    21.25 15.59 \t\t|\t\t 5.66\n",
            "[Feb 27, 14:05:42] 1191 0.3068592899580441\n",
            "\t\t\t\t 0.17756500840187073 0.06764797121286392\n",
            "#>>>    21.98 16.6 \t\t|\t\t 5.379999999999999\n",
            "[Feb 27, 14:05:43] 1192 0.30679764364025025\n",
            "\t\t\t\t 0.09213617444038391 0.15161827206611633\n",
            "#>>>    20.86 15.46 \t\t|\t\t 5.399999999999999\n",
            "[Feb 27, 14:05:43] 1193 0.30673460044311646\n",
            "\t\t\t\t 0.13043445348739624 0.1331803798675537\n",
            "#>>>    21.57 16.14 \t\t|\t\t 5.43\n",
            "[Feb 27, 14:05:44] 1194 0.3066914806760283\n",
            "\t\t\t\t 0.23658472299575806 0.25367018580436707\n",
            "#>>>    21.44 16.13 \t\t|\t\t 5.310000000000002\n",
            "[Feb 27, 14:05:44] 1195 0.3068750441041524\n",
            "\t\t\t\t 0.07987373322248459 0.05590290203690529\n",
            "#>>>    21.71 16.69 \t\t|\t\t 5.02\n",
            "[Feb 27, 14:05:45] 1196 0.3067039456990329\n",
            "\t\t\t\t 0.143038809299469 0.12799091637134552\n",
            "#>>>    21.42 16.23 \t\t|\t\t 5.190000000000001\n",
            "[Feb 27, 14:05:45] 1197 0.3066682714641035\n",
            "\t\t\t\t 0.09082935005426407 0.133681520819664\n",
            "#>>>    21.46 15.39 \t\t|\t\t 6.07\n",
            "[Feb 27, 14:05:46] 1198 0.306586114070964\n",
            "\t\t\t\t 0.13786011934280396 0.09042075276374817\n",
            "#>>>    21.94 16.25 \t\t|\t\t 5.690000000000001\n",
            "[Feb 27, 14:05:46] 1199 0.3065078088289996\n",
            "\t\t\t\t 0.10165917128324509 0.09283860772848129\n",
            "#>>>    21.47 15.82 \t\t|\t\t 5.649999999999999\n",
            "[Feb 27, 14:05:46] 1200 0.3063957987991823\n",
            "\t\t\t\t 0.11007131636142731 0.041258640587329865\n",
            "#>>>    21.93 16.51 \t\t|\t\t 5.419999999999998\n",
            "[Feb 27, 14:05:47] 1201 0.3062407329647824\n",
            "\t\t\t\t 0.12403573840856552 0.21812278032302856\n",
            "#>>>    21.36 15.72 \t\t|\t\t 5.639999999999999\n",
            "[Feb 27, 14:05:47] 1202 0.3062766507579998\n",
            "\t\t\t\t 0.11756160110235214 0.069317527115345\n",
            "#>>>    21.37 16.02 \t\t|\t\t 5.350000000000001\n",
            "[Feb 27, 14:05:48] 1203 0.3061572532354595\n",
            "\t\t\t\t 0.11180732399225235 0.13963961601257324\n",
            "#>>>    21.54 16.0 \t\t|\t\t 5.539999999999999\n",
            "[Feb 27, 14:05:48] 1204 0.3061025429147783\n",
            "\t\t\t\t 0.10961715877056122 0.07542265951633453\n",
            "#>>>    21.87 16.17 \t\t|\t\t 5.699999999999999\n",
            "[Feb 27, 14:05:49] 1205 0.30598148019015037\n",
            "\t\t\t\t 0.2503334581851959 0.06076527759432793\n",
            "#>>>    21.8 16.54 \t\t|\t\t 5.260000000000002\n",
            "[Feb 27, 14:05:49] 1206 0.30598659743456386\n",
            "\t\t\t\t 0.1822396218776703 0.07664547860622406\n",
            "#>>>    21.47 16.13 \t\t|\t\t 5.34\n",
            "[Feb 27, 14:05:50] 1207 0.305939495922712\n",
            "\t\t\t\t 0.11293356120586395 0.06130257993936539\n",
            "#>>>    21.74 16.41 \t\t|\t\t 5.329999999999998\n",
            "[Feb 27, 14:05:50] 1208 0.3058077925753851\n",
            "\t\t\t\t 0.05565914511680603 0.04391087591648102\n",
            "#>>>    22.13 16.47 \t\t|\t\t 5.66\n",
            "[Feb 27, 14:05:51] 1209 0.305601554803843\n",
            "\t\t\t\t 0.11300651729106903 0.044901616871356964\n",
            "#>>>    21.75 16.65 \t\t|\t\t 5.100000000000001\n",
            "[Feb 27, 14:05:51] 1210 0.3054538613906521\n",
            "\t\t\t\t 0.1906892955303192 0.13816842436790466\n",
            "#>>>    21.54 15.9 \t\t|\t\t 5.639999999999999\n",
            "[Feb 27, 14:05:52] 1211 0.3054772652491597\n",
            "\t\t\t\t 0.17655280232429504 0.1513100415468216\n",
            "#>>>    21.16 16.05 \t\t|\t\t 5.109999999999999\n",
            "[Feb 27, 14:05:52] 1212 0.3054996508426828\n",
            "\t\t\t\t 0.12321380525827408 0.09696541726589203\n",
            "#>>>    21.66 15.91 \t\t|\t\t 5.75\n",
            "[Feb 27, 14:05:53] 1213 0.3054143304218149\n",
            "\t\t\t\t 0.13096600770950317 0.10728765279054642\n",
            "#>>>    21.81 16.88 \t\t|\t\t 4.93\n",
            "[Feb 27, 14:05:53] 1214 0.30534716974444254\n",
            "\t\t\t\t 0.20144261419773102 0.27138692140579224\n",
            "#>>>    21.28 16.14 \t\t|\t\t 5.140000000000001\n",
            "[Feb 27, 14:05:54] 1215 0.30551465209540046\n",
            "\t\t\t\t 0.0960577130317688 0.06680315732955933\n",
            "#>>>    21.6 16.32 \t\t|\t\t 5.280000000000001\n",
            "[Feb 27, 14:05:54] 1216 0.3053719983136664\n",
            "\t\t\t\t 0.1505521833896637 0.08590824902057648\n",
            "#>>>    21.48 16.32 \t\t|\t\t 5.16\n",
            "[Feb 27, 14:05:55] 1217 0.30530308674776296\n",
            "\t\t\t\t 0.166937455534935 0.0728425681591034\n",
            "#>>>    21.43 16.06 \t\t|\t\t 5.370000000000001\n",
            "[Feb 27, 14:05:55] 1218 0.3052375636847092\n",
            "\t\t\t\t 0.0800095945596695 0.09574785828590393\n",
            "#>>>    21.89 16.06 \t\t|\t\t 5.830000000000002\n",
            "[Feb 27, 14:05:55] 1219 0.3051080835738701\n",
            "\t\t\t\t 0.0906727984547615 0.0373254157602787\n",
            "#>>>    21.95 17.0 \t\t|\t\t 4.949999999999999\n",
            "[Feb 27, 14:05:56] 1220 0.3049309737082366\n",
            "\t\t\t\t 0.07761422544717789 0.06723087280988693\n",
            "#>>>    21.56 16.08 \t\t|\t\t 5.48\n",
            "[Feb 27, 14:05:56] 1221 0.3047708878327854\n",
            "\t\t\t\t 0.14970767498016357 0.10252563655376434\n",
            "#>>>    21.76 16.28 \t\t|\t\t 5.48\n",
            "[Feb 27, 14:05:57] 1222 0.3047183502713877\n",
            "\t\t\t\t 0.23066182434558868 0.17457367479801178\n",
            "#>>>    21.55 16.47 \t\t|\t\t 5.080000000000002\n",
            "[Feb 27, 14:05:57] 1223 0.30481886742025993\n",
            "\t\t\t\t 0.14448288083076477 0.10262347012758255\n",
            "#>>>    21.31 15.9 \t\t|\t\t 5.409999999999998\n",
            "[Feb 27, 14:05:58] 1224 0.3047611548963474\n",
            "\t\t\t\t 0.1706792414188385 0.1979741007089615\n",
            "#>>>    21.13 15.92 \t\t|\t\t 5.209999999999999\n",
            "[Feb 27, 14:05:58] 1225 0.30482504709848\n",
            "\t\t\t\t 0.10387493669986725 0.025684034451842308\n",
            "#>>>    21.57 15.97 \t\t|\t\t 5.6\n",
            "[Feb 27, 14:05:59] 1226 0.3046497810169453\n",
            "\t\t\t\t 0.11601509153842926 0.05541462078690529\n",
            "#>>>    21.59 15.73 \t\t|\t\t 5.859999999999999\n",
            "[Feb 27, 14:05:59] 1227 0.3045165609445284\n",
            "\t\t\t\t 0.08589218556880951 0.0817141905426979\n",
            "#>>>    21.75 16.5 \t\t|\t\t 5.25\n",
            "[Feb 27, 14:06:00] 1228 0.30437965076714596\n",
            "\t\t\t\t 0.1426730453968048 0.07796227186918259\n",
            "#>>>    21.76 16.73 \t\t|\t\t 5.030000000000001\n",
            "[Feb 27, 14:06:00] 1229 0.3042959064410954\n",
            "\t\t\t\t 0.1562711000442505 0.07248116284608841\n",
            "#>>>    21.55 16.03 \t\t|\t\t 5.52\n",
            "[Feb 27, 14:06:01] 1230 0.30422036279009407\n",
            "\t\t\t\t 0.13679489493370056 0.14851610362529755\n",
            "#>>>    21.91 16.46 \t\t|\t\t 5.449999999999999\n",
            "[Feb 27, 14:06:01] 1231 0.30420145341096183\n",
            "\t\t\t\t 0.19633837044239044 0.0653141662478447\n",
            "#>>>    21.66 16.36 \t\t|\t\t 5.300000000000001\n",
            "[Feb 27, 14:06:02] 1232 0.3041589044867905\n",
            "\t\t\t\t 0.21350854635238647 0.1694851666688919\n",
            "#>>>    21.54 15.84 \t\t|\t\t 5.699999999999999\n",
            "[Feb 27, 14:06:02] 1233 0.3042377392804238\n",
            "\t\t\t\t 0.17418290674686432 0.09761334955692291\n",
            "#>>>    21.86 16.03 \t\t|\t\t 5.829999999999998\n",
            "[Feb 27, 14:06:03] 1234 0.3042052977974472\n",
            "\t\t\t\t 0.19673064351081848 0.15321984887123108\n",
            "#>>>    21.77 16.23 \t\t|\t\t 5.539999999999999\n",
            "[Feb 27, 14:06:03] 1235 0.3042510429920318\n",
            "\t\t\t\t 0.18691247701644897 0.10878320038318634\n",
            "#>>>    21.4 15.93 \t\t|\t\t 5.469999999999999\n",
            "[Feb 27, 14:06:04] 1236 0.30424248761153827\n",
            "\t\t\t\t 0.29906362295150757 0.22464002668857574\n",
            "#>>>    21.44 16.31 \t\t|\t\t 5.130000000000003\n",
            "[Feb 27, 14:06:04] 1237 0.30446194875866567\n",
            "\t\t\t\t 0.10832220315933228 0.09148674458265305\n",
            "#>>>    21.47 15.68 \t\t|\t\t 5.789999999999999\n",
            "[Feb 27, 14:06:05] 1238 0.30435729576509957\n",
            "\t\t\t\t 0.05482039973139763 0.023543581366539\n",
            "#>>>    22.15 16.33 \t\t|\t\t 5.82\n",
            "[Feb 27, 14:06:05] 1239 0.3041313024541577\n",
            "\t\t\t\t 0.14410361647605896 0.06625792384147644\n",
            "#>>>    21.39 15.89 \t\t|\t\t 5.5\n",
            "[Feb 27, 14:06:06] 1240 0.3040375326920211\n",
            "\t\t\t\t 0.1904907524585724 0.12970581650733948\n",
            "#>>>    21.39 16.11 \t\t|\t\t 5.280000000000001\n",
            "[Feb 27, 14:06:06] 1241 0.304053691728295\n",
            "\t\t\t\t 0.15061014890670776 0.10232171416282654\n",
            "#>>>    21.61 16.02 \t\t|\t\t 5.59\n",
            "[Feb 27, 14:06:06] 1242 0.3040025698996362\n",
            "\t\t\t\t 0.22487866878509521 0.08798318356275558\n",
            "#>>>    21.27 16.15 \t\t|\t\t 5.120000000000001\n",
            "[Feb 27, 14:06:07] 1243 0.304011429189535\n",
            "\t\t\t\t 0.20075353980064392 0.17909441888332367\n",
            "#>>>    21.59 16.64 \t\t|\t\t 4.949999999999999\n",
            "[Feb 27, 14:06:07] 1244 0.3040872657041283\n",
            "\t\t\t\t 0.22624224424362183 0.16451913118362427\n",
            "#>>>    21.36 16.33 \t\t|\t\t 5.030000000000001\n",
            "[Feb 27, 14:06:08] 1245 0.30417393981385143\n",
            "\t\t\t\t 0.1337389498949051 0.11232632398605347\n",
            "#>>>    21.65 15.81 \t\t|\t\t 5.839999999999998\n",
            "[Feb 27, 14:06:08] 1246 0.3041158311479185\n",
            "\t\t\t\t 0.13602405786514282 0.11778423935174942\n",
            "#>>>    21.57 16.13 \t\t|\t\t 5.440000000000001\n",
            "[Feb 27, 14:06:09] 1247 0.3040655236065369\n",
            "\t\t\t\t 0.12922628223896027 0.057836372405290604\n",
            "#>>>    21.43 15.63 \t\t|\t\t 5.799999999999999\n",
            "[Feb 27, 14:06:09] 1248 0.3039485207338493\n",
            "\t\t\t\t 0.07599037140607834 0.06879781186580658\n",
            "#>>>    21.77 15.61 \t\t|\t\t 6.16\n",
            "[Feb 27, 14:06:10] 1249 0.3037893603889368\n",
            "\t\t\t\t 0.33021870255470276 0.16970716416835785\n",
            "#>>>    21.54 16.57 \t\t|\t\t 4.969999999999999\n",
            "[Feb 27, 14:06:10] 1250 0.30398549688036974\n",
            "\t\t\t\t 0.14045819640159607 0.13330820202827454\n",
            "#>>>    22.02 16.23 \t\t|\t\t 5.789999999999999\n",
            "[Feb 27, 14:06:11] 1251 0.3039552777819192\n",
            "\t\t\t\t 0.17292186617851257 0.13855119049549103\n",
            "#>>>    21.3 16.33 \t\t|\t\t 4.970000000000002\n",
            "[Feb 27, 14:06:11] 1252 0.30396279557571243\n",
            "\t\t\t\t 0.07391738891601562 0.04390034079551697\n",
            "#>>>    21.75 16.45 \t\t|\t\t 5.300000000000001\n",
            "[Feb 27, 14:06:12] 1253 0.30377665050984826\n",
            "\t\t\t\t 0.22837644815444946 0.10658326745033264\n",
            "#>>>    21.73 16.35 \t\t|\t\t 5.379999999999999\n",
            "[Feb 27, 14:06:12] 1254 0.3038078335749432\n",
            "\t\t\t\t 0.2421588897705078 0.1728276014328003\n",
            "#>>>    21.5 16.46 \t\t|\t\t 5.039999999999999\n",
            "[Feb 27, 14:06:13] 1255 0.30391901223257156\n",
            "\t\t\t\t 0.10719446837902069 0.10560441762208939\n",
            "#>>>    21.18 16.09 \t\t|\t\t 5.09\n",
            "[Feb 27, 14:06:13] 1256 0.3038278921137907\n",
            "\t\t\t\t 0.1934070587158203 0.11931823194026947\n",
            "#>>>    21.68 16.6 \t\t|\t\t 5.079999999999998\n",
            "[Feb 27, 14:06:14] 1257 0.30383678952723414\n",
            "\t\t\t\t 0.14865657687187195 0.10167742520570755\n",
            "#>>>    21.38 16.21 \t\t|\t\t 5.169999999999998\n",
            "[Feb 27, 14:06:14] 1258 0.3037832867323339\n",
            "\t\t\t\t 0.21532107889652252 0.1385699063539505\n",
            "#>>>    21.24 16.42 \t\t|\t\t 4.819999999999997\n",
            "[Feb 27, 14:06:15] 1259 0.30383339443085206\n",
            "\t\t\t\t 0.20928551256656647 0.08092427998781204\n",
            "#>>>    21.35 16.77 \t\t|\t\t 4.580000000000002\n",
            "[Feb 27, 14:06:15] 1260 0.30381977083642614\n",
            "\t\t\t\t 0.12851780652999878 0.17896278202533722\n",
            "#>>>    21.48 16.44 \t\t|\t\t 5.039999999999999\n",
            "[Feb 27, 14:06:15] 1261 0.30382343163924386\n",
            "\t\t\t\t 0.07722225785255432 0.18829673528671265\n",
            "#>>>    21.37 16.09 \t\t|\t\t 5.280000000000001\n",
            "[Feb 27, 14:06:16] 1262 0.30378512720074385\n",
            "\t\t\t\t 0.1404523253440857 0.09097069501876831\n",
            "#>>>    21.89 15.96 \t\t|\t\t 5.93\n",
            "[Feb 27, 14:06:16] 1263 0.30371276509390593\n",
            "\t\t\t\t 0.18424299359321594 0.1058226004242897\n",
            "#>>>    21.57 16.41 \t\t|\t\t 5.16\n",
            "[Feb 27, 14:06:17] 1264 0.30369911791537896\n",
            "\t\t\t\t 0.11613930761814117 0.08336877822875977\n",
            "#>>>    21.32 15.55 \t\t|\t\t 5.77\n",
            "[Feb 27, 14:06:17] 1265 0.30359492688331047\n",
            "\t\t\t\t 0.12551207840442657 0.04179023951292038\n",
            "#>>>    21.74 16.15 \t\t|\t\t 5.59\n",
            "[Feb 27, 14:06:18] 1266 0.3034586342668939\n",
            "\t\t\t\t 0.09872835874557495 0.13837236166000366\n",
            "#>>>    21.87 15.85 \t\t|\t\t 6.020000000000001\n",
            "[Feb 27, 14:06:18] 1267 0.30339227635303256\n",
            "\t\t\t\t 0.1680222600698471 0.10566084831953049\n",
            "#>>>    21.1 16.29 \t\t|\t\t 4.810000000000002\n",
            "[Feb 27, 14:06:19] 1268 0.30336256717761834\n",
            "\t\t\t\t 0.08261335641145706 0.063284732401371\n",
            "#>>>    21.88 15.99 \t\t|\t\t 5.889999999999999\n",
            "[Feb 27, 14:06:19] 1269 0.30320510269925355\n",
            "\t\t\t\t 0.17721807956695557 0.10717492550611496\n",
            "#>>>    21.54 16.4 \t\t|\t\t 5.140000000000001\n",
            "[Feb 27, 14:06:20] 1270 0.3031862906090779\n",
            "\t\t\t\t 0.08158400654792786 0.18382850289344788\n",
            "#>>>    21.45 15.81 \t\t|\t\t 5.639999999999999\n",
            "[Feb 27, 14:06:20] 1271 0.3031485168279102\n",
            "\t\t\t\t 0.12374819815158844 0.032094210386276245\n",
            "#>>>    21.9 16.44 \t\t|\t\t 5.459999999999997\n",
            "[Feb 27, 14:06:21] 1272 0.3030012107196202\n",
            "\t\t\t\t 0.1570829153060913 0.0628432184457779\n",
            "#>>>    21.92 16.39 \t\t|\t\t 5.530000000000001\n",
            "[Feb 27, 14:06:21] 1273 0.30291813564265246\n",
            "\t\t\t\t 0.12713342905044556 0.07057730853557587\n",
            "#>>>    21.54 16.31 \t\t|\t\t 5.23\n",
            "[Feb 27, 14:06:22] 1274 0.3028129282445958\n",
            "\t\t\t\t 0.06552685052156448 0.09371764212846756\n",
            "#>>>    21.49 15.38 \t\t|\t\t 6.109999999999998\n",
            "[Feb 27, 14:06:22] 1275 0.3026693598090013\n",
            "\t\t\t\t 0.18952062726020813 0.07201845198869705\n",
            "#>>>    21.33 16.4 \t\t|\t\t 4.93\n",
            "[Feb 27, 14:06:23] 1276 0.3026282295209906\n",
            "\t\t\t\t 0.16284754872322083 0.10912296921014786\n",
            "#>>>    21.58 16.35 \t\t|\t\t 5.229999999999997\n",
            "[Feb 27, 14:06:23] 1277 0.3025975718019524\n",
            "\t\t\t\t 0.17495325207710266 0.14049561321735382\n",
            "#>>>    21.39 16.24 \t\t|\t\t 5.150000000000002\n",
            "[Feb 27, 14:06:24] 1278 0.3026104231103461\n",
            "\t\t\t\t 0.18809804320335388 0.1458769589662552\n",
            "#>>>    21.2 15.54 \t\t|\t\t 5.66\n",
            "[Feb 27, 14:06:24] 1279 0.3026417877043065\n",
            "\t\t\t\t 0.1612277328968048 0.06843472272157669\n",
            "#>>>    21.48 16.2 \t\t|\t\t 5.280000000000001\n",
            "[Feb 27, 14:06:25] 1280 0.30256880836477\n",
            "\t\t\t\t 0.13602080941200256 0.07488568872213364\n",
            "#>>>    21.48 16.12 \t\t|\t\t 5.359999999999999\n",
            "[Feb 27, 14:06:25] 1281 0.30247714606198994\n",
            "\t\t\t\t 0.22088143229484558 0.12713497877120972\n",
            "#>>>    21.25 16.45 \t\t|\t\t 4.800000000000001\n",
            "[Feb 27, 14:06:25] 1282 0.30252268532699406\n",
            "\t\t\t\t 0.19287922978401184 0.22638024389743805\n",
            "#>>>    21.24 16.23 \t\t|\t\t 5.009999999999998\n",
            "[Feb 27, 14:06:26] 1283 0.3026394221302497\n",
            "\t\t\t\t 0.14287087321281433 0.0512194000184536\n",
            "#>>>    22.05 16.33 \t\t|\t\t 5.720000000000002\n",
            "[Feb 27, 14:06:26] 1284 0.30253087298507597\n",
            "\t\t\t\t 0.14819929003715515 0.05363784730434418\n",
            "#>>>    21.79 16.53 \t\t|\t\t 5.259999999999998\n",
            "[Feb 27, 14:06:27] 1285 0.3024301792494324\n",
            "\t\t\t\t 0.11986590176820755 0.03416832908987999\n",
            "#>>>    21.8 15.94 \t\t|\t\t 5.860000000000001\n",
            "[Feb 27, 14:06:27] 1286 0.30228178329731575\n",
            "\t\t\t\t 0.11640655994415283 0.07270314544439316\n",
            "#>>>    21.53 16.28 \t\t|\t\t 5.25\n",
            "[Feb 27, 14:06:28] 1287 0.30216861122685756\n",
            "\t\t\t\t 0.09502808749675751 0.06576244533061981\n",
            "#>>>    21.9 16.1 \t\t|\t\t 5.799999999999997\n",
            "[Feb 27, 14:06:28] 1288 0.3020272331484581\n",
            "\t\t\t\t 0.2232009470462799 0.21604572236537933\n",
            "#>>>    21.63 16.37 \t\t|\t\t 5.259999999999998\n",
            "[Feb 27, 14:06:29] 1289 0.3021644525698201\n",
            "\t\t\t\t 0.3080090880393982 0.20213884115219116\n",
            "#>>>    21.38 16.19 \t\t|\t\t 5.189999999999998\n",
            "[Feb 27, 14:06:29] 1290 0.3023724360464419\n",
            "\t\t\t\t 0.17841634154319763 0.08837597072124481\n",
            "#>>>    21.3 15.77 \t\t|\t\t 5.530000000000001\n",
            "[Feb 27, 14:06:30] 1291 0.3023368559077587\n",
            "\t\t\t\t 0.15504083037376404 0.08943837881088257\n",
            "#>>>    21.5 16.18 \t\t|\t\t 5.32\n",
            "[Feb 27, 14:06:30] 1292 0.3022789982610356\n",
            "\t\t\t\t 0.12881377339363098 0.11976442486047745\n",
            "#>>>    21.86 16.36 \t\t|\t\t 5.5\n",
            "[Feb 27, 14:06:31] 1293 0.3022252974535781\n",
            "\t\t\t\t 0.051688067615032196 0.044180773198604584\n",
            "#>>>    21.56 15.46 \t\t|\t\t 6.099999999999998\n",
            "[Feb 27, 14:06:31] 1294 0.3020189409969382\n",
            "\t\t\t\t 0.14276644587516785 0.12271295487880707\n",
            "#>>>    21.85 16.34 \t\t|\t\t 5.510000000000002\n",
            "[Feb 27, 14:06:32] 1295 0.30198240144179406\n",
            "\t\t\t\t 0.13449808955192566 0.07831618189811707\n",
            "#>>>    21.35 16.13 \t\t|\t\t 5.220000000000002\n",
            "[Feb 27, 14:06:32] 1296 0.3018932333118023\n",
            "\t\t\t\t 0.1340470165014267 0.0930127277970314\n",
            "#>>>    21.54 16.55 \t\t|\t\t 4.989999999999998\n",
            "[Feb 27, 14:06:33] 1297 0.3018183998302395\n",
            "\t\t\t\t 0.19965513050556183 0.12549327313899994\n",
            "#>>>    21.48 16.23 \t\t|\t\t 5.25\n",
            "[Feb 27, 14:06:33] 1298 0.30184172983405383\n",
            "\t\t\t\t 0.07943329215049744 0.09919574856758118\n",
            "#>>>    21.8 15.95 \t\t|\t\t 5.850000000000001\n",
            "[Feb 27, 14:06:34] 1299 0.30171851714493786\n",
            "\t\t\t\t 0.08513356000185013 0.02229122817516327\n",
            "#>>>    21.63 16.04 \t\t|\t\t 5.59\n",
            "[Feb 27, 14:06:34] 1300 0.3015242234159699\n",
            "\t\t\t\t 0.05933954939246178 0.11476364731788635\n",
            "#>>>    21.87 16.15 \t\t|\t\t 5.720000000000002\n",
            "[Feb 27, 14:06:35] 1301 0.3013968023929896\n",
            "\t\t\t\t 0.12844300270080566 0.16305270791053772\n",
            "#>>>    21.68 16.54 \t\t|\t\t 5.140000000000001\n",
            "[Feb 27, 14:06:35] 1302 0.30138690130120793\n",
            "\t\t\t\t 0.18949535489082336 0.10310698300600052\n",
            "#>>>    21.39 16.03 \t\t|\t\t 5.359999999999999\n",
            "[Feb 27, 14:06:35] 1303 0.301378116730353\n",
            "\t\t\t\t 0.23806995153427124 0.14398378133773804\n",
            "#>>>    21.17 16.29 \t\t|\t\t 4.880000000000003\n",
            "[Feb 27, 14:06:36] 1304 0.30145879234649464\n",
            "\t\t\t\t 0.12038147449493408 0.08387976884841919\n",
            "#>>>    21.99 16.52 \t\t|\t\t 5.469999999999999\n",
            "[Feb 27, 14:06:36] 1305 0.30136159479749147\n",
            "\t\t\t\t 0.1419820785522461 0.14682547748088837\n",
            "#>>>    21.91 16.89 \t\t|\t\t 5.02\n",
            "[Feb 27, 14:06:37] 1306 0.3013490407736283\n",
            "\t\t\t\t 0.10424559563398361 0.06704084575176239\n",
            "#>>>    21.61 16.29 \t\t|\t\t 5.32\n",
            "[Feb 27, 14:06:37] 1307 0.30121897816678983\n",
            "\t\t\t\t 0.10099811851978302 0.08853123337030411\n",
            "#>>>    21.58 15.69 \t\t|\t\t 5.889999999999999\n",
            "[Feb 27, 14:06:38] 1308 0.3011072885479637\n",
            "\t\t\t\t 0.13979685306549072 0.0876169353723526\n",
            "#>>>    21.2 15.96 \t\t|\t\t 5.239999999999998\n",
            "[Feb 27, 14:06:38] 1309 0.30103359504785354\n",
            "\t\t\t\t 0.08831239491701126 0.05354243144392967\n",
            "#>>>    22.06 16.64 \t\t|\t\t 5.419999999999998\n",
            "[Feb 27, 14:06:39] 1310 0.3008744162754413\n",
            "\t\t\t\t 0.10965422540903091 0.11245027184486389\n",
            "#>>>    21.34 15.65 \t\t|\t\t 5.6899999999999995\n",
            "[Feb 27, 14:06:39] 1311 0.30079564634896916\n",
            "\t\t\t\t 0.16952744126319885 0.20473389327526093\n",
            "#>>>    21.53 16.6 \t\t|\t\t 4.93\n",
            "[Feb 27, 14:06:40] 1312 0.30086911202225747\n",
            "\t\t\t\t 0.14881861209869385 0.1187065839767456\n",
            "#>>>    21.35 15.75 \t\t|\t\t 5.600000000000001\n",
            "[Feb 27, 14:06:40] 1313 0.30083576810631063\n",
            "\t\t\t\t 0.11398866772651672 0.13019979000091553\n",
            "#>>>    21.48 15.82 \t\t|\t\t 5.66\n",
            "[Feb 27, 14:06:41] 1314 0.3007791207959318\n",
            "\t\t\t\t 0.07739383727312088 0.10977628082036972\n",
            "#>>>    21.68 16.09 \t\t|\t\t 5.59\n",
            "[Feb 27, 14:06:41] 1315 0.3006655117932293\n",
            "\t\t\t\t 0.08157029747962952 0.050296347588300705\n",
            "#>>>    22.14 15.95 \t\t|\t\t 6.190000000000001\n",
            "[Feb 27, 14:06:42] 1316 0.3004967129302293\n",
            "\t\t\t\t 0.15581579506397247 0.1204373687505722\n",
            "#>>>    21.67 16.27 \t\t|\t\t 5.400000000000002\n",
            "[Feb 27, 14:06:42] 1317 0.30047246938111355\n",
            "\t\t\t\t 0.11100424826145172 0.06308352202177048\n",
            "#>>>    21.5 15.65 \t\t|\t\t 5.85\n",
            "[Feb 27, 14:06:43] 1318 0.30034608467456503\n",
            "\t\t\t\t 0.2153094857931137 0.13573473691940308\n",
            "#>>>    21.39 16.48 \t\t|\t\t 4.91\n",
            "[Feb 27, 14:06:43] 1319 0.30039678282750415\n",
            "\t\t\t\t 0.14868777990341187 0.04135720804333687\n",
            "#>>>    21.57 15.82 \t\t|\t\t 5.75\n",
            "[Feb 27, 14:06:44] 1320 0.3002864310288981\n",
            "\t\t\t\t 0.11760351061820984 0.14306488633155823\n",
            "#>>>    21.63 16.31 \t\t|\t\t 5.32\n",
            "[Feb 27, 14:06:44] 1321 0.300246812994819\n",
            "\t\t\t\t 0.08643575757741928 0.11575905233621597\n",
            "#>>>    21.62 16.22 \t\t|\t\t 5.400000000000002\n",
            "[Feb 27, 14:06:45] 1322 0.30014876099173776\n",
            "\t\t\t\t 0.2463224083185196 0.13292165100574493\n",
            "#>>>    20.89 15.86 \t\t|\t\t 5.030000000000001\n",
            "[Feb 27, 14:06:45] 1323 0.3002278562900703\n",
            "\t\t\t\t 0.1738714873790741 0.10229272395372391\n",
            "#>>>    21.95 16.71 \t\t|\t\t 5.239999999999998\n",
            "[Feb 27, 14:06:45] 1324 0.30020379263766245\n",
            "\t\t\t\t 0.17301055788993835 0.07696625590324402\n",
            "#>>>    21.7 16.26 \t\t|\t\t 5.439999999999998\n",
            "[Feb 27, 14:06:46] 1325 0.30015356565881796\n",
            "\t\t\t\t 0.15279652178287506 0.1400054693222046\n",
            "#>>>    21.32 15.47 \t\t|\t\t 5.85\n",
            "[Feb 27, 14:06:46] 1326 0.30014621406936304\n",
            "\t\t\t\t 0.10814265161752701 0.07353511452674866\n",
            "#>>>    21.37 16.56 \t\t|\t\t 4.810000000000002\n",
            "[Feb 27, 14:06:47] 1327 0.3000277456139874\n",
            "\t\t\t\t 0.21992580592632294 0.09706970304250717\n",
            "#>>>    21.18 16.2 \t\t|\t\t 4.98\n",
            "[Feb 27, 14:06:47] 1328 0.30004471336989164\n",
            "\t\t\t\t 0.14386147260665894 0.06372617930173874\n",
            "#>>>    21.61 16.1 \t\t|\t\t 5.509999999999998\n",
            "[Feb 27, 14:06:48] 1329 0.2999522563158807\n",
            "\t\t\t\t 0.1356961727142334 0.08296811580657959\n",
            "#>>>    21.36 16.06 \t\t|\t\t 5.300000000000001\n",
            "[Feb 27, 14:06:48] 1330 0.2998709683480856\n",
            "\t\t\t\t 0.12429269403219223 0.12460166215896606\n",
            "#>>>    21.63 15.68 \t\t|\t\t 5.949999999999999\n",
            "[Feb 27, 14:06:49] 1331 0.2998199917433792\n",
            "\t\t\t\t 0.2606232166290283 0.16409443318843842\n",
            "#>>>    21.12 16.31 \t\t|\t\t 4.810000000000002\n",
            "[Feb 27, 14:06:49] 1332 0.29994488941635444\n",
            "\t\t\t\t 0.1265147626399994 0.0921509861946106\n",
            "#>>>    21.17 15.8 \t\t|\t\t 5.370000000000001\n",
            "[Feb 27, 14:06:50] 1333 0.2998636102757727\n",
            "\t\t\t\t 0.16877678036689758 0.10381867736577988\n",
            "#>>>    21.3 16.5 \t\t|\t\t 4.800000000000001\n",
            "[Feb 27, 14:06:50] 1334 0.29983634213068017\n",
            "\t\t\t\t 0.17433464527130127 0.10160406678915024\n",
            "#>>>    21.75 16.19 \t\t|\t\t 5.559999999999999\n",
            "[Feb 27, 14:06:51] 1335 0.29981244450806055\n",
            "\t\t\t\t 0.08855699747800827 0.06326688826084137\n",
            "#>>>    21.79 15.78 \t\t|\t\t 6.01\n",
            "[Feb 27, 14:06:51] 1336 0.29966445594184077\n",
            "\t\t\t\t 0.10189401358366013 0.1101706400513649\n",
            "#>>>    21.55 16.08 \t\t|\t\t 5.470000000000002\n",
            "[Feb 27, 14:06:52] 1337 0.299576856139534\n",
            "\t\t\t\t 0.1607058197259903 0.19914831221103668\n",
            "#>>>    21.38 15.52 \t\t|\t\t 5.859999999999999\n",
            "[Feb 27, 14:06:52] 1338 0.2996371334153315\n",
            "\t\t\t\t 0.08363404870033264 0.07837407290935516\n",
            "#>>>    21.56 16.3 \t\t|\t\t 5.259999999999998\n",
            "[Feb 27, 14:06:53] 1339 0.29949950440352585\n",
            "\t\t\t\t 0.1609906703233719 0.16909554600715637\n",
            "#>>>    21.02 15.84 \t\t|\t\t 5.18\n",
            "[Feb 27, 14:06:53] 1340 0.29953009113035406\n",
            "\t\t\t\t 0.1681983470916748 0.11555705964565277\n",
            "#>>>    21.84 16.49 \t\t|\t\t 5.350000000000001\n",
            "[Feb 27, 14:06:53] 1341 0.2995143164608622\n",
            "\t\t\t\t 0.15017247200012207 0.07268080860376358\n",
            "#>>>    21.75 16.55 \t\t|\t\t 5.199999999999999\n",
            "[Feb 27, 14:06:54] 1342 0.2994376554175546\n",
            "\t\t\t\t 0.10030606389045715 0.10797924548387527\n",
            "#>>>    21.72 15.72 \t\t|\t\t 5.999999999999998\n",
            "[Feb 27, 14:06:54] 1343 0.2993465030640608\n",
            "\t\t\t\t 0.2887076437473297 0.1888868808746338\n",
            "#>>>    21.39 16.55 \t\t|\t\t 4.84\n",
            "[Feb 27, 14:06:55] 1344 0.2995247510856187\n",
            "\t\t\t\t 0.12553919851779938 0.13016434013843536\n",
            "#>>>    21.32 15.95 \t\t|\t\t 5.370000000000001\n",
            "[Feb 27, 14:06:55] 1345 0.2994809298731893\n",
            "\t\t\t\t 0.18063262104988098 0.147539421916008\n",
            "#>>>    21.11 15.92 \t\t|\t\t 5.1899999999999995\n",
            "[Feb 27, 14:06:56] 1346 0.29950962097138084\n",
            "\t\t\t\t 0.11008334159851074 0.06736540794372559\n",
            "#>>>    21.9 16.02 \t\t|\t\t 5.879999999999999\n",
            "[Feb 27, 14:06:56] 1347 0.2993875600999517\n",
            "\t\t\t\t 0.16614925861358643 0.12729394435882568\n",
            "#>>>    21.73 16.18 \t\t|\t\t 5.550000000000001\n",
            "[Feb 27, 14:06:57] 1348 0.2993816157428242\n",
            "\t\t\t\t 0.09864173829555511 0.0669870674610138\n",
            "#>>>    21.46 15.95 \t\t|\t\t 5.510000000000002\n",
            "[Feb 27, 14:06:57] 1349 0.2992478629328379\n",
            "\t\t\t\t 0.05943777412176132 0.14360354840755463\n",
            "#>>>    21.72 15.84 \t\t|\t\t 5.879999999999999\n",
            "[Feb 27, 14:06:58] 1350 0.2991516563849838\n",
            "\t\t\t\t 0.08497492969036102 0.029676638543605804\n",
            "#>>>    21.98 16.22 \t\t|\t\t 5.760000000000002\n",
            "[Feb 27, 14:06:58] 1351 0.2989671562968328\n",
            "\t\t\t\t 0.11443084478378296 0.03175656870007515\n",
            "#>>>    22.27 16.89 \t\t|\t\t 5.379999999999999\n",
            "[Feb 27, 14:06:59] 1352 0.2988143765502945\n",
            "\t\t\t\t 0.06444527208805084 0.03053411841392517\n",
            "#>>>    21.6 16.04 \t\t|\t\t 5.560000000000002\n",
            "[Feb 27, 14:06:59] 1353 0.2986105415642462\n",
            "\t\t\t\t 0.1008806973695755 0.14359411597251892\n",
            "#>>>    21.21 15.42 \t\t|\t\t 5.790000000000001\n",
            "[Feb 27, 14:07:00] 1354 0.29855640583602405\n",
            "\t\t\t\t 0.1380104422569275 0.056134048849344254\n",
            "#>>>    21.85 15.62 \t\t|\t\t 6.230000000000002\n",
            "[Feb 27, 14:07:00] 1355 0.298451993917569\n",
            "\t\t\t\t 0.15055370330810547 0.13678084313869476\n",
            "#>>>    21.91 16.38 \t\t|\t\t 5.530000000000001\n",
            "[Feb 27, 14:07:01] 1356 0.29844087648499934\n",
            "\t\t\t\t 0.1191549152135849 0.06619340181350708\n",
            "#>>>    21.73 16.45 \t\t|\t\t 5.280000000000001\n",
            "[Feb 27, 14:07:01] 1357 0.29832778392554143\n",
            "\t\t\t\t 0.10924002528190613 0.0652536004781723\n",
            "#>>>    21.45 16.36 \t\t|\t\t 5.09\n",
            "[Feb 27, 14:07:01] 1358 0.29820394976737596\n",
            "\t\t\t\t 0.16293251514434814 0.09955845773220062\n",
            "#>>>    21.56 16.06 \t\t|\t\t 5.5\n",
            "[Feb 27, 14:07:02] 1359 0.2981682368053863\n",
            "\t\t\t\t 0.2287622094154358 0.13542984426021576\n",
            "#>>>    21.38 15.99 \t\t|\t\t 5.389999999999999\n",
            "[Feb 27, 14:07:02] 1360 0.2982342606371577\n",
            "\t\t\t\t 0.17788919806480408 0.085037961602211\n",
            "#>>>    22.09 16.21 \t\t|\t\t 5.879999999999999\n",
            "[Feb 27, 14:07:03] 1361 0.2981989535510887\n",
            "\t\t\t\t 0.22350385785102844 0.13996931910514832\n",
            "#>>>    21.81 16.26 \t\t|\t\t 5.549999999999997\n",
            "[Feb 27, 14:07:03] 1362 0.2982642277744938\n",
            "\t\t\t\t 0.0750083327293396 0.10164737701416016\n",
            "#>>>    21.33 16.43 \t\t|\t\t 4.899999999999999\n",
            "[Feb 27, 14:07:04] 1363 0.2981426192564628\n",
            "\t\t\t\t 0.10897225886583328 0.07443852722644806\n",
            "#>>>    21.47 15.92 \t\t|\t\t 5.549999999999999\n",
            "[Feb 27, 14:07:04] 1364 0.29802788743074915\n",
            "\t\t\t\t 0.15411899983882904 0.18906372785568237\n",
            "#>>>    21.42 15.46 \t\t|\t\t 5.960000000000001\n",
            "[Feb 27, 14:07:05] 1365 0.298073042285914\n",
            "\t\t\t\t 0.18149083852767944 0.31139075756073\n",
            "#>>>    21.03 15.79 \t\t|\t\t 5.240000000000002\n",
            "[Feb 27, 14:07:05] 1366 0.2982678508397165\n",
            "\t\t\t\t 0.1562487781047821 0.07832715660333633\n",
            "#>>>    21.74 15.81 \t\t|\t\t 5.929999999999998\n",
            "[Feb 27, 14:07:06] 1367 0.2982041589161344\n",
            "\t\t\t\t 0.20673593878746033 0.16200463473796844\n",
            "#>>>    21.88 16.49 \t\t|\t\t 5.390000000000001\n",
            "[Feb 27, 14:07:06] 1368 0.29827469531584255\n",
            "\t\t\t\t 0.18877209722995758 0.13396432995796204\n",
            "#>>>    21.27 15.88 \t\t|\t\t 5.389999999999999\n",
            "[Feb 27, 14:07:07] 1369 0.2982991570626158\n",
            "\t\t\t\t 0.1313481330871582 0.19977040588855743\n",
            "#>>>    21.3 15.47 \t\t|\t\t 5.83\n",
            "[Feb 27, 14:07:07] 1370 0.2983319764296277\n",
            "\t\t\t\t 0.06537385284900665 0.07288351655006409\n",
            "#>>>    21.75 15.74 \t\t|\t\t 6.01\n",
            "[Feb 27, 14:07:08] 1371 0.2981719018225972\n",
            "\t\t\t\t 0.1326104700565338 0.1329183578491211\n",
            "#>>>    21.57 16.37 \t\t|\t\t 5.199999999999999\n",
            "[Feb 27, 14:07:08] 1372 0.29813925874868025\n",
            "\t\t\t\t 0.08628052473068237 0.061138879507780075\n",
            "#>>>    22.17 16.8 \t\t|\t\t 5.370000000000001\n",
            "[Feb 27, 14:07:09] 1373 0.29798853889789534\n",
            "\t\t\t\t 0.10748112201690674 0.10632044821977615\n",
            "#>>>    21.23 15.57 \t\t|\t\t 5.66\n",
            "[Feb 27, 14:07:09] 1374 0.29790435192178355\n",
            "\t\t\t\t 0.1416148543357849 0.07826732099056244\n",
            "#>>>    21.64 16.14 \t\t|\t\t 5.5\n",
            "[Feb 27, 14:07:09] 1375 0.29782632974518813\n",
            "\t\t\t\t 0.2688443958759308 0.18614867329597473\n",
            "#>>>    21.18 16.42 \t\t|\t\t 4.759999999999998\n",
            "[Feb 27, 14:07:10] 1376 0.29798349648461486\n",
            "\t\t\t\t 0.12290090322494507 0.10390938818454742\n",
            "#>>>    21.66 16.18 \t\t|\t\t 5.48\n",
            "[Feb 27, 14:07:10] 1377 0.2979123232795397\n",
            "\t\t\t\t 0.17300757765769958 0.07237382233142853\n",
            "#>>>    21.48 16.39 \t\t|\t\t 5.09\n",
            "[Feb 27, 14:07:11] 1378 0.2978597923562493\n",
            "\t\t\t\t 0.13842949271202087 0.07501696795225143\n",
            "#>>>    21.5 15.88 \t\t|\t\t 5.619999999999999\n",
            "[Feb 27, 14:07:11] 1379 0.2977753790320079\n",
            "\t\t\t\t 0.21537065505981445 0.207758828997612\n",
            "#>>>    21.21 15.96 \t\t|\t\t 5.25\n",
            "[Feb 27, 14:07:12] 1380 0.29790073315193444\n",
            "\t\t\t\t 0.21287128329277039 0.08372888714075089\n",
            "#>>>    21.61 16.4 \t\t|\t\t 5.210000000000001\n",
            "[Feb 27, 14:07:12] 1381 0.29789943258176543\n",
            "\t\t\t\t 0.09927241504192352 0.027553629130125046\n",
            "#>>>    21.72 16.61 \t\t|\t\t 5.109999999999999\n",
            "[Feb 27, 14:07:13] 1382 0.297728359197081\n",
            "\t\t\t\t 0.11517947912216187 0.08051417768001556\n",
            "#>>>    21.81 16.32 \t\t|\t\t 5.489999999999998\n",
            "[Feb 27, 14:07:13] 1383 0.2976263244946861\n",
            "\t\t\t\t 0.09858088195323944 0.0802997350692749\n",
            "#>>>    21.55 15.96 \t\t|\t\t 5.59\n",
            "[Feb 27, 14:07:14] 1384 0.29750757878721396\n",
            "\t\t\t\t 0.12066001445055008 0.06337393820285797\n",
            "#>>>    21.82 16.07 \t\t|\t\t 5.75\n",
            "[Feb 27, 14:07:14] 1385 0.2973941051685307\n",
            "\t\t\t\t 0.06519889086484909 0.1120225042104721\n",
            "#>>>    21.82 15.62 \t\t|\t\t 6.200000000000001\n",
            "[Feb 27, 14:07:15] 1386 0.2972739324509869\n",
            "\t\t\t\t 0.11610396206378937 0.07368210703134537\n",
            "#>>>    21.5 15.71 \t\t|\t\t 5.789999999999999\n",
            "[Feb 27, 14:07:15] 1387 0.2971664445950816\n",
            "\t\t\t\t 0.15391488373279572 0.1848479062318802\n",
            "#>>>    21.4 15.92 \t\t|\t\t 5.479999999999999\n",
            "[Feb 27, 14:07:16] 1388 0.2972080409404512\n",
            "\t\t\t\t 0.14228710532188416 0.03969193622469902\n",
            "#>>>    21.78 15.93 \t\t|\t\t 5.850000000000001\n",
            "[Feb 27, 14:07:16] 1389 0.29709281194478265\n",
            "\t\t\t\t 0.159042090177536 0.10342829674482346\n",
            "#>>>    21.68 15.66 \t\t|\t\t 6.02\n",
            "[Feb 27, 14:07:16] 1390 0.2970581895272108\n",
            "\t\t\t\t 0.0770416110754013 0.058865517377853394\n",
            "#>>>    21.97 16.47 \t\t|\t\t 5.5\n",
            "[Feb 27, 14:07:17] 1391 0.29689703846613685\n",
            "\t\t\t\t 0.16844375431537628 0.10657772421836853\n",
            "#>>>    21.64 16.64 \t\t|\t\t 5.0\n",
            "[Feb 27, 14:07:17] 1392 0.2968751629211056\n",
            "\t\t\t\t 0.15519742667675018 0.16379311680793762\n",
            "#>>>    21.53 16.01 \t\t|\t\t 5.52\n",
            "[Feb 27, 14:07:18] 1393 0.29689727828676804\n",
            "\t\t\t\t 0.2647444009780884 0.21234895288944244\n",
            "#>>>    21.29 16.24 \t\t|\t\t 5.050000000000001\n",
            "[Feb 27, 14:07:18] 1394 0.2970774743474477\n",
            "\t\t\t\t 0.1335011124610901 0.06764537841081619\n",
            "#>>>    21.38 15.82 \t\t|\t\t 5.559999999999999\n",
            "[Feb 27, 14:07:19] 1395 0.2969815433565216\n",
            "\t\t\t\t 0.1022147387266159 0.054302554577589035\n",
            "#>>>    21.68 16.75 \t\t|\t\t 4.93\n",
            "[Feb 27, 14:07:19] 1396 0.2968410791101946\n",
            "\t\t\t\t 0.23876935243606567 0.15375691652297974\n",
            "#>>>    21.48 16.17 \t\t|\t\t 5.309999999999999\n",
            "[Feb 27, 14:07:20] 1397 0.2969367643000434\n",
            "\t\t\t\t 0.12287618964910507 0.022615572437644005\n",
            "#>>>    21.75 16.05 \t\t|\t\t 5.699999999999999\n",
            "[Feb 27, 14:07:20] 1398 0.29678531929969276\n",
            "\t\t\t\t 0.09344107657670975 0.045162562280893326\n",
            "#>>>    22.23 16.25 \t\t|\t\t 5.98\n",
            "[Feb 27, 14:07:21] 1399 0.29662713762297593\n",
            "\t\t\t\t 0.09165570139884949 0.05069954693317413\n",
            "#>>>    22.03 16.93 \t\t|\t\t 5.100000000000001\n",
            "[Feb 27, 14:07:21] 1400 0.296472865733685\n",
            "\t\t\t\t 0.1573151797056198 0.07460016757249832\n",
            "#>>>    21.68 15.81 \t\t|\t\t 5.869999999999999\n",
            "[Feb 27, 14:07:22] 1401 0.29640830822268\n",
            "\t\t\t\t 0.15486596524715424 0.1321195363998413\n",
            "#>>>    21.2 16.01 \t\t|\t\t 5.189999999999998\n",
            "[Feb 27, 14:07:22] 1402 0.29639888543100545\n",
            "\t\t\t\t 0.20554296672344208 0.16584613919258118\n",
            "#>>>    21.27 16.31 \t\t|\t\t 4.960000000000001\n",
            "[Feb 27, 14:07:23] 1403 0.29647387563658933\n",
            "\t\t\t\t 0.17996008694171906 0.16745233535766602\n",
            "#>>>    21.22 16.49 \t\t|\t\t 4.73\n",
            "[Feb 27, 14:07:23] 1404 0.29652481416835097\n",
            "\t\t\t\t 0.18206875026226044 0.09252160787582397\n",
            "#>>>    21.23 15.75 \t\t|\t\t 5.48\n",
            "[Feb 27, 14:07:24] 1405 0.29650287972722184\n",
            "\t\t\t\t 0.11262880265712738 0.06758319586515427\n",
            "#>>>    21.79 16.02 \t\t|\t\t 5.77\n",
            "[Feb 27, 14:07:24] 1406 0.29638658883856633\n",
            "\t\t\t\t 0.22688323259353638 0.1702013462781906\n",
            "#>>>    21.27 16.44 \t\t|\t\t 4.829999999999998\n",
            "[Feb 27, 14:07:24] 1407 0.2964872868435007\n",
            "\t\t\t\t 0.07343632727861404 0.03555586189031601\n",
            "#>>>    21.8 16.18 \t\t|\t\t 5.620000000000001\n",
            "[Feb 27, 14:07:25] 1408 0.2962997917458261\n",
            "\t\t\t\t 0.20430907607078552 0.14062805473804474\n",
            "#>>>    21.47 16.55 \t\t|\t\t 4.919999999999998\n",
            "[Feb 27, 14:07:25] 1409 0.29634842909979026\n",
            "\t\t\t\t 0.08952383697032928 0.0580008402466774\n",
            "#>>>    22.22 16.52 \t\t|\t\t 5.699999999999999\n",
            "[Feb 27, 14:07:26] 1410 0.29619960535535805\n",
            "\t\t\t\t 0.14988982677459717 0.11153111606836319\n",
            "#>>>    21.28 16.09 \t\t|\t\t 5.190000000000001\n",
            "[Feb 27, 14:07:26] 1411 0.29616482668539507\n",
            "\t\t\t\t 0.15424960851669312 0.05976404249668121\n",
            "#>>>    21.71 16.35 \t\t|\t\t 5.359999999999999\n",
            "[Feb 27, 14:07:27] 1412 0.29608267550972306\n",
            "\t\t\t\t 0.18853884935379028 0.13201920688152313\n",
            "#>>>    21.57 15.8 \t\t|\t\t 5.77\n",
            "[Feb 27, 14:07:27] 1413 0.2961071509053498\n",
            "\t\t\t\t 0.15003298223018646 0.09228121489286423\n",
            "#>>>    21.51 16.03 \t\t|\t\t 5.48\n",
            "[Feb 27, 14:07:28] 1414 0.2960533579441169\n",
            "\t\t\t\t 0.09147899597883224 0.05995432287454605\n",
            "#>>>    21.23 16.25 \t\t|\t\t 4.98\n",
            "[Feb 27, 14:07:28] 1415 0.29590873790502614\n",
            "\t\t\t\t 0.16028541326522827 0.040289245545864105\n",
            "#>>>    21.92 16.03 \t\t|\t\t 5.890000000000001\n",
            "[Feb 27, 14:07:29] 1416 0.2958134038333828\n",
            "\t\t\t\t 0.13017243146896362 0.19327430427074432\n",
            "#>>>    22.04 16.32 \t\t|\t\t 5.719999999999999\n",
            "[Feb 27, 14:07:29] 1417 0.2958410371801903\n",
            "\t\t\t\t 0.2699803113937378 0.11352130770683289\n",
            "#>>>    21.51 16.91 \t\t|\t\t 4.600000000000001\n",
            "[Feb 27, 14:07:30] 1418 0.29592869776211067\n",
            "\t\t\t\t 0.14973831176757812 0.14600536227226257\n",
            "#>>>    21.96 16.32 \t\t|\t\t 5.640000000000001\n",
            "[Feb 27, 14:07:30] 1419 0.2959285127383884\n",
            "\t\t\t\t 0.10974135994911194 0.13455621898174286\n",
            "#>>>    21.8 16.2 \t\t|\t\t 5.600000000000001\n",
            "[Feb 27, 14:07:31] 1420 0.2958768818045808\n",
            "\t\t\t\t 0.20516765117645264 0.07832137495279312\n",
            "#>>>    21.79 16.75 \t\t|\t\t 5.039999999999999\n",
            "[Feb 27, 14:07:31] 1421 0.29586449394145486\n",
            "\t\t\t\t 0.049044281244277954 0.08887087553739548\n",
            "#>>>    21.96 16.15 \t\t|\t\t 5.810000000000002\n",
            "[Feb 27, 14:07:32] 1422 0.2957065446117456\n",
            "\t\t\t\t 0.13906845450401306 0.1092841699719429\n",
            "#>>>    21.52 16.36 \t\t|\t\t 5.16\n",
            "[Feb 27, 14:07:32] 1423 0.29565919068415925\n",
            "\t\t\t\t 0.12180976569652557 0.07497088611125946\n",
            "#>>>    21.97 16.33 \t\t|\t\t 5.640000000000001\n",
            "[Feb 27, 14:07:32] 1424 0.2955603121452829\n",
            "\t\t\t\t 0.2562383711338043 0.11270910501480103\n",
            "#>>>    21.28 16.1 \t\t|\t\t 5.18\n",
            "[Feb 27, 14:07:33] 1425 0.29563369930928624\n",
            "\t\t\t\t 0.15043838322162628 0.22485117614269257\n",
            "#>>>    21.36 15.74 \t\t|\t\t 5.619999999999999\n",
            "[Feb 27, 14:07:33] 1426 0.2957133551693413\n",
            "\t\t\t\t 0.14521655440330505 0.045667484402656555\n",
            "#>>>    21.49 15.99 \t\t|\t\t 5.499999999999998\n",
            "[Feb 27, 14:07:34] 1427 0.29560852585297787\n",
            "\t\t\t\t 0.10490483790636063 0.15000247955322266\n",
            "#>>>    21.17 15.92 \t\t|\t\t 5.250000000000002\n",
            "[Feb 27, 14:07:34] 1428 0.2955678246371339\n",
            "\t\t\t\t 0.24781152606010437 0.07079970836639404\n",
            "#>>>    21.56 16.22 \t\t|\t\t 5.34\n",
            "[Feb 27, 14:07:35] 1429 0.29559086804692325\n",
            "\t\t\t\t 0.09580709040164948 0.11063152551651001\n",
            "#>>>    22.08 16.34 \t\t|\t\t 5.739999999999998\n",
            "[Feb 27, 14:07:35] 1430 0.2955017157947945\n",
            "\t\t\t\t 0.05869612470269203 0.07160940021276474\n",
            "#>>>    22.13 16.6 \t\t|\t\t 5.529999999999998\n",
            "[Feb 27, 14:07:36] 1431 0.29533651960764046\n",
            "\t\t\t\t 0.1078316792845726 0.08803762495517731\n",
            "#>>>    21.51 16.2 \t\t|\t\t 5.310000000000002\n",
            "[Feb 27, 14:07:36] 1432 0.295237052384822\n",
            "\t\t\t\t 0.09121754765510559 0.11413399130105972\n",
            "#>>>    21.62 15.65 \t\t|\t\t 5.970000000000001\n",
            "[Feb 27, 14:07:37] 1433 0.29514716686394277\n",
            "\t\t\t\t 0.15974318981170654 0.10559959709644318\n",
            "#>>>    21.37 16.18 \t\t|\t\t 5.190000000000001\n",
            "[Feb 27, 14:07:37] 1434 0.2951173624690858\n",
            "\t\t\t\t 0.13453742861747742 0.10483193397521973\n",
            "#>>>    21.74 16.34 \t\t|\t\t 5.399999999999999\n",
            "[Feb 27, 14:07:38] 1435 0.2950616144692095\n",
            "\t\t\t\t 0.09186531603336334 0.05195382982492447\n",
            "#>>>    21.61 16.24 \t\t|\t\t 5.370000000000001\n",
            "[Feb 27, 14:07:38] 1436 0.29491037200804915\n",
            "\t\t\t\t 0.10595914721488953 0.06871580332517624\n",
            "#>>>    21.51 15.48 \t\t|\t\t 6.030000000000001\n",
            "[Feb 27, 14:07:39] 1437 0.29479013659403175\n",
            "\t\t\t\t 0.14066511392593384 0.12333983182907104\n",
            "#>>>    21.31 15.96 \t\t|\t\t 5.349999999999998\n",
            "[Feb 27, 14:07:39] 1438 0.2947593514031927\n",
            "\t\t\t\t 0.13771648705005646 0.1009853258728981\n",
            "#>>>    21.64 16.39 \t\t|\t\t 5.25\n",
            "[Feb 27, 14:07:39] 1439 0.29470329387216304\n",
            "\t\t\t\t 0.143879234790802 0.08812245726585388\n",
            "#>>>    21.4 16.11 \t\t|\t\t 5.289999999999999\n",
            "[Feb 27, 14:07:40] 1440 0.29464059227034756\n",
            "\t\t\t\t 0.11446583271026611 0.10948566347360611\n",
            "#>>>    21.59 15.98 \t\t|\t\t 5.609999999999999\n",
            "[Feb 27, 14:07:40] 1441 0.2945699031668105\n",
            "\t\t\t\t 0.10556764900684357 0.0796126276254654\n",
            "#>>>    21.59 15.91 \t\t|\t\t 5.68\n",
            "[Feb 27, 14:07:41] 1442 0.294460513540276\n",
            "\t\t\t\t 0.08931994438171387 0.04637400433421135\n",
            "#>>>    21.83 16.01 \t\t|\t\t 5.819999999999997\n",
            "[Feb 27, 14:07:41] 1443 0.294301746979177\n",
            "\t\t\t\t 0.22608062624931335 0.17715445160865784\n",
            "#>>>    21.51 16.26 \t\t|\t\t 5.25\n",
            "[Feb 27, 14:07:42] 1444 0.29441068031005574\n",
            "\t\t\t\t 0.08791288733482361 0.05695169419050217\n",
            "#>>>    22.25 16.85 \t\t|\t\t 5.399999999999999\n",
            "[Feb 27, 14:07:42] 1445 0.2942611342187216\n",
            "\t\t\t\t 0.2516075372695923 0.11336629837751389\n",
            "#>>>    21.3 16.37 \t\t|\t\t 4.93\n",
            "[Feb 27, 14:07:43] 1446 0.29433184692760056\n",
            "\t\t\t\t 0.18097832798957825 0.17455808818340302\n",
            "#>>>    21.61 16.61 \t\t|\t\t 5.0\n",
            "[Feb 27, 14:07:43] 1447 0.2943930514819448\n",
            "\t\t\t\t 0.07328905165195465 0.05154572054743767\n",
            "#>>>    21.67 15.97 \t\t|\t\t 5.700000000000001\n",
            "[Feb 27, 14:07:44] 1448 0.2942234932063875\n",
            "\t\t\t\t 0.12002889811992645 0.09876259416341782\n",
            "#>>>    21.75 16.38 \t\t|\t\t 5.370000000000001\n",
            "[Feb 27, 14:07:44] 1449 0.2941480611980139\n",
            "\t\t\t\t 0.23801970481872559 0.12546448409557343\n",
            "#>>>    21.55 16.43 \t\t|\t\t 5.120000000000001\n",
            "[Feb 27, 14:07:45] 1450 0.2942173973406313\n",
            "\t\t\t\t 0.10838767141103745 0.07275959849357605\n",
            "#>>>    21.5 15.86 \t\t|\t\t 5.640000000000001\n",
            "[Feb 27, 14:07:45] 1451 0.29410432722064583\n",
            "\t\t\t\t 0.1798793077468872 0.07838823646306992\n",
            "#>>>    21.67 16.14 \t\t|\t\t 5.530000000000001\n",
            "[Feb 27, 14:07:46] 1452 0.2940684904450857\n",
            "\t\t\t\t 0.11372777819633484 0.15321770310401917\n",
            "#>>>    21.46 15.25 \t\t|\t\t 6.210000000000001\n",
            "[Feb 27, 14:07:46] 1453 0.29404136743594095\n",
            "\t\t\t\t 0.14652052521705627 0.043965816497802734\n",
            "#>>>    21.97 16.25 \t\t|\t\t 5.719999999999999\n",
            "[Feb 27, 14:07:47] 1454 0.2939378124102199\n",
            "\t\t\t\t 0.15845367312431335 0.05840418487787247\n",
            "#>>>    22.04 16.79 \t\t|\t\t 5.25\n",
            "[Feb 27, 14:07:47] 1455 0.29386073244836125\n",
            "\t\t\t\t 0.1771163046360016 0.09508070349693298\n",
            "#>>>    21.27 16.12 \t\t|\t\t 5.149999999999999\n",
            "[Feb 27, 14:07:47] 1456 0.2938390687240458\n",
            "\t\t\t\t 0.13026480376720428 0.10681483149528503\n",
            "#>>>    21.5 16.29 \t\t|\t\t 5.210000000000001\n",
            "[Feb 27, 14:07:48] 1457 0.29378230929058424\n",
            "\t\t\t\t 0.17109310626983643 0.16434484720230103\n",
            "#>>>    21.47 16.07 \t\t|\t\t 5.399999999999999\n",
            "[Feb 27, 14:07:48] 1458 0.2938239649347658\n",
            "\t\t\t\t 0.09972488880157471 0.0886659175157547\n",
            "#>>>    21.71 16.12 \t\t|\t\t 5.59\n",
            "[Feb 27, 14:07:49] 1459 0.2937185317761484\n",
            "\t\t\t\t 0.10164600610733032 0.04967494308948517\n",
            "#>>>    21.98 16.28 \t\t|\t\t 5.699999999999999\n",
            "[Feb 27, 14:07:49] 1460 0.2935761341935691\n",
            "\t\t\t\t 0.13017374277114868 0.06682365387678146\n",
            "#>>>    21.76 16.62 \t\t|\t\t 5.140000000000001\n",
            "[Feb 27, 14:07:50] 1461 0.29347955546347404\n",
            "\t\t\t\t 0.14845263957977295 0.07211955636739731\n",
            "#>>>    22.02 17.1 \t\t|\t\t 4.919999999999998\n",
            "[Feb 27, 14:07:50] 1462 0.2934066481114083\n",
            "\t\t\t\t 0.11050989478826523 0.10230246931314468\n",
            "#>>>    21.49 15.91 \t\t|\t\t 5.579999999999998\n",
            "[Feb 27, 14:07:51] 1463 0.29332605382739835\n",
            "\t\t\t\t 0.10234895348548889 0.06401833891868591\n",
            "#>>>    21.99 16.29 \t\t|\t\t 5.699999999999999\n",
            "[Feb 27, 14:07:51] 1464 0.2931990950659751\n",
            "\t\t\t\t 0.1179473027586937 0.10209208726882935\n",
            "#>>>    21.61 16.39 \t\t|\t\t 5.219999999999999\n",
            "[Feb 27, 14:07:52] 1465 0.2931259353683872\n",
            "\t\t\t\t 0.1846114546060562 0.11523182690143585\n",
            "#>>>    21.84 16.31 \t\t|\t\t 5.530000000000001\n",
            "[Feb 27, 14:07:52] 1466 0.2931326527145263\n",
            "\t\t\t\t 0.1929948329925537 0.13321825861930847\n",
            "#>>>    21.58 16.21 \t\t|\t\t 5.369999999999997\n",
            "[Feb 27, 14:07:53] 1467 0.29316573315342365\n",
            "\t\t\t\t 0.16815295815467834 0.0699649229645729\n",
            "#>>>    21.97 16.44 \t\t|\t\t 5.529999999999998\n",
            "[Feb 27, 14:07:53] 1468 0.2931106852939389\n",
            "\t\t\t\t 0.15944045782089233 0.19036239385604858\n",
            "#>>>    21.63 16.19 \t\t|\t\t 5.439999999999998\n",
            "[Feb 27, 14:07:54] 1469 0.29316737746032195\n",
            "\t\t\t\t 0.15542542934417725 0.07825778424739838\n",
            "#>>>    21.72 16.32 \t\t|\t\t 5.399999999999999\n",
            "[Feb 27, 14:07:54] 1470 0.2931078932964532\n",
            "\t\t\t\t 0.19810420274734497 0.10942850261926651\n",
            "#>>>    21.58 16.74 \t\t|\t\t 4.84\n",
            "[Feb 27, 14:07:55] 1471 0.2931223181010728\n",
            "\t\t\t\t 0.15645422041416168 0.0670386254787445\n",
            "#>>>    21.58 16.35 \t\t|\t\t 5.229999999999997\n",
            "[Feb 27, 14:07:55] 1472 0.29305268862886463\n",
            "\t\t\t\t 0.1015215739607811 0.059311527758836746\n",
            "#>>>    21.89 16.52 \t\t|\t\t 5.370000000000001\n",
            "[Feb 27, 14:07:56] 1473 0.29292046904568064\n",
            "\t\t\t\t 0.0657440796494484 0.03972107544541359\n",
            "#>>>    22.29 16.1 \t\t|\t\t 6.189999999999998\n",
            "[Feb 27, 14:07:56] 1474 0.2927330137354551\n",
            "\t\t\t\t 0.19742898643016815 0.13521292805671692\n",
            "#>>>    21.39 16.81 \t\t|\t\t 4.580000000000002\n",
            "[Feb 27, 14:07:56] 1475 0.2927729226213054\n",
            "\t\t\t\t 0.085813008248806 0.052557215094566345\n",
            "#>>>    21.93 16.55 \t\t|\t\t 5.379999999999999\n",
            "[Feb 27, 14:07:57] 1476 0.2926185199145769\n",
            "\t\t\t\t 0.153997540473938 0.14237725734710693\n",
            "#>>>    21.32 16.3 \t\t|\t\t 5.02\n",
            "[Feb 27, 14:07:57] 1477 0.2926222761924833\n",
            "\t\t\t\t 0.1482701152563095 0.0942099317908287\n",
            "#>>>    21.97 16.37 \t\t|\t\t 5.599999999999998\n",
            "[Feb 27, 14:07:58] 1478 0.2925721339558874\n",
            "\t\t\t\t 0.12497487664222717 0.08139341324567795\n",
            "#>>>    21.58 15.66 \t\t|\t\t 5.919999999999998\n",
            "[Feb 27, 14:07:58] 1479 0.29248593011927\n",
            "\t\t\t\t 0.1801314353942871 0.24284370243549347\n",
            "#>>>    21.4 16.52 \t\t|\t\t 4.879999999999999\n",
            "[Feb 27, 14:07:59] 1480 0.2926164193120793\n",
            "\t\t\t\t 0.28914183378219604 0.19918732345104218\n",
            "#>>>    21.58 16.0 \t\t|\t\t 5.579999999999998\n",
            "[Feb 27, 14:07:59] 1481 0.2928121320649017\n",
            "\t\t\t\t 0.1271522045135498 0.06411177664995193\n",
            "#>>>    21.82 16.29 \t\t|\t\t 5.530000000000001\n",
            "[Feb 27, 14:08:00] 1482 0.29271058390654975\n",
            "\t\t\t\t 0.07161401957273483 0.04814615100622177\n",
            "#>>>    21.84 16.05 \t\t|\t\t 5.789999999999999\n",
            "[Feb 27, 14:08:00] 1483 0.29253763349322215\n",
            "\t\t\t\t 0.07271485775709152 0.056350693106651306\n",
            "#>>>    22.08 16.13 \t\t|\t\t 5.949999999999999\n",
            "[Feb 27, 14:08:01] 1484 0.2923741614031421\n",
            "\t\t\t\t 0.1262647658586502 0.042551565915346146\n",
            "#>>>    22.3 16.38 \t\t|\t\t 5.920000000000002\n",
            "[Feb 27, 14:08:01] 1485 0.29225060356978766\n",
            "\t\t\t\t 0.2985229790210724 0.10428095608949661\n",
            "#>>>    21.38 17.07 \t\t|\t\t 4.309999999999999\n",
            "[Feb 27, 14:08:02] 1486 0.29236115689387787\n",
            "\t\t\t\t 0.07185688614845276 0.10018959641456604\n",
            "#>>>    21.69 16.36 \t\t|\t\t 5.330000000000002\n",
            "[Feb 27, 14:08:02] 1487 0.292240842219547\n",
            "\t\t\t\t 0.16504144668579102 0.17219285666942596\n",
            "#>>>    21.18 15.69 \t\t|\t\t 5.49\n",
            "[Feb 27, 14:08:03] 1488 0.2922858356955838\n",
            "\t\t\t\t 0.13923583924770355 0.06713869422674179\n",
            "#>>>    21.59 16.11 \t\t|\t\t 5.48\n",
            "[Feb 27, 14:08:03] 1489 0.2921999243859121\n",
            "\t\t\t\t 0.12087402492761612 0.08572187274694443\n",
            "#>>>    21.59 16.24 \t\t|\t\t 5.350000000000001\n",
            "[Feb 27, 14:08:03] 1490 0.29211432035920076\n",
            "\t\t\t\t 0.12470892071723938 0.12409818172454834\n",
            "#>>>    21.37 16.02 \t\t|\t\t 5.350000000000001\n",
            "[Feb 27, 14:08:04] 1491 0.29207101314128336\n",
            "\t\t\t\t 0.06309731304645538 0.12766580283641815\n",
            "#>>>    21.72 15.64 \t\t|\t\t 6.079999999999998\n",
            "[Feb 27, 14:08:04] 1492 0.291969705244025\n",
            "\t\t\t\t 0.30027180910110474 0.1653643101453781\n",
            "#>>>    21.36 16.15 \t\t|\t\t 5.210000000000001\n",
            "[Feb 27, 14:08:05] 1493 0.2921433716729286\n",
            "\t\t\t\t 0.18359899520874023 0.11351027339696884\n",
            "#>>>    21.5 16.45 \t\t|\t\t 5.050000000000001\n",
            "[Feb 27, 14:08:05] 1494 0.29214833757731196\n",
            "\t\t\t\t 0.19483086466789246 0.1206524521112442\n",
            "#>>>    21.55 16.39 \t\t|\t\t 5.16\n",
            "[Feb 27, 14:08:06] 1495 0.29217167257141496\n",
            "\t\t\t\t 0.12774668633937836 0.12608161568641663\n",
            "#>>>    21.69 15.81 \t\t|\t\t 5.880000000000001\n",
            "[Feb 27, 14:08:06] 1496 0.2921333291859682\n",
            "\t\t\t\t 0.2829952538013458 0.14480464160442352\n",
            "#>>>    21.74 16.77 \t\t|\t\t 4.969999999999999\n",
            "[Feb 27, 14:08:07] 1497 0.2922689957372868\n",
            "\t\t\t\t 0.18996596336364746 0.11850913614034653\n",
            "#>>>    21.31 15.94 \t\t|\t\t 5.369999999999999\n",
            "[Feb 27, 14:08:07] 1498 0.2922852018485041\n",
            "\t\t\t\t 0.24755944311618805 0.052037809044122696\n",
            "#>>>    21.77 16.68 \t\t|\t\t 5.09\n",
            "[Feb 27, 14:08:08] 1499 0.2922925139099918\n",
            "\t\t\t\t 0.16120125353336334 0.08197576552629471\n",
            "#>>>    21.77 16.28 \t\t|\t\t 5.489999999999998\n",
            "[Feb 27, 14:08:08] 1500 0.292243398422592\n",
            "\t\t\t\t 0.17196455597877502 0.17273660004138947\n",
            "#>>>    21.36 15.9 \t\t|\t\t 5.459999999999999\n",
            "[Feb 27, 14:08:09] 1501 0.29229585619509074\n",
            "\t\t\t\t 0.1676395982503891 0.10292889177799225\n",
            "#>>>    21.65 16.54 \t\t|\t\t 5.109999999999999\n",
            "[Feb 27, 14:08:09] 1502 0.292274128828924\n",
            "\t\t\t\t 0.10468585044145584 0.22541458904743195\n",
            "#>>>    21.31 15.51 \t\t|\t\t 5.799999999999999\n",
            "[Feb 27, 14:08:10] 1503 0.29231195514703456\n",
            "\t\t\t\t 0.1586349904537201 0.15373080968856812\n",
            "#>>>    21.33 16.03 \t\t|\t\t 5.299999999999997\n",
            "[Feb 27, 14:08:10] 1504 0.29233200899202977\n",
            "\t\t\t\t 0.21172071993350983 0.10748258978128433\n",
            "#>>>    21.67 16.4 \t\t|\t\t 5.270000000000003\n",
            "[Feb 27, 14:08:11] 1505 0.29235888030020313\n",
            "\t\t\t\t 0.1355423927307129 0.18436579406261444\n",
            "#>>>    21.86 16.2 \t\t|\t\t 5.66\n",
            "[Feb 27, 14:08:11] 1506 0.2923864296215974\n",
            "\t\t\t\t 0.1066683977842331 0.09688714891672134\n",
            "#>>>    21.11 15.64 \t\t|\t\t 5.469999999999999\n",
            "[Feb 27, 14:08:11] 1507 0.2922975987461273\n",
            "\t\t\t\t 0.12324244529008865 0.10698862373828888\n",
            "#>>>    21.57 16.05 \t\t|\t\t 5.52\n",
            "[Feb 27, 14:08:12] 1508 0.2922355322238602\n",
            "\t\t\t\t 0.15087860822677612 0.0674794465303421\n",
            "#>>>    21.65 16.51 \t\t|\t\t 5.139999999999997\n",
            "[Feb 27, 14:08:12] 1509 0.29216165474639344\n",
            "\t\t\t\t 0.17583929002285004 0.055833783000707626\n",
            "#>>>    21.27 16.28 \t\t|\t\t 4.989999999999998\n",
            "[Feb 27, 14:08:13] 1510 0.29210116616839593\n",
            "\t\t\t\t 0.23008650541305542 0.15829192101955414\n",
            "#>>>    21.4 16.39 \t\t|\t\t 5.009999999999998\n",
            "[Feb 27, 14:08:13] 1511 0.2921974434435613\n",
            "\t\t\t\t 0.07209732383489609 0.05044642835855484\n",
            "#>>>    21.21 16.17 \t\t|\t\t 5.039999999999999\n",
            "[Feb 27, 14:08:14] 1512 0.2920277897523112\n",
            "\t\t\t\t 0.12143095582723618 0.08609046787023544\n",
            "#>>>    21.62 15.51 \t\t|\t\t 6.110000000000001\n",
            "[Feb 27, 14:08:14] 1513 0.29194328338625636\n",
            "\t\t\t\t 0.14744380116462708 0.12491344660520554\n",
            "#>>>    21.21 15.75 \t\t|\t\t 5.460000000000001\n",
            "[Feb 27, 14:08:15] 1514 0.2919236973580905\n",
            "\t\t\t\t 0.08251636475324631 0.11148238182067871\n",
            "#>>>    21.89 15.87 \t\t|\t\t 6.020000000000001\n",
            "[Feb 27, 14:08:15] 1515 0.2918257724147569\n",
            "\t\t\t\t 0.1540539711713791 0.059892214834690094\n",
            "#>>>    21.82 16.06 \t\t|\t\t 5.760000000000002\n",
            "[Feb 27, 14:08:16] 1516 0.29174789283579877\n",
            "\t\t\t\t 0.17612087726593018 0.13468171656131744\n",
            "#>>>    21.49 16.4 \t\t|\t\t 5.09\n",
            "[Feb 27, 14:08:16] 1517 0.29176694752188903\n",
            "\t\t\t\t 0.1786109060049057 0.05522468313574791\n",
            "#>>>    21.81 16.32 \t\t|\t\t 5.489999999999998\n",
            "[Feb 27, 14:08:17] 1518 0.2917090161672331\n",
            "\t\t\t\t 0.14995084702968597 0.07889421284198761\n",
            "#>>>    21.46 16.4 \t\t|\t\t 5.060000000000002\n",
            "[Feb 27, 14:08:17] 1519 0.2916461522109376\n",
            "\t\t\t\t 0.26337409019470215 0.15039482712745667\n",
            "#>>>    21.79 17.09 \t\t|\t\t 4.699999999999999\n",
            "[Feb 27, 14:08:18] 1520 0.2917682749760488\n",
            "\t\t\t\t 0.12286140024662018 0.13128873705863953\n",
            "#>>>    21.33 16.46 \t\t|\t\t 4.869999999999997\n",
            "[Feb 27, 14:08:18] 1521 0.29173065685327915\n",
            "\t\t\t\t 0.07181945443153381 0.05197791010141373\n",
            "#>>>    21.76 16.05 \t\t|\t\t 5.710000000000001\n",
            "[Feb 27, 14:08:19] 1522 0.2915627235609588\n",
            "\t\t\t\t 0.1586187183856964 0.1643192619085312\n",
            "#>>>    21.3 15.8 \t\t|\t\t 5.5\n",
            "[Feb 27, 14:08:19] 1523 0.2915940988027909\n",
            "\t\t\t\t 0.194321408867836 0.15722696483135223\n",
            "#>>>    21.03 15.89 \t\t|\t\t 5.140000000000001\n",
            "[Feb 27, 14:08:19] 1524 0.29165405307768727\n",
            "\t\t\t\t 0.15273471176624298 0.10927567631006241\n",
            "#>>>    21.26 15.92 \t\t|\t\t 5.340000000000002\n",
            "[Feb 27, 14:08:20] 1525 0.29162440942013645\n",
            "\t\t\t\t 0.09434470534324646 0.1255376935005188\n",
            "#>>>    21.98 16.55 \t\t|\t\t 5.43\n",
            "[Feb 27, 14:08:20] 1526 0.29155266740956004\n",
            "\t\t\t\t 0.06477202475070953 0.0576421394944191\n",
            "#>>>    21.88 15.93 \t\t|\t\t 5.949999999999999\n",
            "[Feb 27, 14:08:21] 1527 0.29138352890639563\n",
            "\t\t\t\t 0.10106086730957031 0.09210096299648285\n",
            "#>>>    21.79 16.12 \t\t|\t\t 5.669999999999998\n",
            "[Feb 27, 14:08:21] 1528 0.2912853072077953\n",
            "\t\t\t\t 0.11743451654911041 0.07318271696567535\n",
            "#>>>    21.6 16.36 \t\t|\t\t 5.240000000000002\n",
            "[Feb 27, 14:08:22] 1529 0.29118463913410225\n",
            "\t\t\t\t 0.10582103580236435 0.04001953825354576\n",
            "#>>>    21.77 16.13 \t\t|\t\t 5.640000000000001\n",
            "[Feb 27, 14:08:22] 1530 0.2910392950652988\n",
            "\t\t\t\t 0.19832636415958405 0.10379713028669357\n",
            "#>>>    20.88 16.09 \t\t|\t\t 4.789999999999999\n",
            "[Feb 27, 14:08:23] 1531 0.2910503792572292\n",
            "\t\t\t\t 0.09213699400424957 0.12370405346155167\n",
            "#>>>    21.83 16.22 \t\t|\t\t 5.609999999999999\n",
            "[Feb 27, 14:08:23] 1532 0.29097516993288836\n",
            "\t\t\t\t 0.12161732465028763 0.08475375920534134\n",
            "#>>>    21.67 16.35 \t\t|\t\t 5.32\n",
            "[Feb 27, 14:08:24] 1533 0.2908905658468111\n",
            "\t\t\t\t 0.16102102398872375 0.23614946007728577\n",
            "#>>>    21.3 16.08 \t\t|\t\t 5.220000000000002\n",
            "[Feb 27, 14:08:24] 1534 0.2909968457650303\n",
            "\t\t\t\t 0.17927196621894836 0.07856789976358414\n",
            "#>>>    21.7 16.27 \t\t|\t\t 5.43\n",
            "[Feb 27, 14:08:25] 1535 0.2909636887777972\n",
            "\t\t\t\t 0.18776795268058777 0.10044241696596146\n",
            "#>>>    21.1 15.69 \t\t|\t\t 5.410000000000002\n",
            "[Feb 27, 14:08:25] 1536 0.2909609354512154\n",
            "\t\t\t\t 0.13708117604255676 0.11181016266345978\n",
            "#>>>    21.35 16.04 \t\t|\t\t 5.310000000000002\n",
            "[Feb 27, 14:08:26] 1537 0.2909188658544702\n",
            "\t\t\t\t 0.09664283692836761 0.047495655715465546\n",
            "#>>>    21.8 16.64 \t\t|\t\t 5.16\n",
            "[Feb 27, 14:08:26] 1538 0.29077208547380895\n",
            "\t\t\t\t 0.10179983079433441 0.08789362758398056\n",
            "#>>>    21.38 15.55 \t\t|\t\t 5.829999999999998\n",
            "[Feb 27, 14:08:27] 1539 0.2906710068392629\n",
            "\t\t\t\t 0.07206173241138458 0.06350095570087433\n",
            "#>>>    21.78 16.04 \t\t|\t\t 5.740000000000002\n",
            "[Feb 27, 14:08:27] 1540 0.2905158985205359\n",
            "\t\t\t\t 0.11582362651824951 0.1117396429181099\n",
            "#>>>    21.26 15.94 \t\t|\t\t 5.320000000000002\n",
            "[Feb 27, 14:08:27] 1541 0.2904529458840011\n",
            "\t\t\t\t 0.23067253828048706 0.14725172519683838\n",
            "#>>>    21.77 16.06 \t\t|\t\t 5.710000000000001\n",
            "[Feb 27, 14:08:28] 1542 0.29054041720159446\n",
            "\t\t\t\t 0.11969197541475296 0.1626065969467163\n",
            "#>>>    21.68 15.98 \t\t|\t\t 5.699999999999999\n",
            "[Feb 27, 14:08:28] 1543 0.29053217534930376\n",
            "\t\t\t\t 0.14313006401062012 0.12948977947235107\n",
            "#>>>    21.71 16.31 \t\t|\t\t 5.400000000000002\n",
            "[Feb 27, 14:08:29] 1544 0.29051426301743744\n",
            "\t\t\t\t 0.15790601074695587 0.16163687407970428\n",
            "#>>>    21.76 16.15 \t\t|\t\t 5.610000000000003\n",
            "[Feb 27, 14:08:29] 1545 0.29054329163924664\n",
            "\t\t\t\t 0.186040997505188 0.07448088377714157\n",
            "#>>>    21.42 15.93 \t\t|\t\t 5.490000000000002\n",
            "[Feb 27, 14:08:30] 1546 0.2905132702363403\n",
            "\t\t\t\t 0.18970896303653717 0.21369540691375732\n",
            "#>>>    21.36 16.1 \t\t|\t\t 5.259999999999998\n",
            "[Feb 27, 14:08:30] 1547 0.29062616132115315\n",
            "\t\t\t\t 0.23778697848320007 0.10726280510425568\n",
            "#>>>    21.58 17.01 \t\t|\t\t 4.569999999999997\n",
            "[Feb 27, 14:08:31] 1548 0.2906805849583206\n",
            "\t\t\t\t 0.10943962633609772 0.035791508853435516\n",
            "#>>>    21.93 16.23 \t\t|\t\t 5.699999999999999\n",
            "[Feb 27, 14:08:31] 1549 0.2905351355011012\n",
            "\t\t\t\t 0.11442284286022186 0.05349311977624893\n",
            "#>>>    21.89 16.3 \t\t|\t\t 5.59\n",
            "[Feb 27, 14:08:32] 1550 0.29041251633568715\n",
            "\t\t\t\t 0.07246515154838562 0.016092853620648384\n",
            "#>>>    22.26 16.27 \t\t|\t\t 5.990000000000002\n",
            "[Feb 27, 14:08:32] 1551 0.2902106618226578\n",
            "\t\t\t\t 0.04976077750325203 0.09486878663301468\n",
            "#>>>    22.13 16.48 \t\t|\t\t 5.649999999999999\n",
            "[Feb 27, 14:08:33] 1552 0.2900650807286967\n",
            "\t\t\t\t 0.1842273771762848 0.09822205454111099\n",
            "#>>>    20.94 15.46 \t\t|\t\t 5.48\n",
            "[Feb 27, 14:08:33] 1553 0.2900574650722348\n",
            "\t\t\t\t 0.14450517296791077 0.058683909475803375\n",
            "#>>>    21.68 16.14 \t\t|\t\t 5.539999999999999\n",
            "[Feb 27, 14:08:34] 1554 0.2899705966821557\n",
            "\t\t\t\t 0.21617646515369415 0.07876742631196976\n",
            "#>>>    21.68 16.57 \t\t|\t\t 5.109999999999999\n",
            "[Feb 27, 14:08:34] 1555 0.2899755699843898\n",
            "\t\t\t\t 0.10633072257041931 0.06592728942632675\n",
            "#>>>    21.67 16.49 \t\t|\t\t 5.180000000000003\n",
            "[Feb 27, 14:08:35] 1556 0.2898578524338527\n",
            "\t\t\t\t 0.13993696868419647 0.06672962009906769\n",
            "#>>>    21.81 16.42 \t\t|\t\t 5.389999999999997\n",
            "[Feb 27, 14:08:35] 1557 0.2897746611702021\n",
            "\t\t\t\t 0.1393880993127823 0.0644383355975151\n",
            "#>>>    21.77 16.55 \t\t|\t\t 5.219999999999999\n",
            "[Feb 27, 14:08:35] 1558 0.2896887129364916\n",
            "\t\t\t\t 0.1992677003145218 0.04820997640490532\n",
            "#>>>    21.81 16.42 \t\t|\t\t 5.389999999999997\n",
            "[Feb 27, 14:08:36] 1559 0.2896465019039998\n",
            "\t\t\t\t 0.13366101682186127 0.06595733016729355\n",
            "#>>>    21.95 16.43 \t\t|\t\t 5.52\n",
            "[Feb 27, 14:08:36] 1560 0.2895564737416344\n",
            "\t\t\t\t 0.20645061135292053 0.13835540413856506\n",
            "#>>>    21.73 16.75 \t\t|\t\t 4.98\n",
            "[Feb 27, 14:08:37] 1561 0.28961172328338425\n",
            "\t\t\t\t 0.11999472230672836 0.11764715611934662\n",
            "#>>>    21.8 16.03 \t\t|\t\t 5.77\n",
            "[Feb 27, 14:08:37] 1562 0.2895597534310763\n",
            "\t\t\t\t 0.14920994639396667 0.1420663744211197\n",
            "#>>>    21.29 16.18 \t\t|\t\t 5.109999999999999\n",
            "[Feb 27, 14:08:38] 1563 0.28956147001336147\n",
            "\t\t\t\t 0.10222266614437103 0.08143701404333115\n",
            "#>>>    21.75 16.29 \t\t|\t\t 5.460000000000001\n",
            "[Feb 27, 14:08:38] 1564 0.28945556821608526\n",
            "\t\t\t\t 0.07240621745586395 0.04625731706619263\n",
            "#>>>    22.08 15.71 \t\t|\t\t 6.369999999999997\n",
            "[Feb 27, 14:08:39] 1565 0.28928477618239123\n",
            "\t\t\t\t 0.11011981964111328 0.04794193431735039\n",
            "#>>>    21.95 16.97 \t\t|\t\t 4.98\n",
            "[Feb 27, 14:08:39] 1566 0.2891535531638926\n",
            "\t\t\t\t 0.11884857714176178 0.07604848593473434\n",
            "#>>>    22.02 16.06 \t\t|\t\t 5.960000000000001\n",
            "[Feb 27, 14:08:40] 1567 0.2890592966663546\n",
            "\t\t\t\t 0.09278514981269836 0.09686435759067535\n",
            "#>>>    21.63 16.07 \t\t|\t\t 5.559999999999999\n",
            "[Feb 27, 14:08:40] 1568 0.2889598868770916\n",
            "\t\t\t\t 0.20399855077266693 0.1673574298620224\n",
            "#>>>    22.01 16.77 \t\t|\t\t 5.240000000000002\n",
            "[Feb 27, 14:08:41] 1569 0.2890422829708492\n",
            "\t\t\t\t 0.16150598227977753 0.07693564891815186\n",
            "#>>>    21.83 16.79 \t\t|\t\t 5.039999999999999\n",
            "[Feb 27, 14:08:41] 1570 0.2889916823190763\n",
            "\t\t\t\t 0.14182138442993164 0.0385502353310585\n",
            "#>>>    21.76 16.8 \t\t|\t\t 4.960000000000001\n",
            "[Feb 27, 14:08:42] 1571 0.2888830622490677\n",
            "\t\t\t\t 0.13257814943790436 0.07035086303949356\n",
            "#>>>    21.7 16.02 \t\t|\t\t 5.68\n",
            "[Feb 27, 14:08:42] 1572 0.2887971082067466\n",
            "\t\t\t\t 0.10311685502529144 0.1346779465675354\n",
            "#>>>    21.87 16.15 \t\t|\t\t 5.720000000000002\n",
            "[Feb 27, 14:08:43] 1573 0.28874610590013267\n",
            "\t\t\t\t 0.16030237078666687 0.14158111810684204\n",
            "#>>>    21.72 16.34 \t\t|\t\t 5.379999999999999\n",
            "[Feb 27, 14:08:43] 1574 0.288759243283126\n",
            "\t\t\t\t 0.09635672718286514 0.0375097393989563\n",
            "#>>>    21.95 16.23 \t\t|\t\t 5.719999999999999\n",
            "[Feb 27, 14:08:43] 1575 0.2886043504989741\n",
            "\t\t\t\t 0.09280373156070709 0.039372768253088\n",
            "#>>>    21.82 15.93 \t\t|\t\t 5.890000000000001\n",
            "[Feb 27, 14:08:44] 1576 0.2884479226520142\n",
            "\t\t\t\t 0.12078922986984253 0.12562741339206696\n",
            "#>>>    21.29 16.44 \t\t|\t\t 4.849999999999998\n",
            "[Feb 27, 14:08:44] 1577 0.28840589137262407\n",
            "\t\t\t\t 0.192626953125 0.20792041718959808\n",
            "#>>>    21.22 16.27 \t\t|\t\t 4.949999999999999\n",
            "[Feb 27, 14:08:45] 1578 0.2885180328664672\n",
            "\t\t\t\t 0.1631343960762024 0.09251084178686142\n",
            "#>>>    21.75 16.22 \t\t|\t\t 5.530000000000001\n",
            "[Feb 27, 14:08:45] 1579 0.2884851600789144\n",
            "\t\t\t\t 0.14616316556930542 0.0631256178021431\n",
            "#>>>    21.68 16.68 \t\t|\t\t 5.0\n",
            "[Feb 27, 14:08:46] 1580 0.28840596369475635\n",
            "\t\t\t\t 0.1844584345817566 0.07198120653629303\n",
            "#>>>    21.86 16.25 \t\t|\t\t 5.609999999999999\n",
            "[Feb 27, 14:08:46] 1581 0.2883739973572785\n",
            "\t\t\t\t 0.10065709054470062 0.08393555879592896\n",
            "#>>>    21.63 15.45 \t\t|\t\t 6.18\n",
            "[Feb 27, 14:08:47] 1582 0.28827021600926184\n",
            "\t\t\t\t 0.14438016712665558 0.029656821861863136\n",
            "#>>>    21.84 16.1 \t\t|\t\t 5.739999999999998\n",
            "[Feb 27, 14:08:47] 1583 0.28815598278782906\n",
            "\t\t\t\t 0.21461772918701172 0.1788112223148346\n",
            "#>>>    21.74 16.24 \t\t|\t\t 5.5\n",
            "[Feb 27, 14:08:48] 1584 0.2882612557565431\n",
            "\t\t\t\t 0.07025063037872314 0.04977457970380783\n",
            "#>>>    21.8 15.76 \t\t|\t\t 6.040000000000001\n",
            "[Feb 27, 14:08:48] 1585 0.2880930197108691\n",
            "\t\t\t\t 0.21055015921592712 0.18723730742931366\n",
            "#>>>    21.21 16.08 \t\t|\t\t 5.130000000000003\n",
            "[Feb 27, 14:08:49] 1586 0.28820271414290227\n",
            "\t\t\t\t 0.0771792009472847 0.05934400111436844\n",
            "#>>>    21.83 16.11 \t\t|\t\t 5.719999999999999\n",
            "[Feb 27, 14:08:49] 1587 0.288051034630821\n",
            "\t\t\t\t 0.2020382285118103 0.08650891482830048\n",
            "#>>>    21.05 16.24 \t\t|\t\t 4.810000000000002\n",
            "[Feb 27, 14:08:50] 1588 0.28805153075443146\n",
            "\t\t\t\t 0.08453966677188873 0.03865906223654747\n",
            "#>>>    21.67 16.27 \t\t|\t\t 5.400000000000002\n",
            "[Feb 27, 14:08:50] 1589 0.28788667795641076\n",
            "\t\t\t\t 0.14153066277503967 0.25179171562194824\n",
            "#>>>    21.03 15.78 \t\t|\t\t 5.250000000000002\n",
            "[Feb 27, 14:08:51] 1590 0.28799211365685135\n",
            "\t\t\t\t 0.13480404019355774 0.12412023544311523\n",
            "#>>>    21.65 16.74 \t\t|\t\t 4.91\n",
            "[Feb 27, 14:08:51] 1591 0.28796304581883114\n",
            "\t\t\t\t 0.1211344450712204 0.05825408548116684\n",
            "#>>>    22.0 16.58 \t\t|\t\t 5.420000000000002\n",
            "[Feb 27, 14:08:51] 1592 0.2878544712961141\n",
            "\t\t\t\t 0.1756940484046936 0.1328747272491455\n",
            "#>>>    21.07 16.36 \t\t|\t\t 4.710000000000001\n",
            "[Feb 27, 14:08:52] 1593 0.2878751856004718\n",
            "\t\t\t\t 0.1297590583562851 0.07532141357660294\n",
            "#>>>    21.18 16.01 \t\t|\t\t 5.169999999999998\n",
            "[Feb 27, 14:08:52] 1594 0.2877923908942548\n",
            "\t\t\t\t 0.06720113009214401 0.03698671609163284\n",
            "#>>>    22.3 16.05 \t\t|\t\t 6.25\n",
            "[Feb 27, 14:08:53] 1595 0.2876087863495443\n",
            "\t\t\t\t 0.13137570023536682 0.08693315833806992\n",
            "#>>>    21.76 16.46 \t\t|\t\t 5.300000000000001\n",
            "[Feb 27, 14:08:53] 1596 0.2875394864292188\n",
            "\t\t\t\t 0.0698571428656578 0.08550974726676941\n",
            "#>>>    21.89 15.97 \t\t|\t\t 5.92\n",
            "[Feb 27, 14:08:54] 1597 0.28740731384037255\n",
            "\t\t\t\t 0.15744420886039734 0.12142674624919891\n",
            "#>>>    21.35 16.25 \t\t|\t\t 5.100000000000001\n",
            "[Feb 27, 14:08:54] 1598 0.28739877746674064\n",
            "\t\t\t\t 0.23678258061408997 0.10972709953784943\n",
            "#>>>    21.12 16.13 \t\t|\t\t 4.990000000000002\n",
            "[Feb 27, 14:08:55] 1599 0.287457888384327\n",
            "\t\t\t\t 0.2159796953201294 0.0938367247581482\n",
            "#>>>    21.59 15.73 \t\t|\t\t 5.859999999999999\n",
            "[Feb 27, 14:08:55] 1600 0.287480246916021\n",
            "\t\t\t\t 0.215371236205101 0.1411120891571045\n",
            "#>>>    21.43 16.54 \t\t|\t\t 4.890000000000001\n",
            "[Feb 27, 14:08:56] 1601 0.2875492500093684\n",
            "\t\t\t\t 0.19853830337524414 0.14737153053283691\n",
            "#>>>    21.48 16.55 \t\t|\t\t 4.93\n",
            "[Feb 27, 14:08:56] 1602 0.2876076105932671\n",
            "\t\t\t\t 0.1322491466999054 0.14991649985313416\n",
            "#>>>    21.2 15.75 \t\t|\t\t 5.449999999999999\n",
            "[Feb 27, 14:08:57] 1603 0.2876021686292269\n",
            "\t\t\t\t 0.13757452368736267 0.11553556472063065\n",
            "#>>>    21.63 16.3 \t\t|\t\t 5.329999999999998\n",
            "[Feb 27, 14:08:57] 1604 0.2875676765415551\n",
            "\t\t\t\t 0.13537940382957458 0.11389631032943726\n",
            "#>>>    21.75 16.04 \t\t|\t\t 5.710000000000001\n",
            "[Feb 27, 14:08:58] 1605 0.28752938457917254\n",
            "\t\t\t\t 0.12246817350387573 0.04063751921057701\n",
            "#>>>    21.92 16.25 \t\t|\t\t 5.670000000000002\n",
            "[Feb 27, 14:08:58] 1606 0.2874049608910331\n",
            "\t\t\t\t 0.12952777743339539 0.11510615795850754\n",
            "#>>>    21.42 16.07 \t\t|\t\t 5.350000000000001\n",
            "[Feb 27, 14:08:59] 1607 0.28736218987298456\n",
            "\t\t\t\t 0.17985716462135315 0.2153773158788681\n",
            "#>>>    21.34 15.82 \t\t|\t\t 5.52\n",
            "[Feb 27, 14:08:59] 1608 0.2874700621487107\n",
            "\t\t\t\t 0.1228276789188385 0.12489710003137589\n",
            "#>>>    21.84 16.38 \t\t|\t\t 5.460000000000001\n",
            "[Feb 27, 14:08:59] 1609 0.28743031685806164\n",
            "\t\t\t\t 0.1717650294303894 0.11918032169342041\n",
            "#>>>    21.72 16.86 \t\t|\t\t 4.859999999999999\n",
            "[Feb 27, 14:09:00] 1610 0.28743383189232735\n",
            "\t\t\t\t 0.08298833668231964 0.05828721448779106\n",
            "#>>>    21.89 16.43 \t\t|\t\t 5.460000000000001\n",
            "[Feb 27, 14:09:00] 1611 0.2872876736153304\n",
            "\t\t\t\t 0.09905429929494858 0.053224191069602966\n",
            "#>>>    22.32 16.94 \t\t|\t\t 5.379999999999999\n",
            "[Feb 27, 14:09:01] 1612 0.28715266442462906\n",
            "\t\t\t\t 0.30650243163108826 0.2261267900466919\n",
            "#>>>    21.16 16.35 \t\t|\t\t 4.809999999999999\n",
            "[Feb 27, 14:09:01] 1613 0.28739814101168454\n",
            "\t\t\t\t 0.08471046388149261 0.06785035133361816\n",
            "#>>>    21.82 16.33 \t\t|\t\t 5.490000000000002\n",
            "[Feb 27, 14:09:02] 1614 0.2872633036858879\n",
            "\t\t\t\t 0.11003594100475311 0.1771613359451294\n",
            "#>>>    21.45 16.43 \t\t|\t\t 5.02\n",
            "[Feb 27, 14:09:02] 1615 0.2872632376740531\n",
            "\t\t\t\t 0.14776961505413055 0.1026710644364357\n",
            "#>>>    21.47 16.04 \t\t|\t\t 5.43\n",
            "[Feb 27, 14:09:03] 1616 0.2872264151233202\n",
            "\t\t\t\t 0.09193827211856842 0.0387178398668766\n",
            "#>>>    21.67 16.21 \t\t|\t\t 5.460000000000001\n",
            "[Feb 27, 14:09:03] 1617 0.28706984481645703\n",
            "\t\t\t\t 0.15694430470466614 0.10849494487047195\n",
            "#>>>    21.8 16.58 \t\t|\t\t 5.220000000000002\n",
            "[Feb 27, 14:09:04] 1618 0.28704821421376514\n",
            "\t\t\t\t 0.24652132391929626 0.14371377229690552\n",
            "#>>>    21.97 16.26 \t\t|\t\t 5.709999999999997\n",
            "[Feb 27, 14:09:04] 1619 0.2871514010957676\n",
            "\t\t\t\t 0.20230509340763092 0.11909414827823639\n",
            "#>>>    21.4 16.15 \t\t|\t\t 5.25\n",
            "[Feb 27, 14:09:05] 1620 0.28718564893635773\n",
            "\t\t\t\t 0.0837501585483551 0.08364557474851608\n",
            "#>>>    21.51 15.67 \t\t|\t\t 5.840000000000002\n",
            "[Feb 27, 14:09:05] 1621 0.28706585902816883\n",
            "\t\t\t\t 0.12800493836402893 0.11521470546722412\n",
            "#>>>    21.91 16.3 \t\t|\t\t 5.609999999999999\n",
            "[Feb 27, 14:09:06] 1622 0.2870220128129719\n",
            "\t\t\t\t 0.13734477758407593 0.0493677482008934\n",
            "#>>>    21.89 16.59 \t\t|\t\t 5.300000000000001\n",
            "[Feb 27, 14:09:06] 1623 0.28692170333339445\n",
            "\t\t\t\t 0.1624397337436676 0.16679461300373077\n",
            "#>>>    21.43 15.92 \t\t|\t\t 5.51\n",
            "[Feb 27, 14:09:07] 1624 0.2869640159917096\n",
            "\t\t\t\t 0.27168095111846924 0.2529994547367096\n",
            "#>>>    21.1 16.24 \t\t|\t\t 4.860000000000003\n",
            "[Feb 27, 14:09:07] 1625 0.28720173235177077\n",
            "\t\t\t\t 0.17421336472034454 0.07388821989297867\n",
            "#>>>    22.05 16.33 \t\t|\t\t 5.720000000000002\n",
            "[Feb 27, 14:09:07] 1626 0.2871626322114829\n",
            "\t\t\t\t 0.0971299409866333 0.2153378576040268\n",
            "#>>>    21.25 15.79 \t\t|\t\t 5.460000000000001\n",
            "[Feb 27, 14:09:08] 1627 0.28718793739276327\n",
            "\t\t\t\t 0.13597224652767181 0.1180245578289032\n",
            "#>>>    20.9 15.83 \t\t|\t\t 5.0699999999999985\n",
            "[Feb 27, 14:09:08] 1628 0.28715474624482595\n",
            "\t\t\t\t 0.18782293796539307 0.12623076140880585\n",
            "#>>>    21.34 16.31 \t\t|\t\t 5.030000000000001\n",
            "[Feb 27, 14:09:09] 1629 0.2871816452128565\n",
            "\t\t\t\t 0.1961059868335724 0.12495949864387512\n",
            "#>>>    21.35 16.62 \t\t|\t\t 4.73\n",
            "[Feb 27, 14:09:09] 1630 0.2872155290531211\n",
            "\t\t\t\t 0.06960584968328476 0.1441902220249176\n",
            "#>>>    21.96 16.22 \t\t|\t\t 5.740000000000002\n",
            "[Feb 27, 14:09:10] 1631 0.2871421096032267\n",
            "\t\t\t\t 0.12994179129600525 0.16201280057430267\n",
            "#>>>    21.55 15.96 \t\t|\t\t 5.59\n",
            "[Feb 27, 14:09:10] 1632 0.2871469220705926\n",
            "\t\t\t\t 0.21822677552700043 0.14957867562770844\n",
            "#>>>    21.39 16.45 \t\t|\t\t 4.940000000000001\n",
            "[Feb 27, 14:09:11] 1633 0.28722758059967674\n",
            "\t\t\t\t 0.1616280972957611 0.2176787406206131\n",
            "#>>>    21.21 15.47 \t\t|\t\t 5.74\n",
            "[Feb 27, 14:09:11] 1634 0.2873196598718946\n",
            "\t\t\t\t 0.12723809480667114 0.050231460481882095\n",
            "#>>>    21.69 16.3 \t\t|\t\t 5.390000000000001\n",
            "[Feb 27, 14:09:12] 1635 0.287209809763586\n",
            "\t\t\t\t 0.11413366347551346 0.15594607591629028\n",
            "#>>>    21.97 16.84 \t\t|\t\t 5.129999999999999\n",
            "[Feb 27, 14:09:12] 1636 0.2871926796857636\n",
            "\t\t\t\t 0.09782075881958008 0.049274176359176636\n",
            "#>>>    21.45 15.98 \t\t|\t\t 5.469999999999999\n",
            "[Feb 27, 14:09:13] 1637 0.28705258194125666\n",
            "\t\t\t\t 0.06596487760543823 0.05283135175704956\n",
            "#>>>    22.11 16.82 \t\t|\t\t 5.289999999999999\n",
            "[Feb 27, 14:09:13] 1638 0.2868843255886779\n",
            "\t\t\t\t 0.07305246591567993 0.048157498240470886\n",
            "#>>>    21.73 15.72 \t\t|\t\t 6.01\n",
            "[Feb 27, 14:09:14] 1639 0.2867186512272454\n",
            "\t\t\t\t 0.12237823754549026 0.13702328503131866\n",
            "#>>>    21.67 16.05 \t\t|\t\t 5.620000000000001\n",
            "[Feb 27, 14:09:14] 1640 0.2866913341060455\n",
            "\t\t\t\t 0.07557651400566101 0.11523845046758652\n",
            "#>>>    21.42 16.14 \t\t|\t\t 5.280000000000001\n",
            "[Feb 27, 14:09:15] 1641 0.2865954577438633\n",
            "\t\t\t\t 0.1749618649482727 0.1650204211473465\n",
            "#>>>    21.19 16.36 \t\t|\t\t 4.830000000000002\n",
            "[Feb 27, 14:09:15] 1642 0.28664884455731393\n",
            "\t\t\t\t 0.1387695074081421 0.07105499505996704\n",
            "#>>>    21.77 16.31 \t\t|\t\t 5.460000000000001\n",
            "[Feb 27, 14:09:15] 1643 0.2865720202152247\n",
            "\t\t\t\t 0.08068366348743439 0.151767298579216\n",
            "#>>>    22.11 16.49 \t\t|\t\t 5.620000000000001\n",
            "[Feb 27, 14:09:16] 1644 0.28651789915707615\n",
            "\t\t\t\t 0.10039441287517548 0.12898555397987366\n",
            "#>>>    21.29 15.84 \t\t|\t\t 5.449999999999999\n",
            "[Feb 27, 14:09:16] 1645 0.28646076122477415\n",
            "\t\t\t\t 0.11418958008289337 0.12779618799686432\n",
            "#>>>    21.43 16.33 \t\t|\t\t 5.100000000000001\n",
            "[Feb 27, 14:09:17] 1646 0.2864162862316291\n",
            "\t\t\t\t 0.17856332659721375 0.09948206692934036\n",
            "#>>>    21.92 16.39 \t\t|\t\t 5.530000000000001\n",
            "[Feb 27, 14:09:17] 1647 0.2864079153314735\n",
            "\t\t\t\t 0.1500513106584549 0.18275047838687897\n",
            "#>>>    21.34 16.46 \t\t|\t\t 4.879999999999999\n",
            "[Feb 27, 14:09:18] 1648 0.28645430920518733\n",
            "\t\t\t\t 0.12487111240625381 0.054365988820791245\n",
            "#>>>    21.53 16.25 \t\t|\t\t 5.280000000000001\n",
            "[Feb 27, 14:09:18] 1649 0.28634709199348385\n",
            "\t\t\t\t 0.101828433573246 0.07880257070064545\n",
            "#>>>    21.81 16.16 \t\t|\t\t 5.649999999999999\n",
            "[Feb 27, 14:09:19] 1650 0.28624137591321486\n",
            "\t\t\t\t 0.16720148921012878 0.13671453297138214\n",
            "#>>>    21.7 16.58 \t\t|\t\t 5.120000000000001\n",
            "[Feb 27, 14:09:19] 1651 0.28625905057438433\n",
            "\t\t\t\t 0.05818329378962517 0.10703082382678986\n",
            "#>>>    21.8 16.29 \t\t|\t\t 5.510000000000002\n",
            "[Feb 27, 14:09:20] 1652 0.2861380056451516\n",
            "\t\t\t\t 0.17950314283370972 0.13462863862514496\n",
            "#>>>    21.76 16.05 \t\t|\t\t 5.710000000000001\n",
            "[Feb 27, 14:09:20] 1653 0.2861659994358665\n",
            "\t\t\t\t 0.10252916812896729 0.12905216217041016\n",
            "#>>>    21.41 15.69 \t\t|\t\t 5.720000000000001\n",
            "[Feb 27, 14:09:21] 1654 0.28611141476673\n",
            "\t\t\t\t 0.11246779561042786 0.054647307842969894\n",
            "#>>>    21.92 16.36 \t\t|\t\t 5.560000000000002\n",
            "[Feb 27, 14:09:21] 1655 0.285992418459142\n",
            "\t\t\t\t 0.2386021912097931 0.1858290135860443\n",
            "#>>>    20.96 16.59 \t\t|\t\t 4.370000000000001\n",
            "[Feb 27, 14:09:22] 1656 0.28613085724547865\n",
            "\t\t\t\t 0.07336042821407318 0.12811356782913208\n",
            "#>>>    21.91 16.16 \t\t|\t\t 5.75\n",
            "[Feb 27, 14:09:22] 1657 0.28604620038427636\n",
            "\t\t\t\t 0.10892930626869202 0.16148503124713898\n",
            "#>>>    21.92 16.21 \t\t|\t\t 5.710000000000001\n",
            "[Feb 27, 14:09:23] 1658 0.2860305685363091\n",
            "\t\t\t\t 0.178062304854393 0.10983265936374664\n",
            "#>>>    21.5 15.63 \t\t|\t\t 5.869999999999999\n",
            "[Feb 27, 14:09:23] 1659 0.28603243293199093\n",
            "\t\t\t\t 0.1364002227783203 0.2012442648410797\n",
            "#>>>    21.29 16.48 \t\t|\t\t 4.809999999999999\n",
            "[Feb 27, 14:09:23] 1660 0.28608404498667833\n",
            "\t\t\t\t 0.16589277982711792 0.05459293723106384\n",
            "#>>>    21.46 15.81 \t\t|\t\t 5.65\n",
            "[Feb 27, 14:09:24] 1661 0.2860184466587498\n",
            "\t\t\t\t 0.15117543935775757 0.11201606690883636\n",
            "#>>>    21.21 16.45 \t\t|\t\t 4.760000000000002\n",
            "[Feb 27, 14:09:24] 1662 0.2859956197332588\n",
            "\t\t\t\t 0.16090120375156403 0.11823221296072006\n",
            "#>>>    21.46 16.5 \t\t|\t\t 4.960000000000001\n",
            "[Feb 27, 14:09:25] 1663 0.2859887575227873\n",
            "\t\t\t\t 0.13636514544487 0.12483225017786026\n",
            "#>>>    22.28 16.46 \t\t|\t\t 5.82\n",
            "[Feb 27, 14:09:25] 1664 0.28596396615343667\n",
            "\t\t\t\t 0.12140332162380219 0.17936041951179504\n",
            "#>>>    21.62 15.91 \t\t|\t\t 5.710000000000001\n",
            "[Feb 27, 14:09:26] 1665 0.2859787659135177\n",
            "\t\t\t\t 0.14778152108192444 0.07643543183803558\n",
            "#>>>    21.84 16.89 \t\t|\t\t 4.949999999999999\n",
            "[Feb 27, 14:09:26] 1666 0.2859170041005241\n",
            "\t\t\t\t 0.18123088777065277 0.06525357812643051\n",
            "#>>>    21.94 17.08 \t\t|\t\t 4.860000000000003\n",
            "[Feb 27, 14:09:27] 1667 0.2858775715548701\n",
            "\t\t\t\t 0.19027429819107056 0.2304862141609192\n",
            "#>>>    21.33 16.38 \t\t|\t\t 4.949999999999999\n",
            "[Feb 27, 14:09:27] 1668 0.28601245449566726\n",
            "\t\t\t\t 0.18526610732078552 0.1331387758255005\n",
            "#>>>    21.35 16.23 \t\t|\t\t 5.120000000000001\n",
            "[Feb 27, 14:09:28] 1669 0.28604484692431786\n",
            "\t\t\t\t 0.2168872356414795 0.13285908102989197\n",
            "#>>>    21.73 16.35 \t\t|\t\t 5.379999999999999\n",
            "[Feb 27, 14:09:28] 1670 0.28610854839406497\n",
            "\t\t\t\t 0.07487316429615021 0.07301805168390274\n",
            "#>>>    21.74 15.9 \t\t|\t\t 5.839999999999998\n",
            "[Feb 27, 14:09:29] 1671 0.2859703310691015\n",
            "\t\t\t\t 0.09695155173540115 0.03002253547310829\n",
            "#>>>    22.25 16.56 \t\t|\t\t 5.690000000000001\n",
            "[Feb 27, 14:09:29] 1672 0.28581133482896626\n",
            "\t\t\t\t 0.13273000717163086 0.07628942281007767\n",
            "#>>>    21.83 16.14 \t\t|\t\t 5.689999999999998\n",
            "[Feb 27, 14:09:30] 1673 0.28573454291666844\n",
            "\t\t\t\t 0.12510451674461365 0.03160184621810913\n",
            "#>>>    21.75 16.79 \t\t|\t\t 4.960000000000001\n",
            "[Feb 27, 14:09:30] 1674 0.28560551473671447\n",
            "\t\t\t\t 0.1827612817287445 0.03317835181951523\n",
            "#>>>    21.67 16.77 \t\t|\t\t 4.900000000000002\n",
            "[Feb 27, 14:09:31] 1675 0.2855358488629766\n",
            "\t\t\t\t 0.09416911751031876 0.08494826406240463\n",
            "#>>>    21.67 16.28 \t\t|\t\t 5.390000000000001\n",
            "[Feb 27, 14:09:31] 1676 0.28542943039568636\n",
            "\t\t\t\t 0.1925150752067566 0.08886454254388809\n",
            "#>>>    21.69 16.29 \t\t|\t\t 5.400000000000002\n",
            "[Feb 27, 14:09:31] 1677 0.28542538057559075\n",
            "\t\t\t\t 0.17997637391090393 0.07626865059137344\n",
            "#>>>    21.64 16.48 \t\t|\t\t 5.16\n",
            "[Feb 27, 14:09:32] 1678 0.28539620021206685\n",
            "\t\t\t\t 0.15065494179725647 0.13990063965320587\n",
            "#>>>    21.31 16.06 \t\t|\t\t 5.25\n",
            "[Feb 27, 14:09:32] 1679 0.2854013596082064\n",
            "\t\t\t\t 0.13648343086242676 0.08178629726171494\n",
            "#>>>    22.0 16.79 \t\t|\t\t 5.210000000000001\n",
            "[Feb 27, 14:09:33] 1680 0.2853342279841729\n",
            "\t\t\t\t 0.12471508234739304 0.10312538594007492\n",
            "#>>>    21.24 15.97 \t\t|\t\t 5.269999999999998\n",
            "[Feb 27, 14:09:33] 1681 0.2852767342244762\n",
            "\t\t\t\t 0.0679965615272522 0.03024435229599476\n",
            "#>>>    21.78 15.95 \t\t|\t\t 5.830000000000002\n",
            "[Feb 27, 14:09:34] 1682 0.2850896984022123\n",
            "\t\t\t\t 0.09633749723434448 0.06996116787195206\n",
            "#>>>    21.35 16.32 \t\t|\t\t 5.030000000000001\n",
            "[Feb 27, 14:09:34] 1683 0.28497090736146585\n",
            "\t\t\t\t 0.08587995171546936 0.0878242775797844\n",
            "#>>>    21.75 16.35 \t\t|\t\t 5.399999999999999\n",
            "[Feb 27, 14:09:35] 1684 0.28485964069085024\n",
            "\t\t\t\t 0.16837060451507568 0.1328708976507187\n",
            "#>>>    21.51 16.55 \t\t|\t\t 4.960000000000001\n",
            "[Feb 27, 14:09:35] 1685 0.28487602256722633\n",
            "\t\t\t\t 0.10736227035522461 0.09668582677841187\n",
            "#>>>    21.51 15.99 \t\t|\t\t 5.520000000000001\n",
            "[Feb 27, 14:09:36] 1686 0.28479519464179276\n",
            "\t\t\t\t 0.12950903177261353 0.049983102828264236\n",
            "#>>>    21.8 15.95 \t\t|\t\t 5.850000000000001\n",
            "[Feb 27, 14:09:36] 1687 0.28468989157802654\n",
            "\t\t\t\t 0.08811593800783157 0.04845874011516571\n",
            "#>>>    21.82 16.47 \t\t|\t\t 5.350000000000001\n",
            "[Feb 27, 14:09:37] 1688 0.2845417763720221\n",
            "\t\t\t\t 0.08640241622924805 0.05882774293422699\n",
            "#>>>    21.51 16.17 \t\t|\t\t 5.34\n",
            "[Feb 27, 14:09:37] 1689 0.2844024647548135\n",
            "\t\t\t\t 0.18411578238010406 0.08909241110086441\n",
            "#>>>    21.88 16.25 \t\t|\t\t 5.629999999999999\n",
            "[Feb 27, 14:09:38] 1690 0.2843912704909903\n",
            "\t\t\t\t 0.15096032619476318 0.08001196384429932\n",
            "#>>>    21.69 16.15 \t\t|\t\t 5.540000000000003\n",
            "[Feb 27, 14:09:38] 1691 0.2843378515105383\n",
            "\t\t\t\t 0.17268690466880798 0.04929700493812561\n",
            "#>>>    21.83 16.81 \t\t|\t\t 5.02\n",
            "[Feb 27, 14:09:39] 1692 0.2842754975686347\n",
            "\t\t\t\t 0.1107148826122284 0.050450749695301056\n",
            "#>>>    21.83 16.0 \t\t|\t\t 5.829999999999998\n",
            "[Feb 27, 14:09:39] 1693 0.284152387695923\n",
            "\t\t\t\t 0.12639078497886658 0.08666432648897171\n",
            "#>>>    21.8 16.64 \t\t|\t\t 5.16\n",
            "[Feb 27, 14:09:39] 1694 0.28408129041224434\n",
            "\t\t\t\t 0.14294882118701935 0.1805151402950287\n",
            "#>>>    21.55 15.85 \t\t|\t\t 5.700000000000001\n",
            "[Feb 27, 14:09:40] 1695 0.2841206730982153\n",
            "\t\t\t\t 0.145517498254776 0.01851654425263405\n",
            "#>>>    22.08 16.83 \t\t|\t\t 5.25\n",
            "[Feb 27, 14:09:40] 1696 0.2840005864638992\n",
            "\t\t\t\t 0.17026923596858978 0.09398501366376877\n",
            "#>>>    21.56 16.72 \t\t|\t\t 4.84\n",
            "[Feb 27, 14:09:41] 1697 0.2839808401196171\n",
            "\t\t\t\t 0.08972199261188507 0.024803834035992622\n",
            "#>>>    22.11 16.07 \t\t|\t\t 6.039999999999999\n",
            "[Feb 27, 14:09:41] 1698 0.2838113851042827\n",
            "\t\t\t\t 0.1455318033695221 0.17698588967323303\n",
            "#>>>    21.98 15.69 \t\t|\t\t 6.290000000000001\n",
            "[Feb 27, 14:09:42] 1699 0.2838500914122212\n",
            "\t\t\t\t 0.18736037611961365 0.030072415247559547\n",
            "#>>>    21.67 16.83 \t\t|\t\t 4.840000000000003\n",
            "[Feb 27, 14:09:42] 1700 0.28378367411776406\n",
            "\t\t\t\t 0.1643456518650055 0.08609660714864731\n",
            "#>>>    21.68 16.65 \t\t|\t\t 5.030000000000001\n",
            "[Feb 27, 14:09:43] 1701 0.2837503327101106\n",
            "\t\t\t\t 0.11487645655870438 0.10838068276643753\n",
            "#>>>    21.33 16.18 \t\t|\t\t 5.149999999999999\n",
            "[Feb 27, 14:09:43] 1702 0.2836898395167256\n",
            "\t\t\t\t 0.12320137023925781 0.06626567244529724\n",
            "#>>>    22.25 16.43 \t\t|\t\t 5.82\n",
            "[Feb 27, 14:09:44] 1703 0.2835956167198935\n",
            "\t\t\t\t 0.05356115475296974 0.10104300826787949\n",
            "#>>>    21.57 15.61 \t\t|\t\t 5.960000000000001\n",
            "[Feb 27, 14:09:44] 1704 0.2834666252699197\n",
            "\t\t\t\t 0.0829663872718811 0.08889277279376984\n",
            "#>>>    21.72 16.39 \t\t|\t\t 5.329999999999998\n",
            "[Feb 27, 14:09:45] 1705 0.28335501780471545\n",
            "\t\t\t\t 0.15714766085147858 0.07457423210144043\n",
            "#>>>    21.49 16.35 \t\t|\t\t 5.139999999999997\n",
            "[Feb 27, 14:09:45] 1706 0.2833033846798636\n",
            "\t\t\t\t 0.13386887311935425 0.17072409391403198\n",
            "#>>>    21.64 16.17 \t\t|\t\t 5.469999999999999\n",
            "[Feb 27, 14:09:46] 1707 0.28332467426221714\n",
            "\t\t\t\t 0.06060390919446945 0.018895236775279045\n",
            "#>>>    21.75 16.27 \t\t|\t\t 5.48\n",
            "[Feb 27, 14:09:46] 1708 0.2831208487357873\n",
            "\t\t\t\t 0.10410869866609573 0.09045781195163727\n",
            "#>>>    21.61 16.35 \t\t|\t\t 5.259999999999998\n",
            "[Feb 27, 14:09:47] 1709 0.28303229440511984\n",
            "\t\t\t\t 0.11498461663722992 0.03162894770503044\n",
            "#>>>    22.18 16.98 \t\t|\t\t 5.199999999999999\n",
            "[Feb 27, 14:09:47] 1710 0.28289587567878227\n",
            "\t\t\t\t 0.14792227745056152 0.09731388837099075\n",
            "#>>>    21.47 16.37 \t\t|\t\t 5.099999999999998\n",
            "[Feb 27, 14:09:47] 1711 0.2828582159614745\n",
            "\t\t\t\t 0.2189306616783142 0.11763503402471542\n",
            "#>>>    21.9 15.95 \t\t|\t\t 5.949999999999999\n",
            "[Feb 27, 14:09:48] 1712 0.2829119234486666\n",
            "\t\t\t\t 0.4109867215156555 0.32638290524482727\n",
            "#>>>    21.13 16.12 \t\t|\t\t 5.009999999999998\n",
            "[Feb 27, 14:09:48] 1713 0.28336638118178076\n",
            "\t\t\t\t 0.2140858918428421 0.12789909541606903\n",
            "#>>>    21.4 16.63 \t\t|\t\t 4.77\n",
            "[Feb 27, 14:09:49] 1714 0.2834249997878579\n",
            "\t\t\t\t 0.22078783810138702 0.14409150183200836\n",
            "#>>>    21.38 16.0 \t\t|\t\t 5.379999999999999\n",
            "[Feb 27, 14:09:49] 1715 0.28350645412800346\n",
            "\t\t\t\t 0.07220908999443054 0.07149239629507065\n",
            "#>>>    21.74 15.81 \t\t|\t\t 5.929999999999998\n",
            "[Feb 27, 14:09:50] 1716 0.28336664916761556\n",
            "\t\t\t\t 0.19333045184612274 0.13812807202339172\n",
            "#>>>    21.6 16.82 \t\t|\t\t 4.780000000000001\n",
            "[Feb 27, 14:09:50] 1717 0.2834147410274163\n",
            "\t\t\t\t 0.1707618236541748 0.1529635637998581\n",
            "#>>>    21.77 16.6 \t\t|\t\t 5.169999999999998\n",
            "[Feb 27, 14:09:51] 1718 0.2834550516887441\n",
            "\t\t\t\t 0.18362267315387726 0.13292735815048218\n",
            "#>>>    21.35 15.71 \t\t|\t\t 5.640000000000001\n",
            "[Feb 27, 14:09:51] 1719 0.2834881466534585\n",
            "\t\t\t\t 0.16962110996246338 0.1709577888250351\n",
            "#>>>    21.64 15.75 \t\t|\t\t 5.890000000000001\n",
            "[Feb 27, 14:09:52] 1720 0.2835452374204937\n",
            "\t\t\t\t 0.16121000051498413 0.09850506484508514\n",
            "#>>>    21.87 16.44 \t\t|\t\t 5.43\n",
            "[Feb 27, 14:09:52] 1721 0.28352140726333447\n",
            "\t\t\t\t 0.17223282158374786 0.11893931031227112\n",
            "#>>>    21.73 16.52 \t\t|\t\t 5.210000000000001\n",
            "[Feb 27, 14:09:53] 1722 0.2835290580028683\n",
            "\t\t\t\t 0.24141956865787506 0.14455267786979675\n",
            "#>>>    20.98 16.32 \t\t|\t\t 4.66\n",
            "[Feb 27, 14:09:53] 1723 0.28363150120629427\n",
            "\t\t\t\t 0.10823863744735718 0.07893925160169601\n",
            "#>>>    21.89 15.93 \t\t|\t\t 5.960000000000001\n",
            "[Feb 27, 14:09:54] 1724 0.2835350476015876\n",
            "\t\t\t\t 0.2567572593688965 0.181491881608963\n",
            "#>>>    21.53 16.15 \t\t|\t\t 5.380000000000003\n",
            "[Feb 27, 14:09:54] 1725 0.28368976169496385\n",
            "\t\t\t\t 0.04547525942325592 0.11105866730213165\n",
            "#>>>    21.83 15.72 \t\t|\t\t 6.109999999999998\n",
            "[Feb 27, 14:09:55] 1726 0.28356260585999427\n",
            "\t\t\t\t 0.1256859004497528 0.1294236034154892\n",
            "#>>>    21.75 16.38 \t\t|\t\t 5.370000000000001\n",
            "[Feb 27, 14:09:55] 1727 0.28353415274309834\n",
            "\t\t\t\t 0.09279784560203552 0.06390321999788284\n",
            "#>>>    21.61 16.24 \t\t|\t\t 5.370000000000001\n",
            "[Feb 27, 14:09:55] 1728 0.2834073196485046\n",
            "\t\t\t\t 0.12244901806116104 0.19665220379829407\n",
            "#>>>    21.99 16.38 \t\t|\t\t 5.609999999999999\n",
            "[Feb 27, 14:09:56] 1729 0.28344301354326495\n",
            "\t\t\t\t 0.12123619019985199 0.10388125479221344\n",
            "#>>>    21.84 16.12 \t\t|\t\t 5.719999999999999\n",
            "[Feb 27, 14:09:56] 1730 0.2833846879747137\n",
            "\t\t\t\t 0.12976214289665222 0.14188361167907715\n",
            "#>>>    21.45 16.39 \t\t|\t\t 5.059999999999999\n",
            "[Feb 27, 14:09:57] 1731 0.2833729490413147\n",
            "\t\t\t\t 0.08766823261976242 0.08127280324697495\n",
            "#>>>    21.53 16.09 \t\t|\t\t 5.440000000000001\n",
            "[Feb 27, 14:09:57] 1732 0.28325851712814015\n",
            "\t\t\t\t 0.18731611967086792 0.13960300385951996\n",
            "#>>>    21.41 15.92 \t\t|\t\t 5.49\n",
            "[Feb 27, 14:09:58] 1733 0.28330217774944355\n",
            "\t\t\t\t 0.14328059554100037 0.09926606714725494\n",
            "#>>>    22.13 16.58 \t\t|\t\t 5.550000000000001\n",
            "[Feb 27, 14:09:58] 1734 0.28326142223438233\n",
            "\t\t\t\t 0.18232662975788116 0.11347546428442001\n",
            "#>>>    21.45 16.39 \t\t|\t\t 5.059999999999999\n",
            "[Feb 27, 14:09:59] 1735 0.2832739628987397\n",
            "\t\t\t\t 0.09555976092815399 0.05732668936252594\n",
            "#>>>    22.05 16.93 \t\t|\t\t 5.120000000000001\n",
            "[Feb 27, 14:09:59] 1736 0.2831435753861316\n",
            "\t\t\t\t 0.06280971318483353 0.04076595604419708\n",
            "#>>>    21.66 15.92 \t\t|\t\t 5.74\n",
            "[Feb 27, 14:10:00] 1737 0.2829640074799745\n",
            "\t\t\t\t 0.14407296478748322 0.042979370802640915\n",
            "#>>>    22.03 15.93 \t\t|\t\t 6.100000000000001\n",
            "[Feb 27, 14:10:00] 1738 0.28286809581181\n",
            "\t\t\t\t 0.12238876521587372 0.09869727492332458\n",
            "#>>>    21.47 16.02 \t\t|\t\t 5.449999999999999\n",
            "[Feb 27, 14:10:01] 1739 0.2828063137561374\n",
            "\t\t\t\t 0.048942893743515015 0.1298096477985382\n",
            "#>>>    22.12 15.62 \t\t|\t\t 6.500000000000002\n",
            "[Feb 27, 14:10:01] 1740 0.2827022599839233\n",
            "\t\t\t\t 0.14876455068588257 0.16523917019367218\n",
            "#>>>    21.29 15.84 \t\t|\t\t 5.449999999999999\n",
            "[Feb 27, 14:10:02] 1741 0.28273356142991773\n",
            "\t\t\t\t 0.08506287634372711 0.07330978661775589\n",
            "#>>>    22.18 16.83 \t\t|\t\t 5.350000000000001\n",
            "[Feb 27, 14:10:02] 1742 0.2826092005388999\n",
            "\t\t\t\t 0.09234263002872467 0.14825880527496338\n",
            "#>>>    21.52 16.1 \t\t|\t\t 5.419999999999998\n",
            "[Feb 27, 14:10:03] 1743 0.28256719277366465\n",
            "\t\t\t\t 0.08447319269180298 0.05843418091535568\n",
            "#>>>    22.24 16.59 \t\t|\t\t 5.649999999999999\n",
            "[Feb 27, 14:10:03] 1744 0.2824275329619488\n",
            "\t\t\t\t 0.16613921523094177 0.07181520760059357\n",
            "#>>>    21.61 16.39 \t\t|\t\t 5.219999999999999\n",
            "[Feb 27, 14:10:04] 1745 0.2823830598518184\n",
            "\t\t\t\t 0.1262420117855072 0.04563210532069206\n",
            "#>>>    21.94 16.39 \t\t|\t\t 5.550000000000001\n",
            "[Feb 27, 14:10:04] 1746 0.282272550912798\n",
            "\t\t\t\t 0.14411261677742004 0.10675059258937836\n",
            "#>>>    21.32 16.19 \t\t|\t\t 5.129999999999999\n",
            "[Feb 27, 14:10:05] 1747 0.2822411415563509\n",
            "\t\t\t\t 0.10299815237522125 0.15143752098083496\n",
            "#>>>    21.46 16.26 \t\t|\t\t 5.199999999999999\n",
            "[Feb 27, 14:10:05] 1748 0.28221333607324944\n",
            "\t\t\t\t 0.17646048963069916 0.1772778481245041\n",
            "#>>>    21.22 16.17 \t\t|\t\t 5.049999999999997\n",
            "[Feb 27, 14:10:05] 1749 0.2822848610749314\n",
            "\t\t\t\t 0.17030294239521027 0.14142286777496338\n",
            "#>>>    21.62 16.35 \t\t|\t\t 5.27\n",
            "[Feb 27, 14:10:06] 1750 0.28231430200912544\n",
            "\t\t\t\t 0.19504721462726593 0.19169647991657257\n",
            "#>>>    21.69 16.72 \t\t|\t\t 4.970000000000002\n",
            "[Feb 27, 14:10:06] 1751 0.28241873140166013\n",
            "\t\t\t\t 0.07858823239803314 0.06573688983917236\n",
            "#>>>    21.79 16.02 \t\t|\t\t 5.77\n",
            "[Feb 27, 14:10:07] 1752 0.2822806377924957\n"
          ]
        },
        {
          "output_type": "error",
          "ename": "KeyboardInterrupt",
          "evalue": "",
          "traceback": [
            "\u001b[0;31m---------------------------------------------------------------------------\u001b[0m",
            "\u001b[0;31mKeyboardInterrupt\u001b[0m                         Traceback (most recent call last)",
            "\u001b[0;32m<ipython-input-3-cd9383a8247f>\u001b[0m in \u001b[0;36m<cell line: 33>\u001b[0;34m()\u001b[0m\n\u001b[1;32m     32\u001b[0m \u001b[0;34m\u001b[0m\u001b[0m\n\u001b[1;32m     33\u001b[0m \u001b[0;32mif\u001b[0m \u001b[0m__name__\u001b[0m \u001b[0;34m==\u001b[0m \u001b[0;34m'__main__'\u001b[0m\u001b[0;34m:\u001b[0m\u001b[0;34m\u001b[0m\u001b[0;34m\u001b[0m\u001b[0m\n\u001b[0;32m---> 34\u001b[0;31m     \u001b[0mtrain\u001b[0m\u001b[0;34m(\u001b[0m\u001b[0;34m)\u001b[0m\u001b[0;34m\u001b[0m\u001b[0;34m\u001b[0m\u001b[0m\n\u001b[0m",
            "\u001b[0;32m<ipython-input-3-cd9383a8247f>\u001b[0m in \u001b[0;36mtrain\u001b[0;34m()\u001b[0m\n\u001b[1;32m     28\u001b[0m         \u001b[0mtrainer\u001b[0m \u001b[0;34m=\u001b[0m \u001b[0mTrainer\u001b[0m\u001b[0;34m(\u001b[0m\u001b[0mtriples\u001b[0m\u001b[0;34m=\u001b[0m\u001b[0mtriples\u001b[0m\u001b[0;34m,\u001b[0m \u001b[0mqueries\u001b[0m\u001b[0;34m=\u001b[0m\u001b[0mqueries\u001b[0m\u001b[0;34m,\u001b[0m \u001b[0mcollection\u001b[0m\u001b[0;34m=\u001b[0m\u001b[0mcollection\u001b[0m\u001b[0;34m,\u001b[0m \u001b[0mconfig\u001b[0m\u001b[0;34m=\u001b[0m\u001b[0mconfig\u001b[0m\u001b[0;34m)\u001b[0m\u001b[0;34m\u001b[0m\u001b[0;34m\u001b[0m\u001b[0m\n\u001b[1;32m     29\u001b[0m \u001b[0;34m\u001b[0m\u001b[0m\n\u001b[0;32m---> 30\u001b[0;31m         \u001b[0mtrainer\u001b[0m\u001b[0;34m.\u001b[0m\u001b[0mtrain\u001b[0m\u001b[0;34m(\u001b[0m\u001b[0mcheckpoint\u001b[0m\u001b[0;34m=\u001b[0m\u001b[0mcheckpoint\u001b[0m\u001b[0;34m)\u001b[0m  \u001b[0;31m# or start from scratch, like `bert-base-uncased`\u001b[0m\u001b[0;34m\u001b[0m\u001b[0;34m\u001b[0m\u001b[0m\n\u001b[0m\u001b[1;32m     31\u001b[0m \u001b[0;34m\u001b[0m\u001b[0m\n\u001b[1;32m     32\u001b[0m \u001b[0;34m\u001b[0m\u001b[0m\n",
            "\u001b[0;32m/content/ColBERT/colbert/trainer.py\u001b[0m in \u001b[0;36mtrain\u001b[0;34m(self, checkpoint)\u001b[0m\n\u001b[1;32m     29\u001b[0m         \u001b[0mlauncher\u001b[0m \u001b[0;34m=\u001b[0m \u001b[0mLauncher\u001b[0m\u001b[0;34m(\u001b[0m\u001b[0mtrain\u001b[0m\u001b[0;34m)\u001b[0m\u001b[0;34m\u001b[0m\u001b[0;34m\u001b[0m\u001b[0m\n\u001b[1;32m     30\u001b[0m \u001b[0;34m\u001b[0m\u001b[0m\n\u001b[0;32m---> 31\u001b[0;31m         \u001b[0mself\u001b[0m\u001b[0;34m.\u001b[0m\u001b[0m_best_checkpoint_path\u001b[0m \u001b[0;34m=\u001b[0m \u001b[0mlauncher\u001b[0m\u001b[0;34m.\u001b[0m\u001b[0mlaunch_without_fork\u001b[0m\u001b[0;34m(\u001b[0m\u001b[0mself\u001b[0m\u001b[0;34m.\u001b[0m\u001b[0mconfig\u001b[0m\u001b[0;34m,\u001b[0m \u001b[0mself\u001b[0m\u001b[0;34m.\u001b[0m\u001b[0mtriples\u001b[0m\u001b[0;34m,\u001b[0m \u001b[0mself\u001b[0m\u001b[0;34m.\u001b[0m\u001b[0mqueries\u001b[0m\u001b[0;34m,\u001b[0m \u001b[0mself\u001b[0m\u001b[0;34m.\u001b[0m\u001b[0mcollection\u001b[0m\u001b[0;34m)\u001b[0m\u001b[0;34m\u001b[0m\u001b[0;34m\u001b[0m\u001b[0m\n\u001b[0m\u001b[1;32m     32\u001b[0m \u001b[0;34m\u001b[0m\u001b[0m\n\u001b[1;32m     33\u001b[0m \u001b[0;34m\u001b[0m\u001b[0m\n",
            "\u001b[0;32m/content/ColBERT/colbert/infra/launcher.py\u001b[0m in \u001b[0;36mlaunch_without_fork\u001b[0;34m(self, custom_config, *args)\u001b[0m\n\u001b[1;32m     91\u001b[0m \u001b[0;34m\u001b[0m\u001b[0m\n\u001b[1;32m     92\u001b[0m         \u001b[0mnew_config\u001b[0m \u001b[0;34m=\u001b[0m \u001b[0mtype\u001b[0m\u001b[0;34m(\u001b[0m\u001b[0mcustom_config\u001b[0m\u001b[0;34m)\u001b[0m\u001b[0;34m.\u001b[0m\u001b[0mfrom_existing\u001b[0m\u001b[0;34m(\u001b[0m\u001b[0mcustom_config\u001b[0m\u001b[0;34m,\u001b[0m \u001b[0mself\u001b[0m\u001b[0;34m.\u001b[0m\u001b[0mrun_config\u001b[0m\u001b[0;34m,\u001b[0m \u001b[0mRunConfig\u001b[0m\u001b[0;34m(\u001b[0m\u001b[0mrank\u001b[0m\u001b[0;34m=\u001b[0m\u001b[0;36m0\u001b[0m\u001b[0;34m)\u001b[0m\u001b[0;34m)\u001b[0m\u001b[0;34m\u001b[0m\u001b[0;34m\u001b[0m\u001b[0m\n\u001b[0;32m---> 93\u001b[0;31m         \u001b[0mreturn_val\u001b[0m \u001b[0;34m=\u001b[0m \u001b[0mrun_process_without_mp\u001b[0m\u001b[0;34m(\u001b[0m\u001b[0mself\u001b[0m\u001b[0;34m.\u001b[0m\u001b[0mcallee\u001b[0m\u001b[0;34m,\u001b[0m \u001b[0mnew_config\u001b[0m\u001b[0;34m,\u001b[0m \u001b[0;34m*\u001b[0m\u001b[0margs\u001b[0m\u001b[0;34m)\u001b[0m\u001b[0;34m\u001b[0m\u001b[0;34m\u001b[0m\u001b[0m\n\u001b[0m\u001b[1;32m     94\u001b[0m \u001b[0;34m\u001b[0m\u001b[0m\n\u001b[1;32m     95\u001b[0m         \u001b[0;32mreturn\u001b[0m \u001b[0mreturn_val\u001b[0m\u001b[0;34m\u001b[0m\u001b[0;34m\u001b[0m\u001b[0m\n",
            "\u001b[0;32m/content/ColBERT/colbert/infra/launcher.py\u001b[0m in \u001b[0;36mrun_process_without_mp\u001b[0;34m(callee, config, *args)\u001b[0m\n\u001b[1;32m    107\u001b[0m \u001b[0;34m\u001b[0m\u001b[0m\n\u001b[1;32m    108\u001b[0m     \u001b[0;32mwith\u001b[0m \u001b[0mRun\u001b[0m\u001b[0;34m(\u001b[0m\u001b[0;34m)\u001b[0m\u001b[0;34m.\u001b[0m\u001b[0mcontext\u001b[0m\u001b[0;34m(\u001b[0m\u001b[0mconfig\u001b[0m\u001b[0;34m,\u001b[0m \u001b[0minherit_config\u001b[0m\u001b[0;34m=\u001b[0m\u001b[0;32mFalse\u001b[0m\u001b[0;34m)\u001b[0m\u001b[0;34m:\u001b[0m\u001b[0;34m\u001b[0m\u001b[0;34m\u001b[0m\u001b[0m\n\u001b[0;32m--> 109\u001b[0;31m         \u001b[0mreturn_val\u001b[0m \u001b[0;34m=\u001b[0m \u001b[0mcallee\u001b[0m\u001b[0;34m(\u001b[0m\u001b[0mconfig\u001b[0m\u001b[0;34m,\u001b[0m \u001b[0;34m*\u001b[0m\u001b[0margs\u001b[0m\u001b[0;34m)\u001b[0m\u001b[0;34m\u001b[0m\u001b[0;34m\u001b[0m\u001b[0m\n\u001b[0m\u001b[1;32m    110\u001b[0m         \u001b[0mtorch\u001b[0m\u001b[0;34m.\u001b[0m\u001b[0mcuda\u001b[0m\u001b[0;34m.\u001b[0m\u001b[0mempty_cache\u001b[0m\u001b[0;34m(\u001b[0m\u001b[0;34m)\u001b[0m\u001b[0;34m\u001b[0m\u001b[0;34m\u001b[0m\u001b[0m\n\u001b[1;32m    111\u001b[0m         \u001b[0;32mreturn\u001b[0m \u001b[0mreturn_val\u001b[0m\u001b[0;34m\u001b[0m\u001b[0;34m\u001b[0m\u001b[0m\n",
            "\u001b[0;32m/content/ColBERT/colbert/training/training.py\u001b[0m in \u001b[0;36mtrain\u001b[0;34m(config, triples, queries, collection)\u001b[0m\n\u001b[1;32m    101\u001b[0m                     \u001b[0mencoding\u001b[0m \u001b[0;34m=\u001b[0m \u001b[0;34m[\u001b[0m\u001b[0mencoding\u001b[0m\u001b[0;34m.\u001b[0m\u001b[0mto\u001b[0m\u001b[0;34m(\u001b[0m\u001b[0mDEVICE\u001b[0m\u001b[0;34m)\u001b[0m\u001b[0;34m]\u001b[0m\u001b[0;34m\u001b[0m\u001b[0;34m\u001b[0m\u001b[0m\n\u001b[1;32m    102\u001b[0m \u001b[0;34m\u001b[0m\u001b[0m\n\u001b[0;32m--> 103\u001b[0;31m                 \u001b[0mscores\u001b[0m \u001b[0;34m=\u001b[0m \u001b[0mcolbert\u001b[0m\u001b[0;34m(\u001b[0m\u001b[0;34m*\u001b[0m\u001b[0mencoding\u001b[0m\u001b[0;34m)\u001b[0m\u001b[0;34m\u001b[0m\u001b[0;34m\u001b[0m\u001b[0m\n\u001b[0m\u001b[1;32m    104\u001b[0m \u001b[0;34m\u001b[0m\u001b[0m\n\u001b[1;32m    105\u001b[0m                 \u001b[0;32mif\u001b[0m \u001b[0mconfig\u001b[0m\u001b[0;34m.\u001b[0m\u001b[0muse_ib_negatives\u001b[0m\u001b[0;34m:\u001b[0m\u001b[0;34m\u001b[0m\u001b[0;34m\u001b[0m\u001b[0m\n",
            "\u001b[0;32m/usr/local/lib/python3.10/dist-packages/torch/nn/modules/module.py\u001b[0m in \u001b[0;36m_call_impl\u001b[0;34m(self, *input, **kwargs)\u001b[0m\n\u001b[1;32m   1192\u001b[0m         if not (self._backward_hooks or self._forward_hooks or self._forward_pre_hooks or _global_backward_hooks\n\u001b[1;32m   1193\u001b[0m                 or _global_forward_hooks or _global_forward_pre_hooks):\n\u001b[0;32m-> 1194\u001b[0;31m             \u001b[0;32mreturn\u001b[0m \u001b[0mforward_call\u001b[0m\u001b[0;34m(\u001b[0m\u001b[0;34m*\u001b[0m\u001b[0minput\u001b[0m\u001b[0;34m,\u001b[0m \u001b[0;34m**\u001b[0m\u001b[0mkwargs\u001b[0m\u001b[0;34m)\u001b[0m\u001b[0;34m\u001b[0m\u001b[0;34m\u001b[0m\u001b[0m\n\u001b[0m\u001b[1;32m   1195\u001b[0m         \u001b[0;31m# Do not call functions when jit is used\u001b[0m\u001b[0;34m\u001b[0m\u001b[0;34m\u001b[0m\u001b[0m\n\u001b[1;32m   1196\u001b[0m         \u001b[0mfull_backward_hooks\u001b[0m\u001b[0;34m,\u001b[0m \u001b[0mnon_full_backward_hooks\u001b[0m \u001b[0;34m=\u001b[0m \u001b[0;34m[\u001b[0m\u001b[0;34m]\u001b[0m\u001b[0;34m,\u001b[0m \u001b[0;34m[\u001b[0m\u001b[0;34m]\u001b[0m\u001b[0;34m\u001b[0m\u001b[0;34m\u001b[0m\u001b[0m\n",
            "\u001b[0;32m/content/ColBERT/colbert/modeling/colbert.py\u001b[0m in \u001b[0;36mforward\u001b[0;34m(self, Q, D)\u001b[0m\n\u001b[1;32m     53\u001b[0m     \u001b[0;32mdef\u001b[0m \u001b[0mforward\u001b[0m\u001b[0;34m(\u001b[0m\u001b[0mself\u001b[0m\u001b[0;34m,\u001b[0m \u001b[0mQ\u001b[0m\u001b[0;34m,\u001b[0m \u001b[0mD\u001b[0m\u001b[0;34m)\u001b[0m\u001b[0;34m:\u001b[0m\u001b[0;34m\u001b[0m\u001b[0;34m\u001b[0m\u001b[0m\n\u001b[1;32m     54\u001b[0m         \u001b[0mQ\u001b[0m \u001b[0;34m=\u001b[0m \u001b[0mself\u001b[0m\u001b[0;34m.\u001b[0m\u001b[0mquery\u001b[0m\u001b[0;34m(\u001b[0m\u001b[0;34m*\u001b[0m\u001b[0mQ\u001b[0m\u001b[0;34m)\u001b[0m\u001b[0;34m\u001b[0m\u001b[0;34m\u001b[0m\u001b[0m\n\u001b[0;32m---> 55\u001b[0;31m         \u001b[0mD\u001b[0m\u001b[0;34m,\u001b[0m \u001b[0mD_mask\u001b[0m \u001b[0;34m=\u001b[0m \u001b[0mself\u001b[0m\u001b[0;34m.\u001b[0m\u001b[0mdoc\u001b[0m\u001b[0;34m(\u001b[0m\u001b[0;34m*\u001b[0m\u001b[0mD\u001b[0m\u001b[0;34m,\u001b[0m \u001b[0mkeep_dims\u001b[0m\u001b[0;34m=\u001b[0m\u001b[0;34m'return_mask'\u001b[0m\u001b[0;34m)\u001b[0m\u001b[0;34m\u001b[0m\u001b[0;34m\u001b[0m\u001b[0m\n\u001b[0m\u001b[1;32m     56\u001b[0m \u001b[0;34m\u001b[0m\u001b[0m\n\u001b[1;32m     57\u001b[0m         \u001b[0;31m# Repeat each query encoding for every corresponding document.\u001b[0m\u001b[0;34m\u001b[0m\u001b[0;34m\u001b[0m\u001b[0m\n",
            "\u001b[0;32m/content/ColBERT/colbert/modeling/colbert.py\u001b[0m in \u001b[0;36mdoc\u001b[0;34m(self, input_ids, attention_mask, keep_dims)\u001b[0m\n\u001b[1;32m     99\u001b[0m         \u001b[0mD\u001b[0m \u001b[0;34m=\u001b[0m \u001b[0mself\u001b[0m\u001b[0;34m.\u001b[0m\u001b[0mbert\u001b[0m\u001b[0;34m(\u001b[0m\u001b[0minput_ids\u001b[0m\u001b[0;34m,\u001b[0m \u001b[0mattention_mask\u001b[0m\u001b[0;34m=\u001b[0m\u001b[0mattention_mask\u001b[0m\u001b[0;34m)\u001b[0m\u001b[0;34m[\u001b[0m\u001b[0;36m0\u001b[0m\u001b[0;34m]\u001b[0m\u001b[0;34m\u001b[0m\u001b[0;34m\u001b[0m\u001b[0m\n\u001b[1;32m    100\u001b[0m         \u001b[0mD\u001b[0m \u001b[0;34m=\u001b[0m \u001b[0mself\u001b[0m\u001b[0;34m.\u001b[0m\u001b[0mlinear\u001b[0m\u001b[0;34m(\u001b[0m\u001b[0mD\u001b[0m\u001b[0;34m)\u001b[0m\u001b[0;34m\u001b[0m\u001b[0;34m\u001b[0m\u001b[0m\n\u001b[0;32m--> 101\u001b[0;31m         \u001b[0mmask\u001b[0m \u001b[0;34m=\u001b[0m \u001b[0mtorch\u001b[0m\u001b[0;34m.\u001b[0m\u001b[0mtensor\u001b[0m\u001b[0;34m(\u001b[0m\u001b[0mself\u001b[0m\u001b[0;34m.\u001b[0m\u001b[0mmask\u001b[0m\u001b[0;34m(\u001b[0m\u001b[0minput_ids\u001b[0m\u001b[0;34m,\u001b[0m \u001b[0mskiplist\u001b[0m\u001b[0;34m=\u001b[0m\u001b[0mself\u001b[0m\u001b[0;34m.\u001b[0m\u001b[0mskiplist\u001b[0m\u001b[0;34m)\u001b[0m\u001b[0;34m,\u001b[0m \u001b[0mdevice\u001b[0m\u001b[0;34m=\u001b[0m\u001b[0mself\u001b[0m\u001b[0;34m.\u001b[0m\u001b[0mdevice\u001b[0m\u001b[0;34m)\u001b[0m\u001b[0;34m.\u001b[0m\u001b[0munsqueeze\u001b[0m\u001b[0;34m(\u001b[0m\u001b[0;36m2\u001b[0m\u001b[0;34m)\u001b[0m\u001b[0;34m.\u001b[0m\u001b[0mfloat\u001b[0m\u001b[0;34m(\u001b[0m\u001b[0;34m)\u001b[0m\u001b[0;34m\u001b[0m\u001b[0;34m\u001b[0m\u001b[0m\n\u001b[0m\u001b[1;32m    102\u001b[0m         \u001b[0mD\u001b[0m \u001b[0;34m=\u001b[0m \u001b[0mD\u001b[0m \u001b[0;34m*\u001b[0m \u001b[0mmask\u001b[0m\u001b[0;34m\u001b[0m\u001b[0;34m\u001b[0m\u001b[0m\n\u001b[1;32m    103\u001b[0m \u001b[0;34m\u001b[0m\u001b[0m\n",
            "\u001b[0;32m/content/ColBERT/colbert/modeling/colbert.py\u001b[0m in \u001b[0;36mmask\u001b[0;34m(self, input_ids, skiplist)\u001b[0m\n\u001b[1;32m    123\u001b[0m \u001b[0;34m\u001b[0m\u001b[0m\n\u001b[1;32m    124\u001b[0m     \u001b[0;32mdef\u001b[0m \u001b[0mmask\u001b[0m\u001b[0;34m(\u001b[0m\u001b[0mself\u001b[0m\u001b[0;34m,\u001b[0m \u001b[0minput_ids\u001b[0m\u001b[0;34m,\u001b[0m \u001b[0mskiplist\u001b[0m\u001b[0;34m)\u001b[0m\u001b[0;34m:\u001b[0m\u001b[0;34m\u001b[0m\u001b[0;34m\u001b[0m\u001b[0m\n\u001b[0;32m--> 125\u001b[0;31m         \u001b[0mmask\u001b[0m \u001b[0;34m=\u001b[0m \u001b[0;34m[\u001b[0m\u001b[0;34m[\u001b[0m\u001b[0;34m(\u001b[0m\u001b[0mx\u001b[0m \u001b[0;32mnot\u001b[0m \u001b[0;32min\u001b[0m \u001b[0mskiplist\u001b[0m\u001b[0;34m)\u001b[0m \u001b[0;32mand\u001b[0m \u001b[0;34m(\u001b[0m\u001b[0mx\u001b[0m \u001b[0;34m!=\u001b[0m \u001b[0mself\u001b[0m\u001b[0;34m.\u001b[0m\u001b[0mpad_token\u001b[0m\u001b[0;34m)\u001b[0m \u001b[0;32mfor\u001b[0m \u001b[0mx\u001b[0m \u001b[0;32min\u001b[0m \u001b[0md\u001b[0m\u001b[0;34m]\u001b[0m \u001b[0;32mfor\u001b[0m \u001b[0md\u001b[0m \u001b[0;32min\u001b[0m \u001b[0minput_ids\u001b[0m\u001b[0;34m.\u001b[0m\u001b[0mcpu\u001b[0m\u001b[0;34m(\u001b[0m\u001b[0;34m)\u001b[0m\u001b[0;34m.\u001b[0m\u001b[0mtolist\u001b[0m\u001b[0;34m(\u001b[0m\u001b[0;34m)\u001b[0m\u001b[0;34m]\u001b[0m\u001b[0;34m\u001b[0m\u001b[0;34m\u001b[0m\u001b[0m\n\u001b[0m\u001b[1;32m    126\u001b[0m         \u001b[0;32mreturn\u001b[0m \u001b[0mmask\u001b[0m\u001b[0;34m\u001b[0m\u001b[0;34m\u001b[0m\u001b[0m\n\u001b[1;32m    127\u001b[0m \u001b[0;34m\u001b[0m\u001b[0m\n",
            "\u001b[0;31mKeyboardInterrupt\u001b[0m: "
          ]
        }
      ]
    },
    {
      "cell_type": "code",
      "source": [
        "from huggingface_hub import HfApi\n",
        "from google.colab import userdata\n",
        "\n",
        "hf_api = HfApi(token=userdata.get('HF_TOKEN2'))"
      ],
      "metadata": {
        "id": "kq6uFqnVW2p4"
      },
      "execution_count": null,
      "outputs": []
    },
    {
      "cell_type": "code",
      "source": [
        "hf_api.create_repo(\n",
        "    repo_id='AdrienB134/ColBERTv2.0-camembert-based-mmarcoFR',\n",
        "\n",
        ")\n",
        "\n"
      ],
      "metadata": {
        "id": "zkHyrdGbW8-w",
        "colab": {
          "base_uri": "https://localhost:8080/",
          "height": 216
        },
        "outputId": "d1afad3e-d6e5-4e03-aa2b-df8da2db4eea"
      },
      "execution_count": null,
      "outputs": [
        {
          "output_type": "error",
          "ename": "NameError",
          "evalue": "name 'hf_api' is not defined",
          "traceback": [
            "\u001b[0;31m---------------------------------------------------------------------------\u001b[0m",
            "\u001b[0;31mNameError\u001b[0m                                 Traceback (most recent call last)",
            "\u001b[0;32m<ipython-input-2-ed884fba2b78>\u001b[0m in \u001b[0;36m<cell line: 1>\u001b[0;34m()\u001b[0m\n\u001b[0;32m----> 1\u001b[0;31m hf_api.create_repo(\n\u001b[0m\u001b[1;32m      2\u001b[0m     \u001b[0mrepo_id\u001b[0m\u001b[0;34m=\u001b[0m\u001b[0;34m'AdrienB134/ColBERTv2.0-camembert-based-mmarcoFR'\u001b[0m\u001b[0;34m,\u001b[0m\u001b[0;34m\u001b[0m\u001b[0;34m\u001b[0m\u001b[0m\n\u001b[1;32m      3\u001b[0m \u001b[0;34m\u001b[0m\u001b[0m\n\u001b[1;32m      4\u001b[0m )\n\u001b[1;32m      5\u001b[0m \u001b[0;34m\u001b[0m\u001b[0m\n",
            "\u001b[0;31mNameError\u001b[0m: name 'hf_api' is not defined"
          ]
        }
      ]
    },
    {
      "cell_type": "code",
      "source": [
        "hf_api.upload_folder(\n",
        "    repo_id='AdrienB134/ColBERTv2.0-camembert-based-mmarcoFR',\n",
        "    folder_path='/content/experiments/default/none/AdrienB134/ColBERTv2.0-camembert-based-mmarcoFR/checkpoints/colbert',\n",
        "    )"
      ],
      "metadata": {
        "id": "r7m5MhtjXBJl",
        "colab": {
          "base_uri": "https://localhost:8080/",
          "height": 85,
          "referenced_widgets": [
            "5402eadf4c3748ed84ea5dec477a5e6d",
            "3d249b57def24bda9de84cd9e0901799",
            "61a992045a2f4aad9d8ac9998f86c7f9",
            "1c789d2dc36d47608baaae058df339e8",
            "b4a67474cb2e4b828d1912efa8459962",
            "250b903309d34512a3f91ae3291d95a1",
            "8adcb4ee4f284404ac1f9281c7467332",
            "868077c55aa84bfabf7221e21f70f18e",
            "aca42f74031843da96106dbe4576e581",
            "0a9b7ff93c044bdb8fb43bffa08552cc",
            "790e35d302ea4379a401db0f17b0280b"
          ]
        },
        "outputId": "88c4e045-0d84-4503-eb4c-4c63a0416f2b"
      },
      "execution_count": null,
      "outputs": [
        {
          "output_type": "display_data",
          "data": {
            "text/plain": [
              "model.safetensors:   0%|          | 0.00/440M [00:00<?, ?B/s]"
            ],
            "application/vnd.jupyter.widget-view+json": {
              "version_major": 2,
              "version_minor": 0,
              "model_id": "5402eadf4c3748ed84ea5dec477a5e6d"
            }
          },
          "metadata": {}
        },
        {
          "output_type": "execute_result",
          "data": {
            "text/plain": [
              "CommitInfo(commit_url='https://huggingface.co/AdrienB134/ColBERTv2.0-spanish-mmarcoES/commit/345ca60a770eb3fac8ad3276d0ea1cf9cd5c8f5c', commit_message='Upload folder using huggingface_hub', commit_description='', oid='345ca60a770eb3fac8ad3276d0ea1cf9cd5c8f5c', pr_url=None, pr_revision=None, pr_num=None)"
            ],
            "application/vnd.google.colaboratory.intrinsic+json": {
              "type": "string"
            }
          },
          "metadata": {},
          "execution_count": 12
        }
      ]
    },
    {
      "cell_type": "markdown",
      "source": [
        "# Evaluation"
      ],
      "metadata": {
        "id": "Ifjl0-UNq19z"
      }
    },
    {
      "cell_type": "code",
      "source": [
        "!wget 'https://huggingface.co/datasets/unicamp-dl/mmarco/resolve/main/data/qrels.dev.small.tsv'\n",
        "!wget 'https://huggingface.co/datasets/unicamp-dl/mmarco/resolve/main/data/google/queries/dev/french_queries.dev.small.tsv'"
      ],
      "metadata": {
        "id": "FvXTBtBPriki"
      },
      "execution_count": null,
      "outputs": []
    },
    {
      "cell_type": "code",
      "source": [
        "from colbert.infra import Run, RunConfig, ColBERTConfig\n",
        "from colbert import Indexer\n",
        "collection = f'{language}_collection.tsv'\n",
        "with Run().context(RunConfig(nranks=1, experiment=\"msmarco\", avoid_fork_if_possible = True, overwrite=True)):\n",
        "\n",
        "    config = ColBERTConfig(\n",
        "          nbits=2,\n",
        "          root=\"./experiments\",\n",
        "        )\n",
        "    indexer = Indexer(checkpoint=\"AdrienB134/ColBERTv2.0-camembert-based-mmarcoFR\", config=config)\n",
        "    indexer.index(name=\"msmarco.nbits=2\", collection=collection)"
      ],
      "metadata": {
        "id": "PmFEaXnmXLrh",
        "colab": {
          "base_uri": "https://localhost:8080/",
          "height": 1000,
          "referenced_widgets": [
            "3cb5a5e827be4eafa20306e87e9c9a7c",
            "31cab787077346d5aeb44d28c1ca2372",
            "531448a4e44e4b998aeee4410e7b472f",
            "a19e42fa62ce41769568cd17d46b219b",
            "4215b75a859943db90d56ec0edd36556",
            "dd55090666f5472194d6f614d52aa2a0",
            "49e1f8a53841493d9d092c90fdec58f9",
            "c777e2b02373409f930702821e1c12e4",
            "655563fbbd2b4724bae7c64da54338ba",
            "e876622ca45c41de9cc62e8bd2f23f08",
            "f0f799d362e14b4693e66979a4de95c0",
            "94b208f307dc46e2ba287d30daad0694",
            "25d97b4226f2466fade01828cc79ccd3",
            "685f8f389b0b4343b0cda3688a3fe3d8",
            "c4beb456c534406eaec6d2c03a0fdc95",
            "c79c31bf33114bc98af80754ff3fd4e5",
            "5c940093edc1409ca41c1d7d96aa153e",
            "8c64e15a6e144d278b0910010b4722ab",
            "3679f518e2894082aa46eda5546c9f16",
            "e159f344e4c94884995bb7e22eca5089",
            "78e13f85c1d74cc2ad01ea7cecc0c448",
            "8d41b3f4c256429faa9dc98ee5c29f95",
            "a0f78d11b1b04a81b535c85b8ef68c16",
            "0e2e258f0ce343d7a4c2dad61dc5f726",
            "da9b227d10324f53937b2d50a2bb5de0",
            "fb5bd63c050948b886db23b7fb5290b0",
            "57f33464920e4b87958f1dcbe9828630",
            "e23c56951c3d47bb95145b3f1e373cd3",
            "8e1fa09504d74afd9ccf47f7a71f7522",
            "cc6d5fc3490741f2bd5bb193101f0100",
            "43ddb5d7d92c4a6fbf6d3cf108199b58",
            "084f652316034bd8a49ebde319bd7546",
            "b2d2efb138e14ef5bddcc649ebdbfc6d",
            "db5193de22aa45388eca08fa48e21b20",
            "484865edc680457a8991c36ad1c7513d",
            "eb4b2ab83a8a4810b1cc9a0137d66240",
            "399270754e204780a85fda0d83f961b8",
            "f74e074eda3d4fca8af6aed5903043a2",
            "cde3da632c7248ea84c109293815978d",
            "0d056b8da41849fbb8645a1a60ad7d4c",
            "8420301fc2ee4bee8bb0280c7f57e552",
            "d54bf04c52cd4595966821e8d9a4181b",
            "27a129e5a3d44e7ebd5aa80251470c70",
            "78cf1435223f4427ae28427731ad3f4d",
            "850c488c086049c6aaf70d1c9e6f3810",
            "bc0e06a97ed242a3b53b5e1bb73abd56",
            "5b41899dad66459091844294d6d51969",
            "9585fa0cf5c748c7abc8102dcc082bce",
            "0796149d814249149619d84992b3ef70",
            "19da4adcd5e4492fa60299287fb802bb",
            "5805dfd0c3eb4d9f9335fd6dfe28c648",
            "bd892c0e4c6c4f96acfddf11e1057c56",
            "869c128ac14b4393a2707123d88b09b8",
            "01158128664f49508f21a500997c73a2",
            "2c09eda1180b45cbad53dfc3a272a9dd",
            "6eae3d4c590c43eb931a2d60866c53f4",
            "32f1e9c4549a40d9b395b11b9b723874",
            "5175ec5f433f46548345927911a9346d",
            "c588d8ee862a4351b4254ea66a96fe38",
            "fb0aa8d0250a434a913d0262d867675c",
            "3668a5e057bd4b66a72bcfce449ca6d2",
            "311427d21b0a42ae8263d1801bd9793e",
            "ea8ec93eaca342d587997332234abae2",
            "496354462ce94f1ba3b685fa814110ba",
            "e9d4afe0d8af4eca826b22ad35fdbec8",
            "738c47d048eb4ea0be9e47598fe0c8e1",
            "d403cc64720145c8ab7d924420ff26bf",
            "8528d9a66be949cb9102744e595a8d1b",
            "4c6cf67c407644ccbeec3a5a9c178d52",
            "55ab422c2ddc49249d4034ac8eaf7d2f",
            "69af1f3931354c25a3a80ec5e277688b",
            "ba5e2c73bfa0426f95f83920eae896c0",
            "bf89855aabce466da6b893dc8636b81a",
            "1df4509e37de4ebcabeb1282e36747cb",
            "3b6fea28619a49d5a148d5d8b68a5e0a",
            "cdbbdc086df54123b0841688b77ff7ac",
            "4f6eb2e0cb1841dba358a033846b7c3c"
          ]
        },
        "outputId": "30dd1acd-e1c4-452d-bc87-5368898a12d1"
      },
      "execution_count": null,
      "outputs": [
        {
          "output_type": "display_data",
          "data": {
            "text/plain": [
              "artifact.metadata:   0%|          | 0.00/1.71k [00:00<?, ?B/s]"
            ],
            "application/vnd.jupyter.widget-view+json": {
              "version_major": 2,
              "version_minor": 0,
              "model_id": "3cb5a5e827be4eafa20306e87e9c9a7c"
            }
          },
          "metadata": {}
        },
        {
          "output_type": "stream",
          "name": "stdout",
          "text": [
            "\n",
            "\n",
            "[Feb 27, 08:06:09] #> Creating directory /content/experiments/msmarco/indexes/msmarco.nbits=2 \n",
            "\n",
            "\n",
            "{\n",
            "    \"query_token_id\": \"[unused0]\",\n",
            "    \"doc_token_id\": \"[unused1]\",\n",
            "    \"query_token\": \"[Q]\",\n",
            "    \"doc_token\": \"[D]\",\n",
            "    \"ncells\": null,\n",
            "    \"centroid_score_threshold\": null,\n",
            "    \"ndocs\": null,\n",
            "    \"load_index_with_mmap\": false,\n",
            "    \"index_path\": null,\n",
            "    \"index_bsize\": 64,\n",
            "    \"nbits\": 2,\n",
            "    \"kmeans_niters\": 4,\n",
            "    \"resume\": false,\n",
            "    \"similarity\": \"cosine\",\n",
            "    \"bsize\": 64,\n",
            "    \"accumsteps\": 1,\n",
            "    \"lr\": 1e-5,\n",
            "    \"maxsteps\": 200000,\n",
            "    \"save_every\": null,\n",
            "    \"warmup\": 20000,\n",
            "    \"warmup_bert\": null,\n",
            "    \"relu\": false,\n",
            "    \"nway\": 2,\n",
            "    \"use_ib_negatives\": true,\n",
            "    \"reranker\": false,\n",
            "    \"distillation_alpha\": 1.0,\n",
            "    \"ignore_scores\": false,\n",
            "    \"model_name\": null,\n",
            "    \"query_maxlen\": 32,\n",
            "    \"attend_to_mask_tokens\": false,\n",
            "    \"interaction\": \"colbert\",\n",
            "    \"dim\": 128,\n",
            "    \"doc_maxlen\": 180,\n",
            "    \"mask_punctuation\": true,\n",
            "    \"checkpoint\": \"AdrienB134\\/ColBERTv2.0-spanish-mmarcoES\",\n",
            "    \"triples\": \"\\/content\\/examples.json\",\n",
            "    \"collection\": \"\\/content\\/drive\\/MyDrive\\/Colab Notebooks\\/data_colbert\\/spanish_collection.tsv\",\n",
            "    \"queries\": \"\\/content\\/spanish_queries.train.tsv\",\n",
            "    \"index_name\": \"msmarco.nbits=2\",\n",
            "    \"overwrite\": true,\n",
            "    \"root\": \"\\/content\\/experiments\",\n",
            "    \"experiment\": \"msmarco\",\n",
            "    \"index_root\": null,\n",
            "    \"name\": \"2024-02\\/27\\/08.06.06\",\n",
            "    \"rank\": 0,\n",
            "    \"nranks\": 1,\n",
            "    \"amp\": true,\n",
            "    \"gpus\": 1,\n",
            "    \"avoid_fork_if_possible\": true\n",
            "}\n",
            "[Feb 27, 08:06:10] #> Loading collection...\n",
            "0M 1M 2M 3M 4M 5M 6M 7M 8M \n"
          ]
        },
        {
          "output_type": "display_data",
          "data": {
            "text/plain": [
              "config.json:   0%|          | 0.00/715 [00:00<?, ?B/s]"
            ],
            "application/vnd.jupyter.widget-view+json": {
              "version_major": 2,
              "version_minor": 0,
              "model_id": "94b208f307dc46e2ba287d30daad0694"
            }
          },
          "metadata": {}
        },
        {
          "output_type": "display_data",
          "data": {
            "text/plain": [
              "model.safetensors:   0%|          | 0.00/440M [00:00<?, ?B/s]"
            ],
            "application/vnd.jupyter.widget-view+json": {
              "version_major": 2,
              "version_minor": 0,
              "model_id": "a0f78d11b1b04a81b535c85b8ef68c16"
            }
          },
          "metadata": {}
        },
        {
          "output_type": "display_data",
          "data": {
            "text/plain": [
              "tokenizer_config.json:   0%|          | 0.00/1.24k [00:00<?, ?B/s]"
            ],
            "application/vnd.jupyter.widget-view+json": {
              "version_major": 2,
              "version_minor": 0,
              "model_id": "db5193de22aa45388eca08fa48e21b20"
            }
          },
          "metadata": {}
        },
        {
          "output_type": "display_data",
          "data": {
            "text/plain": [
              "vocab.txt:   0%|          | 0.00/248k [00:00<?, ?B/s]"
            ],
            "application/vnd.jupyter.widget-view+json": {
              "version_major": 2,
              "version_minor": 0,
              "model_id": "850c488c086049c6aaf70d1c9e6f3810"
            }
          },
          "metadata": {}
        },
        {
          "output_type": "display_data",
          "data": {
            "text/plain": [
              "tokenizer.json:   0%|          | 0.00/735k [00:00<?, ?B/s]"
            ],
            "application/vnd.jupyter.widget-view+json": {
              "version_major": 2,
              "version_minor": 0,
              "model_id": "6eae3d4c590c43eb931a2d60866c53f4"
            }
          },
          "metadata": {}
        },
        {
          "output_type": "display_data",
          "data": {
            "text/plain": [
              "special_tokens_map.json:   0%|          | 0.00/695 [00:00<?, ?B/s]"
            ],
            "application/vnd.jupyter.widget-view+json": {
              "version_major": 2,
              "version_minor": 0,
              "model_id": "d403cc64720145c8ab7d924420ff26bf"
            }
          },
          "metadata": {}
        },
        {
          "output_type": "stream",
          "name": "stdout",
          "text": [
            "[Feb 27, 08:08:02] [0] \t\t # of sampled PIDs = 521173 \t sampled_pids[:3] = [6989721, 170610, 5010345]\n",
            "[Feb 27, 08:08:06] [0] \t\t #> Encoding 521173 passages..\n",
            "[Feb 27, 08:13:58] [0] \t\t avg_doclen_est = 75.4071273803711 \t len(local_sample) = 521,173\n",
            "[Feb 27, 08:14:33] [0] \t\t Creating 262,144 partitions.\n",
            "[Feb 27, 08:14:33] [0] \t\t *Estimated* 666,736,473 embeddings.\n",
            "[Feb 27, 08:14:33] [0] \t\t #> Saving the indexing plan to /content/experiments/msmarco/indexes/msmarco.nbits=2/plan.json ..\n",
            "[Feb 27, 08:43:50] Loading decompress_residuals_cpp extension (set COLBERT_LOAD_TORCH_EXTENSION_VERBOSE=True for more info)...\n",
            "[Feb 27, 08:44:58] Loading packbits_cpp extension (set COLBERT_LOAD_TORCH_EXTENSION_VERBOSE=True for more info)...\n",
            "[0.04, 0.037, 0.039, 0.041, 0.04, 0.039, 0.041, 0.041, 0.039, 0.038, 0.042, 0.04, 0.04, 0.039, 0.041, 0.038, 0.039, 0.04, 0.038, 0.04, 0.038, 0.036, 0.04, 0.041, 0.037, 0.037, 0.039, 0.039, 0.041, 0.041, 0.039, 0.039, 0.038, 0.04, 0.038, 0.038, 0.045, 0.04, 0.038, 0.039, 0.04, 0.037, 0.038, 0.04, 0.041, 0.039, 0.038, 0.039, 0.039, 0.04, 0.039, 0.039, 0.04, 0.039, 0.04, 0.038, 0.039, 0.038, 0.038, 0.038, 0.039, 0.035, 0.039, 0.038, 0.044, 0.037, 0.039, 0.041, 0.04, 0.035, 0.038, 0.043, 0.038, 0.041, 0.04, 0.039, 0.039, 0.038, 0.04, 0.036, 0.038, 0.039, 0.04, 0.037, 0.039, 0.04, 0.038, 0.037, 0.04, 0.039, 0.04, 0.04, 0.041, 0.038, 0.039, 0.041, 0.04, 0.038, 0.037, 0.039, 0.042, 0.041, 0.039, 0.038, 0.037, 0.041, 0.038, 0.041, 0.039, 0.038, 0.038, 0.037, 0.038, 0.036, 0.038, 0.041, 0.037, 0.038, 0.04, 0.04, 0.038, 0.038, 0.041, 0.036, 0.04, 0.039, 0.039, 0.04]\n",
            "[Feb 27, 08:46:06] #> Got bucket_cutoffs_quantiles = tensor([0.2500, 0.5000, 0.7500], device='cuda:0') and bucket_weights_quantiles = tensor([0.1250, 0.3750, 0.6250, 0.8750], device='cuda:0')\n",
            "[Feb 27, 08:46:06] #> Got bucket_cutoffs = tensor([-0.0319, -0.0003,  0.0313], device='cuda:0') and bucket_weights = tensor([-0.0559, -0.0150,  0.0145,  0.0552], device='cuda:0')\n",
            "[Feb 27, 08:46:06] avg_residual = 0.0390625\n"
          ]
        },
        {
          "output_type": "stream",
          "name": "stderr",
          "text": [
            "\r0it [00:00, ?it/s]"
          ]
        },
        {
          "output_type": "stream",
          "name": "stdout",
          "text": [
            "[Feb 27, 08:46:07] [0] \t\t #> Encoding 25000 passages..\n",
            "[Feb 27, 08:46:23] [0] \t\t #> Saving chunk 0: \t 25,000 passages and 1,792,746 embeddings. From #0 onward.\n"
          ]
        },
        {
          "output_type": "stream",
          "name": "stderr",
          "text": [
            "\r1it [00:18, 18.51s/it]"
          ]
        },
        {
          "output_type": "stream",
          "name": "stdout",
          "text": [
            "[Feb 27, 08:46:25] [0] \t\t #> Encoding 25000 passages..\n",
            "[Feb 27, 08:46:42] [0] \t\t #> Saving chunk 1: \t 25,000 passages and 1,801,085 embeddings. From #25,000 onward.\n"
          ]
        },
        {
          "output_type": "stream",
          "name": "stderr",
          "text": [
            "\r2it [00:37, 18.52s/it]"
          ]
        },
        {
          "output_type": "stream",
          "name": "stdout",
          "text": [
            "[Feb 27, 08:46:44] [0] \t\t #> Encoding 25000 passages..\n",
            "[Feb 27, 08:47:00] [0] \t\t #> Saving chunk 2: \t 25,000 passages and 1,791,677 embeddings. From #50,000 onward.\n"
          ]
        },
        {
          "output_type": "stream",
          "name": "stderr",
          "text": [
            "\r3it [00:55, 18.46s/it]"
          ]
        },
        {
          "output_type": "stream",
          "name": "stdout",
          "text": [
            "[Feb 27, 08:47:02] [0] \t\t #> Encoding 25000 passages..\n",
            "[Feb 27, 08:47:19] [0] \t\t #> Saving chunk 3: \t 25,000 passages and 1,828,314 embeddings. From #75,000 onward.\n"
          ]
        },
        {
          "output_type": "stream",
          "name": "stderr",
          "text": [
            "\r4it [01:13, 18.50s/it]"
          ]
        },
        {
          "output_type": "stream",
          "name": "stdout",
          "text": [
            "[Feb 27, 08:47:21] [0] \t\t #> Encoding 25000 passages..\n",
            "[Feb 27, 08:47:37] [0] \t\t #> Saving chunk 4: \t 25,000 passages and 1,897,824 embeddings. From #100,000 onward.\n"
          ]
        },
        {
          "output_type": "stream",
          "name": "stderr",
          "text": [
            "\r5it [01:32, 18.57s/it]"
          ]
        },
        {
          "output_type": "stream",
          "name": "stdout",
          "text": [
            "[Feb 27, 08:47:40] [0] \t\t #> Encoding 25000 passages..\n",
            "[Feb 27, 08:47:56] [0] \t\t #> Saving chunk 5: \t 25,000 passages and 1,898,836 embeddings. From #125,000 onward.\n"
          ]
        },
        {
          "output_type": "stream",
          "name": "stderr",
          "text": [
            "\r6it [01:51, 18.61s/it]"
          ]
        },
        {
          "output_type": "stream",
          "name": "stdout",
          "text": [
            "[Feb 27, 08:47:58] [0] \t\t #> Encoding 25000 passages..\n",
            "[Feb 27, 08:48:15] [0] \t\t #> Saving chunk 6: \t 25,000 passages and 1,858,229 embeddings. From #150,000 onward.\n"
          ]
        },
        {
          "output_type": "stream",
          "name": "stderr",
          "text": [
            "\r7it [02:10, 18.62s/it]"
          ]
        },
        {
          "output_type": "stream",
          "name": "stdout",
          "text": [
            "[Feb 27, 08:48:17] [0] \t\t #> Encoding 25000 passages..\n",
            "[Feb 27, 08:48:33] [0] \t\t #> Saving chunk 7: \t 25,000 passages and 1,876,792 embeddings. From #175,000 onward.\n"
          ]
        },
        {
          "output_type": "stream",
          "name": "stderr",
          "text": [
            "\r8it [02:28, 18.61s/it]"
          ]
        },
        {
          "output_type": "stream",
          "name": "stdout",
          "text": [
            "[Feb 27, 08:48:36] [0] \t\t #> Encoding 25000 passages..\n",
            "[Feb 27, 08:48:52] [0] \t\t #> Saving chunk 8: \t 25,000 passages and 1,888,989 embeddings. From #200,000 onward.\n"
          ]
        },
        {
          "output_type": "stream",
          "name": "stderr",
          "text": [
            "\r9it [02:47, 18.63s/it]"
          ]
        },
        {
          "output_type": "stream",
          "name": "stdout",
          "text": [
            "[Feb 27, 08:48:54] [0] \t\t #> Encoding 25000 passages..\n",
            "[Feb 27, 08:49:10] [0] \t\t #> Saving chunk 9: \t 25,000 passages and 1,885,159 embeddings. From #225,000 onward.\n"
          ]
        },
        {
          "output_type": "stream",
          "name": "stderr",
          "text": [
            "\r10it [03:05, 18.63s/it]"
          ]
        },
        {
          "output_type": "stream",
          "name": "stdout",
          "text": [
            "[Feb 27, 08:49:13] [0] \t\t #> Encoding 25000 passages..\n",
            "[Feb 27, 08:49:29] [0] \t\t #> Saving chunk 10: \t 25,000 passages and 1,867,200 embeddings. From #250,000 onward.\n"
          ]
        },
        {
          "output_type": "stream",
          "name": "stderr",
          "text": [
            "\r11it [03:24, 18.63s/it]"
          ]
        },
        {
          "output_type": "stream",
          "name": "stdout",
          "text": [
            "[Feb 27, 08:49:31] [0] \t\t #> Encoding 25000 passages..\n",
            "[Feb 27, 08:49:48] [0] \t\t #> Saving chunk 11: \t 25,000 passages and 1,869,429 embeddings. From #275,000 onward.\n"
          ]
        },
        {
          "output_type": "stream",
          "name": "stderr",
          "text": [
            "\r12it [03:43, 18.66s/it]"
          ]
        },
        {
          "output_type": "stream",
          "name": "stdout",
          "text": [
            "[Feb 27, 08:49:50] [0] \t\t #> Encoding 25000 passages..\n",
            "[Feb 27, 08:50:06] [0] \t\t #> Saving chunk 12: \t 25,000 passages and 1,881,025 embeddings. From #300,000 onward.\n"
          ]
        },
        {
          "output_type": "stream",
          "name": "stderr",
          "text": [
            "\r13it [04:01, 18.63s/it]"
          ]
        },
        {
          "output_type": "stream",
          "name": "stdout",
          "text": [
            "[Feb 27, 08:50:09] [0] \t\t #> Encoding 25000 passages..\n",
            "[Feb 27, 08:50:25] [0] \t\t #> Saving chunk 13: \t 25,000 passages and 1,876,447 embeddings. From #325,000 onward.\n"
          ]
        },
        {
          "output_type": "stream",
          "name": "stderr",
          "text": [
            "\r14it [04:20, 18.67s/it]"
          ]
        },
        {
          "output_type": "stream",
          "name": "stdout",
          "text": [
            "[Feb 27, 08:50:27] [0] \t\t #> Encoding 25000 passages..\n",
            "[Feb 27, 08:50:44] [0] \t\t #> Saving chunk 14: \t 25,000 passages and 1,888,076 embeddings. From #350,000 onward.\n"
          ]
        },
        {
          "output_type": "stream",
          "name": "stderr",
          "text": [
            "\r15it [04:39, 18.64s/it]"
          ]
        },
        {
          "output_type": "stream",
          "name": "stdout",
          "text": [
            "[Feb 27, 08:50:46] [0] \t\t #> Encoding 25000 passages..\n",
            "[Feb 27, 08:51:02] [0] \t\t #> Saving chunk 15: \t 25,000 passages and 1,874,796 embeddings. From #375,000 onward.\n"
          ]
        },
        {
          "output_type": "stream",
          "name": "stderr",
          "text": [
            "\r16it [04:57, 18.64s/it]"
          ]
        },
        {
          "output_type": "stream",
          "name": "stdout",
          "text": [
            "[Feb 27, 08:51:05] [0] \t\t #> Encoding 25000 passages..\n",
            "[Feb 27, 08:51:21] [0] \t\t #> Saving chunk 16: \t 25,000 passages and 1,864,483 embeddings. From #400,000 onward.\n"
          ]
        },
        {
          "output_type": "stream",
          "name": "stderr",
          "text": [
            "\r17it [05:16, 18.64s/it]"
          ]
        },
        {
          "output_type": "stream",
          "name": "stdout",
          "text": [
            "[Feb 27, 08:51:23] [0] \t\t #> Encoding 25000 passages..\n",
            "[Feb 27, 08:51:40] [0] \t\t #> Saving chunk 17: \t 25,000 passages and 1,893,372 embeddings. From #425,000 onward.\n"
          ]
        },
        {
          "output_type": "stream",
          "name": "stderr",
          "text": [
            "\r18it [05:35, 18.66s/it]"
          ]
        },
        {
          "output_type": "stream",
          "name": "stdout",
          "text": [
            "[Feb 27, 08:51:42] [0] \t\t #> Encoding 25000 passages..\n",
            "[Feb 27, 08:51:58] [0] \t\t #> Saving chunk 18: \t 25,000 passages and 1,880,258 embeddings. From #450,000 onward.\n"
          ]
        },
        {
          "output_type": "stream",
          "name": "stderr",
          "text": [
            "\r19it [05:53, 18.65s/it]"
          ]
        },
        {
          "output_type": "stream",
          "name": "stdout",
          "text": [
            "[Feb 27, 08:52:01] [0] \t\t #> Encoding 25000 passages..\n",
            "[Feb 27, 08:52:17] [0] \t\t #> Saving chunk 19: \t 25,000 passages and 1,884,409 embeddings. From #475,000 onward.\n"
          ]
        },
        {
          "output_type": "stream",
          "name": "stderr",
          "text": [
            "\r20it [06:12, 18.70s/it]"
          ]
        },
        {
          "output_type": "stream",
          "name": "stdout",
          "text": [
            "[Feb 27, 08:52:19] [0] \t\t #> Encoding 25000 passages..\n",
            "[Feb 27, 08:52:36] [0] \t\t #> Saving chunk 20: \t 25,000 passages and 1,881,006 embeddings. From #500,000 onward.\n"
          ]
        },
        {
          "output_type": "stream",
          "name": "stderr",
          "text": [
            "\r21it [06:31, 18.71s/it]"
          ]
        },
        {
          "output_type": "stream",
          "name": "stdout",
          "text": [
            "[Feb 27, 08:52:38] [0] \t\t #> Encoding 25000 passages..\n",
            "[Feb 27, 08:52:54] [0] \t\t #> Saving chunk 21: \t 25,000 passages and 1,879,827 embeddings. From #525,000 onward.\n"
          ]
        },
        {
          "output_type": "stream",
          "name": "stderr",
          "text": [
            "\r22it [06:49, 18.70s/it]"
          ]
        },
        {
          "output_type": "stream",
          "name": "stdout",
          "text": [
            "[Feb 27, 08:52:57] [0] \t\t #> Encoding 25000 passages..\n",
            "[Feb 27, 08:53:13] [0] \t\t #> Saving chunk 22: \t 25,000 passages and 1,850,481 embeddings. From #550,000 onward.\n"
          ]
        },
        {
          "output_type": "stream",
          "name": "stderr",
          "text": [
            "\r23it [07:08, 18.65s/it]"
          ]
        },
        {
          "output_type": "stream",
          "name": "stdout",
          "text": [
            "[Feb 27, 08:53:15] [0] \t\t #> Encoding 25000 passages..\n",
            "[Feb 27, 08:53:32] [0] \t\t #> Saving chunk 23: \t 25,000 passages and 1,868,943 embeddings. From #575,000 onward.\n"
          ]
        },
        {
          "output_type": "stream",
          "name": "stderr",
          "text": [
            "\r24it [07:27, 18.64s/it]"
          ]
        },
        {
          "output_type": "stream",
          "name": "stdout",
          "text": [
            "[Feb 27, 08:53:34] [0] \t\t #> Encoding 25000 passages..\n",
            "[Feb 27, 08:53:50] [0] \t\t #> Saving chunk 24: \t 25,000 passages and 1,856,855 embeddings. From #600,000 onward.\n"
          ]
        },
        {
          "output_type": "stream",
          "name": "stderr",
          "text": [
            "\r25it [07:45, 18.63s/it]"
          ]
        },
        {
          "output_type": "stream",
          "name": "stdout",
          "text": [
            "[Feb 27, 08:53:53] [0] \t\t #> Encoding 25000 passages..\n",
            "[Feb 27, 08:54:09] [0] \t\t #> Saving chunk 25: \t 25,000 passages and 1,889,781 embeddings. From #625,000 onward.\n"
          ]
        },
        {
          "output_type": "stream",
          "name": "stderr",
          "text": [
            "\r26it [08:04, 18.68s/it]"
          ]
        },
        {
          "output_type": "stream",
          "name": "stdout",
          "text": [
            "[Feb 27, 08:54:11] [0] \t\t #> Encoding 25000 passages..\n",
            "[Feb 27, 08:54:28] [0] \t\t #> Saving chunk 26: \t 25,000 passages and 1,873,778 embeddings. From #650,000 onward.\n"
          ]
        },
        {
          "output_type": "stream",
          "name": "stderr",
          "text": [
            "\r27it [08:23, 18.67s/it]"
          ]
        },
        {
          "output_type": "stream",
          "name": "stdout",
          "text": [
            "[Feb 27, 08:54:30] [0] \t\t #> Encoding 25000 passages..\n",
            "[Feb 27, 08:54:46] [0] \t\t #> Saving chunk 27: \t 25,000 passages and 1,882,705 embeddings. From #675,000 onward.\n"
          ]
        },
        {
          "output_type": "stream",
          "name": "stderr",
          "text": [
            "\r28it [08:41, 18.65s/it]"
          ]
        },
        {
          "output_type": "stream",
          "name": "stdout",
          "text": [
            "[Feb 27, 08:54:49] [0] \t\t #> Encoding 25000 passages..\n",
            "[Feb 27, 08:55:05] [0] \t\t #> Saving chunk 28: \t 25,000 passages and 1,884,714 embeddings. From #700,000 onward.\n"
          ]
        },
        {
          "output_type": "stream",
          "name": "stderr",
          "text": [
            "\r29it [09:00, 18.69s/it]"
          ]
        },
        {
          "output_type": "stream",
          "name": "stdout",
          "text": [
            "[Feb 27, 08:55:07] [0] \t\t #> Encoding 25000 passages..\n",
            "[Feb 27, 08:55:24] [0] \t\t #> Saving chunk 29: \t 25,000 passages and 1,875,774 embeddings. From #725,000 onward.\n"
          ]
        },
        {
          "output_type": "stream",
          "name": "stderr",
          "text": [
            "\r30it [09:19, 18.68s/it]"
          ]
        },
        {
          "output_type": "stream",
          "name": "stdout",
          "text": [
            "[Feb 27, 08:55:26] [0] \t\t #> Encoding 25000 passages..\n",
            "[Feb 27, 08:55:42] [0] \t\t #> Saving chunk 30: \t 25,000 passages and 1,880,613 embeddings. From #750,000 onward.\n"
          ]
        },
        {
          "output_type": "stream",
          "name": "stderr",
          "text": [
            "\r31it [09:37, 18.70s/it]"
          ]
        },
        {
          "output_type": "stream",
          "name": "stdout",
          "text": [
            "[Feb 27, 08:55:45] [0] \t\t #> Encoding 25000 passages..\n",
            "[Feb 27, 08:56:01] [0] \t\t #> Saving chunk 31: \t 25,000 passages and 1,876,468 embeddings. From #775,000 onward.\n"
          ]
        },
        {
          "output_type": "stream",
          "name": "stderr",
          "text": [
            "\r32it [09:56, 18.66s/it]"
          ]
        },
        {
          "output_type": "stream",
          "name": "stdout",
          "text": [
            "[Feb 27, 08:56:03] [0] \t\t #> Encoding 25000 passages..\n",
            "[Feb 27, 08:56:20] [0] \t\t #> Saving chunk 32: \t 25,000 passages and 1,896,761 embeddings. From #800,000 onward.\n"
          ]
        },
        {
          "output_type": "stream",
          "name": "stderr",
          "text": [
            "\r33it [10:15, 18.67s/it]"
          ]
        },
        {
          "output_type": "stream",
          "name": "stdout",
          "text": [
            "[Feb 27, 08:56:22] [0] \t\t #> Encoding 25000 passages..\n",
            "[Feb 27, 08:56:38] [0] \t\t #> Saving chunk 33: \t 25,000 passages and 1,877,948 embeddings. From #825,000 onward.\n"
          ]
        },
        {
          "output_type": "stream",
          "name": "stderr",
          "text": [
            "\r34it [10:33, 18.67s/it]"
          ]
        },
        {
          "output_type": "stream",
          "name": "stdout",
          "text": [
            "[Feb 27, 08:56:41] [0] \t\t #> Encoding 25000 passages..\n",
            "[Feb 27, 08:56:57] [0] \t\t #> Saving chunk 34: \t 25,000 passages and 1,869,297 embeddings. From #850,000 onward.\n"
          ]
        },
        {
          "output_type": "stream",
          "name": "stderr",
          "text": [
            "\r35it [10:52, 18.66s/it]"
          ]
        },
        {
          "output_type": "stream",
          "name": "stdout",
          "text": [
            "[Feb 27, 08:56:59] [0] \t\t #> Encoding 25000 passages..\n",
            "[Feb 27, 08:57:16] [0] \t\t #> Saving chunk 35: \t 25,000 passages and 1,883,431 embeddings. From #875,000 onward.\n"
          ]
        },
        {
          "output_type": "stream",
          "name": "stderr",
          "text": [
            "\r36it [11:11, 18.66s/it]"
          ]
        },
        {
          "output_type": "stream",
          "name": "stdout",
          "text": [
            "[Feb 27, 08:57:18] [0] \t\t #> Encoding 25000 passages..\n",
            "[Feb 27, 08:57:34] [0] \t\t #> Saving chunk 36: \t 25,000 passages and 1,879,330 embeddings. From #900,000 onward.\n"
          ]
        },
        {
          "output_type": "stream",
          "name": "stderr",
          "text": [
            "\r37it [11:29, 18.67s/it]"
          ]
        },
        {
          "output_type": "stream",
          "name": "stdout",
          "text": [
            "[Feb 27, 08:57:37] [0] \t\t #> Encoding 25000 passages..\n",
            "[Feb 27, 08:57:53] [0] \t\t #> Saving chunk 37: \t 25,000 passages and 1,887,719 embeddings. From #925,000 onward.\n"
          ]
        },
        {
          "output_type": "stream",
          "name": "stderr",
          "text": [
            "\r38it [11:48, 18.71s/it]"
          ]
        },
        {
          "output_type": "stream",
          "name": "stdout",
          "text": [
            "[Feb 27, 08:57:56] [0] \t\t #> Encoding 25000 passages..\n",
            "[Feb 27, 08:58:12] [0] \t\t #> Saving chunk 38: \t 25,000 passages and 1,895,931 embeddings. From #950,000 onward.\n"
          ]
        },
        {
          "output_type": "stream",
          "name": "stderr",
          "text": [
            "\r39it [12:07, 18.72s/it]"
          ]
        },
        {
          "output_type": "stream",
          "name": "stdout",
          "text": [
            "[Feb 27, 08:58:14] [0] \t\t #> Encoding 25000 passages..\n",
            "[Feb 27, 08:58:31] [0] \t\t #> Saving chunk 39: \t 25,000 passages and 1,864,912 embeddings. From #975,000 onward.\n"
          ]
        },
        {
          "output_type": "stream",
          "name": "stderr",
          "text": [
            "\r40it [12:25, 18.67s/it]"
          ]
        },
        {
          "output_type": "stream",
          "name": "stdout",
          "text": [
            "[Feb 27, 08:58:33] [0] \t\t #> Encoding 25000 passages..\n",
            "[Feb 27, 08:58:49] [0] \t\t #> Saving chunk 40: \t 25,000 passages and 1,905,720 embeddings. From #1,000,000 onward.\n"
          ]
        },
        {
          "output_type": "stream",
          "name": "stderr",
          "text": [
            "\r41it [12:44, 18.68s/it]"
          ]
        },
        {
          "output_type": "stream",
          "name": "stdout",
          "text": [
            "[Feb 27, 08:58:52] [0] \t\t #> Encoding 25000 passages..\n",
            "[Feb 27, 08:59:08] [0] \t\t #> Saving chunk 41: \t 25,000 passages and 1,871,209 embeddings. From #1,025,000 onward.\n"
          ]
        },
        {
          "output_type": "stream",
          "name": "stderr",
          "text": [
            "\r42it [13:03, 18.66s/it]"
          ]
        },
        {
          "output_type": "stream",
          "name": "stdout",
          "text": [
            "[Feb 27, 08:59:10] [0] \t\t #> Encoding 25000 passages..\n",
            "[Feb 27, 08:59:27] [0] \t\t #> Saving chunk 42: \t 25,000 passages and 1,880,375 embeddings. From #1,050,000 onward.\n"
          ]
        },
        {
          "output_type": "stream",
          "name": "stderr",
          "text": [
            "\r43it [13:22, 18.67s/it]"
          ]
        },
        {
          "output_type": "stream",
          "name": "stdout",
          "text": [
            "[Feb 27, 08:59:29] [0] \t\t #> Encoding 25000 passages..\n",
            "[Feb 27, 08:59:45] [0] \t\t #> Saving chunk 43: \t 25,000 passages and 1,868,380 embeddings. From #1,075,000 onward.\n"
          ]
        },
        {
          "output_type": "stream",
          "name": "stderr",
          "text": [
            "\r44it [13:40, 18.68s/it]"
          ]
        },
        {
          "output_type": "stream",
          "name": "stdout",
          "text": [
            "[Feb 27, 08:59:48] [0] \t\t #> Encoding 25000 passages..\n",
            "[Feb 27, 09:00:04] [0] \t\t #> Saving chunk 44: \t 25,000 passages and 1,883,620 embeddings. From #1,100,000 onward.\n"
          ]
        },
        {
          "output_type": "stream",
          "name": "stderr",
          "text": [
            "\r45it [13:59, 18.66s/it]"
          ]
        },
        {
          "output_type": "stream",
          "name": "stdout",
          "text": [
            "[Feb 27, 09:00:06] [0] \t\t #> Encoding 25000 passages..\n",
            "[Feb 27, 09:00:23] [0] \t\t #> Saving chunk 45: \t 25,000 passages and 1,879,377 embeddings. From #1,125,000 onward.\n"
          ]
        },
        {
          "output_type": "stream",
          "name": "stderr",
          "text": [
            "\r46it [14:18, 18.67s/it]"
          ]
        },
        {
          "output_type": "stream",
          "name": "stdout",
          "text": [
            "[Feb 27, 09:00:25] [0] \t\t #> Encoding 25000 passages..\n",
            "[Feb 27, 09:00:41] [0] \t\t #> Saving chunk 46: \t 25,000 passages and 1,890,900 embeddings. From #1,150,000 onward.\n"
          ]
        },
        {
          "output_type": "stream",
          "name": "stderr",
          "text": [
            "\r47it [14:36, 18.71s/it]"
          ]
        },
        {
          "output_type": "stream",
          "name": "stdout",
          "text": [
            "[Feb 27, 09:00:44] [0] \t\t #> Encoding 25000 passages..\n",
            "[Feb 27, 09:01:00] [0] \t\t #> Saving chunk 47: \t 25,000 passages and 1,884,897 embeddings. From #1,175,000 onward.\n"
          ]
        },
        {
          "output_type": "stream",
          "name": "stderr",
          "text": [
            "\r48it [14:55, 18.70s/it]"
          ]
        },
        {
          "output_type": "stream",
          "name": "stdout",
          "text": [
            "[Feb 27, 09:01:02] [0] \t\t #> Encoding 25000 passages..\n",
            "[Feb 27, 09:01:19] [0] \t\t #> Saving chunk 48: \t 25,000 passages and 1,871,166 embeddings. From #1,200,000 onward.\n"
          ]
        },
        {
          "output_type": "stream",
          "name": "stderr",
          "text": [
            "\r49it [15:14, 18.67s/it]"
          ]
        },
        {
          "output_type": "stream",
          "name": "stdout",
          "text": [
            "[Feb 27, 09:01:21] [0] \t\t #> Encoding 25000 passages..\n",
            "[Feb 27, 09:01:37] [0] \t\t #> Saving chunk 49: \t 25,000 passages and 1,878,159 embeddings. From #1,225,000 onward.\n"
          ]
        },
        {
          "output_type": "stream",
          "name": "stderr",
          "text": [
            "\r50it [15:32, 18.66s/it]"
          ]
        },
        {
          "output_type": "stream",
          "name": "stdout",
          "text": [
            "[Feb 27, 09:01:40] [0] \t\t #> Encoding 25000 passages..\n",
            "[Feb 27, 09:01:56] [0] \t\t #> Saving chunk 50: \t 25,000 passages and 1,849,358 embeddings. From #1,250,000 onward.\n"
          ]
        },
        {
          "output_type": "stream",
          "name": "stderr",
          "text": [
            "\r51it [15:51, 18.64s/it]"
          ]
        },
        {
          "output_type": "stream",
          "name": "stdout",
          "text": [
            "[Feb 27, 09:01:58] [0] \t\t #> Encoding 25000 passages..\n",
            "[Feb 27, 09:02:15] [0] \t\t #> Saving chunk 51: \t 25,000 passages and 1,881,287 embeddings. From #1,275,000 onward.\n"
          ]
        },
        {
          "output_type": "stream",
          "name": "stderr",
          "text": [
            "\r52it [16:09, 18.65s/it]"
          ]
        },
        {
          "output_type": "stream",
          "name": "stdout",
          "text": [
            "[Feb 27, 09:02:17] [0] \t\t #> Encoding 25000 passages..\n",
            "[Feb 27, 09:02:33] [0] \t\t #> Saving chunk 52: \t 25,000 passages and 1,885,273 embeddings. From #1,300,000 onward.\n"
          ]
        },
        {
          "output_type": "stream",
          "name": "stderr",
          "text": [
            "\r53it [16:28, 18.67s/it]"
          ]
        },
        {
          "output_type": "stream",
          "name": "stdout",
          "text": [
            "[Feb 27, 09:02:36] [0] \t\t #> Encoding 25000 passages..\n",
            "[Feb 27, 09:02:52] [0] \t\t #> Saving chunk 53: \t 25,000 passages and 1,897,435 embeddings. From #1,325,000 onward.\n"
          ]
        },
        {
          "output_type": "stream",
          "name": "stderr",
          "text": [
            "\r54it [16:47, 18.66s/it]"
          ]
        },
        {
          "output_type": "stream",
          "name": "stdout",
          "text": [
            "[Feb 27, 09:02:54] [0] \t\t #> Encoding 25000 passages..\n",
            "[Feb 27, 09:03:11] [0] \t\t #> Saving chunk 54: \t 25,000 passages and 1,895,855 embeddings. From #1,350,000 onward.\n"
          ]
        },
        {
          "output_type": "stream",
          "name": "stderr",
          "text": [
            "\r55it [17:06, 18.70s/it]"
          ]
        },
        {
          "output_type": "stream",
          "name": "stdout",
          "text": [
            "[Feb 27, 09:03:13] [0] \t\t #> Encoding 25000 passages..\n",
            "[Feb 27, 09:03:29] [0] \t\t #> Saving chunk 55: \t 25,000 passages and 1,897,161 embeddings. From #1,375,000 onward.\n"
          ]
        },
        {
          "output_type": "stream",
          "name": "stderr",
          "text": [
            "\r56it [17:24, 18.69s/it]"
          ]
        },
        {
          "output_type": "stream",
          "name": "stdout",
          "text": [
            "[Feb 27, 09:03:32] [0] \t\t #> Encoding 25000 passages..\n",
            "[Feb 27, 09:03:48] [0] \t\t #> Saving chunk 56: \t 25,000 passages and 1,886,531 embeddings. From #1,400,000 onward.\n"
          ]
        },
        {
          "output_type": "stream",
          "name": "stderr",
          "text": [
            "\r57it [17:43, 18.68s/it]"
          ]
        },
        {
          "output_type": "stream",
          "name": "stdout",
          "text": [
            "[Feb 27, 09:03:50] [0] \t\t #> Encoding 25000 passages..\n",
            "[Feb 27, 09:04:07] [0] \t\t #> Saving chunk 57: \t 25,000 passages and 1,887,151 embeddings. From #1,425,000 onward.\n"
          ]
        },
        {
          "output_type": "stream",
          "name": "stderr",
          "text": [
            "\r58it [18:02, 18.68s/it]"
          ]
        },
        {
          "output_type": "stream",
          "name": "stdout",
          "text": [
            "[Feb 27, 09:04:09] [0] \t\t #> Encoding 25000 passages..\n",
            "[Feb 27, 09:04:25] [0] \t\t #> Saving chunk 58: \t 25,000 passages and 1,876,108 embeddings. From #1,450,000 onward.\n"
          ]
        },
        {
          "output_type": "stream",
          "name": "stderr",
          "text": [
            "\r59it [18:20, 18.67s/it]"
          ]
        },
        {
          "output_type": "stream",
          "name": "stdout",
          "text": [
            "[Feb 27, 09:04:28] [0] \t\t #> Encoding 25000 passages..\n",
            "[Feb 27, 09:04:44] [0] \t\t #> Saving chunk 59: \t 25,000 passages and 1,891,450 embeddings. From #1,475,000 onward.\n"
          ]
        },
        {
          "output_type": "stream",
          "name": "stderr",
          "text": [
            "\r60it [18:39, 18.67s/it]"
          ]
        },
        {
          "output_type": "stream",
          "name": "stdout",
          "text": [
            "[Feb 27, 09:04:46] [0] \t\t #> Encoding 25000 passages..\n",
            "[Feb 27, 09:05:03] [0] \t\t #> Saving chunk 60: \t 25,000 passages and 1,877,223 embeddings. From #1,500,000 onward.\n"
          ]
        },
        {
          "output_type": "stream",
          "name": "stderr",
          "text": [
            "\r61it [18:58, 18.68s/it]"
          ]
        },
        {
          "output_type": "stream",
          "name": "stdout",
          "text": [
            "[Feb 27, 09:05:05] [0] \t\t #> Encoding 25000 passages..\n",
            "[Feb 27, 09:05:21] [0] \t\t #> Saving chunk 61: \t 25,000 passages and 1,891,860 embeddings. From #1,525,000 onward.\n"
          ]
        },
        {
          "output_type": "stream",
          "name": "stderr",
          "text": [
            "\r62it [19:16, 18.68s/it]"
          ]
        },
        {
          "output_type": "stream",
          "name": "stdout",
          "text": [
            "[Feb 27, 09:05:24] [0] \t\t #> Encoding 25000 passages..\n",
            "[Feb 27, 09:05:40] [0] \t\t #> Saving chunk 62: \t 25,000 passages and 1,878,446 embeddings. From #1,550,000 onward.\n"
          ]
        },
        {
          "output_type": "stream",
          "name": "stderr",
          "text": [
            "\r63it [19:35, 18.68s/it]"
          ]
        },
        {
          "output_type": "stream",
          "name": "stdout",
          "text": [
            "[Feb 27, 09:05:42] [0] \t\t #> Encoding 25000 passages..\n",
            "[Feb 27, 09:05:59] [0] \t\t #> Saving chunk 63: \t 25,000 passages and 1,871,173 embeddings. From #1,575,000 onward.\n"
          ]
        },
        {
          "output_type": "stream",
          "name": "stderr",
          "text": [
            "\r64it [19:54, 18.65s/it]"
          ]
        },
        {
          "output_type": "stream",
          "name": "stdout",
          "text": [
            "[Feb 27, 09:06:01] [0] \t\t #> Encoding 25000 passages..\n",
            "[Feb 27, 09:06:17] [0] \t\t #> Saving chunk 64: \t 25,000 passages and 1,865,595 embeddings. From #1,600,000 onward.\n"
          ]
        },
        {
          "output_type": "stream",
          "name": "stderr",
          "text": [
            "\r65it [20:12, 18.65s/it]"
          ]
        },
        {
          "output_type": "stream",
          "name": "stdout",
          "text": [
            "[Feb 27, 09:06:20] [0] \t\t #> Encoding 25000 passages..\n",
            "[Feb 27, 09:06:36] [0] \t\t #> Saving chunk 65: \t 25,000 passages and 1,883,520 embeddings. From #1,625,000 onward.\n"
          ]
        },
        {
          "output_type": "stream",
          "name": "stderr",
          "text": [
            "\r66it [20:31, 18.65s/it]"
          ]
        },
        {
          "output_type": "stream",
          "name": "stdout",
          "text": [
            "[Feb 27, 09:06:38] [0] \t\t #> Encoding 25000 passages..\n",
            "[Feb 27, 09:06:55] [0] \t\t #> Saving chunk 66: \t 25,000 passages and 1,883,962 embeddings. From #1,650,000 onward.\n"
          ]
        },
        {
          "output_type": "stream",
          "name": "stderr",
          "text": [
            "\r67it [20:50, 18.71s/it]"
          ]
        },
        {
          "output_type": "stream",
          "name": "stdout",
          "text": [
            "[Feb 27, 09:06:57] [0] \t\t #> Encoding 25000 passages..\n",
            "[Feb 27, 09:07:13] [0] \t\t #> Saving chunk 67: \t 25,000 passages and 1,885,325 embeddings. From #1,675,000 onward.\n"
          ]
        },
        {
          "output_type": "stream",
          "name": "stderr",
          "text": [
            "\r68it [21:08, 18.67s/it]"
          ]
        },
        {
          "output_type": "stream",
          "name": "stdout",
          "text": [
            "[Feb 27, 09:07:16] [0] \t\t #> Encoding 25000 passages..\n",
            "[Feb 27, 09:07:32] [0] \t\t #> Saving chunk 68: \t 25,000 passages and 1,874,458 embeddings. From #1,700,000 onward.\n"
          ]
        },
        {
          "output_type": "stream",
          "name": "stderr",
          "text": [
            "\r69it [21:27, 18.70s/it]"
          ]
        },
        {
          "output_type": "stream",
          "name": "stdout",
          "text": [
            "[Feb 27, 09:07:34] [0] \t\t #> Encoding 25000 passages..\n",
            "[Feb 27, 09:07:51] [0] \t\t #> Saving chunk 69: \t 25,000 passages and 1,869,752 embeddings. From #1,725,000 onward.\n"
          ]
        },
        {
          "output_type": "stream",
          "name": "stderr",
          "text": [
            "\r70it [21:46, 18.67s/it]"
          ]
        },
        {
          "output_type": "stream",
          "name": "stdout",
          "text": [
            "[Feb 27, 09:07:53] [0] \t\t #> Encoding 25000 passages..\n",
            "[Feb 27, 09:08:09] [0] \t\t #> Saving chunk 70: \t 25,000 passages and 1,900,577 embeddings. From #1,750,000 onward.\n"
          ]
        },
        {
          "output_type": "stream",
          "name": "stderr",
          "text": [
            "\r71it [22:04, 18.66s/it]"
          ]
        },
        {
          "output_type": "stream",
          "name": "stdout",
          "text": [
            "[Feb 27, 09:08:12] [0] \t\t #> Encoding 25000 passages..\n",
            "[Feb 27, 09:08:28] [0] \t\t #> Saving chunk 71: \t 25,000 passages and 1,893,873 embeddings. From #1,775,000 onward.\n"
          ]
        },
        {
          "output_type": "stream",
          "name": "stderr",
          "text": [
            "\r72it [22:23, 18.68s/it]"
          ]
        },
        {
          "output_type": "stream",
          "name": "stdout",
          "text": [
            "[Feb 27, 09:08:30] [0] \t\t #> Encoding 25000 passages..\n",
            "[Feb 27, 09:08:47] [0] \t\t #> Saving chunk 72: \t 25,000 passages and 1,908,132 embeddings. From #1,800,000 onward.\n"
          ]
        },
        {
          "output_type": "stream",
          "name": "stderr",
          "text": [
            "\r73it [22:42, 18.72s/it]"
          ]
        },
        {
          "output_type": "stream",
          "name": "stdout",
          "text": [
            "[Feb 27, 09:08:49] [0] \t\t #> Encoding 25000 passages..\n",
            "[Feb 27, 09:09:06] [0] \t\t #> Saving chunk 73: \t 25,000 passages and 1,897,624 embeddings. From #1,825,000 onward.\n"
          ]
        },
        {
          "output_type": "stream",
          "name": "stderr",
          "text": [
            "\r74it [23:00, 18.69s/it]"
          ]
        },
        {
          "output_type": "stream",
          "name": "stdout",
          "text": [
            "[Feb 27, 09:09:08] [0] \t\t #> Encoding 25000 passages..\n",
            "[Feb 27, 09:09:24] [0] \t\t #> Saving chunk 74: \t 25,000 passages and 1,896,000 embeddings. From #1,850,000 onward.\n"
          ]
        },
        {
          "output_type": "stream",
          "name": "stderr",
          "text": [
            "\r75it [23:19, 18.73s/it]"
          ]
        },
        {
          "output_type": "stream",
          "name": "stdout",
          "text": [
            "[Feb 27, 09:09:27] [0] \t\t #> Encoding 25000 passages..\n",
            "[Feb 27, 09:09:43] [0] \t\t #> Saving chunk 75: \t 25,000 passages and 1,870,749 embeddings. From #1,875,000 onward.\n"
          ]
        },
        {
          "output_type": "stream",
          "name": "stderr",
          "text": [
            "\r76it [23:38, 18.69s/it]"
          ]
        },
        {
          "output_type": "stream",
          "name": "stdout",
          "text": [
            "[Feb 27, 09:09:45] [0] \t\t #> Encoding 25000 passages..\n",
            "[Feb 27, 09:10:02] [0] \t\t #> Saving chunk 76: \t 25,000 passages and 1,881,267 embeddings. From #1,900,000 onward.\n"
          ]
        },
        {
          "output_type": "stream",
          "name": "stderr",
          "text": [
            "\r77it [23:57, 18.68s/it]"
          ]
        },
        {
          "output_type": "stream",
          "name": "stdout",
          "text": [
            "[Feb 27, 09:10:04] [0] \t\t #> Encoding 25000 passages..\n",
            "[Feb 27, 09:10:20] [0] \t\t #> Saving chunk 77: \t 25,000 passages and 1,889,674 embeddings. From #1,925,000 onward.\n"
          ]
        },
        {
          "output_type": "stream",
          "name": "stderr",
          "text": [
            "\r78it [24:15, 18.68s/it]"
          ]
        },
        {
          "output_type": "stream",
          "name": "stdout",
          "text": [
            "[Feb 27, 09:10:23] [0] \t\t #> Encoding 25000 passages..\n",
            "[Feb 27, 09:10:39] [0] \t\t #> Saving chunk 78: \t 25,000 passages and 1,890,729 embeddings. From #1,950,000 onward.\n"
          ]
        },
        {
          "output_type": "stream",
          "name": "stderr",
          "text": [
            "\r79it [24:34, 18.74s/it]"
          ]
        },
        {
          "output_type": "stream",
          "name": "stdout",
          "text": [
            "[Feb 27, 09:10:41] [0] \t\t #> Encoding 25000 passages..\n",
            "[Feb 27, 09:10:58] [0] \t\t #> Saving chunk 79: \t 25,000 passages and 1,891,488 embeddings. From #1,975,000 onward.\n"
          ]
        },
        {
          "output_type": "stream",
          "name": "stderr",
          "text": [
            "\r80it [24:53, 18.73s/it]"
          ]
        },
        {
          "output_type": "stream",
          "name": "stdout",
          "text": [
            "[Feb 27, 09:11:00] [0] \t\t #> Encoding 25000 passages..\n",
            "[Feb 27, 09:11:17] [0] \t\t #> Saving chunk 80: \t 25,000 passages and 1,907,376 embeddings. From #2,000,000 onward.\n"
          ]
        },
        {
          "output_type": "stream",
          "name": "stderr",
          "text": [
            "\r81it [25:12, 18.74s/it]"
          ]
        },
        {
          "output_type": "stream",
          "name": "stdout",
          "text": [
            "[Feb 27, 09:11:19] [0] \t\t #> Encoding 25000 passages..\n",
            "[Feb 27, 09:11:35] [0] \t\t #> Saving chunk 81: \t 25,000 passages and 1,881,290 embeddings. From #2,025,000 onward.\n"
          ]
        },
        {
          "output_type": "stream",
          "name": "stderr",
          "text": [
            "\r82it [25:30, 18.74s/it]"
          ]
        },
        {
          "output_type": "stream",
          "name": "stdout",
          "text": [
            "[Feb 27, 09:11:38] [0] \t\t #> Encoding 25000 passages..\n",
            "[Feb 27, 09:11:54] [0] \t\t #> Saving chunk 82: \t 25,000 passages and 1,893,490 embeddings. From #2,050,000 onward.\n"
          ]
        },
        {
          "output_type": "stream",
          "name": "stderr",
          "text": [
            "\r83it [25:49, 18.71s/it]"
          ]
        },
        {
          "output_type": "stream",
          "name": "stdout",
          "text": [
            "[Feb 27, 09:11:56] [0] \t\t #> Encoding 25000 passages..\n",
            "[Feb 27, 09:12:13] [0] \t\t #> Saving chunk 83: \t 25,000 passages and 1,914,275 embeddings. From #2,075,000 onward.\n"
          ]
        },
        {
          "output_type": "stream",
          "name": "stderr",
          "text": [
            "\r84it [26:08, 18.75s/it]"
          ]
        },
        {
          "output_type": "stream",
          "name": "stdout",
          "text": [
            "[Feb 27, 09:12:15] [0] \t\t #> Encoding 25000 passages..\n",
            "[Feb 27, 09:12:31] [0] \t\t #> Saving chunk 84: \t 25,000 passages and 1,877,393 embeddings. From #2,100,000 onward.\n"
          ]
        },
        {
          "output_type": "stream",
          "name": "stderr",
          "text": [
            "\r85it [26:26, 18.71s/it]"
          ]
        },
        {
          "output_type": "stream",
          "name": "stdout",
          "text": [
            "[Feb 27, 09:12:34] [0] \t\t #> Encoding 25000 passages..\n",
            "[Feb 27, 09:12:50] [0] \t\t #> Saving chunk 85: \t 25,000 passages and 1,881,733 embeddings. From #2,125,000 onward.\n"
          ]
        },
        {
          "output_type": "stream",
          "name": "stderr",
          "text": [
            "\r86it [26:45, 18.74s/it]"
          ]
        },
        {
          "output_type": "stream",
          "name": "stdout",
          "text": [
            "[Feb 27, 09:12:53] [0] \t\t #> Encoding 25000 passages..\n",
            "[Feb 27, 09:13:09] [0] \t\t #> Saving chunk 86: \t 25,000 passages and 1,902,225 embeddings. From #2,150,000 onward.\n"
          ]
        },
        {
          "output_type": "stream",
          "name": "stderr",
          "text": [
            "\r87it [27:04, 18.75s/it]"
          ]
        },
        {
          "output_type": "stream",
          "name": "stdout",
          "text": [
            "[Feb 27, 09:13:11] [0] \t\t #> Encoding 25000 passages..\n",
            "[Feb 27, 09:13:28] [0] \t\t #> Saving chunk 87: \t 25,000 passages and 1,882,364 embeddings. From #2,175,000 onward.\n"
          ]
        },
        {
          "output_type": "stream",
          "name": "stderr",
          "text": [
            "\r88it [27:23, 18.76s/it]"
          ]
        },
        {
          "output_type": "stream",
          "name": "stdout",
          "text": [
            "[Feb 27, 09:13:30] [0] \t\t #> Encoding 25000 passages..\n",
            "[Feb 27, 09:13:46] [0] \t\t #> Saving chunk 88: \t 25,000 passages and 1,885,290 embeddings. From #2,200,000 onward.\n"
          ]
        },
        {
          "output_type": "stream",
          "name": "stderr",
          "text": [
            "\r89it [27:41, 18.74s/it]"
          ]
        },
        {
          "output_type": "stream",
          "name": "stdout",
          "text": [
            "[Feb 27, 09:13:49] [0] \t\t #> Encoding 25000 passages..\n",
            "[Feb 27, 09:14:05] [0] \t\t #> Saving chunk 89: \t 25,000 passages and 1,870,032 embeddings. From #2,225,000 onward.\n"
          ]
        },
        {
          "output_type": "stream",
          "name": "stderr",
          "text": [
            "\r90it [28:00, 18.69s/it]"
          ]
        },
        {
          "output_type": "stream",
          "name": "stdout",
          "text": [
            "[Feb 27, 09:14:07] [0] \t\t #> Encoding 25000 passages..\n",
            "[Feb 27, 09:14:24] [0] \t\t #> Saving chunk 90: \t 25,000 passages and 1,874,048 embeddings. From #2,250,000 onward.\n"
          ]
        },
        {
          "output_type": "stream",
          "name": "stderr",
          "text": [
            "\r91it [28:19, 18.68s/it]"
          ]
        },
        {
          "output_type": "stream",
          "name": "stdout",
          "text": [
            "[Feb 27, 09:14:26] [0] \t\t #> Encoding 25000 passages..\n",
            "[Feb 27, 09:14:42] [0] \t\t #> Saving chunk 91: \t 25,000 passages and 1,863,644 embeddings. From #2,275,000 onward.\n"
          ]
        },
        {
          "output_type": "stream",
          "name": "stderr",
          "text": [
            "\r92it [28:37, 18.67s/it]"
          ]
        },
        {
          "output_type": "stream",
          "name": "stdout",
          "text": [
            "[Feb 27, 09:14:45] [0] \t\t #> Encoding 25000 passages..\n",
            "[Feb 27, 09:15:01] [0] \t\t #> Saving chunk 92: \t 25,000 passages and 1,850,179 embeddings. From #2,300,000 onward.\n"
          ]
        },
        {
          "output_type": "stream",
          "name": "stderr",
          "text": [
            "\r93it [28:56, 18.65s/it]"
          ]
        },
        {
          "output_type": "stream",
          "name": "stdout",
          "text": [
            "[Feb 27, 09:15:03] [0] \t\t #> Encoding 25000 passages..\n",
            "[Feb 27, 09:15:20] [0] \t\t #> Saving chunk 93: \t 25,000 passages and 1,883,853 embeddings. From #2,325,000 onward.\n"
          ]
        },
        {
          "output_type": "stream",
          "name": "stderr",
          "text": [
            "\r94it [29:15, 18.66s/it]"
          ]
        },
        {
          "output_type": "stream",
          "name": "stdout",
          "text": [
            "[Feb 27, 09:15:22] [0] \t\t #> Encoding 25000 passages..\n",
            "[Feb 27, 09:15:38] [0] \t\t #> Saving chunk 94: \t 25,000 passages and 1,866,114 embeddings. From #2,350,000 onward.\n"
          ]
        },
        {
          "output_type": "stream",
          "name": "stderr",
          "text": [
            "\r95it [29:33, 18.66s/it]"
          ]
        },
        {
          "output_type": "stream",
          "name": "stdout",
          "text": [
            "[Feb 27, 09:15:41] [0] \t\t #> Encoding 25000 passages..\n",
            "[Feb 27, 09:15:57] [0] \t\t #> Saving chunk 95: \t 25,000 passages and 1,866,991 embeddings. From #2,375,000 onward.\n"
          ]
        },
        {
          "output_type": "stream",
          "name": "stderr",
          "text": [
            "\r96it [29:52, 18.64s/it]"
          ]
        },
        {
          "output_type": "stream",
          "name": "stdout",
          "text": [
            "[Feb 27, 09:15:59] [0] \t\t #> Encoding 25000 passages..\n",
            "[Feb 27, 09:16:16] [0] \t\t #> Saving chunk 96: \t 25,000 passages and 1,877,261 embeddings. From #2,400,000 onward.\n"
          ]
        },
        {
          "output_type": "stream",
          "name": "stderr",
          "text": [
            "\r97it [30:11, 18.69s/it]"
          ]
        },
        {
          "output_type": "stream",
          "name": "stdout",
          "text": [
            "[Feb 27, 09:16:18] [0] \t\t #> Encoding 25000 passages..\n",
            "[Feb 27, 09:16:34] [0] \t\t #> Saving chunk 97: \t 25,000 passages and 1,843,116 embeddings. From #2,425,000 onward.\n"
          ]
        },
        {
          "output_type": "stream",
          "name": "stderr",
          "text": [
            "\r98it [30:29, 18.65s/it]"
          ]
        },
        {
          "output_type": "stream",
          "name": "stdout",
          "text": [
            "[Feb 27, 09:16:37] [0] \t\t #> Encoding 25000 passages..\n",
            "[Feb 27, 09:16:53] [0] \t\t #> Saving chunk 98: \t 25,000 passages and 1,866,071 embeddings. From #2,450,000 onward.\n"
          ]
        },
        {
          "output_type": "stream",
          "name": "stderr",
          "text": [
            "\r99it [30:48, 18.64s/it]"
          ]
        },
        {
          "output_type": "stream",
          "name": "stdout",
          "text": [
            "[Feb 27, 09:16:55] [0] \t\t #> Encoding 25000 passages..\n",
            "[Feb 27, 09:17:12] [0] \t\t #> Saving chunk 99: \t 25,000 passages and 1,870,993 embeddings. From #2,475,000 onward.\n"
          ]
        },
        {
          "output_type": "stream",
          "name": "stderr",
          "text": [
            "\r100it [31:07, 18.65s/it]"
          ]
        },
        {
          "output_type": "stream",
          "name": "stdout",
          "text": [
            "[Feb 27, 09:17:14] [0] \t\t #> Encoding 25000 passages..\n",
            "[Feb 27, 09:17:30] [0] \t\t #> Saving chunk 100: \t 25,000 passages and 1,866,750 embeddings. From #2,500,000 onward.\n"
          ]
        },
        {
          "output_type": "stream",
          "name": "stderr",
          "text": [
            "\r101it [31:25, 18.70s/it]"
          ]
        },
        {
          "output_type": "stream",
          "name": "stdout",
          "text": [
            "[Feb 27, 09:17:33] [0] \t\t #> Encoding 25000 passages..\n",
            "[Feb 27, 09:17:49] [0] \t\t #> Saving chunk 101: \t 25,000 passages and 1,879,855 embeddings. From #2,525,000 onward.\n"
          ]
        },
        {
          "output_type": "stream",
          "name": "stderr",
          "text": [
            "\r102it [31:44, 18.66s/it]"
          ]
        },
        {
          "output_type": "stream",
          "name": "stdout",
          "text": [
            "[Feb 27, 09:17:51] [0] \t\t #> Encoding 25000 passages..\n",
            "[Feb 27, 09:18:08] [0] \t\t #> Saving chunk 102: \t 25,000 passages and 1,864,521 embeddings. From #2,550,000 onward.\n"
          ]
        },
        {
          "output_type": "stream",
          "name": "stderr",
          "text": [
            "\r103it [32:03, 18.70s/it]"
          ]
        },
        {
          "output_type": "stream",
          "name": "stdout",
          "text": [
            "[Feb 27, 09:18:10] [0] \t\t #> Encoding 25000 passages..\n",
            "[Feb 27, 09:18:26] [0] \t\t #> Saving chunk 103: \t 25,000 passages and 1,887,166 embeddings. From #2,575,000 onward.\n"
          ]
        },
        {
          "output_type": "stream",
          "name": "stderr",
          "text": [
            "\r104it [32:21, 18.68s/it]"
          ]
        },
        {
          "output_type": "stream",
          "name": "stdout",
          "text": [
            "[Feb 27, 09:18:29] [0] \t\t #> Encoding 25000 passages..\n",
            "[Feb 27, 09:18:45] [0] \t\t #> Saving chunk 104: \t 25,000 passages and 1,851,730 embeddings. From #2,600,000 onward.\n"
          ]
        },
        {
          "output_type": "stream",
          "name": "stderr",
          "text": [
            "\r105it [32:40, 18.65s/it]"
          ]
        },
        {
          "output_type": "stream",
          "name": "stdout",
          "text": [
            "[Feb 27, 09:18:47] [0] \t\t #> Encoding 25000 passages..\n",
            "[Feb 27, 09:19:04] [0] \t\t #> Saving chunk 105: \t 25,000 passages and 1,849,097 embeddings. From #2,625,000 onward.\n"
          ]
        },
        {
          "output_type": "stream",
          "name": "stderr",
          "text": [
            "\r106it [32:59, 18.64s/it]"
          ]
        },
        {
          "output_type": "stream",
          "name": "stdout",
          "text": [
            "[Feb 27, 09:19:06] [0] \t\t #> Encoding 25000 passages..\n",
            "[Feb 27, 09:19:22] [0] \t\t #> Saving chunk 106: \t 25,000 passages and 1,851,665 embeddings. From #2,650,000 onward.\n"
          ]
        },
        {
          "output_type": "stream",
          "name": "stderr",
          "text": [
            "\r107it [33:17, 18.66s/it]"
          ]
        },
        {
          "output_type": "stream",
          "name": "stdout",
          "text": [
            "[Feb 27, 09:19:25] [0] \t\t #> Encoding 25000 passages..\n",
            "[Feb 27, 09:19:41] [0] \t\t #> Saving chunk 107: \t 25,000 passages and 1,877,129 embeddings. From #2,675,000 onward.\n"
          ]
        },
        {
          "output_type": "stream",
          "name": "stderr",
          "text": [
            "\r108it [33:36, 18.67s/it]"
          ]
        },
        {
          "output_type": "stream",
          "name": "stdout",
          "text": [
            "[Feb 27, 09:19:43] [0] \t\t #> Encoding 25000 passages..\n",
            "[Feb 27, 09:20:00] [0] \t\t #> Saving chunk 108: \t 25,000 passages and 1,874,630 embeddings. From #2,700,000 onward.\n"
          ]
        },
        {
          "output_type": "stream",
          "name": "stderr",
          "text": [
            "\r109it [33:55, 18.66s/it]"
          ]
        },
        {
          "output_type": "stream",
          "name": "stdout",
          "text": [
            "[Feb 27, 09:20:02] [0] \t\t #> Encoding 25000 passages..\n",
            "[Feb 27, 09:20:18] [0] \t\t #> Saving chunk 109: \t 25,000 passages and 1,870,701 embeddings. From #2,725,000 onward.\n"
          ]
        },
        {
          "output_type": "stream",
          "name": "stderr",
          "text": [
            "\r110it [34:13, 18.71s/it]"
          ]
        },
        {
          "output_type": "stream",
          "name": "stdout",
          "text": [
            "[Feb 27, 09:20:21] [0] \t\t #> Encoding 25000 passages..\n",
            "[Feb 27, 09:20:37] [0] \t\t #> Saving chunk 110: \t 25,000 passages and 1,856,550 embeddings. From #2,750,000 onward.\n"
          ]
        },
        {
          "output_type": "stream",
          "name": "stderr",
          "text": [
            "\r111it [34:32, 18.68s/it]"
          ]
        },
        {
          "output_type": "stream",
          "name": "stdout",
          "text": [
            "[Feb 27, 09:20:39] [0] \t\t #> Encoding 25000 passages..\n",
            "[Feb 27, 09:20:56] [0] \t\t #> Saving chunk 111: \t 25,000 passages and 1,863,721 embeddings. From #2,775,000 onward.\n"
          ]
        },
        {
          "output_type": "stream",
          "name": "stderr",
          "text": [
            "\r112it [34:51, 18.68s/it]"
          ]
        },
        {
          "output_type": "stream",
          "name": "stdout",
          "text": [
            "[Feb 27, 09:20:58] [0] \t\t #> Encoding 25000 passages..\n",
            "[Feb 27, 09:21:14] [0] \t\t #> Saving chunk 112: \t 25,000 passages and 1,865,605 embeddings. From #2,800,000 onward.\n"
          ]
        },
        {
          "output_type": "stream",
          "name": "stderr",
          "text": [
            "\r113it [35:09, 18.68s/it]"
          ]
        },
        {
          "output_type": "stream",
          "name": "stdout",
          "text": [
            "[Feb 27, 09:21:17] [0] \t\t #> Encoding 25000 passages..\n",
            "[Feb 27, 09:21:33] [0] \t\t #> Saving chunk 113: \t 25,000 passages and 1,860,683 embeddings. From #2,825,000 onward.\n"
          ]
        },
        {
          "output_type": "stream",
          "name": "stderr",
          "text": [
            "\r114it [35:28, 18.66s/it]"
          ]
        },
        {
          "output_type": "stream",
          "name": "stdout",
          "text": [
            "[Feb 27, 09:21:35] [0] \t\t #> Encoding 25000 passages..\n",
            "[Feb 27, 09:21:52] [0] \t\t #> Saving chunk 114: \t 25,000 passages and 1,896,756 embeddings. From #2,850,000 onward.\n"
          ]
        },
        {
          "output_type": "stream",
          "name": "stderr",
          "text": [
            "\r115it [35:47, 18.72s/it]"
          ]
        },
        {
          "output_type": "stream",
          "name": "stdout",
          "text": [
            "[Feb 27, 09:21:54] [0] \t\t #> Encoding 25000 passages..\n",
            "[Feb 27, 09:22:11] [0] \t\t #> Saving chunk 115: \t 25,000 passages and 1,904,087 embeddings. From #2,875,000 onward.\n"
          ]
        },
        {
          "output_type": "stream",
          "name": "stderr",
          "text": [
            "\r116it [36:06, 18.73s/it]"
          ]
        },
        {
          "output_type": "stream",
          "name": "stdout",
          "text": [
            "[Feb 27, 09:22:13] [0] \t\t #> Encoding 25000 passages..\n",
            "[Feb 27, 09:22:29] [0] \t\t #> Saving chunk 116: \t 25,000 passages and 1,884,294 embeddings. From #2,900,000 onward.\n"
          ]
        },
        {
          "output_type": "stream",
          "name": "stderr",
          "text": [
            "\r117it [36:24, 18.73s/it]"
          ]
        },
        {
          "output_type": "stream",
          "name": "stdout",
          "text": [
            "[Feb 27, 09:22:32] [0] \t\t #> Encoding 25000 passages..\n",
            "[Feb 27, 09:22:48] [0] \t\t #> Saving chunk 117: \t 25,000 passages and 1,890,542 embeddings. From #2,925,000 onward.\n"
          ]
        },
        {
          "output_type": "stream",
          "name": "stderr",
          "text": [
            "\r118it [36:43, 18.72s/it]"
          ]
        },
        {
          "output_type": "stream",
          "name": "stdout",
          "text": [
            "[Feb 27, 09:22:50] [0] \t\t #> Encoding 25000 passages..\n",
            "[Feb 27, 09:23:07] [0] \t\t #> Saving chunk 118: \t 25,000 passages and 1,860,549 embeddings. From #2,950,000 onward.\n"
          ]
        },
        {
          "output_type": "stream",
          "name": "stderr",
          "text": [
            "\r119it [37:02, 18.68s/it]"
          ]
        },
        {
          "output_type": "stream",
          "name": "stdout",
          "text": [
            "[Feb 27, 09:23:09] [0] \t\t #> Encoding 25000 passages..\n",
            "[Feb 27, 09:23:25] [0] \t\t #> Saving chunk 119: \t 25,000 passages and 1,891,999 embeddings. From #2,975,000 onward.\n"
          ]
        },
        {
          "output_type": "stream",
          "name": "stderr",
          "text": [
            "\r120it [37:20, 18.68s/it]"
          ]
        },
        {
          "output_type": "stream",
          "name": "stdout",
          "text": [
            "[Feb 27, 09:23:28] [0] \t\t #> Encoding 25000 passages..\n",
            "[Feb 27, 09:23:44] [0] \t\t #> Saving chunk 120: \t 25,000 passages and 1,876,318 embeddings. From #3,000,000 onward.\n"
          ]
        },
        {
          "output_type": "stream",
          "name": "stderr",
          "text": [
            "\r121it [37:39, 18.72s/it]"
          ]
        },
        {
          "output_type": "stream",
          "name": "stdout",
          "text": [
            "[Feb 27, 09:23:46] [0] \t\t #> Encoding 25000 passages..\n",
            "[Feb 27, 09:24:03] [0] \t\t #> Saving chunk 121: \t 25,000 passages and 1,873,329 embeddings. From #3,025,000 onward.\n"
          ]
        },
        {
          "output_type": "stream",
          "name": "stderr",
          "text": [
            "\r122it [37:58, 18.68s/it]"
          ]
        },
        {
          "output_type": "stream",
          "name": "stdout",
          "text": [
            "[Feb 27, 09:24:05] [0] \t\t #> Encoding 25000 passages..\n",
            "[Feb 27, 09:24:22] [0] \t\t #> Saving chunk 122: \t 25,000 passages and 1,891,223 embeddings. From #3,050,000 onward.\n"
          ]
        },
        {
          "output_type": "stream",
          "name": "stderr",
          "text": [
            "\r123it [38:17, 18.74s/it]"
          ]
        },
        {
          "output_type": "stream",
          "name": "stdout",
          "text": [
            "[Feb 27, 09:24:24] [0] \t\t #> Encoding 25000 passages..\n",
            "[Feb 27, 09:24:40] [0] \t\t #> Saving chunk 123: \t 25,000 passages and 1,875,123 embeddings. From #3,075,000 onward.\n"
          ]
        },
        {
          "output_type": "stream",
          "name": "stderr",
          "text": [
            "\r124it [38:35, 18.69s/it]"
          ]
        },
        {
          "output_type": "stream",
          "name": "stdout",
          "text": [
            "[Feb 27, 09:24:43] [0] \t\t #> Encoding 25000 passages..\n",
            "[Feb 27, 09:24:59] [0] \t\t #> Saving chunk 124: \t 25,000 passages and 1,876,150 embeddings. From #3,100,000 onward.\n"
          ]
        },
        {
          "output_type": "stream",
          "name": "stderr",
          "text": [
            "\r125it [38:54, 18.71s/it]"
          ]
        },
        {
          "output_type": "stream",
          "name": "stdout",
          "text": [
            "[Feb 27, 09:25:01] [0] \t\t #> Encoding 25000 passages..\n",
            "[Feb 27, 09:25:18] [0] \t\t #> Saving chunk 125: \t 25,000 passages and 1,882,207 embeddings. From #3,125,000 onward.\n"
          ]
        },
        {
          "output_type": "stream",
          "name": "stderr",
          "text": [
            "\r126it [39:13, 18.72s/it]"
          ]
        },
        {
          "output_type": "stream",
          "name": "stdout",
          "text": [
            "[Feb 27, 09:25:20] [0] \t\t #> Encoding 25000 passages..\n",
            "[Feb 27, 09:25:36] [0] \t\t #> Saving chunk 126: \t 25,000 passages and 1,861,327 embeddings. From #3,150,000 onward.\n"
          ]
        },
        {
          "output_type": "stream",
          "name": "stderr",
          "text": [
            "\r127it [39:31, 18.68s/it]"
          ]
        },
        {
          "output_type": "stream",
          "name": "stdout",
          "text": [
            "[Feb 27, 09:25:39] [0] \t\t #> Encoding 25000 passages..\n",
            "[Feb 27, 09:25:55] [0] \t\t #> Saving chunk 127: \t 25,000 passages and 1,897,063 embeddings. From #3,175,000 onward.\n"
          ]
        },
        {
          "output_type": "stream",
          "name": "stderr",
          "text": [
            "\r128it [39:50, 18.70s/it]"
          ]
        },
        {
          "output_type": "stream",
          "name": "stdout",
          "text": [
            "[Feb 27, 09:25:57] [0] \t\t #> Encoding 25000 passages..\n",
            "[Feb 27, 09:26:14] [0] \t\t #> Saving chunk 128: \t 25,000 passages and 1,868,831 embeddings. From #3,200,000 onward.\n"
          ]
        },
        {
          "output_type": "stream",
          "name": "stderr",
          "text": [
            "\r129it [40:09, 18.69s/it]"
          ]
        },
        {
          "output_type": "stream",
          "name": "stdout",
          "text": [
            "[Feb 27, 09:26:16] [0] \t\t #> Encoding 25000 passages..\n",
            "[Feb 27, 09:26:32] [0] \t\t #> Saving chunk 129: \t 25,000 passages and 1,888,356 embeddings. From #3,225,000 onward.\n"
          ]
        },
        {
          "output_type": "stream",
          "name": "stderr",
          "text": [
            "\r130it [40:28, 18.74s/it]"
          ]
        },
        {
          "output_type": "stream",
          "name": "stdout",
          "text": [
            "[Feb 27, 09:26:35] [0] \t\t #> Encoding 25000 passages..\n",
            "[Feb 27, 09:26:51] [0] \t\t #> Saving chunk 130: \t 25,000 passages and 1,884,658 embeddings. From #3,250,000 onward.\n"
          ]
        },
        {
          "output_type": "stream",
          "name": "stderr",
          "text": [
            "\r131it [40:46, 18.74s/it]"
          ]
        },
        {
          "output_type": "stream",
          "name": "stdout",
          "text": [
            "[Feb 27, 09:26:54] [0] \t\t #> Encoding 25000 passages..\n",
            "[Feb 27, 09:27:10] [0] \t\t #> Saving chunk 131: \t 25,000 passages and 1,877,074 embeddings. From #3,275,000 onward.\n"
          ]
        },
        {
          "output_type": "stream",
          "name": "stderr",
          "text": [
            "\r132it [41:05, 18.73s/it]"
          ]
        },
        {
          "output_type": "stream",
          "name": "stdout",
          "text": [
            "[Feb 27, 09:27:12] [0] \t\t #> Encoding 25000 passages..\n",
            "[Feb 27, 09:27:29] [0] \t\t #> Saving chunk 132: \t 25,000 passages and 1,855,370 embeddings. From #3,300,000 onward.\n"
          ]
        },
        {
          "output_type": "stream",
          "name": "stderr",
          "text": [
            "\r133it [41:24, 18.68s/it]"
          ]
        },
        {
          "output_type": "stream",
          "name": "stdout",
          "text": [
            "[Feb 27, 09:27:31] [0] \t\t #> Encoding 25000 passages..\n",
            "[Feb 27, 09:27:47] [0] \t\t #> Saving chunk 133: \t 25,000 passages and 1,882,170 embeddings. From #3,325,000 onward.\n"
          ]
        },
        {
          "output_type": "stream",
          "name": "stderr",
          "text": [
            "\r134it [41:42, 18.72s/it]"
          ]
        },
        {
          "output_type": "stream",
          "name": "stdout",
          "text": [
            "[Feb 27, 09:27:50] [0] \t\t #> Encoding 25000 passages..\n",
            "[Feb 27, 09:28:06] [0] \t\t #> Saving chunk 134: \t 25,000 passages and 1,879,567 embeddings. From #3,350,000 onward.\n"
          ]
        },
        {
          "output_type": "stream",
          "name": "stderr",
          "text": [
            "\r135it [42:01, 18.72s/it]"
          ]
        },
        {
          "output_type": "stream",
          "name": "stdout",
          "text": [
            "[Feb 27, 09:28:08] [0] \t\t #> Encoding 25000 passages..\n",
            "[Feb 27, 09:28:25] [0] \t\t #> Saving chunk 135: \t 25,000 passages and 1,888,235 embeddings. From #3,375,000 onward.\n"
          ]
        },
        {
          "output_type": "stream",
          "name": "stderr",
          "text": [
            "\r136it [42:20, 18.73s/it]"
          ]
        },
        {
          "output_type": "stream",
          "name": "stdout",
          "text": [
            "[Feb 27, 09:28:27] [0] \t\t #> Encoding 25000 passages..\n",
            "[Feb 27, 09:28:44] [0] \t\t #> Saving chunk 136: \t 25,000 passages and 1,900,686 embeddings. From #3,400,000 onward.\n"
          ]
        },
        {
          "output_type": "stream",
          "name": "stderr",
          "text": [
            "\r137it [42:39, 18.74s/it]"
          ]
        },
        {
          "output_type": "stream",
          "name": "stdout",
          "text": [
            "[Feb 27, 09:28:46] [0] \t\t #> Encoding 25000 passages..\n",
            "[Feb 27, 09:29:02] [0] \t\t #> Saving chunk 137: \t 25,000 passages and 1,882,667 embeddings. From #3,425,000 onward.\n"
          ]
        },
        {
          "output_type": "stream",
          "name": "stderr",
          "text": [
            "\r138it [42:57, 18.73s/it]"
          ]
        },
        {
          "output_type": "stream",
          "name": "stdout",
          "text": [
            "[Feb 27, 09:29:05] [0] \t\t #> Encoding 25000 passages..\n",
            "[Feb 27, 09:29:21] [0] \t\t #> Saving chunk 138: \t 25,000 passages and 1,885,872 embeddings. From #3,450,000 onward.\n"
          ]
        },
        {
          "output_type": "stream",
          "name": "stderr",
          "text": [
            "\r139it [43:16, 18.74s/it]"
          ]
        },
        {
          "output_type": "stream",
          "name": "stdout",
          "text": [
            "[Feb 27, 09:29:23] [0] \t\t #> Encoding 25000 passages..\n",
            "[Feb 27, 09:29:40] [0] \t\t #> Saving chunk 139: \t 25,000 passages and 1,889,144 embeddings. From #3,475,000 onward.\n"
          ]
        },
        {
          "output_type": "stream",
          "name": "stderr",
          "text": [
            "\r140it [43:35, 18.74s/it]"
          ]
        },
        {
          "output_type": "stream",
          "name": "stdout",
          "text": [
            "[Feb 27, 09:29:42] [0] \t\t #> Encoding 25000 passages..\n",
            "[Feb 27, 09:29:59] [0] \t\t #> Saving chunk 140: \t 25,000 passages and 1,867,567 embeddings. From #3,500,000 onward.\n"
          ]
        },
        {
          "output_type": "stream",
          "name": "stderr",
          "text": [
            "\r141it [43:53, 18.73s/it]"
          ]
        },
        {
          "output_type": "stream",
          "name": "stdout",
          "text": [
            "[Feb 27, 09:30:01] [0] \t\t #> Encoding 25000 passages..\n",
            "[Feb 27, 09:30:17] [0] \t\t #> Saving chunk 141: \t 25,000 passages and 1,892,048 embeddings. From #3,525,000 onward.\n"
          ]
        },
        {
          "output_type": "stream",
          "name": "stderr",
          "text": [
            "\r142it [44:12, 18.74s/it]"
          ]
        },
        {
          "output_type": "stream",
          "name": "stdout",
          "text": [
            "[Feb 27, 09:30:20] [0] \t\t #> Encoding 25000 passages..\n",
            "[Feb 27, 09:30:36] [0] \t\t #> Saving chunk 142: \t 25,000 passages and 1,880,724 embeddings. From #3,550,000 onward.\n"
          ]
        },
        {
          "output_type": "stream",
          "name": "stderr",
          "text": [
            "\r143it [44:31, 18.74s/it]"
          ]
        },
        {
          "output_type": "stream",
          "name": "stdout",
          "text": [
            "[Feb 27, 09:30:38] [0] \t\t #> Encoding 25000 passages..\n",
            "[Feb 27, 09:30:55] [0] \t\t #> Saving chunk 143: \t 25,000 passages and 1,887,349 embeddings. From #3,575,000 onward.\n"
          ]
        },
        {
          "output_type": "stream",
          "name": "stderr",
          "text": [
            "\r144it [44:50, 18.74s/it]"
          ]
        },
        {
          "output_type": "stream",
          "name": "stdout",
          "text": [
            "[Feb 27, 09:30:57] [0] \t\t #> Encoding 25000 passages..\n",
            "[Feb 27, 09:31:13] [0] \t\t #> Saving chunk 144: \t 25,000 passages and 1,890,092 embeddings. From #3,600,000 onward.\n"
          ]
        },
        {
          "output_type": "stream",
          "name": "stderr",
          "text": [
            "\r145it [45:08, 18.74s/it]"
          ]
        },
        {
          "output_type": "stream",
          "name": "stdout",
          "text": [
            "[Feb 27, 09:31:16] [0] \t\t #> Encoding 25000 passages..\n",
            "[Feb 27, 09:31:32] [0] \t\t #> Saving chunk 145: \t 25,000 passages and 1,892,080 embeddings. From #3,625,000 onward.\n"
          ]
        },
        {
          "output_type": "stream",
          "name": "stderr",
          "text": [
            "\r146it [45:27, 18.75s/it]"
          ]
        },
        {
          "output_type": "stream",
          "name": "stdout",
          "text": [
            "[Feb 27, 09:31:35] [0] \t\t #> Encoding 25000 passages..\n",
            "[Feb 27, 09:31:51] [0] \t\t #> Saving chunk 146: \t 25,000 passages and 1,898,072 embeddings. From #3,650,000 onward.\n"
          ]
        },
        {
          "output_type": "stream",
          "name": "stderr",
          "text": [
            "\r147it [45:46, 18.75s/it]"
          ]
        },
        {
          "output_type": "stream",
          "name": "stdout",
          "text": [
            "[Feb 27, 09:31:53] [0] \t\t #> Encoding 25000 passages..\n",
            "[Feb 27, 09:32:10] [0] \t\t #> Saving chunk 147: \t 25,000 passages and 1,896,049 embeddings. From #3,675,000 onward.\n"
          ]
        },
        {
          "output_type": "stream",
          "name": "stderr",
          "text": [
            "\r148it [46:05, 18.75s/it]"
          ]
        },
        {
          "output_type": "stream",
          "name": "stdout",
          "text": [
            "[Feb 27, 09:32:12] [0] \t\t #> Encoding 25000 passages..\n",
            "[Feb 27, 09:32:29] [0] \t\t #> Saving chunk 148: \t 25,000 passages and 1,877,323 embeddings. From #3,700,000 onward.\n"
          ]
        },
        {
          "output_type": "stream",
          "name": "stderr",
          "text": [
            "\r149it [46:23, 18.75s/it]"
          ]
        },
        {
          "output_type": "stream",
          "name": "stdout",
          "text": [
            "[Feb 27, 09:32:31] [0] \t\t #> Encoding 25000 passages..\n",
            "[Feb 27, 09:32:47] [0] \t\t #> Saving chunk 149: \t 25,000 passages and 1,870,280 embeddings. From #3,725,000 onward.\n"
          ]
        },
        {
          "output_type": "stream",
          "name": "stderr",
          "text": [
            "\r150it [46:42, 18.74s/it]"
          ]
        },
        {
          "output_type": "stream",
          "name": "stdout",
          "text": [
            "[Feb 27, 09:32:50] [0] \t\t #> Encoding 25000 passages..\n",
            "[Feb 27, 09:33:06] [0] \t\t #> Saving chunk 150: \t 25,000 passages and 1,896,619 embeddings. From #3,750,000 onward.\n"
          ]
        },
        {
          "output_type": "stream",
          "name": "stderr",
          "text": [
            "\r151it [47:01, 18.75s/it]"
          ]
        },
        {
          "output_type": "stream",
          "name": "stdout",
          "text": [
            "[Feb 27, 09:33:08] [0] \t\t #> Encoding 25000 passages..\n",
            "[Feb 27, 09:33:25] [0] \t\t #> Saving chunk 151: \t 25,000 passages and 1,901,116 embeddings. From #3,775,000 onward.\n"
          ]
        },
        {
          "output_type": "stream",
          "name": "stderr",
          "text": [
            "\r152it [47:20, 18.75s/it]"
          ]
        },
        {
          "output_type": "stream",
          "name": "stdout",
          "text": [
            "[Feb 27, 09:33:27] [0] \t\t #> Encoding 25000 passages..\n",
            "[Feb 27, 09:33:44] [0] \t\t #> Saving chunk 152: \t 25,000 passages and 1,888,599 embeddings. From #3,800,000 onward.\n"
          ]
        },
        {
          "output_type": "stream",
          "name": "stderr",
          "text": [
            "\r153it [47:39, 18.76s/it]"
          ]
        },
        {
          "output_type": "stream",
          "name": "stdout",
          "text": [
            "[Feb 27, 09:33:46] [0] \t\t #> Encoding 25000 passages..\n",
            "[Feb 27, 09:34:02] [0] \t\t #> Saving chunk 153: \t 25,000 passages and 1,891,123 embeddings. From #3,825,000 onward.\n"
          ]
        },
        {
          "output_type": "stream",
          "name": "stderr",
          "text": [
            "\r154it [47:57, 18.75s/it]"
          ]
        },
        {
          "output_type": "stream",
          "name": "stdout",
          "text": [
            "[Feb 27, 09:34:05] [0] \t\t #> Encoding 25000 passages..\n",
            "[Feb 27, 09:34:21] [0] \t\t #> Saving chunk 154: \t 25,000 passages and 1,892,217 embeddings. From #3,850,000 onward.\n"
          ]
        },
        {
          "output_type": "stream",
          "name": "stderr",
          "text": [
            "\r155it [48:16, 18.75s/it]"
          ]
        },
        {
          "output_type": "stream",
          "name": "stdout",
          "text": [
            "[Feb 27, 09:34:23] [0] \t\t #> Encoding 25000 passages..\n",
            "[Feb 27, 09:34:40] [0] \t\t #> Saving chunk 155: \t 25,000 passages and 1,909,199 embeddings. From #3,875,000 onward.\n"
          ]
        },
        {
          "output_type": "stream",
          "name": "stderr",
          "text": [
            "\r156it [48:35, 18.76s/it]"
          ]
        },
        {
          "output_type": "stream",
          "name": "stdout",
          "text": [
            "[Feb 27, 09:34:42] [0] \t\t #> Encoding 25000 passages..\n",
            "[Feb 27, 09:34:58] [0] \t\t #> Saving chunk 156: \t 25,000 passages and 1,889,152 embeddings. From #3,900,000 onward.\n"
          ]
        },
        {
          "output_type": "stream",
          "name": "stderr",
          "text": [
            "\r157it [48:54, 18.75s/it]"
          ]
        },
        {
          "output_type": "stream",
          "name": "stdout",
          "text": [
            "[Feb 27, 09:35:01] [0] \t\t #> Encoding 25000 passages..\n",
            "[Feb 27, 09:35:17] [0] \t\t #> Saving chunk 157: \t 25,000 passages and 1,897,049 embeddings. From #3,925,000 onward.\n"
          ]
        },
        {
          "output_type": "stream",
          "name": "stderr",
          "text": [
            "\r158it [49:12, 18.75s/it]"
          ]
        },
        {
          "output_type": "stream",
          "name": "stdout",
          "text": [
            "[Feb 27, 09:35:20] [0] \t\t #> Encoding 25000 passages..\n",
            "[Feb 27, 09:35:36] [0] \t\t #> Saving chunk 158: \t 25,000 passages and 1,890,399 embeddings. From #3,950,000 onward.\n"
          ]
        },
        {
          "output_type": "stream",
          "name": "stderr",
          "text": [
            "\r159it [49:31, 18.75s/it]"
          ]
        },
        {
          "output_type": "stream",
          "name": "stdout",
          "text": [
            "[Feb 27, 09:35:38] [0] \t\t #> Encoding 25000 passages..\n",
            "[Feb 27, 09:35:55] [0] \t\t #> Saving chunk 159: \t 25,000 passages and 1,887,983 embeddings. From #3,975,000 onward.\n"
          ]
        },
        {
          "output_type": "stream",
          "name": "stderr",
          "text": [
            "\r160it [49:50, 18.75s/it]"
          ]
        },
        {
          "output_type": "stream",
          "name": "stdout",
          "text": [
            "[Feb 27, 09:35:57] [0] \t\t #> Encoding 25000 passages..\n",
            "[Feb 27, 09:36:13] [0] \t\t #> Saving chunk 160: \t 25,000 passages and 1,872,683 embeddings. From #4,000,000 onward.\n"
          ]
        },
        {
          "output_type": "stream",
          "name": "stderr",
          "text": [
            "\r161it [50:08, 18.74s/it]"
          ]
        },
        {
          "output_type": "stream",
          "name": "stdout",
          "text": [
            "[Feb 27, 09:36:16] [0] \t\t #> Encoding 25000 passages..\n",
            "[Feb 27, 09:36:32] [0] \t\t #> Saving chunk 161: \t 25,000 passages and 1,894,747 embeddings. From #4,025,000 onward.\n"
          ]
        },
        {
          "output_type": "stream",
          "name": "stderr",
          "text": [
            "\r162it [50:27, 18.75s/it]"
          ]
        },
        {
          "output_type": "stream",
          "name": "stdout",
          "text": [
            "[Feb 27, 09:36:35] [0] \t\t #> Encoding 25000 passages..\n",
            "[Feb 27, 09:36:51] [0] \t\t #> Saving chunk 162: \t 25,000 passages and 1,875,209 embeddings. From #4,050,000 onward.\n"
          ]
        },
        {
          "output_type": "stream",
          "name": "stderr",
          "text": [
            "\r163it [50:46, 18.71s/it]"
          ]
        },
        {
          "output_type": "stream",
          "name": "stdout",
          "text": [
            "[Feb 27, 09:36:53] [0] \t\t #> Encoding 25000 passages..\n",
            "[Feb 27, 09:37:10] [0] \t\t #> Saving chunk 163: \t 25,000 passages and 1,898,455 embeddings. From #4,075,000 onward.\n"
          ]
        },
        {
          "output_type": "stream",
          "name": "stderr",
          "text": [
            "\r164it [51:05, 18.75s/it]"
          ]
        },
        {
          "output_type": "stream",
          "name": "stdout",
          "text": [
            "[Feb 27, 09:37:12] [0] \t\t #> Encoding 25000 passages..\n",
            "[Feb 27, 09:37:28] [0] \t\t #> Saving chunk 164: \t 25,000 passages and 1,882,557 embeddings. From #4,100,000 onward.\n"
          ]
        },
        {
          "output_type": "stream",
          "name": "stderr",
          "text": [
            "\r165it [51:23, 18.75s/it]"
          ]
        },
        {
          "output_type": "stream",
          "name": "stdout",
          "text": [
            "[Feb 27, 09:37:31] [0] \t\t #> Encoding 25000 passages..\n",
            "[Feb 27, 09:37:47] [0] \t\t #> Saving chunk 165: \t 25,000 passages and 1,910,490 embeddings. From #4,125,000 onward.\n"
          ]
        },
        {
          "output_type": "stream",
          "name": "stderr",
          "text": [
            "\r166it [51:42, 18.76s/it]"
          ]
        },
        {
          "output_type": "stream",
          "name": "stdout",
          "text": [
            "[Feb 27, 09:37:50] [0] \t\t #> Encoding 25000 passages..\n",
            "[Feb 27, 09:38:06] [0] \t\t #> Saving chunk 166: \t 25,000 passages and 1,909,304 embeddings. From #4,150,000 onward.\n"
          ]
        },
        {
          "output_type": "stream",
          "name": "stderr",
          "text": [
            "\r167it [52:01, 18.77s/it]"
          ]
        },
        {
          "output_type": "stream",
          "name": "stdout",
          "text": [
            "[Feb 27, 09:38:08] [0] \t\t #> Encoding 25000 passages..\n",
            "[Feb 27, 09:38:25] [0] \t\t #> Saving chunk 167: \t 25,000 passages and 1,892,962 embeddings. From #4,175,000 onward.\n"
          ]
        },
        {
          "output_type": "stream",
          "name": "stderr",
          "text": [
            "\r168it [52:20, 18.76s/it]"
          ]
        },
        {
          "output_type": "stream",
          "name": "stdout",
          "text": [
            "[Feb 27, 09:38:27] [0] \t\t #> Encoding 25000 passages..\n",
            "[Feb 27, 09:38:44] [0] \t\t #> Saving chunk 168: \t 25,000 passages and 1,874,731 embeddings. From #4,200,000 onward.\n"
          ]
        },
        {
          "output_type": "stream",
          "name": "stderr",
          "text": [
            "\r169it [52:39, 18.76s/it]"
          ]
        },
        {
          "output_type": "stream",
          "name": "stdout",
          "text": [
            "[Feb 27, 09:38:46] [0] \t\t #> Encoding 25000 passages..\n",
            "[Feb 27, 09:39:02] [0] \t\t #> Saving chunk 169: \t 25,000 passages and 1,887,487 embeddings. From #4,225,000 onward.\n"
          ]
        },
        {
          "output_type": "stream",
          "name": "stderr",
          "text": [
            "\r170it [52:57, 18.72s/it]"
          ]
        },
        {
          "output_type": "stream",
          "name": "stdout",
          "text": [
            "[Feb 27, 09:39:05] [0] \t\t #> Encoding 25000 passages..\n",
            "[Feb 27, 09:39:21] [0] \t\t #> Saving chunk 170: \t 25,000 passages and 1,890,715 embeddings. From #4,250,000 onward.\n"
          ]
        },
        {
          "output_type": "stream",
          "name": "stderr",
          "text": [
            "\r171it [53:16, 18.71s/it]"
          ]
        },
        {
          "output_type": "stream",
          "name": "stdout",
          "text": [
            "[Feb 27, 09:39:23] [0] \t\t #> Encoding 25000 passages..\n",
            "[Feb 27, 09:39:40] [0] \t\t #> Saving chunk 171: \t 25,000 passages and 1,895,834 embeddings. From #4,275,000 onward.\n"
          ]
        },
        {
          "output_type": "stream",
          "name": "stderr",
          "text": [
            "\r172it [53:35, 18.75s/it]"
          ]
        },
        {
          "output_type": "stream",
          "name": "stdout",
          "text": [
            "[Feb 27, 09:39:42] [0] \t\t #> Encoding 25000 passages..\n",
            "[Feb 27, 09:39:58] [0] \t\t #> Saving chunk 172: \t 25,000 passages and 1,875,809 embeddings. From #4,300,000 onward.\n"
          ]
        },
        {
          "output_type": "stream",
          "name": "stderr",
          "text": [
            "\r173it [53:53, 18.75s/it]"
          ]
        },
        {
          "output_type": "stream",
          "name": "stdout",
          "text": [
            "[Feb 27, 09:40:01] [0] \t\t #> Encoding 25000 passages..\n",
            "[Feb 27, 09:40:17] [0] \t\t #> Saving chunk 173: \t 25,000 passages and 1,881,086 embeddings. From #4,325,000 onward.\n"
          ]
        },
        {
          "output_type": "stream",
          "name": "stderr",
          "text": [
            "\r174it [54:12, 18.71s/it]"
          ]
        },
        {
          "output_type": "stream",
          "name": "stdout",
          "text": [
            "[Feb 27, 09:40:19] [0] \t\t #> Encoding 25000 passages..\n",
            "[Feb 27, 09:40:36] [0] \t\t #> Saving chunk 174: \t 25,000 passages and 1,901,035 embeddings. From #4,350,000 onward.\n"
          ]
        },
        {
          "output_type": "stream",
          "name": "stderr",
          "text": [
            "\r175it [54:31, 18.76s/it]"
          ]
        },
        {
          "output_type": "stream",
          "name": "stdout",
          "text": [
            "[Feb 27, 09:40:38] [0] \t\t #> Encoding 25000 passages..\n",
            "[Feb 27, 09:40:55] [0] \t\t #> Saving chunk 175: \t 25,000 passages and 1,895,002 embeddings. From #4,375,000 onward.\n"
          ]
        },
        {
          "output_type": "stream",
          "name": "stderr",
          "text": [
            "\r176it [54:50, 18.76s/it]"
          ]
        },
        {
          "output_type": "stream",
          "name": "stdout",
          "text": [
            "[Feb 27, 09:40:57] [0] \t\t #> Encoding 25000 passages..\n",
            "[Feb 27, 09:41:13] [0] \t\t #> Saving chunk 176: \t 25,000 passages and 1,889,964 embeddings. From #4,400,000 onward.\n"
          ]
        },
        {
          "output_type": "stream",
          "name": "stderr",
          "text": [
            "\r177it [55:08, 18.75s/it]"
          ]
        },
        {
          "output_type": "stream",
          "name": "stdout",
          "text": [
            "[Feb 27, 09:41:16] [0] \t\t #> Encoding 25000 passages..\n",
            "[Feb 27, 09:41:32] [0] \t\t #> Saving chunk 177: \t 25,000 passages and 1,895,769 embeddings. From #4,425,000 onward.\n"
          ]
        },
        {
          "output_type": "stream",
          "name": "stderr",
          "text": [
            "\r178it [55:27, 18.76s/it]"
          ]
        },
        {
          "output_type": "stream",
          "name": "stdout",
          "text": [
            "[Feb 27, 09:41:35] [0] \t\t #> Encoding 25000 passages..\n",
            "[Feb 27, 09:41:51] [0] \t\t #> Saving chunk 178: \t 25,000 passages and 1,885,459 embeddings. From #4,450,000 onward.\n"
          ]
        },
        {
          "output_type": "stream",
          "name": "stderr",
          "text": [
            "\r179it [55:46, 18.76s/it]"
          ]
        },
        {
          "output_type": "stream",
          "name": "stdout",
          "text": [
            "[Feb 27, 09:41:53] [0] \t\t #> Encoding 25000 passages..\n",
            "[Feb 27, 09:42:10] [0] \t\t #> Saving chunk 179: \t 25,000 passages and 1,881,820 embeddings. From #4,475,000 onward.\n"
          ]
        },
        {
          "output_type": "stream",
          "name": "stderr",
          "text": [
            "\r180it [56:05, 18.75s/it]"
          ]
        },
        {
          "output_type": "stream",
          "name": "stdout",
          "text": [
            "[Feb 27, 09:42:12] [0] \t\t #> Encoding 25000 passages..\n",
            "[Feb 27, 09:42:28] [0] \t\t #> Saving chunk 180: \t 25,000 passages and 1,887,671 embeddings. From #4,500,000 onward.\n"
          ]
        },
        {
          "output_type": "stream",
          "name": "stderr",
          "text": [
            "\r181it [56:23, 18.75s/it]"
          ]
        },
        {
          "output_type": "stream",
          "name": "stdout",
          "text": [
            "[Feb 27, 09:42:31] [0] \t\t #> Encoding 25000 passages..\n",
            "[Feb 27, 09:42:47] [0] \t\t #> Saving chunk 181: \t 25,000 passages and 1,879,875 embeddings. From #4,525,000 onward.\n"
          ]
        },
        {
          "output_type": "stream",
          "name": "stderr",
          "text": [
            "\r182it [56:42, 18.75s/it]"
          ]
        },
        {
          "output_type": "stream",
          "name": "stdout",
          "text": [
            "[Feb 27, 09:42:50] [0] \t\t #> Encoding 25000 passages..\n",
            "[Feb 27, 09:43:06] [0] \t\t #> Saving chunk 182: \t 25,000 passages and 1,886,305 embeddings. From #4,550,000 onward.\n"
          ]
        },
        {
          "output_type": "stream",
          "name": "stderr",
          "text": [
            "\r183it [57:01, 18.75s/it]"
          ]
        },
        {
          "output_type": "stream",
          "name": "stdout",
          "text": [
            "[Feb 27, 09:43:08] [0] \t\t #> Encoding 25000 passages..\n",
            "[Feb 27, 09:43:25] [0] \t\t #> Saving chunk 183: \t 25,000 passages and 1,898,250 embeddings. From #4,575,000 onward.\n"
          ]
        },
        {
          "output_type": "stream",
          "name": "stderr",
          "text": [
            "\r184it [57:20, 18.74s/it]"
          ]
        },
        {
          "output_type": "stream",
          "name": "stdout",
          "text": [
            "[Feb 27, 09:43:27] [0] \t\t #> Encoding 25000 passages..\n",
            "[Feb 27, 09:43:43] [0] \t\t #> Saving chunk 184: \t 25,000 passages and 1,885,404 embeddings. From #4,600,000 onward.\n"
          ]
        },
        {
          "output_type": "stream",
          "name": "stderr",
          "text": [
            "\r185it [57:38, 18.75s/it]"
          ]
        },
        {
          "output_type": "stream",
          "name": "stdout",
          "text": [
            "[Feb 27, 09:43:46] [0] \t\t #> Encoding 25000 passages..\n",
            "[Feb 27, 09:44:02] [0] \t\t #> Saving chunk 185: \t 25,000 passages and 1,895,441 embeddings. From #4,625,000 onward.\n"
          ]
        },
        {
          "output_type": "stream",
          "name": "stderr",
          "text": [
            "\r186it [57:57, 18.75s/it]"
          ]
        },
        {
          "output_type": "stream",
          "name": "stdout",
          "text": [
            "[Feb 27, 09:44:05] [0] \t\t #> Encoding 25000 passages..\n",
            "[Feb 27, 09:44:21] [0] \t\t #> Saving chunk 186: \t 25,000 passages and 1,891,241 embeddings. From #4,650,000 onward.\n"
          ]
        },
        {
          "output_type": "stream",
          "name": "stderr",
          "text": [
            "\r187it [58:16, 18.75s/it]"
          ]
        },
        {
          "output_type": "stream",
          "name": "stdout",
          "text": [
            "[Feb 27, 09:44:23] [0] \t\t #> Encoding 25000 passages..\n",
            "[Feb 27, 09:44:40] [0] \t\t #> Saving chunk 187: \t 25,000 passages and 1,886,403 embeddings. From #4,675,000 onward.\n"
          ]
        },
        {
          "output_type": "stream",
          "name": "stderr",
          "text": [
            "\r188it [58:35, 18.75s/it]"
          ]
        },
        {
          "output_type": "stream",
          "name": "stdout",
          "text": [
            "[Feb 27, 09:44:42] [0] \t\t #> Encoding 25000 passages..\n",
            "[Feb 27, 09:44:58] [0] \t\t #> Saving chunk 188: \t 25,000 passages and 1,884,841 embeddings. From #4,700,000 onward.\n"
          ]
        },
        {
          "output_type": "stream",
          "name": "stderr",
          "text": [
            "\r189it [58:53, 18.74s/it]"
          ]
        },
        {
          "output_type": "stream",
          "name": "stdout",
          "text": [
            "[Feb 27, 09:45:01] [0] \t\t #> Encoding 25000 passages..\n",
            "[Feb 27, 09:45:17] [0] \t\t #> Saving chunk 189: \t 25,000 passages and 1,892,035 embeddings. From #4,725,000 onward.\n"
          ]
        },
        {
          "output_type": "stream",
          "name": "stderr",
          "text": [
            "\r190it [59:12, 18.74s/it]"
          ]
        },
        {
          "output_type": "stream",
          "name": "stdout",
          "text": [
            "[Feb 27, 09:45:19] [0] \t\t #> Encoding 25000 passages..\n",
            "[Feb 27, 09:45:36] [0] \t\t #> Saving chunk 190: \t 25,000 passages and 1,898,284 embeddings. From #4,750,000 onward.\n"
          ]
        },
        {
          "output_type": "stream",
          "name": "stderr",
          "text": [
            "\r191it [59:31, 18.71s/it]"
          ]
        },
        {
          "output_type": "stream",
          "name": "stdout",
          "text": [
            "[Feb 27, 09:45:38] [0] \t\t #> Encoding 25000 passages..\n",
            "[Feb 27, 09:45:55] [0] \t\t #> Saving chunk 191: \t 25,000 passages and 1,898,667 embeddings. From #4,775,000 onward.\n"
          ]
        },
        {
          "output_type": "stream",
          "name": "stderr",
          "text": [
            "\r192it [59:50, 18.71s/it]"
          ]
        },
        {
          "output_type": "stream",
          "name": "stdout",
          "text": [
            "[Feb 27, 09:45:57] [0] \t\t #> Encoding 25000 passages..\n",
            "[Feb 27, 09:46:13] [0] \t\t #> Saving chunk 192: \t 25,000 passages and 1,889,877 embeddings. From #4,800,000 onward.\n"
          ]
        },
        {
          "output_type": "stream",
          "name": "stderr",
          "text": [
            "\r193it [1:00:08, 18.74s/it]"
          ]
        },
        {
          "output_type": "stream",
          "name": "stdout",
          "text": [
            "[Feb 27, 09:46:16] [0] \t\t #> Encoding 25000 passages..\n",
            "[Feb 27, 09:46:32] [0] \t\t #> Saving chunk 193: \t 25,000 passages and 1,904,112 embeddings. From #4,825,000 onward.\n"
          ]
        },
        {
          "output_type": "stream",
          "name": "stderr",
          "text": [
            "\r194it [1:00:27, 18.76s/it]"
          ]
        },
        {
          "output_type": "stream",
          "name": "stdout",
          "text": [
            "[Feb 27, 09:46:34] [0] \t\t #> Encoding 25000 passages..\n",
            "[Feb 27, 09:46:51] [0] \t\t #> Saving chunk 194: \t 25,000 passages and 1,888,257 embeddings. From #4,850,000 onward.\n"
          ]
        },
        {
          "output_type": "stream",
          "name": "stderr",
          "text": [
            "\r195it [1:00:46, 18.77s/it]"
          ]
        },
        {
          "output_type": "stream",
          "name": "stdout",
          "text": [
            "[Feb 27, 09:46:53] [0] \t\t #> Encoding 25000 passages..\n",
            "[Feb 27, 09:47:10] [0] \t\t #> Saving chunk 195: \t 25,000 passages and 1,896,614 embeddings. From #4,875,000 onward.\n"
          ]
        },
        {
          "output_type": "stream",
          "name": "stderr",
          "text": [
            "\r196it [1:01:05, 18.76s/it]"
          ]
        },
        {
          "output_type": "stream",
          "name": "stdout",
          "text": [
            "[Feb 27, 09:47:12] [0] \t\t #> Encoding 25000 passages..\n",
            "[Feb 27, 09:47:28] [0] \t\t #> Saving chunk 196: \t 25,000 passages and 1,868,932 embeddings. From #4,900,000 onward.\n"
          ]
        },
        {
          "output_type": "stream",
          "name": "stderr",
          "text": [
            "\r197it [1:01:23, 18.71s/it]"
          ]
        },
        {
          "output_type": "stream",
          "name": "stdout",
          "text": [
            "[Feb 27, 09:47:31] [0] \t\t #> Encoding 25000 passages..\n",
            "[Feb 27, 09:47:47] [0] \t\t #> Saving chunk 197: \t 25,000 passages and 1,913,085 embeddings. From #4,925,000 onward.\n"
          ]
        },
        {
          "output_type": "stream",
          "name": "stderr",
          "text": [
            "\r198it [1:01:42, 18.72s/it]"
          ]
        },
        {
          "output_type": "stream",
          "name": "stdout",
          "text": [
            "[Feb 27, 09:47:49] [0] \t\t #> Encoding 25000 passages..\n",
            "[Feb 27, 09:48:06] [0] \t\t #> Saving chunk 198: \t 25,000 passages and 1,894,163 embeddings. From #4,950,000 onward.\n"
          ]
        },
        {
          "output_type": "stream",
          "name": "stderr",
          "text": [
            "\r199it [1:02:01, 18.77s/it]"
          ]
        },
        {
          "output_type": "stream",
          "name": "stdout",
          "text": [
            "[Feb 27, 09:48:08] [0] \t\t #> Encoding 25000 passages..\n",
            "[Feb 27, 09:48:25] [0] \t\t #> Saving chunk 199: \t 25,000 passages and 1,896,644 embeddings. From #4,975,000 onward.\n"
          ]
        },
        {
          "output_type": "stream",
          "name": "stderr",
          "text": [
            "\r200it [1:02:20, 18.76s/it]"
          ]
        },
        {
          "output_type": "stream",
          "name": "stdout",
          "text": [
            "[Feb 27, 09:48:27] [0] \t\t #> Encoding 25000 passages..\n",
            "[Feb 27, 09:48:43] [0] \t\t #> Saving chunk 200: \t 25,000 passages and 1,878,399 embeddings. From #5,000,000 onward.\n"
          ]
        },
        {
          "output_type": "stream",
          "name": "stderr",
          "text": [
            "\r201it [1:02:38, 18.75s/it]"
          ]
        },
        {
          "output_type": "stream",
          "name": "stdout",
          "text": [
            "[Feb 27, 09:48:46] [0] \t\t #> Encoding 25000 passages..\n",
            "[Feb 27, 09:49:02] [0] \t\t #> Saving chunk 201: \t 25,000 passages and 1,874,369 embeddings. From #5,025,000 onward.\n"
          ]
        },
        {
          "output_type": "stream",
          "name": "stderr",
          "text": [
            "\r202it [1:02:57, 18.74s/it]"
          ]
        },
        {
          "output_type": "stream",
          "name": "stdout",
          "text": [
            "[Feb 27, 09:49:04] [0] \t\t #> Encoding 25000 passages..\n",
            "[Feb 27, 09:49:21] [0] \t\t #> Saving chunk 202: \t 25,000 passages and 1,902,713 embeddings. From #5,050,000 onward.\n"
          ]
        },
        {
          "output_type": "stream",
          "name": "stderr",
          "text": [
            "\r203it [1:03:16, 18.72s/it]"
          ]
        },
        {
          "output_type": "stream",
          "name": "stdout",
          "text": [
            "[Feb 27, 09:49:23] [0] \t\t #> Encoding 25000 passages..\n",
            "[Feb 27, 09:49:40] [0] \t\t #> Saving chunk 203: \t 25,000 passages and 1,894,411 embeddings. From #5,075,000 onward.\n"
          ]
        },
        {
          "output_type": "stream",
          "name": "stderr",
          "text": [
            "\r204it [1:03:35, 18.77s/it]"
          ]
        },
        {
          "output_type": "stream",
          "name": "stdout",
          "text": [
            "[Feb 27, 09:49:42] [0] \t\t #> Encoding 25000 passages..\n",
            "[Feb 27, 09:49:58] [0] \t\t #> Saving chunk 204: \t 25,000 passages and 1,896,894 embeddings. From #5,100,000 onward.\n"
          ]
        },
        {
          "output_type": "stream",
          "name": "stderr",
          "text": [
            "\r205it [1:03:53, 18.78s/it]"
          ]
        },
        {
          "output_type": "stream",
          "name": "stdout",
          "text": [
            "[Feb 27, 09:50:01] [0] \t\t #> Encoding 25000 passages..\n",
            "[Feb 27, 09:50:17] [0] \t\t #> Saving chunk 205: \t 25,000 passages and 1,887,268 embeddings. From #5,125,000 onward.\n"
          ]
        },
        {
          "output_type": "stream",
          "name": "stderr",
          "text": [
            "\r206it [1:04:12, 18.78s/it]"
          ]
        },
        {
          "output_type": "stream",
          "name": "stdout",
          "text": [
            "[Feb 27, 09:50:20] [0] \t\t #> Encoding 25000 passages..\n",
            "[Feb 27, 09:50:36] [0] \t\t #> Saving chunk 206: \t 25,000 passages and 1,892,949 embeddings. From #5,150,000 onward.\n"
          ]
        },
        {
          "output_type": "stream",
          "name": "stderr",
          "text": [
            "\r207it [1:04:31, 18.78s/it]"
          ]
        },
        {
          "output_type": "stream",
          "name": "stdout",
          "text": [
            "[Feb 27, 09:50:38] [0] \t\t #> Encoding 25000 passages..\n",
            "[Feb 27, 09:50:55] [0] \t\t #> Saving chunk 207: \t 25,000 passages and 1,904,265 embeddings. From #5,175,000 onward.\n"
          ]
        },
        {
          "output_type": "stream",
          "name": "stderr",
          "text": [
            "\r208it [1:04:50, 18.78s/it]"
          ]
        },
        {
          "output_type": "stream",
          "name": "stdout",
          "text": [
            "[Feb 27, 09:50:57] [0] \t\t #> Encoding 25000 passages..\n",
            "[Feb 27, 09:51:14] [0] \t\t #> Saving chunk 208: \t 25,000 passages and 1,889,386 embeddings. From #5,200,000 onward.\n"
          ]
        },
        {
          "output_type": "stream",
          "name": "stderr",
          "text": [
            "\r209it [1:05:09, 18.78s/it]"
          ]
        },
        {
          "output_type": "stream",
          "name": "stdout",
          "text": [
            "[Feb 27, 09:51:16] [0] \t\t #> Encoding 25000 passages..\n",
            "[Feb 27, 09:51:32] [0] \t\t #> Saving chunk 209: \t 25,000 passages and 1,915,885 embeddings. From #5,225,000 onward.\n"
          ]
        },
        {
          "output_type": "stream",
          "name": "stderr",
          "text": [
            "\r210it [1:05:27, 18.78s/it]"
          ]
        },
        {
          "output_type": "stream",
          "name": "stdout",
          "text": [
            "[Feb 27, 09:51:35] [0] \t\t #> Encoding 25000 passages..\n",
            "[Feb 27, 09:51:51] [0] \t\t #> Saving chunk 210: \t 25,000 passages and 1,899,604 embeddings. From #5,250,000 onward.\n"
          ]
        },
        {
          "output_type": "stream",
          "name": "stderr",
          "text": [
            "\r211it [1:05:46, 18.78s/it]"
          ]
        },
        {
          "output_type": "stream",
          "name": "stdout",
          "text": [
            "[Feb 27, 09:51:53] [0] \t\t #> Encoding 25000 passages..\n",
            "[Feb 27, 09:52:10] [0] \t\t #> Saving chunk 211: \t 25,000 passages and 1,894,303 embeddings. From #5,275,000 onward.\n"
          ]
        },
        {
          "output_type": "stream",
          "name": "stderr",
          "text": [
            "\r212it [1:06:05, 18.77s/it]"
          ]
        },
        {
          "output_type": "stream",
          "name": "stdout",
          "text": [
            "[Feb 27, 09:52:12] [0] \t\t #> Encoding 25000 passages..\n",
            "[Feb 27, 09:52:29] [0] \t\t #> Saving chunk 212: \t 25,000 passages and 1,896,283 embeddings. From #5,300,000 onward.\n"
          ]
        },
        {
          "output_type": "stream",
          "name": "stderr",
          "text": [
            "\r213it [1:06:24, 18.77s/it]"
          ]
        },
        {
          "output_type": "stream",
          "name": "stdout",
          "text": [
            "[Feb 27, 09:52:31] [0] \t\t #> Encoding 25000 passages..\n",
            "[Feb 27, 09:52:47] [0] \t\t #> Saving chunk 213: \t 25,000 passages and 1,900,093 embeddings. From #5,325,000 onward.\n"
          ]
        },
        {
          "output_type": "stream",
          "name": "stderr",
          "text": [
            "\r214it [1:06:42, 18.73s/it]"
          ]
        },
        {
          "output_type": "stream",
          "name": "stdout",
          "text": [
            "[Feb 27, 09:52:50] [0] \t\t #> Encoding 25000 passages..\n",
            "[Feb 27, 09:53:06] [0] \t\t #> Saving chunk 214: \t 25,000 passages and 1,885,426 embeddings. From #5,350,000 onward.\n"
          ]
        },
        {
          "output_type": "stream",
          "name": "stderr",
          "text": [
            "\r215it [1:07:01, 18.76s/it]"
          ]
        },
        {
          "output_type": "stream",
          "name": "stdout",
          "text": [
            "[Feb 27, 09:53:08] [0] \t\t #> Encoding 25000 passages..\n",
            "[Feb 27, 09:53:25] [0] \t\t #> Saving chunk 215: \t 25,000 passages and 1,894,511 embeddings. From #5,375,000 onward.\n"
          ]
        },
        {
          "output_type": "stream",
          "name": "stderr",
          "text": [
            "\r216it [1:07:20, 18.76s/it]"
          ]
        },
        {
          "output_type": "stream",
          "name": "stdout",
          "text": [
            "[Feb 27, 09:53:27] [0] \t\t #> Encoding 25000 passages..\n",
            "[Feb 27, 09:53:44] [0] \t\t #> Saving chunk 216: \t 25,000 passages and 1,900,462 embeddings. From #5,400,000 onward.\n"
          ]
        },
        {
          "output_type": "stream",
          "name": "stderr",
          "text": [
            "\r217it [1:07:39, 18.77s/it]"
          ]
        },
        {
          "output_type": "stream",
          "name": "stdout",
          "text": [
            "[Feb 27, 09:53:46] [0] \t\t #> Encoding 25000 passages..\n",
            "[Feb 27, 09:54:02] [0] \t\t #> Saving chunk 217: \t 25,000 passages and 1,879,682 embeddings. From #5,425,000 onward.\n"
          ]
        },
        {
          "output_type": "stream",
          "name": "stderr",
          "text": [
            "\r218it [1:07:57, 18.76s/it]"
          ]
        },
        {
          "output_type": "stream",
          "name": "stdout",
          "text": [
            "[Feb 27, 09:54:05] [0] \t\t #> Encoding 25000 passages..\n",
            "[Feb 27, 09:54:21] [0] \t\t #> Saving chunk 218: \t 25,000 passages and 1,950,305 embeddings. From #5,450,000 onward.\n"
          ]
        },
        {
          "output_type": "stream",
          "name": "stderr",
          "text": [
            "\r219it [1:08:16, 18.79s/it]"
          ]
        },
        {
          "output_type": "stream",
          "name": "stdout",
          "text": [
            "[Feb 27, 09:54:24] [0] \t\t #> Encoding 25000 passages..\n",
            "[Feb 27, 09:54:40] [0] \t\t #> Saving chunk 219: \t 25,000 passages and 1,941,155 embeddings. From #5,475,000 onward.\n"
          ]
        },
        {
          "output_type": "stream",
          "name": "stderr",
          "text": [
            "\r220it [1:08:35, 18.81s/it]"
          ]
        },
        {
          "output_type": "stream",
          "name": "stdout",
          "text": [
            "[Feb 27, 09:54:42] [0] \t\t #> Encoding 25000 passages..\n",
            "[Feb 27, 09:54:59] [0] \t\t #> Saving chunk 220: \t 25,000 passages and 1,948,618 embeddings. From #5,500,000 onward.\n"
          ]
        },
        {
          "output_type": "stream",
          "name": "stderr",
          "text": [
            "\r221it [1:08:54, 18.82s/it]"
          ]
        },
        {
          "output_type": "stream",
          "name": "stdout",
          "text": [
            "[Feb 27, 09:55:01] [0] \t\t #> Encoding 25000 passages..\n",
            "[Feb 27, 09:55:18] [0] \t\t #> Saving chunk 221: \t 25,000 passages and 1,942,716 embeddings. From #5,525,000 onward.\n"
          ]
        },
        {
          "output_type": "stream",
          "name": "stderr",
          "text": [
            "\r222it [1:09:13, 18.83s/it]"
          ]
        },
        {
          "output_type": "stream",
          "name": "stdout",
          "text": [
            "[Feb 27, 09:55:20] [0] \t\t #> Encoding 25000 passages..\n",
            "[Feb 27, 09:55:37] [0] \t\t #> Saving chunk 222: \t 25,000 passages and 1,946,551 embeddings. From #5,550,000 onward.\n"
          ]
        },
        {
          "output_type": "stream",
          "name": "stderr",
          "text": [
            "\r223it [1:09:32, 18.83s/it]"
          ]
        },
        {
          "output_type": "stream",
          "name": "stdout",
          "text": [
            "[Feb 27, 09:55:39] [0] \t\t #> Encoding 25000 passages..\n",
            "[Feb 27, 09:55:55] [0] \t\t #> Saving chunk 223: \t 25,000 passages and 1,952,424 embeddings. From #5,575,000 onward.\n"
          ]
        },
        {
          "output_type": "stream",
          "name": "stderr",
          "text": [
            "\r224it [1:09:51, 18.84s/it]"
          ]
        },
        {
          "output_type": "stream",
          "name": "stdout",
          "text": [
            "[Feb 27, 09:55:58] [0] \t\t #> Encoding 25000 passages..\n",
            "[Feb 27, 09:56:14] [0] \t\t #> Saving chunk 224: \t 25,000 passages and 1,952,333 embeddings. From #5,600,000 onward.\n"
          ]
        },
        {
          "output_type": "stream",
          "name": "stderr",
          "text": [
            "\r225it [1:10:09, 18.85s/it]"
          ]
        },
        {
          "output_type": "stream",
          "name": "stdout",
          "text": [
            "[Feb 27, 09:56:17] [0] \t\t #> Encoding 25000 passages..\n",
            "[Feb 27, 09:56:33] [0] \t\t #> Saving chunk 225: \t 25,000 passages and 1,953,333 embeddings. From #5,625,000 onward.\n"
          ]
        },
        {
          "output_type": "stream",
          "name": "stderr",
          "text": [
            "\r226it [1:10:28, 18.86s/it]"
          ]
        },
        {
          "output_type": "stream",
          "name": "stdout",
          "text": [
            "[Feb 27, 09:56:36] [0] \t\t #> Encoding 25000 passages..\n",
            "[Feb 27, 09:56:52] [0] \t\t #> Saving chunk 226: \t 25,000 passages and 1,940,269 embeddings. From #5,650,000 onward.\n"
          ]
        },
        {
          "output_type": "stream",
          "name": "stderr",
          "text": [
            "\r227it [1:10:47, 18.85s/it]"
          ]
        },
        {
          "output_type": "stream",
          "name": "stdout",
          "text": [
            "[Feb 27, 09:56:54] [0] \t\t #> Encoding 25000 passages..\n",
            "[Feb 27, 09:57:11] [0] \t\t #> Saving chunk 227: \t 25,000 passages and 1,958,403 embeddings. From #5,675,000 onward.\n"
          ]
        },
        {
          "output_type": "stream",
          "name": "stderr",
          "text": [
            "\r228it [1:11:06, 18.86s/it]"
          ]
        },
        {
          "output_type": "stream",
          "name": "stdout",
          "text": [
            "[Feb 27, 09:57:13] [0] \t\t #> Encoding 25000 passages..\n",
            "[Feb 27, 09:57:30] [0] \t\t #> Saving chunk 228: \t 25,000 passages and 1,945,386 embeddings. From #5,700,000 onward.\n"
          ]
        },
        {
          "output_type": "stream",
          "name": "stderr",
          "text": [
            "\r229it [1:11:25, 18.86s/it]"
          ]
        },
        {
          "output_type": "stream",
          "name": "stdout",
          "text": [
            "[Feb 27, 09:57:32] [0] \t\t #> Encoding 25000 passages..\n",
            "[Feb 27, 09:57:49] [0] \t\t #> Saving chunk 229: \t 25,000 passages and 1,922,356 embeddings. From #5,725,000 onward.\n"
          ]
        },
        {
          "output_type": "stream",
          "name": "stderr",
          "text": [
            "\r230it [1:11:44, 18.84s/it]"
          ]
        },
        {
          "output_type": "stream",
          "name": "stdout",
          "text": [
            "[Feb 27, 09:57:51] [0] \t\t #> Encoding 25000 passages..\n",
            "[Feb 27, 09:58:07] [0] \t\t #> Saving chunk 230: \t 25,000 passages and 1,955,020 embeddings. From #5,750,000 onward.\n"
          ]
        },
        {
          "output_type": "stream",
          "name": "stderr",
          "text": [
            "\r231it [1:12:03, 18.86s/it]"
          ]
        },
        {
          "output_type": "stream",
          "name": "stdout",
          "text": [
            "[Feb 27, 09:58:10] [0] \t\t #> Encoding 25000 passages..\n",
            "[Feb 27, 09:58:26] [0] \t\t #> Saving chunk 231: \t 25,000 passages and 1,960,779 embeddings. From #5,775,000 onward.\n"
          ]
        },
        {
          "output_type": "stream",
          "name": "stderr",
          "text": [
            "\r232it [1:12:21, 18.85s/it]"
          ]
        },
        {
          "output_type": "stream",
          "name": "stdout",
          "text": [
            "[Feb 27, 09:58:29] [0] \t\t #> Encoding 25000 passages..\n",
            "[Feb 27, 09:58:45] [0] \t\t #> Saving chunk 232: \t 25,000 passages and 1,954,897 embeddings. From #5,800,000 onward.\n"
          ]
        },
        {
          "output_type": "stream",
          "name": "stderr",
          "text": [
            "\r233it [1:12:40, 18.85s/it]"
          ]
        },
        {
          "output_type": "stream",
          "name": "stdout",
          "text": [
            "[Feb 27, 09:58:48] [0] \t\t #> Encoding 25000 passages..\n",
            "[Feb 27, 09:59:04] [0] \t\t #> Saving chunk 233: \t 25,000 passages and 1,967,355 embeddings. From #5,825,000 onward.\n"
          ]
        },
        {
          "output_type": "stream",
          "name": "stderr",
          "text": [
            "\r234it [1:12:59, 18.87s/it]"
          ]
        },
        {
          "output_type": "stream",
          "name": "stdout",
          "text": [
            "[Feb 27, 09:59:06] [0] \t\t #> Encoding 25000 passages..\n",
            "[Feb 27, 09:59:23] [0] \t\t #> Saving chunk 234: \t 25,000 passages and 1,957,776 embeddings. From #5,850,000 onward.\n"
          ]
        },
        {
          "output_type": "stream",
          "name": "stderr",
          "text": [
            "\r235it [1:13:18, 18.86s/it]"
          ]
        },
        {
          "output_type": "stream",
          "name": "stdout",
          "text": [
            "[Feb 27, 09:59:25] [0] \t\t #> Encoding 25000 passages..\n",
            "[Feb 27, 09:59:42] [0] \t\t #> Saving chunk 235: \t 25,000 passages and 1,943,228 embeddings. From #5,875,000 onward.\n"
          ]
        },
        {
          "output_type": "stream",
          "name": "stderr",
          "text": [
            "\r236it [1:13:37, 18.87s/it]"
          ]
        },
        {
          "output_type": "stream",
          "name": "stdout",
          "text": [
            "[Feb 27, 09:59:44] [0] \t\t #> Encoding 25000 passages..\n",
            "[Feb 27, 10:00:01] [0] \t\t #> Saving chunk 236: \t 25,000 passages and 1,960,204 embeddings. From #5,900,000 onward.\n"
          ]
        },
        {
          "output_type": "stream",
          "name": "stderr",
          "text": [
            "\r237it [1:13:56, 18.86s/it]"
          ]
        },
        {
          "output_type": "stream",
          "name": "stdout",
          "text": [
            "[Feb 27, 10:00:03] [0] \t\t #> Encoding 25000 passages..\n",
            "[Feb 27, 10:00:19] [0] \t\t #> Saving chunk 237: \t 25,000 passages and 1,922,424 embeddings. From #5,925,000 onward.\n"
          ]
        },
        {
          "output_type": "stream",
          "name": "stderr",
          "text": [
            "\r238it [1:14:15, 18.85s/it]"
          ]
        },
        {
          "output_type": "stream",
          "name": "stdout",
          "text": [
            "[Feb 27, 10:00:22] [0] \t\t #> Encoding 25000 passages..\n",
            "[Feb 27, 10:00:38] [0] \t\t #> Saving chunk 238: \t 25,000 passages and 1,926,020 embeddings. From #5,950,000 onward.\n"
          ]
        },
        {
          "output_type": "stream",
          "name": "stderr",
          "text": [
            "\r239it [1:14:33, 18.84s/it]"
          ]
        },
        {
          "output_type": "stream",
          "name": "stdout",
          "text": [
            "[Feb 27, 10:00:41] [0] \t\t #> Encoding 25000 passages..\n",
            "[Feb 27, 10:00:57] [0] \t\t #> Saving chunk 239: \t 25,000 passages and 1,945,742 embeddings. From #5,975,000 onward.\n"
          ]
        },
        {
          "output_type": "stream",
          "name": "stderr",
          "text": [
            "\r240it [1:14:52, 18.83s/it]"
          ]
        },
        {
          "output_type": "stream",
          "name": "stdout",
          "text": [
            "[Feb 27, 10:00:59] [0] \t\t #> Encoding 25000 passages..\n",
            "[Feb 27, 10:01:16] [0] \t\t #> Saving chunk 240: \t 25,000 passages and 1,970,451 embeddings. From #6,000,000 onward.\n"
          ]
        },
        {
          "output_type": "stream",
          "name": "stderr",
          "text": [
            "\r241it [1:15:11, 18.85s/it]"
          ]
        },
        {
          "output_type": "stream",
          "name": "stdout",
          "text": [
            "[Feb 27, 10:01:18] [0] \t\t #> Encoding 25000 passages..\n",
            "[Feb 27, 10:01:35] [0] \t\t #> Saving chunk 241: \t 25,000 passages and 1,972,503 embeddings. From #6,025,000 onward.\n"
          ]
        },
        {
          "output_type": "stream",
          "name": "stderr",
          "text": [
            "\r242it [1:15:30, 18.86s/it]"
          ]
        },
        {
          "output_type": "stream",
          "name": "stdout",
          "text": [
            "[Feb 27, 10:01:37] [0] \t\t #> Encoding 25000 passages..\n",
            "[Feb 27, 10:01:54] [0] \t\t #> Saving chunk 242: \t 25,000 passages and 1,964,714 embeddings. From #6,050,000 onward.\n"
          ]
        },
        {
          "output_type": "stream",
          "name": "stderr",
          "text": [
            "\r243it [1:15:49, 18.87s/it]"
          ]
        },
        {
          "output_type": "stream",
          "name": "stdout",
          "text": [
            "[Feb 27, 10:01:56] [0] \t\t #> Encoding 25000 passages..\n",
            "[Feb 27, 10:02:13] [0] \t\t #> Saving chunk 243: \t 25,000 passages and 1,938,340 embeddings. From #6,075,000 onward.\n"
          ]
        },
        {
          "output_type": "stream",
          "name": "stderr",
          "text": [
            "\r244it [1:16:08, 18.86s/it]"
          ]
        },
        {
          "output_type": "stream",
          "name": "stdout",
          "text": [
            "[Feb 27, 10:02:15] [0] \t\t #> Encoding 25000 passages..\n",
            "[Feb 27, 10:02:31] [0] \t\t #> Saving chunk 244: \t 25,000 passages and 1,924,383 embeddings. From #6,100,000 onward.\n"
          ]
        },
        {
          "output_type": "stream",
          "name": "stderr",
          "text": [
            "\r245it [1:16:26, 18.85s/it]"
          ]
        },
        {
          "output_type": "stream",
          "name": "stdout",
          "text": [
            "[Feb 27, 10:02:34] [0] \t\t #> Encoding 25000 passages..\n",
            "[Feb 27, 10:02:50] [0] \t\t #> Saving chunk 245: \t 25,000 passages and 1,922,253 embeddings. From #6,125,000 onward.\n"
          ]
        },
        {
          "output_type": "stream",
          "name": "stderr",
          "text": [
            "\r246it [1:16:45, 18.83s/it]"
          ]
        },
        {
          "output_type": "stream",
          "name": "stdout",
          "text": [
            "[Feb 27, 10:02:53] [0] \t\t #> Encoding 25000 passages..\n",
            "[Feb 27, 10:03:09] [0] \t\t #> Saving chunk 246: \t 25,000 passages and 2,355,937 embeddings. From #6,150,000 onward.\n"
          ]
        },
        {
          "output_type": "stream",
          "name": "stderr",
          "text": [
            "\r247it [1:17:05, 19.06s/it]"
          ]
        },
        {
          "output_type": "stream",
          "name": "stdout",
          "text": [
            "[Feb 27, 10:03:12] [0] \t\t #> Encoding 25000 passages..\n",
            "[Feb 27, 10:03:29] [0] \t\t #> Saving chunk 247: \t 25,000 passages and 2,338,999 embeddings. From #6,175,000 onward.\n"
          ]
        },
        {
          "output_type": "stream",
          "name": "stderr",
          "text": [
            "\r248it [1:17:24, 19.22s/it]"
          ]
        },
        {
          "output_type": "stream",
          "name": "stdout",
          "text": [
            "[Feb 27, 10:03:32] [0] \t\t #> Encoding 25000 passages..\n",
            "[Feb 27, 10:03:48] [0] \t\t #> Saving chunk 248: \t 25,000 passages and 2,367,164 embeddings. From #6,200,000 onward.\n"
          ]
        },
        {
          "output_type": "stream",
          "name": "stderr",
          "text": [
            "\r249it [1:17:44, 19.35s/it]"
          ]
        },
        {
          "output_type": "stream",
          "name": "stdout",
          "text": [
            "[Feb 27, 10:03:51] [0] \t\t #> Encoding 25000 passages..\n",
            "[Feb 27, 10:04:08] [0] \t\t #> Saving chunk 249: \t 25,000 passages and 2,373,326 embeddings. From #6,225,000 onward.\n"
          ]
        },
        {
          "output_type": "stream",
          "name": "stderr",
          "text": [
            "\r250it [1:18:04, 19.43s/it]"
          ]
        },
        {
          "output_type": "stream",
          "name": "stdout",
          "text": [
            "[Feb 27, 10:04:11] [0] \t\t #> Encoding 25000 passages..\n",
            "[Feb 27, 10:04:28] [0] \t\t #> Saving chunk 250: \t 25,000 passages and 2,367,723 embeddings. From #6,250,000 onward.\n"
          ]
        },
        {
          "output_type": "stream",
          "name": "stderr",
          "text": [
            "\r251it [1:18:23, 19.49s/it]"
          ]
        },
        {
          "output_type": "stream",
          "name": "stdout",
          "text": [
            "[Feb 27, 10:04:31] [0] \t\t #> Encoding 25000 passages..\n",
            "[Feb 27, 10:04:47] [0] \t\t #> Saving chunk 251: \t 25,000 passages and 2,362,942 embeddings. From #6,275,000 onward.\n"
          ]
        },
        {
          "output_type": "stream",
          "name": "stderr",
          "text": [
            "\r252it [1:18:43, 19.52s/it]"
          ]
        },
        {
          "output_type": "stream",
          "name": "stdout",
          "text": [
            "[Feb 27, 10:04:50] [0] \t\t #> Encoding 25000 passages..\n",
            "[Feb 27, 10:05:07] [0] \t\t #> Saving chunk 252: \t 25,000 passages and 2,263,133 embeddings. From #6,300,000 onward.\n"
          ]
        },
        {
          "output_type": "stream",
          "name": "stderr",
          "text": [
            "\r253it [1:19:02, 19.49s/it]"
          ]
        },
        {
          "output_type": "stream",
          "name": "stdout",
          "text": [
            "[Feb 27, 10:05:10] [0] \t\t #> Encoding 25000 passages..\n",
            "[Feb 27, 10:05:26] [0] \t\t #> Saving chunk 253: \t 25,000 passages and 1,944,833 embeddings. From #6,325,000 onward.\n"
          ]
        },
        {
          "output_type": "stream",
          "name": "stderr",
          "text": [
            "\r254it [1:19:21, 19.30s/it]"
          ]
        },
        {
          "output_type": "stream",
          "name": "stdout",
          "text": [
            "[Feb 27, 10:05:29] [0] \t\t #> Encoding 25000 passages..\n",
            "[Feb 27, 10:05:45] [0] \t\t #> Saving chunk 254: \t 25,000 passages and 1,943,569 embeddings. From #6,350,000 onward.\n"
          ]
        },
        {
          "output_type": "stream",
          "name": "stderr",
          "text": [
            "\r255it [1:19:40, 19.16s/it]"
          ]
        },
        {
          "output_type": "stream",
          "name": "stdout",
          "text": [
            "[Feb 27, 10:05:47] [0] \t\t #> Encoding 25000 passages..\n",
            "[Feb 27, 10:06:04] [0] \t\t #> Saving chunk 255: \t 25,000 passages and 1,936,111 embeddings. From #6,375,000 onward.\n"
          ]
        },
        {
          "output_type": "stream",
          "name": "stderr",
          "text": [
            "\r256it [1:19:59, 19.06s/it]"
          ]
        },
        {
          "output_type": "stream",
          "name": "stdout",
          "text": [
            "[Feb 27, 10:06:06] [0] \t\t #> Encoding 25000 passages..\n",
            "[Feb 27, 10:06:23] [0] \t\t #> Saving chunk 256: \t 25,000 passages and 1,955,085 embeddings. From #6,400,000 onward.\n"
          ]
        },
        {
          "output_type": "stream",
          "name": "stderr",
          "text": [
            "\r257it [1:20:18, 18.97s/it]"
          ]
        },
        {
          "output_type": "stream",
          "name": "stdout",
          "text": [
            "[Feb 27, 10:06:25] [0] \t\t #> Encoding 25000 passages..\n",
            "[Feb 27, 10:06:42] [0] \t\t #> Saving chunk 257: \t 25,000 passages and 1,956,596 embeddings. From #6,425,000 onward.\n"
          ]
        },
        {
          "output_type": "stream",
          "name": "stderr",
          "text": [
            "\r258it [1:20:37, 18.97s/it]"
          ]
        },
        {
          "output_type": "stream",
          "name": "stdout",
          "text": [
            "[Feb 27, 10:06:44] [0] \t\t #> Encoding 25000 passages..\n",
            "[Feb 27, 10:07:00] [0] \t\t #> Saving chunk 258: \t 25,000 passages and 1,960,806 embeddings. From #6,450,000 onward.\n"
          ]
        },
        {
          "output_type": "stream",
          "name": "stderr",
          "text": [
            "\r259it [1:20:55, 18.94s/it]"
          ]
        },
        {
          "output_type": "stream",
          "name": "stdout",
          "text": [
            "[Feb 27, 10:07:03] [0] \t\t #> Encoding 25000 passages..\n",
            "[Feb 27, 10:07:19] [0] \t\t #> Saving chunk 259: \t 25,000 passages and 1,952,438 embeddings. From #6,475,000 onward.\n"
          ]
        },
        {
          "output_type": "stream",
          "name": "stderr",
          "text": [
            "\r260it [1:21:14, 18.93s/it]"
          ]
        },
        {
          "output_type": "stream",
          "name": "stdout",
          "text": [
            "[Feb 27, 10:07:22] [0] \t\t #> Encoding 25000 passages..\n",
            "[Feb 27, 10:07:38] [0] \t\t #> Saving chunk 260: \t 25,000 passages and 1,951,115 embeddings. From #6,500,000 onward.\n"
          ]
        },
        {
          "output_type": "stream",
          "name": "stderr",
          "text": [
            "\r261it [1:21:33, 18.91s/it]"
          ]
        },
        {
          "output_type": "stream",
          "name": "stdout",
          "text": [
            "[Feb 27, 10:07:41] [0] \t\t #> Encoding 25000 passages..\n",
            "[Feb 27, 10:07:57] [0] \t\t #> Saving chunk 261: \t 25,000 passages and 1,967,272 embeddings. From #6,525,000 onward.\n"
          ]
        },
        {
          "output_type": "stream",
          "name": "stderr",
          "text": [
            "\r262it [1:21:52, 18.91s/it]"
          ]
        },
        {
          "output_type": "stream",
          "name": "stdout",
          "text": [
            "[Feb 27, 10:08:00] [0] \t\t #> Encoding 25000 passages..\n",
            "[Feb 27, 10:08:16] [0] \t\t #> Saving chunk 262: \t 25,000 passages and 1,939,464 embeddings. From #6,550,000 onward.\n"
          ]
        },
        {
          "output_type": "stream",
          "name": "stderr",
          "text": [
            "\r263it [1:22:11, 18.90s/it]"
          ]
        },
        {
          "output_type": "stream",
          "name": "stdout",
          "text": [
            "[Feb 27, 10:08:18] [0] \t\t #> Encoding 25000 passages..\n",
            "[Feb 27, 10:08:35] [0] \t\t #> Saving chunk 263: \t 25,000 passages and 1,935,113 embeddings. From #6,575,000 onward.\n"
          ]
        },
        {
          "output_type": "stream",
          "name": "stderr",
          "text": [
            "\r264it [1:22:30, 18.87s/it]"
          ]
        },
        {
          "output_type": "stream",
          "name": "stdout",
          "text": [
            "[Feb 27, 10:08:37] [0] \t\t #> Encoding 25000 passages..\n",
            "[Feb 27, 10:08:54] [0] \t\t #> Saving chunk 264: \t 25,000 passages and 1,967,019 embeddings. From #6,600,000 onward.\n"
          ]
        },
        {
          "output_type": "stream",
          "name": "stderr",
          "text": [
            "\r265it [1:22:49, 18.88s/it]"
          ]
        },
        {
          "output_type": "stream",
          "name": "stdout",
          "text": [
            "[Feb 27, 10:08:56] [0] \t\t #> Encoding 25000 passages..\n",
            "[Feb 27, 10:09:13] [0] \t\t #> Saving chunk 265: \t 25,000 passages and 1,949,609 embeddings. From #6,625,000 onward.\n"
          ]
        },
        {
          "output_type": "stream",
          "name": "stderr",
          "text": [
            "\r266it [1:23:08, 18.88s/it]"
          ]
        },
        {
          "output_type": "stream",
          "name": "stdout",
          "text": [
            "[Feb 27, 10:09:15] [0] \t\t #> Encoding 25000 passages..\n",
            "[Feb 27, 10:09:31] [0] \t\t #> Saving chunk 266: \t 25,000 passages and 1,936,775 embeddings. From #6,650,000 onward.\n"
          ]
        },
        {
          "output_type": "stream",
          "name": "stderr",
          "text": [
            "\r267it [1:23:26, 18.86s/it]"
          ]
        },
        {
          "output_type": "stream",
          "name": "stdout",
          "text": [
            "[Feb 27, 10:09:34] [0] \t\t #> Encoding 25000 passages..\n",
            "[Feb 27, 10:09:50] [0] \t\t #> Saving chunk 267: \t 25,000 passages and 1,910,385 embeddings. From #6,675,000 onward.\n"
          ]
        },
        {
          "output_type": "stream",
          "name": "stderr",
          "text": [
            "\r268it [1:23:45, 18.84s/it]"
          ]
        },
        {
          "output_type": "stream",
          "name": "stdout",
          "text": [
            "[Feb 27, 10:09:53] [0] \t\t #> Encoding 25000 passages..\n",
            "[Feb 27, 10:10:09] [0] \t\t #> Saving chunk 268: \t 25,000 passages and 1,919,636 embeddings. From #6,700,000 onward.\n"
          ]
        },
        {
          "output_type": "stream",
          "name": "stderr",
          "text": [
            "\r269it [1:24:04, 18.83s/it]"
          ]
        },
        {
          "output_type": "stream",
          "name": "stdout",
          "text": [
            "[Feb 27, 10:10:11] [0] \t\t #> Encoding 25000 passages..\n",
            "[Feb 27, 10:10:28] [0] \t\t #> Saving chunk 269: \t 25,000 passages and 1,902,621 embeddings. From #6,725,000 onward.\n"
          ]
        },
        {
          "output_type": "stream",
          "name": "stderr",
          "text": [
            "\r270it [1:24:23, 18.82s/it]"
          ]
        },
        {
          "output_type": "stream",
          "name": "stdout",
          "text": [
            "[Feb 27, 10:10:30] [0] \t\t #> Encoding 25000 passages..\n",
            "[Feb 27, 10:10:47] [0] \t\t #> Saving chunk 270: \t 25,000 passages and 1,901,199 embeddings. From #6,750,000 onward.\n"
          ]
        },
        {
          "output_type": "stream",
          "name": "stderr",
          "text": [
            "\r271it [1:24:42, 18.80s/it]"
          ]
        },
        {
          "output_type": "stream",
          "name": "stdout",
          "text": [
            "[Feb 27, 10:10:49] [0] \t\t #> Encoding 25000 passages..\n",
            "[Feb 27, 10:11:05] [0] \t\t #> Saving chunk 271: \t 25,000 passages and 1,906,270 embeddings. From #6,775,000 onward.\n"
          ]
        },
        {
          "output_type": "stream",
          "name": "stderr",
          "text": [
            "\r272it [1:25:00, 18.81s/it]"
          ]
        },
        {
          "output_type": "stream",
          "name": "stdout",
          "text": [
            "[Feb 27, 10:11:08] [0] \t\t #> Encoding 25000 passages..\n",
            "[Feb 27, 10:11:24] [0] \t\t #> Saving chunk 272: \t 25,000 passages and 1,925,577 embeddings. From #6,800,000 onward.\n"
          ]
        },
        {
          "output_type": "stream",
          "name": "stderr",
          "text": [
            "\r273it [1:25:19, 18.81s/it]"
          ]
        },
        {
          "output_type": "stream",
          "name": "stdout",
          "text": [
            "[Feb 27, 10:11:27] [0] \t\t #> Encoding 25000 passages..\n",
            "[Feb 27, 10:11:43] [0] \t\t #> Saving chunk 273: \t 25,000 passages and 1,912,662 embeddings. From #6,825,000 onward.\n"
          ]
        },
        {
          "output_type": "stream",
          "name": "stderr",
          "text": [
            "\r274it [1:25:38, 18.81s/it]"
          ]
        },
        {
          "output_type": "stream",
          "name": "stdout",
          "text": [
            "[Feb 27, 10:11:45] [0] \t\t #> Encoding 25000 passages..\n",
            "[Feb 27, 10:12:02] [0] \t\t #> Saving chunk 274: \t 25,000 passages and 1,909,743 embeddings. From #6,850,000 onward.\n"
          ]
        },
        {
          "output_type": "stream",
          "name": "stderr",
          "text": [
            "\r275it [1:25:57, 18.80s/it]"
          ]
        },
        {
          "output_type": "stream",
          "name": "stdout",
          "text": [
            "[Feb 27, 10:12:04] [0] \t\t #> Encoding 25000 passages..\n",
            "[Feb 27, 10:12:21] [0] \t\t #> Saving chunk 275: \t 25,000 passages and 1,905,076 embeddings. From #6,875,000 onward.\n"
          ]
        },
        {
          "output_type": "stream",
          "name": "stderr",
          "text": [
            "\r276it [1:26:16, 18.80s/it]"
          ]
        },
        {
          "output_type": "stream",
          "name": "stdout",
          "text": [
            "[Feb 27, 10:12:23] [0] \t\t #> Encoding 25000 passages..\n",
            "[Feb 27, 10:12:39] [0] \t\t #> Saving chunk 276: \t 25,000 passages and 1,886,376 embeddings. From #6,900,000 onward.\n"
          ]
        },
        {
          "output_type": "stream",
          "name": "stderr",
          "text": [
            "\r277it [1:26:34, 18.79s/it]"
          ]
        },
        {
          "output_type": "stream",
          "name": "stdout",
          "text": [
            "[Feb 27, 10:12:42] [0] \t\t #> Encoding 25000 passages..\n",
            "[Feb 27, 10:12:58] [0] \t\t #> Saving chunk 277: \t 25,000 passages and 1,907,766 embeddings. From #6,925,000 onward.\n"
          ]
        },
        {
          "output_type": "stream",
          "name": "stderr",
          "text": [
            "\r278it [1:26:53, 18.79s/it]"
          ]
        },
        {
          "output_type": "stream",
          "name": "stdout",
          "text": [
            "[Feb 27, 10:13:00] [0] \t\t #> Encoding 25000 passages..\n",
            "[Feb 27, 10:13:17] [0] \t\t #> Saving chunk 278: \t 25,000 passages and 1,896,869 embeddings. From #6,950,000 onward.\n"
          ]
        },
        {
          "output_type": "stream",
          "name": "stderr",
          "text": [
            "\r279it [1:27:12, 18.78s/it]"
          ]
        },
        {
          "output_type": "stream",
          "name": "stdout",
          "text": [
            "[Feb 27, 10:13:19] [0] \t\t #> Encoding 25000 passages..\n",
            "[Feb 27, 10:13:36] [0] \t\t #> Saving chunk 279: \t 25,000 passages and 1,899,420 embeddings. From #6,975,000 onward.\n"
          ]
        },
        {
          "output_type": "stream",
          "name": "stderr",
          "text": [
            "\r280it [1:27:31, 18.77s/it]"
          ]
        },
        {
          "output_type": "stream",
          "name": "stdout",
          "text": [
            "[Feb 27, 10:13:38] [0] \t\t #> Encoding 25000 passages..\n",
            "[Feb 27, 10:13:54] [0] \t\t #> Saving chunk 280: \t 25,000 passages and 1,900,354 embeddings. From #7,000,000 onward.\n"
          ]
        },
        {
          "output_type": "stream",
          "name": "stderr",
          "text": [
            "\r281it [1:27:49, 18.78s/it]"
          ]
        },
        {
          "output_type": "stream",
          "name": "stdout",
          "text": [
            "[Feb 27, 10:13:57] [0] \t\t #> Encoding 25000 passages..\n",
            "[Feb 27, 10:14:13] [0] \t\t #> Saving chunk 281: \t 25,000 passages and 1,887,245 embeddings. From #7,025,000 onward.\n"
          ]
        },
        {
          "output_type": "stream",
          "name": "stderr",
          "text": [
            "\r282it [1:28:08, 18.76s/it]"
          ]
        },
        {
          "output_type": "stream",
          "name": "stdout",
          "text": [
            "[Feb 27, 10:14:16] [0] \t\t #> Encoding 25000 passages..\n",
            "[Feb 27, 10:14:32] [0] \t\t #> Saving chunk 282: \t 25,000 passages and 1,902,609 embeddings. From #7,050,000 onward.\n"
          ]
        },
        {
          "output_type": "stream",
          "name": "stderr",
          "text": [
            "\r283it [1:28:27, 18.76s/it]"
          ]
        },
        {
          "output_type": "stream",
          "name": "stdout",
          "text": [
            "[Feb 27, 10:14:34] [0] \t\t #> Encoding 25000 passages..\n",
            "[Feb 27, 10:14:51] [0] \t\t #> Saving chunk 283: \t 25,000 passages and 1,711,485 embeddings. From #7,075,000 onward.\n"
          ]
        },
        {
          "output_type": "stream",
          "name": "stderr",
          "text": [
            "\r284it [1:28:45, 18.63s/it]"
          ]
        },
        {
          "output_type": "stream",
          "name": "stdout",
          "text": [
            "[Feb 27, 10:14:53] [0] \t\t #> Encoding 25000 passages..\n",
            "[Feb 27, 10:15:09] [0] \t\t #> Saving chunk 284: \t 25,000 passages and 1,746,867 embeddings. From #7,100,000 onward.\n"
          ]
        },
        {
          "output_type": "stream",
          "name": "stderr",
          "text": [
            "\r285it [1:29:04, 18.59s/it]"
          ]
        },
        {
          "output_type": "stream",
          "name": "stdout",
          "text": [
            "[Feb 27, 10:15:11] [0] \t\t #> Encoding 25000 passages..\n",
            "[Feb 27, 10:15:27] [0] \t\t #> Saving chunk 285: \t 25,000 passages and 1,693,775 embeddings. From #7,125,000 onward.\n"
          ]
        },
        {
          "output_type": "stream",
          "name": "stderr",
          "text": [
            "\r286it [1:29:22, 18.53s/it]"
          ]
        },
        {
          "output_type": "stream",
          "name": "stdout",
          "text": [
            "[Feb 27, 10:15:30] [0] \t\t #> Encoding 25000 passages..\n",
            "[Feb 27, 10:15:46] [0] \t\t #> Saving chunk 286: \t 25,000 passages and 1,722,420 embeddings. From #7,150,000 onward.\n"
          ]
        },
        {
          "output_type": "stream",
          "name": "stderr",
          "text": [
            "\r287it [1:29:41, 18.50s/it]"
          ]
        },
        {
          "output_type": "stream",
          "name": "stdout",
          "text": [
            "[Feb 27, 10:15:48] [0] \t\t #> Encoding 25000 passages..\n",
            "[Feb 27, 10:16:04] [0] \t\t #> Saving chunk 287: \t 25,000 passages and 1,734,927 embeddings. From #7,175,000 onward.\n"
          ]
        },
        {
          "output_type": "stream",
          "name": "stderr",
          "text": [
            "\r288it [1:29:59, 18.49s/it]"
          ]
        },
        {
          "output_type": "stream",
          "name": "stdout",
          "text": [
            "[Feb 27, 10:16:06] [0] \t\t #> Encoding 25000 passages..\n",
            "[Feb 27, 10:16:23] [0] \t\t #> Saving chunk 288: \t 25,000 passages and 1,737,188 embeddings. From #7,200,000 onward.\n"
          ]
        },
        {
          "output_type": "stream",
          "name": "stderr",
          "text": [
            "\r289it [1:30:17, 18.47s/it]"
          ]
        },
        {
          "output_type": "stream",
          "name": "stdout",
          "text": [
            "[Feb 27, 10:16:25] [0] \t\t #> Encoding 25000 passages..\n",
            "[Feb 27, 10:16:41] [0] \t\t #> Saving chunk 289: \t 25,000 passages and 1,734,722 embeddings. From #7,225,000 onward.\n"
          ]
        },
        {
          "output_type": "stream",
          "name": "stderr",
          "text": [
            "\r290it [1:30:36, 18.46s/it]"
          ]
        },
        {
          "output_type": "stream",
          "name": "stdout",
          "text": [
            "[Feb 27, 10:16:43] [0] \t\t #> Encoding 25000 passages..\n",
            "[Feb 27, 10:17:00] [0] \t\t #> Saving chunk 290: \t 25,000 passages and 1,730,983 embeddings. From #7,250,000 onward.\n"
          ]
        },
        {
          "output_type": "stream",
          "name": "stderr",
          "text": [
            "\r291it [1:30:54, 18.45s/it]"
          ]
        },
        {
          "output_type": "stream",
          "name": "stdout",
          "text": [
            "[Feb 27, 10:17:02] [0] \t\t #> Encoding 25000 passages..\n",
            "[Feb 27, 10:17:18] [0] \t\t #> Saving chunk 291: \t 25,000 passages and 1,719,845 embeddings. From #7,275,000 onward.\n"
          ]
        },
        {
          "output_type": "stream",
          "name": "stderr",
          "text": [
            "\r292it [1:31:13, 18.45s/it]"
          ]
        },
        {
          "output_type": "stream",
          "name": "stdout",
          "text": [
            "[Feb 27, 10:17:20] [0] \t\t #> Encoding 25000 passages..\n",
            "[Feb 27, 10:17:37] [0] \t\t #> Saving chunk 292: \t 25,000 passages and 1,885,187 embeddings. From #7,300,000 onward.\n"
          ]
        },
        {
          "output_type": "stream",
          "name": "stderr",
          "text": [
            "\r293it [1:31:31, 18.52s/it]"
          ]
        },
        {
          "output_type": "stream",
          "name": "stdout",
          "text": [
            "[Feb 27, 10:17:39] [0] \t\t #> Encoding 25000 passages..\n",
            "[Feb 27, 10:17:55] [0] \t\t #> Saving chunk 293: \t 25,000 passages and 1,895,155 embeddings. From #7,325,000 onward.\n"
          ]
        },
        {
          "output_type": "stream",
          "name": "stderr",
          "text": [
            "\r294it [1:31:50, 18.63s/it]"
          ]
        },
        {
          "output_type": "stream",
          "name": "stdout",
          "text": [
            "[Feb 27, 10:17:58] [0] \t\t #> Encoding 25000 passages..\n",
            "[Feb 27, 10:18:14] [0] \t\t #> Saving chunk 294: \t 25,000 passages and 1,909,935 embeddings. From #7,350,000 onward.\n"
          ]
        },
        {
          "output_type": "stream",
          "name": "stderr",
          "text": [
            "\r295it [1:32:09, 18.67s/it]"
          ]
        },
        {
          "output_type": "stream",
          "name": "stdout",
          "text": [
            "[Feb 27, 10:18:16] [0] \t\t #> Encoding 25000 passages..\n",
            "[Feb 27, 10:18:33] [0] \t\t #> Saving chunk 295: \t 25,000 passages and 1,884,614 embeddings. From #7,375,000 onward.\n"
          ]
        },
        {
          "output_type": "stream",
          "name": "stderr",
          "text": [
            "\r296it [1:32:28, 18.70s/it]"
          ]
        },
        {
          "output_type": "stream",
          "name": "stdout",
          "text": [
            "[Feb 27, 10:18:35] [0] \t\t #> Encoding 25000 passages..\n",
            "[Feb 27, 10:18:52] [0] \t\t #> Saving chunk 296: \t 25,000 passages and 1,853,213 embeddings. From #7,400,000 onward.\n"
          ]
        },
        {
          "output_type": "stream",
          "name": "stderr",
          "text": [
            "\r297it [1:32:47, 18.70s/it]"
          ]
        },
        {
          "output_type": "stream",
          "name": "stdout",
          "text": [
            "[Feb 27, 10:18:54] [0] \t\t #> Encoding 25000 passages..\n",
            "[Feb 27, 10:19:10] [0] \t\t #> Saving chunk 297: \t 25,000 passages and 1,830,258 embeddings. From #7,425,000 onward.\n"
          ]
        },
        {
          "output_type": "stream",
          "name": "stderr",
          "text": [
            "\r298it [1:33:05, 18.65s/it]"
          ]
        },
        {
          "output_type": "stream",
          "name": "stdout",
          "text": [
            "[Feb 27, 10:19:13] [0] \t\t #> Encoding 25000 passages..\n",
            "[Feb 27, 10:19:29] [0] \t\t #> Saving chunk 298: \t 25,000 passages and 1,825,942 embeddings. From #7,450,000 onward.\n"
          ]
        },
        {
          "output_type": "stream",
          "name": "stderr",
          "text": [
            "\r299it [1:33:24, 18.63s/it]"
          ]
        },
        {
          "output_type": "stream",
          "name": "stdout",
          "text": [
            "[Feb 27, 10:19:31] [0] \t\t #> Encoding 25000 passages..\n",
            "[Feb 27, 10:19:47] [0] \t\t #> Saving chunk 299: \t 25,000 passages and 1,833,699 embeddings. From #7,475,000 onward.\n"
          ]
        },
        {
          "output_type": "stream",
          "name": "stderr",
          "text": [
            "\r300it [1:33:42, 18.63s/it]"
          ]
        },
        {
          "output_type": "stream",
          "name": "stdout",
          "text": [
            "[Feb 27, 10:19:50] [0] \t\t #> Encoding 25000 passages..\n",
            "[Feb 27, 10:20:06] [0] \t\t #> Saving chunk 300: \t 25,000 passages and 1,840,119 embeddings. From #7,500,000 onward.\n"
          ]
        },
        {
          "output_type": "stream",
          "name": "stderr",
          "text": [
            "\r301it [1:34:01, 18.63s/it]"
          ]
        },
        {
          "output_type": "stream",
          "name": "stdout",
          "text": [
            "[Feb 27, 10:20:08] [0] \t\t #> Encoding 25000 passages..\n",
            "[Feb 27, 10:20:25] [0] \t\t #> Saving chunk 301: \t 25,000 passages and 1,840,432 embeddings. From #7,525,000 onward.\n"
          ]
        },
        {
          "output_type": "stream",
          "name": "stderr",
          "text": [
            "\r302it [1:34:20, 18.63s/it]"
          ]
        },
        {
          "output_type": "stream",
          "name": "stdout",
          "text": [
            "[Feb 27, 10:20:27] [0] \t\t #> Encoding 25000 passages..\n",
            "[Feb 27, 10:20:43] [0] \t\t #> Saving chunk 302: \t 25,000 passages and 1,833,257 embeddings. From #7,550,000 onward.\n"
          ]
        },
        {
          "output_type": "stream",
          "name": "stderr",
          "text": [
            "\r303it [1:34:38, 18.63s/it]"
          ]
        },
        {
          "output_type": "stream",
          "name": "stdout",
          "text": [
            "[Feb 27, 10:20:46] [0] \t\t #> Encoding 25000 passages..\n",
            "[Feb 27, 10:21:02] [0] \t\t #> Saving chunk 303: \t 25,000 passages and 1,833,296 embeddings. From #7,575,000 onward.\n"
          ]
        },
        {
          "output_type": "stream",
          "name": "stderr",
          "text": [
            "\r304it [1:34:57, 18.62s/it]"
          ]
        },
        {
          "output_type": "stream",
          "name": "stdout",
          "text": [
            "[Feb 27, 10:21:04] [0] \t\t #> Encoding 25000 passages..\n",
            "[Feb 27, 10:21:21] [0] \t\t #> Saving chunk 304: \t 25,000 passages and 1,820,780 embeddings. From #7,600,000 onward.\n"
          ]
        },
        {
          "output_type": "stream",
          "name": "stderr",
          "text": [
            "\r305it [1:35:15, 18.61s/it]"
          ]
        },
        {
          "output_type": "stream",
          "name": "stdout",
          "text": [
            "[Feb 27, 10:21:23] [0] \t\t #> Encoding 25000 passages..\n",
            "[Feb 27, 10:21:39] [0] \t\t #> Saving chunk 305: \t 25,000 passages and 1,825,949 embeddings. From #7,625,000 onward.\n"
          ]
        },
        {
          "output_type": "stream",
          "name": "stderr",
          "text": [
            "\r306it [1:35:34, 18.61s/it]"
          ]
        },
        {
          "output_type": "stream",
          "name": "stdout",
          "text": [
            "[Feb 27, 10:21:41] [0] \t\t #> Encoding 25000 passages..\n",
            "[Feb 27, 10:21:58] [0] \t\t #> Saving chunk 306: \t 25,000 passages and 1,820,842 embeddings. From #7,650,000 onward.\n"
          ]
        },
        {
          "output_type": "stream",
          "name": "stderr",
          "text": [
            "\r307it [1:35:53, 18.61s/it]"
          ]
        },
        {
          "output_type": "stream",
          "name": "stdout",
          "text": [
            "[Feb 27, 10:22:00] [0] \t\t #> Encoding 25000 passages..\n",
            "[Feb 27, 10:22:16] [0] \t\t #> Saving chunk 307: \t 25,000 passages and 1,840,198 embeddings. From #7,675,000 onward.\n"
          ]
        },
        {
          "output_type": "stream",
          "name": "stderr",
          "text": [
            "\r308it [1:36:11, 18.62s/it]"
          ]
        },
        {
          "output_type": "stream",
          "name": "stdout",
          "text": [
            "[Feb 27, 10:22:19] [0] \t\t #> Encoding 25000 passages..\n",
            "[Feb 27, 10:22:35] [0] \t\t #> Saving chunk 308: \t 25,000 passages and 1,827,896 embeddings. From #7,700,000 onward.\n"
          ]
        },
        {
          "output_type": "stream",
          "name": "stderr",
          "text": [
            "\r309it [1:36:30, 18.61s/it]"
          ]
        },
        {
          "output_type": "stream",
          "name": "stdout",
          "text": [
            "[Feb 27, 10:22:37] [0] \t\t #> Encoding 25000 passages..\n",
            "[Feb 27, 10:22:54] [0] \t\t #> Saving chunk 309: \t 25,000 passages and 1,793,819 embeddings. From #7,725,000 onward.\n"
          ]
        },
        {
          "output_type": "stream",
          "name": "stderr",
          "text": [
            "\r310it [1:36:48, 18.60s/it]"
          ]
        },
        {
          "output_type": "stream",
          "name": "stdout",
          "text": [
            "[Feb 27, 10:22:56] [0] \t\t #> Encoding 25000 passages..\n",
            "[Feb 27, 10:23:12] [0] \t\t #> Saving chunk 310: \t 25,000 passages and 1,809,402 embeddings. From #7,750,000 onward.\n"
          ]
        },
        {
          "output_type": "stream",
          "name": "stderr",
          "text": [
            "\r311it [1:37:07, 18.59s/it]"
          ]
        },
        {
          "output_type": "stream",
          "name": "stdout",
          "text": [
            "[Feb 27, 10:23:14] [0] \t\t #> Encoding 25000 passages..\n",
            "[Feb 27, 10:23:31] [0] \t\t #> Saving chunk 311: \t 25,000 passages and 1,814,410 embeddings. From #7,775,000 onward.\n"
          ]
        },
        {
          "output_type": "stream",
          "name": "stderr",
          "text": [
            "\r312it [1:37:26, 18.59s/it]"
          ]
        },
        {
          "output_type": "stream",
          "name": "stdout",
          "text": [
            "[Feb 27, 10:23:33] [0] \t\t #> Encoding 25000 passages..\n",
            "[Feb 27, 10:23:49] [0] \t\t #> Saving chunk 312: \t 25,000 passages and 1,833,790 embeddings. From #7,800,000 onward.\n"
          ]
        },
        {
          "output_type": "stream",
          "name": "stderr",
          "text": [
            "\r313it [1:37:44, 18.59s/it]"
          ]
        },
        {
          "output_type": "stream",
          "name": "stdout",
          "text": [
            "[Feb 27, 10:23:52] [0] \t\t #> Encoding 25000 passages..\n",
            "[Feb 27, 10:24:08] [0] \t\t #> Saving chunk 313: \t 25,000 passages and 1,818,165 embeddings. From #7,825,000 onward.\n"
          ]
        },
        {
          "output_type": "stream",
          "name": "stderr",
          "text": [
            "\r314it [1:38:03, 18.59s/it]"
          ]
        },
        {
          "output_type": "stream",
          "name": "stdout",
          "text": [
            "[Feb 27, 10:24:10] [0] \t\t #> Encoding 25000 passages..\n",
            "[Feb 27, 10:24:26] [0] \t\t #> Saving chunk 314: \t 25,000 passages and 1,822,122 embeddings. From #7,850,000 onward.\n"
          ]
        },
        {
          "output_type": "stream",
          "name": "stderr",
          "text": [
            "\r315it [1:38:21, 18.59s/it]"
          ]
        },
        {
          "output_type": "stream",
          "name": "stdout",
          "text": [
            "[Feb 27, 10:24:29] [0] \t\t #> Encoding 25000 passages..\n",
            "[Feb 27, 10:24:45] [0] \t\t #> Saving chunk 315: \t 25,000 passages and 1,820,349 embeddings. From #7,875,000 onward.\n"
          ]
        },
        {
          "output_type": "stream",
          "name": "stderr",
          "text": [
            "\r316it [1:38:40, 18.59s/it]"
          ]
        },
        {
          "output_type": "stream",
          "name": "stdout",
          "text": [
            "[Feb 27, 10:24:47] [0] \t\t #> Encoding 25000 passages..\n",
            "[Feb 27, 10:25:04] [0] \t\t #> Saving chunk 316: \t 25,000 passages and 1,799,755 embeddings. From #7,900,000 onward.\n"
          ]
        },
        {
          "output_type": "stream",
          "name": "stderr",
          "text": [
            "\r317it [1:38:58, 18.58s/it]"
          ]
        },
        {
          "output_type": "stream",
          "name": "stdout",
          "text": [
            "[Feb 27, 10:25:06] [0] \t\t #> Encoding 25000 passages..\n",
            "[Feb 27, 10:25:22] [0] \t\t #> Saving chunk 317: \t 25,000 passages and 1,808,827 embeddings. From #7,925,000 onward.\n"
          ]
        },
        {
          "output_type": "stream",
          "name": "stderr",
          "text": [
            "\r318it [1:39:17, 18.58s/it]"
          ]
        },
        {
          "output_type": "stream",
          "name": "stdout",
          "text": [
            "[Feb 27, 10:25:24] [0] \t\t #> Encoding 25000 passages..\n",
            "[Feb 27, 10:25:41] [0] \t\t #> Saving chunk 318: \t 25,000 passages and 1,821,970 embeddings. From #7,950,000 onward.\n"
          ]
        },
        {
          "output_type": "stream",
          "name": "stderr",
          "text": [
            "\r319it [1:39:36, 18.58s/it]"
          ]
        },
        {
          "output_type": "stream",
          "name": "stdout",
          "text": [
            "[Feb 27, 10:25:43] [0] \t\t #> Encoding 25000 passages..\n",
            "[Feb 27, 10:25:59] [0] \t\t #> Saving chunk 319: \t 25,000 passages and 1,856,527 embeddings. From #7,975,000 onward.\n"
          ]
        },
        {
          "output_type": "stream",
          "name": "stderr",
          "text": [
            "\r320it [1:39:54, 18.64s/it]"
          ]
        },
        {
          "output_type": "stream",
          "name": "stdout",
          "text": [
            "[Feb 27, 10:26:02] [0] \t\t #> Encoding 25000 passages..\n",
            "[Feb 27, 10:26:18] [0] \t\t #> Saving chunk 320: \t 25,000 passages and 1,846,219 embeddings. From #8,000,000 onward.\n"
          ]
        },
        {
          "output_type": "stream",
          "name": "stderr",
          "text": [
            "\r321it [1:40:13, 18.65s/it]"
          ]
        },
        {
          "output_type": "stream",
          "name": "stdout",
          "text": [
            "[Feb 27, 10:26:20] [0] \t\t #> Encoding 25000 passages..\n",
            "[Feb 27, 10:26:37] [0] \t\t #> Saving chunk 321: \t 25,000 passages and 1,709,436 embeddings. From #8,025,000 onward.\n"
          ]
        },
        {
          "output_type": "stream",
          "name": "stderr",
          "text": [
            "\r322it [1:40:31, 18.55s/it]"
          ]
        },
        {
          "output_type": "stream",
          "name": "stdout",
          "text": [
            "[Feb 27, 10:26:39] [0] \t\t #> Encoding 25000 passages..\n",
            "[Feb 27, 10:26:55] [0] \t\t #> Saving chunk 322: \t 25,000 passages and 1,744,443 embeddings. From #8,050,000 onward.\n"
          ]
        },
        {
          "output_type": "stream",
          "name": "stderr",
          "text": [
            "\r323it [1:40:50, 18.53s/it]"
          ]
        },
        {
          "output_type": "stream",
          "name": "stdout",
          "text": [
            "[Feb 27, 10:26:57] [0] \t\t #> Encoding 25000 passages..\n",
            "[Feb 27, 10:27:14] [0] \t\t #> Saving chunk 323: \t 25,000 passages and 1,709,933 embeddings. From #8,075,000 onward.\n"
          ]
        },
        {
          "output_type": "stream",
          "name": "stderr",
          "text": [
            "\r324it [1:41:08, 18.49s/it]"
          ]
        },
        {
          "output_type": "stream",
          "name": "stdout",
          "text": [
            "[Feb 27, 10:27:16] [0] \t\t #> Encoding 25000 passages..\n",
            "[Feb 27, 10:27:32] [0] \t\t #> Saving chunk 324: \t 25,000 passages and 1,709,352 embeddings. From #8,100,000 onward.\n"
          ]
        },
        {
          "output_type": "stream",
          "name": "stderr",
          "text": [
            "\r325it [1:41:27, 18.46s/it]"
          ]
        },
        {
          "output_type": "stream",
          "name": "stdout",
          "text": [
            "[Feb 27, 10:27:34] [0] \t\t #> Encoding 25000 passages..\n",
            "[Feb 27, 10:27:50] [0] \t\t #> Saving chunk 325: \t 25,000 passages and 1,726,492 embeddings. From #8,125,000 onward.\n"
          ]
        },
        {
          "output_type": "stream",
          "name": "stderr",
          "text": [
            "\r326it [1:41:45, 18.44s/it]"
          ]
        },
        {
          "output_type": "stream",
          "name": "stdout",
          "text": [
            "[Feb 27, 10:27:52] [0] \t\t #> Encoding 25000 passages..\n",
            "[Feb 27, 10:28:09] [0] \t\t #> Saving chunk 326: \t 25,000 passages and 1,736,774 embeddings. From #8,150,000 onward.\n"
          ]
        },
        {
          "output_type": "stream",
          "name": "stderr",
          "text": [
            "\r327it [1:42:04, 18.45s/it]"
          ]
        },
        {
          "output_type": "stream",
          "name": "stdout",
          "text": [
            "[Feb 27, 10:28:11] [0] \t\t #> Encoding 25000 passages..\n",
            "[Feb 27, 10:28:27] [0] \t\t #> Saving chunk 327: \t 25,000 passages and 1,734,373 embeddings. From #8,175,000 onward.\n"
          ]
        },
        {
          "output_type": "stream",
          "name": "stderr",
          "text": [
            "\r328it [1:42:22, 18.45s/it]"
          ]
        },
        {
          "output_type": "stream",
          "name": "stdout",
          "text": [
            "[Feb 27, 10:28:29] [0] \t\t #> Encoding 25000 passages..\n",
            "[Feb 27, 10:28:46] [0] \t\t #> Saving chunk 328: \t 25,000 passages and 1,690,396 embeddings. From #8,200,000 onward.\n"
          ]
        },
        {
          "output_type": "stream",
          "name": "stderr",
          "text": [
            "\r329it [1:42:40, 18.43s/it]"
          ]
        },
        {
          "output_type": "stream",
          "name": "stdout",
          "text": [
            "[Feb 27, 10:28:48] [0] \t\t #> Encoding 25000 passages..\n",
            "[Feb 27, 10:29:04] [0] \t\t #> Saving chunk 329: \t 25,000 passages and 1,810,405 embeddings. From #8,225,000 onward.\n"
          ]
        },
        {
          "output_type": "stream",
          "name": "stderr",
          "text": [
            "\r330it [1:42:59, 18.50s/it]"
          ]
        },
        {
          "output_type": "stream",
          "name": "stdout",
          "text": [
            "[Feb 27, 10:29:06] [0] \t\t #> Encoding 25000 passages..\n",
            "[Feb 27, 10:29:23] [0] \t\t #> Saving chunk 330: \t 25,000 passages and 1,888,929 embeddings. From #8,250,000 onward.\n"
          ]
        },
        {
          "output_type": "stream",
          "name": "stderr",
          "text": [
            "\r331it [1:43:18, 18.58s/it]"
          ]
        },
        {
          "output_type": "stream",
          "name": "stdout",
          "text": [
            "[Feb 27, 10:29:25] [0] \t\t #> Encoding 25000 passages..\n",
            "[Feb 27, 10:29:42] [0] \t\t #> Saving chunk 331: \t 25,000 passages and 1,896,040 embeddings. From #8,275,000 onward.\n"
          ]
        },
        {
          "output_type": "stream",
          "name": "stderr",
          "text": [
            "\r332it [1:43:37, 18.64s/it]"
          ]
        },
        {
          "output_type": "stream",
          "name": "stdout",
          "text": [
            "[Feb 27, 10:29:44] [0] \t\t #> Encoding 25000 passages..\n",
            "[Feb 27, 10:30:00] [0] \t\t #> Saving chunk 332: \t 25,000 passages and 1,922,797 embeddings. From #8,300,000 onward.\n"
          ]
        },
        {
          "output_type": "stream",
          "name": "stderr",
          "text": [
            "\r333it [1:43:55, 18.69s/it]"
          ]
        },
        {
          "output_type": "stream",
          "name": "stdout",
          "text": [
            "[Feb 27, 10:30:03] [0] \t\t #> Encoding 25000 passages..\n",
            "[Feb 27, 10:30:19] [0] \t\t #> Saving chunk 333: \t 25,000 passages and 1,879,046 embeddings. From #8,325,000 onward.\n"
          ]
        },
        {
          "output_type": "stream",
          "name": "stderr",
          "text": [
            "\r334it [1:44:14, 18.70s/it]"
          ]
        },
        {
          "output_type": "stream",
          "name": "stdout",
          "text": [
            "[Feb 27, 10:30:21] [0] \t\t #> Encoding 25000 passages..\n",
            "[Feb 27, 10:30:38] [0] \t\t #> Saving chunk 334: \t 25,000 passages and 1,842,570 embeddings. From #8,350,000 onward.\n"
          ]
        },
        {
          "output_type": "stream",
          "name": "stderr",
          "text": [
            "\r335it [1:44:33, 18.66s/it]"
          ]
        },
        {
          "output_type": "stream",
          "name": "stdout",
          "text": [
            "[Feb 27, 10:30:40] [0] \t\t #> Encoding 25000 passages..\n",
            "[Feb 27, 10:30:56] [0] \t\t #> Saving chunk 335: \t 25,000 passages and 1,850,473 embeddings. From #8,375,000 onward.\n"
          ]
        },
        {
          "output_type": "stream",
          "name": "stderr",
          "text": [
            "\r336it [1:44:51, 18.66s/it]"
          ]
        },
        {
          "output_type": "stream",
          "name": "stdout",
          "text": [
            "[Feb 27, 10:30:59] [0] \t\t #> Encoding 25000 passages..\n",
            "[Feb 27, 10:31:15] [0] \t\t #> Saving chunk 336: \t 25,000 passages and 1,845,305 embeddings. From #8,400,000 onward.\n"
          ]
        },
        {
          "output_type": "stream",
          "name": "stderr",
          "text": [
            "\r337it [1:45:10, 18.65s/it]"
          ]
        },
        {
          "output_type": "stream",
          "name": "stdout",
          "text": [
            "[Feb 27, 10:31:17] [0] \t\t #> Encoding 25000 passages..\n",
            "[Feb 27, 10:31:34] [0] \t\t #> Saving chunk 337: \t 25,000 passages and 1,851,401 embeddings. From #8,425,000 onward.\n"
          ]
        },
        {
          "output_type": "stream",
          "name": "stderr",
          "text": [
            "\r338it [1:45:29, 18.65s/it]"
          ]
        },
        {
          "output_type": "stream",
          "name": "stdout",
          "text": [
            "[Feb 27, 10:31:36] [0] \t\t #> Encoding 25000 passages..\n",
            "[Feb 27, 10:31:52] [0] \t\t #> Saving chunk 338: \t 25,000 passages and 1,844,540 embeddings. From #8,450,000 onward.\n"
          ]
        },
        {
          "output_type": "stream",
          "name": "stderr",
          "text": [
            "\r339it [1:45:47, 18.65s/it]"
          ]
        },
        {
          "output_type": "stream",
          "name": "stdout",
          "text": [
            "[Feb 27, 10:31:55] [0] \t\t #> Encoding 25000 passages..\n",
            "[Feb 27, 10:32:11] [0] \t\t #> Saving chunk 339: \t 25,000 passages and 1,835,776 embeddings. From #8,475,000 onward.\n"
          ]
        },
        {
          "output_type": "stream",
          "name": "stderr",
          "text": [
            "\r340it [1:46:06, 18.63s/it]"
          ]
        },
        {
          "output_type": "stream",
          "name": "stdout",
          "text": [
            "[Feb 27, 10:32:13] [0] \t\t #> Encoding 25000 passages..\n",
            "[Feb 27, 10:32:30] [0] \t\t #> Saving chunk 340: \t 25,000 passages and 1,844,683 embeddings. From #8,500,000 onward.\n"
          ]
        },
        {
          "output_type": "stream",
          "name": "stderr",
          "text": [
            "\r341it [1:46:25, 18.63s/it]"
          ]
        },
        {
          "output_type": "stream",
          "name": "stdout",
          "text": [
            "[Feb 27, 10:32:32] [0] \t\t #> Encoding 25000 passages..\n",
            "[Feb 27, 10:32:48] [0] \t\t #> Saving chunk 341: \t 25,000 passages and 1,836,871 embeddings. From #8,525,000 onward.\n"
          ]
        },
        {
          "output_type": "stream",
          "name": "stderr",
          "text": [
            "\r342it [1:46:43, 18.63s/it]"
          ]
        },
        {
          "output_type": "stream",
          "name": "stdout",
          "text": [
            "[Feb 27, 10:32:51] [0] \t\t #> Encoding 25000 passages..\n",
            "[Feb 27, 10:33:07] [0] \t\t #> Saving chunk 342: \t 25,000 passages and 1,832,895 embeddings. From #8,550,000 onward.\n"
          ]
        },
        {
          "output_type": "stream",
          "name": "stderr",
          "text": [
            "\r343it [1:47:02, 18.64s/it]"
          ]
        },
        {
          "output_type": "stream",
          "name": "stdout",
          "text": [
            "[Feb 27, 10:33:09] [0] \t\t #> Encoding 25000 passages..\n",
            "[Feb 27, 10:33:25] [0] \t\t #> Saving chunk 343: \t 25,000 passages and 1,833,726 embeddings. From #8,575,000 onward.\n"
          ]
        },
        {
          "output_type": "stream",
          "name": "stderr",
          "text": [
            "\r344it [1:47:20, 18.62s/it]"
          ]
        },
        {
          "output_type": "stream",
          "name": "stdout",
          "text": [
            "[Feb 27, 10:33:28] [0] \t\t #> Encoding 25000 passages..\n",
            "[Feb 27, 10:33:44] [0] \t\t #> Saving chunk 344: \t 25,000 passages and 1,840,069 embeddings. From #8,600,000 onward.\n"
          ]
        },
        {
          "output_type": "stream",
          "name": "stderr",
          "text": [
            "\r345it [1:47:39, 18.66s/it]"
          ]
        },
        {
          "output_type": "stream",
          "name": "stdout",
          "text": [
            "[Feb 27, 10:33:46] [0] \t\t #> Encoding 25000 passages..\n",
            "[Feb 27, 10:34:03] [0] \t\t #> Saving chunk 345: \t 25,000 passages and 1,830,495 embeddings. From #8,625,000 onward.\n"
          ]
        },
        {
          "output_type": "stream",
          "name": "stderr",
          "text": [
            "\r346it [1:47:58, 18.66s/it]"
          ]
        },
        {
          "output_type": "stream",
          "name": "stdout",
          "text": [
            "[Feb 27, 10:34:05] [0] \t\t #> Encoding 25000 passages..\n",
            "[Feb 27, 10:34:21] [0] \t\t #> Saving chunk 346: \t 25,000 passages and 1,800,501 embeddings. From #8,650,000 onward.\n"
          ]
        },
        {
          "output_type": "stream",
          "name": "stderr",
          "text": [
            "\r347it [1:48:16, 18.62s/it]"
          ]
        },
        {
          "output_type": "stream",
          "name": "stdout",
          "text": [
            "[Feb 27, 10:34:24] [0] \t\t #> Encoding 25000 passages..\n",
            "[Feb 27, 10:34:40] [0] \t\t #> Saving chunk 347: \t 25,000 passages and 1,802,733 embeddings. From #8,675,000 onward.\n"
          ]
        },
        {
          "output_type": "stream",
          "name": "stderr",
          "text": [
            "\r348it [1:48:35, 18.61s/it]"
          ]
        },
        {
          "output_type": "stream",
          "name": "stdout",
          "text": [
            "[Feb 27, 10:34:42] [0] \t\t #> Encoding 25000 passages..\n",
            "[Feb 27, 10:34:59] [0] \t\t #> Saving chunk 348: \t 25,000 passages and 1,812,732 embeddings. From #8,700,000 onward.\n"
          ]
        },
        {
          "output_type": "stream",
          "name": "stderr",
          "text": [
            "\r349it [1:48:54, 18.61s/it]"
          ]
        },
        {
          "output_type": "stream",
          "name": "stdout",
          "text": [
            "[Feb 27, 10:35:01] [0] \t\t #> Encoding 25000 passages..\n",
            "[Feb 27, 10:35:17] [0] \t\t #> Saving chunk 349: \t 25,000 passages and 1,805,735 embeddings. From #8,725,000 onward.\n"
          ]
        },
        {
          "output_type": "stream",
          "name": "stderr",
          "text": [
            "\r350it [1:49:12, 18.60s/it]"
          ]
        },
        {
          "output_type": "stream",
          "name": "stdout",
          "text": [
            "[Feb 27, 10:35:19] [0] \t\t #> Encoding 25000 passages..\n",
            "[Feb 27, 10:35:36] [0] \t\t #> Saving chunk 350: \t 25,000 passages and 1,812,157 embeddings. From #8,750,000 onward.\n"
          ]
        },
        {
          "output_type": "stream",
          "name": "stderr",
          "text": [
            "\r351it [1:49:31, 18.60s/it]"
          ]
        },
        {
          "output_type": "stream",
          "name": "stdout",
          "text": [
            "[Feb 27, 10:35:38] [0] \t\t #> Encoding 25000 passages..\n",
            "[Feb 27, 10:35:55] [0] \t\t #> Saving chunk 351: \t 25,000 passages and 1,826,320 embeddings. From #8,775,000 onward.\n"
          ]
        },
        {
          "output_type": "stream",
          "name": "stderr",
          "text": [
            "\r352it [1:49:49, 18.65s/it]"
          ]
        },
        {
          "output_type": "stream",
          "name": "stdout",
          "text": [
            "[Feb 27, 10:35:57] [0] \t\t #> Encoding 25000 passages..\n",
            "[Feb 27, 10:36:13] [0] \t\t #> Saving chunk 352: \t 25,000 passages and 1,817,703 embeddings. From #8,800,000 onward.\n"
          ]
        },
        {
          "output_type": "stream",
          "name": "stderr",
          "text": [
            "\r353it [1:50:08, 18.66s/it]"
          ]
        },
        {
          "output_type": "stream",
          "name": "stdout",
          "text": [
            "[Feb 27, 10:36:15] [0] \t\t #> Encoding 16823 passages..\n",
            "[Feb 27, 10:36:26] [0] \t\t #> Saving chunk 353: \t 16,823 passages and 1,220,683 embeddings. From #8,825,000 onward.\n"
          ]
        },
        {
          "output_type": "stream",
          "name": "stderr",
          "text": [
            "354it [1:50:21, 18.70s/it]"
          ]
        },
        {
          "output_type": "stream",
          "name": "stdout",
          "text": [
            "[Feb 27, 10:36:28] [0] \t\t #> Checking all files were saved...\n",
            "[Feb 27, 10:36:28] [0] \t\t Found all files!\n",
            "[Feb 27, 10:36:28] [0] \t\t #> Building IVF...\n"
          ]
        },
        {
          "output_type": "stream",
          "name": "stderr",
          "text": [
            "\n"
          ]
        },
        {
          "output_type": "stream",
          "name": "stdout",
          "text": [
            "[Feb 27, 10:36:29] [0] \t\t #> Loading codes...\n"
          ]
        },
        {
          "output_type": "stream",
          "name": "stderr",
          "text": [
            "100%|██████████| 354/354 [00:00<00:00, 392.03it/s]"
          ]
        },
        {
          "output_type": "stream",
          "name": "stdout",
          "text": [
            "[Feb 27, 10:36:30] [0] \t\t Sorting codes...\n"
          ]
        },
        {
          "output_type": "stream",
          "name": "stderr",
          "text": [
            "\n"
          ]
        },
        {
          "output_type": "stream",
          "name": "stdout",
          "text": [
            "[Feb 27, 10:37:46] [0] \t\t Getting unique codes...\n",
            "[Feb 27, 10:37:47] #> Optimizing IVF to store map from centroids to list of pids..\n",
            "[Feb 27, 10:37:47] #> Building the emb2pid mapping..\n",
            "[Feb 27, 10:38:15] len(emb2pid) = 667011457\n"
          ]
        },
        {
          "output_type": "stream",
          "name": "stderr",
          "text": [
            "100%|██████████| 262144/262144 [02:04<00:00, 2100.57it/s]\n"
          ]
        },
        {
          "output_type": "stream",
          "name": "stdout",
          "text": [
            "[Feb 27, 10:40:28] #> Saved optimized IVF to /content/experiments/msmarco/indexes/msmarco.nbits=2/ivf.pid.pt\n",
            "[Feb 27, 10:40:28] [0] \t\t #> Saving the indexing metadata to /content/experiments/msmarco/indexes/msmarco.nbits=2/metadata.json ..\n"
          ]
        }
      ]
    },
    {
      "cell_type": "code",
      "source": [
        "from colbert.data import Queries\n",
        "from colbert.infra import Run, RunConfig, ColBERTConfig\n",
        "from colbert import Searcher\n",
        "\n",
        "if __name__=='__main__':\n",
        "    with Run().context(RunConfig(nranks=1, experiment=\"msmarco\", avoid_fork_if_possible=True)):\n",
        "\n",
        "        config = ColBERTConfig(\n",
        "            root=\"./experiments\",\n",
        "        )\n",
        "        searcher = Searcher(index=\"msmarco.nbits=2\", config=config)\n",
        "        queries = Queries(f\"{language}_queries.dev.small.tsv\")\n",
        "        ranking = searcher.search_all(queries, k=10000)\n",
        "        ranking.save(f\"colbertv2-{language}-final.ranking.tsv\")"
      ],
      "metadata": {
        "id": "7T2AD3ISXkQq",
        "colab": {
          "base_uri": "https://localhost:8080/"
        },
        "outputId": "5ac5087b-ea92-43e6-ac1e-b864b537aa91"
      },
      "execution_count": null,
      "outputs": [
        {
          "output_type": "stream",
          "name": "stdout",
          "text": [
            "[Feb 27, 10:40:29] #> Loading collection...\n",
            "0M 1M 2M 3M 4M 5M 6M 7M 8M \n",
            "[Feb 27, 10:41:15] #> Loading codec...\n",
            "[Feb 27, 10:41:15] #> Loading IVF...\n",
            "[Feb 27, 10:41:16] #> Loading doclens...\n"
          ]
        },
        {
          "output_type": "stream",
          "name": "stderr",
          "text": [
            "100%|██████████| 354/354 [00:00<00:00, 1115.01it/s]\n"
          ]
        },
        {
          "output_type": "stream",
          "name": "stdout",
          "text": [
            "[Feb 27, 10:41:17] #> Loading codes and residuals...\n"
          ]
        },
        {
          "output_type": "stream",
          "name": "stderr",
          "text": [
            "100%|██████████| 354/354 [00:19<00:00, 18.29it/s]\n"
          ]
        },
        {
          "output_type": "stream",
          "name": "stdout",
          "text": [
            "[Feb 27, 10:41:36] #> Loading the queries from /content/drive/MyDrive/Colab Notebooks/data_colbert/spanish_queries.dev.small.tsv ...\n",
            "[Feb 27, 10:41:37] #> Got 6980 queries. All QIDs are unique.\n",
            "\n"
          ]
        },
        {
          "output_type": "stream",
          "name": "stderr",
          "text": [
            "6980it [01:50, 62.93it/s]\n"
          ]
        },
        {
          "output_type": "stream",
          "name": "stdout",
          "text": [
            "\n",
            "\n",
            "[Feb 27, 10:43:35] #> Creating directory /content/experiments/msmarco/none/2024-02/27/08.06.06 \n",
            "\n",
            "\n",
            "[Feb 27, 10:43:37] #> Saved ranking of 6980 queries and 698000 lines to /content/drive/MyDrive/Colab Notebooks/data_colbert/colbertv2-spanish-final.ranking.tsv\n"
          ]
        }
      ]
    },
    {
      "cell_type": "code",
      "source": [
        "!python -m ColBERT.utility.evaluate.msmarco_passages --ranking \"colbertv2-french-final.ranking.tsv\" --qrels \"qrels.dev.small.tsv\""
      ],
      "metadata": {
        "id": "PtgHEJHMXqeE"
      },
      "execution_count": null,
      "outputs": []
    }
  ]
}